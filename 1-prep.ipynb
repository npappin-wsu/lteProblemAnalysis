{
 "cells": [
  {
   "cell_type": "markdown",
   "metadata": {},
   "source": [
    "# Data preparation\n",
    "\n",
    "In this notebook we will build a parquet file for use in further analyses. \n",
    "\n",
    "## Imports"
   ]
  },
  {
   "cell_type": "code",
   "execution_count": 1,
   "metadata": {},
   "outputs": [],
   "source": [
    "import os, zipfile, itables\n",
    "import pandas as pd\n",
    "itables.options.style = 'float:left;width:auto'"
   ]
  },
  {
   "cell_type": "markdown",
   "metadata": {},
   "source": [
    "## Load Data"
   ]
  },
  {
   "cell_type": "code",
   "execution_count": 2,
   "metadata": {},
   "outputs": [],
   "source": [
    "files = os.listdir('data')\n",
    "files = [file for file in files if file.endswith('.zip')]"
   ]
  },
  {
   "cell_type": "code",
   "execution_count": 3,
   "metadata": {},
   "outputs": [
    {
     "data": {
      "text/plain": [
       "['bdc_53_Cable_fixed_broadband_123122-20230926.zip',\n",
       " 'bdc_53_Copper_fixed_broadband_123122-20230926.zip',\n",
       " 'bdc_53_FibertothePremises_fixed_broadband_123122-20230926.zip',\n",
       " 'bdc_53_GSOSatellite_fixed_broadband_123122-20230926.zip',\n",
       " 'bdc_53_LBRFixedWireless_fixed_broadband_123122-20230926.zip',\n",
       " 'bdc_53_LicensedFixedWireless_fixed_broadband_123122-20230926.zip',\n",
       " 'bdc_53_NGSOSatellite_fixed_broadband_123122-20230926.zip',\n",
       " 'bdc_53_UnlicensedFixedWireless_fixed_broadband_123122-20230926.zip']"
      ]
     },
     "execution_count": 3,
     "metadata": {},
     "output_type": "execute_result"
    }
   ],
   "source": [
    "files"
   ]
  },
  {
   "cell_type": "code",
   "execution_count": 4,
   "metadata": {},
   "outputs": [],
   "source": [
    "techHash = {\n",
    "    'technology': pd.Series([0, 10, 40, 50, 60, 61, 70, 71, 72]),\n",
    "    'techName': pd.Series(['Other', 'Copper', 'Cable', 'Fiber', 'GSO', 'NGSO', 'UFW', 'LFW', 'LBRW'])\n",
    "}\n",
    "techDf = pd.DataFrame(techHash)"
   ]
  },
  {
   "cell_type": "code",
   "execution_count": 5,
   "metadata": {},
   "outputs": [],
   "source": [
    "waAvailabilityData = pd.DataFrame()\n",
    "dfColumnHints = {\n",
    "    'block_geoid': str\n",
    "}\n",
    "\n",
    "for file in files:\n",
    "    # print(file)\n",
    "    archive = zipfile.ZipFile(os.path.join('data', file))\n",
    "    with archive.open(archive.filelist[0].filename) as f:\n",
    "        localDf = pd.read_csv(f, dtype=dfColumnHints)\n",
    "    waAvailabilityData = pd.concat([waAvailabilityData, localDf], ignore_index=True)\n",
    "\n",
    "waAvailabilityData = waAvailabilityData.merge(techDf, how='left')\n",
    "\n",
    "wsboUnserved = pd.read_csv(os.path.join('data', 'unserved.csv'))\n",
    "wsboUnderserved = pd.read_csv(os.path.join('data', 'underserved.csv'))"
   ]
  },
  {
   "cell_type": "code",
   "execution_count": 6,
   "metadata": {},
   "outputs": [
    {
     "name": "stdout",
     "output_type": "stream",
     "text": [
      "WSBO Unserved: 236134\n",
      "WSBO Underserved: 85434\n"
     ]
    }
   ],
   "source": [
    "print(f'WSBO Unserved: {wsboUnserved.shape[0]}')\n",
    "print(f'WSBO Underserved: {wsboUnderserved.shape[0]}')"
   ]
  },
  {
   "cell_type": "markdown",
   "metadata": {},
   "source": [
    "### Parse out Locations"
   ]
  },
  {
   "cell_type": "code",
   "execution_count": 7,
   "metadata": {},
   "outputs": [],
   "source": [
    "waLocations = waAvailabilityData[['location_id', 'block_geoid', 'h3_res8_id']]"
   ]
  },
  {
   "cell_type": "code",
   "execution_count": 8,
   "metadata": {},
   "outputs": [],
   "source": [
    "waLocations = waLocations.drop_duplicates()\n",
    "waLocations['county_geoid'] = waLocations.block_geoid.str[0:5]"
   ]
  },
  {
   "cell_type": "code",
   "execution_count": 9,
   "metadata": {},
   "outputs": [
    {
     "data": {
      "text/html": [
       "<div>\n",
       "<style scoped>\n",
       "    .dataframe tbody tr th:only-of-type {\n",
       "        vertical-align: middle;\n",
       "    }\n",
       "\n",
       "    .dataframe tbody tr th {\n",
       "        vertical-align: top;\n",
       "    }\n",
       "\n",
       "    .dataframe thead th {\n",
       "        text-align: right;\n",
       "    }\n",
       "</style>\n",
       "<table border=\"1\" class=\"dataframe\">\n",
       "  <thead>\n",
       "    <tr style=\"text-align: right;\">\n",
       "      <th></th>\n",
       "      <th>location_id</th>\n",
       "      <th>block_geoid</th>\n",
       "      <th>h3_res8_id</th>\n",
       "      <th>county_geoid</th>\n",
       "    </tr>\n",
       "  </thead>\n",
       "  <tbody>\n",
       "    <tr>\n",
       "      <th>0</th>\n",
       "      <td>1015880838</td>\n",
       "      <td>530659514022053</td>\n",
       "      <td>8812db0811fffff</td>\n",
       "      <td>53065</td>\n",
       "    </tr>\n",
       "    <tr>\n",
       "      <th>1</th>\n",
       "      <td>1073176227</td>\n",
       "      <td>530350910012001</td>\n",
       "      <td>8828d50b39fffff</td>\n",
       "      <td>53035</td>\n",
       "    </tr>\n",
       "    <tr>\n",
       "      <th>2</th>\n",
       "      <td>1073185639</td>\n",
       "      <td>530350907004015</td>\n",
       "      <td>8828d546bdfffff</td>\n",
       "      <td>53035</td>\n",
       "    </tr>\n",
       "    <tr>\n",
       "      <th>3</th>\n",
       "      <td>1056655277</td>\n",
       "      <td>530499502005010</td>\n",
       "      <td>8828c6c015fffff</td>\n",
       "      <td>53049</td>\n",
       "    </tr>\n",
       "    <tr>\n",
       "      <th>4</th>\n",
       "      <td>1073186253</td>\n",
       "      <td>530350909022006</td>\n",
       "      <td>8828d554b7fffff</td>\n",
       "      <td>53035</td>\n",
       "    </tr>\n",
       "    <tr>\n",
       "      <th>...</th>\n",
       "      <td>...</td>\n",
       "      <td>...</td>\n",
       "      <td>...</td>\n",
       "      <td>...</td>\n",
       "    </tr>\n",
       "    <tr>\n",
       "      <th>12535029</th>\n",
       "      <td>1310087661</td>\n",
       "      <td>530730002032000</td>\n",
       "      <td>8828d17801fffff</td>\n",
       "      <td>53073</td>\n",
       "    </tr>\n",
       "    <tr>\n",
       "      <th>12535061</th>\n",
       "      <td>1049483490</td>\n",
       "      <td>530479709001124</td>\n",
       "      <td>8828d2ab6bfffff</td>\n",
       "      <td>53047</td>\n",
       "    </tr>\n",
       "    <tr>\n",
       "      <th>12535205</th>\n",
       "      <td>1310144322</td>\n",
       "      <td>530730103011029</td>\n",
       "      <td>8828d169edfffff</td>\n",
       "      <td>53073</td>\n",
       "    </tr>\n",
       "    <tr>\n",
       "      <th>12535621</th>\n",
       "      <td>1312148589</td>\n",
       "      <td>530050118021061</td>\n",
       "      <td>882889d269fffff</td>\n",
       "      <td>53005</td>\n",
       "    </tr>\n",
       "    <tr>\n",
       "      <th>14570646</th>\n",
       "      <td>1349409498</td>\n",
       "      <td>530110405043001</td>\n",
       "      <td>8828f07365fffff</td>\n",
       "      <td>53011</td>\n",
       "    </tr>\n",
       "  </tbody>\n",
       "</table>\n",
       "<p>2527898 rows × 4 columns</p>\n",
       "</div>"
      ],
      "text/plain": [
       "          location_id      block_geoid       h3_res8_id county_geoid\n",
       "0          1015880838  530659514022053  8812db0811fffff        53065\n",
       "1          1073176227  530350910012001  8828d50b39fffff        53035\n",
       "2          1073185639  530350907004015  8828d546bdfffff        53035\n",
       "3          1056655277  530499502005010  8828c6c015fffff        53049\n",
       "4          1073186253  530350909022006  8828d554b7fffff        53035\n",
       "...               ...              ...              ...          ...\n",
       "12535029   1310087661  530730002032000  8828d17801fffff        53073\n",
       "12535061   1049483490  530479709001124  8828d2ab6bfffff        53047\n",
       "12535205   1310144322  530730103011029  8828d169edfffff        53073\n",
       "12535621   1312148589  530050118021061  882889d269fffff        53005\n",
       "14570646   1349409498  530110405043001  8828f07365fffff        53011\n",
       "\n",
       "[2527898 rows x 4 columns]"
      ]
     },
     "execution_count": 9,
     "metadata": {},
     "output_type": "execute_result"
    }
   ],
   "source": [
    "waLocations"
   ]
  },
  {
   "cell_type": "markdown",
   "metadata": {},
   "source": [
    "## WSBO Service"
   ]
  },
  {
   "cell_type": "code",
   "execution_count": 10,
   "metadata": {},
   "outputs": [],
   "source": [
    "waLocations['wsbo'] = 'Served'"
   ]
  },
  {
   "cell_type": "code",
   "execution_count": 11,
   "metadata": {},
   "outputs": [],
   "source": [
    "waLocations.loc[waLocations.location_id.isin(wsboUnderserved.location_id), 'wsbo'] = 'Underserved'\n",
    "waLocations.loc[waLocations.location_id.isin(wsboUnserved.location_id), 'wsbo'] = 'Unserved'"
   ]
  },
  {
   "cell_type": "code",
   "execution_count": 12,
   "metadata": {},
   "outputs": [
    {
     "data": {
      "text/plain": [
       "wsbo\n",
       "Served         2206330\n",
       "Unserved        236134\n",
       "Underserved      85434\n",
       "Name: count, dtype: int64"
      ]
     },
     "execution_count": 12,
     "metadata": {},
     "output_type": "execute_result"
    }
   ],
   "source": [
    "waLocations.wsbo.value_counts()"
   ]
  },
  {
   "cell_type": "markdown",
   "metadata": {},
   "source": [
    "## FCC Technology Service "
   ]
  },
  {
   "cell_type": "code",
   "execution_count": 13,
   "metadata": {},
   "outputs": [
    {
     "data": {
      "text/html": [
       "<style>.itables table td {\n",
       "    text-overflow: ellipsis;\n",
       "    overflow: hidden;\n",
       "}\n",
       "\n",
       ".itables table th {\n",
       "    text-overflow: ellipsis;\n",
       "    overflow: hidden;\n",
       "}\n",
       "\n",
       ".itables thead input {\n",
       "    width: 100%;\n",
       "    padding: 3px;\n",
       "    box-sizing: border-box;\n",
       "}\n",
       "\n",
       ".itables tfoot input {\n",
       "    width: 100%;\n",
       "    padding: 3px;\n",
       "    box-sizing: border-box;\n",
       "}\n",
       "</style>\n",
       "<div class=\"itables\">\n",
       "<table id=\"b2867d3a-b0ce-458a-876c-3fe90f4e439a\" class=\"display nowrap\"style=\"float:left;width:auto\"><thead>\n",
       "    <tr style=\"text-align: right;\">\n",
       "      \n",
       "      <th>technology</th>\n",
       "      <th>count</th>\n",
       "      <th>techName</th>\n",
       "    </tr>\n",
       "  </thead><tbody><tr><td>Loading... (need <a href=https://mwouts.github.io/itables/troubleshooting.html>help</a>?)</td></tr></tbody></table>\n",
       "<link rel=\"stylesheet\" type=\"text/css\" href=\"https://cdn.datatables.net/1.13.1/css/jquery.dataTables.min.css\">\n",
       "<script type=\"module\">\n",
       "    // Import jquery and DataTable\n",
       "    import 'https://code.jquery.com/jquery-3.6.0.min.js';\n",
       "    import dt from 'https://cdn.datatables.net/1.12.1/js/jquery.dataTables.mjs';\n",
       "    dt($);\n",
       "\n",
       "    // Define the table data\n",
       "    const data = [[60, 7566578, \"GSO\"], [71, 2921667, \"LFW\"], [61, 2527467, \"NGSO\"], [40, 2259782, \"Cable\"], [70, 1938421, \"UFW\"], [10, 1836789, \"Copper\"], [50, 873712, \"Fiber\"], [72, 59877, \"LBRW\"]];\n",
       "\n",
       "    // Define the dt_args\n",
       "    let dt_args = {\"order\": [], \"dom\": \"t\"};\n",
       "    dt_args[\"data\"] = data;\n",
       "\n",
       "    $(document).ready(function () {\n",
       "        \n",
       "        $('#b2867d3a-b0ce-458a-876c-3fe90f4e439a').DataTable(dt_args);\n",
       "    });\n",
       "</script>\n",
       "</div>\n"
      ],
      "text/plain": [
       "<IPython.core.display.HTML object>"
      ]
     },
     "metadata": {},
     "output_type": "display_data"
    }
   ],
   "source": [
    "itables.show(waAvailabilityData.technology.value_counts().reset_index().merge(techDf, how='left'))"
   ]
  },
  {
   "cell_type": "markdown",
   "metadata": {},
   "source": [
    "### Cable Service Categories"
   ]
  },
  {
   "cell_type": "code",
   "execution_count": 14,
   "metadata": {},
   "outputs": [],
   "source": [
    "waLocations['cableServed'] = 'Unserved'\n",
    "techData = waAvailabilityData[waAvailabilityData.technology == 40]\n",
    "techLocations = techData[((techData.max_advertised_download_speed >= 25) & (techData.max_advertised_upload_speed >= 3))].location_id.reset_index(drop=True)\n",
    "waLocations.loc[waLocations.location_id.isin(techLocations), 'cableServed'] = 'Underserved'\n",
    "techLocations = techData[((techData.max_advertised_download_speed >= 100) & (techData.max_advertised_upload_speed >= 20))].location_id.reset_index(drop=True)\n",
    "waLocations.loc[waLocations.location_id.isin(techLocations), 'cableServed'] = 'Served'"
   ]
  },
  {
   "cell_type": "markdown",
   "metadata": {},
   "source": [
    "### Copper Service Categories"
   ]
  },
  {
   "cell_type": "code",
   "execution_count": 15,
   "metadata": {},
   "outputs": [],
   "source": [
    "waLocations['copperServed'] = 'Unserved'\n",
    "techData = waAvailabilityData[waAvailabilityData.technology == 10]\n",
    "techLocations = techData[((techData.max_advertised_download_speed >= 25) & (techData.max_advertised_upload_speed >= 3))].location_id.reset_index(drop=True)\n",
    "waLocations.loc[waLocations.location_id.isin(techLocations), 'copperServed'] = 'Underserved'\n",
    "techLocations = techData[((techData.max_advertised_download_speed >= 100) & (techData.max_advertised_upload_speed >= 20))].location_id.reset_index(drop=True)\n",
    "waLocations.loc[waLocations.location_id.isin(techLocations), 'copperServed'] = 'Served'"
   ]
  },
  {
   "cell_type": "markdown",
   "metadata": {},
   "source": [
    "### Fiber Service Categories"
   ]
  },
  {
   "cell_type": "code",
   "execution_count": 16,
   "metadata": {},
   "outputs": [],
   "source": [
    "waLocations['fiberServed'] = 'Unserved'\n",
    "techData = waAvailabilityData[waAvailabilityData.technology == 50]\n",
    "techLocations = techData[((techData.max_advertised_download_speed >= 25) & (techData.max_advertised_upload_speed >= 3))].location_id.reset_index(drop=True)\n",
    "waLocations.loc[waLocations.location_id.isin(techLocations), 'fiberServed'] = 'Underserved'\n",
    "techLocations = techData[((techData.max_advertised_download_speed >= 100) & (techData.max_advertised_upload_speed >= 20))].location_id.reset_index(drop=True)\n",
    "waLocations.loc[waLocations.location_id.isin(techLocations), 'fiberServed'] = 'Served'"
   ]
  },
  {
   "cell_type": "markdown",
   "metadata": {},
   "source": [
    "### Geo-Stationary Orbit"
   ]
  },
  {
   "cell_type": "code",
   "execution_count": 17,
   "metadata": {},
   "outputs": [],
   "source": [
    "waLocations['gsoServed'] = 'Unserved'\n",
    "techData = waAvailabilityData[waAvailabilityData.technology == 60]\n",
    "techLocations = techData[((techData.max_advertised_download_speed >= 25) & (techData.max_advertised_upload_speed >= 3))].location_id.reset_index(drop=True)\n",
    "waLocations.loc[waLocations.location_id.isin(techLocations), 'gsoServed'] = 'Underserved'\n",
    "techLocations = techData[((techData.max_advertised_download_speed >= 100) & (techData.max_advertised_upload_speed >= 20))].location_id.reset_index(drop=True)\n",
    "waLocations.loc[waLocations.location_id.isin(techLocations), 'gsoServed'] = 'Served'"
   ]
  },
  {
   "cell_type": "markdown",
   "metadata": {},
   "source": [
    "### LBR Wireless"
   ]
  },
  {
   "cell_type": "code",
   "execution_count": 18,
   "metadata": {},
   "outputs": [],
   "source": [
    "waLocations['lbrwServed'] = 'Unserved'\n",
    "techData = waAvailabilityData[waAvailabilityData.technology == 72]\n",
    "techLocations = techData[((techData.max_advertised_download_speed >= 25) & (techData.max_advertised_upload_speed >= 3))].location_id.reset_index(drop=True)\n",
    "waLocations.loc[waLocations.location_id.isin(techLocations), 'lbrwServed'] = 'Underserved'\n",
    "techLocations = techData[((techData.max_advertised_download_speed >= 100) & (techData.max_advertised_upload_speed >= 20))].location_id.reset_index(drop=True)\n",
    "waLocations.loc[waLocations.location_id.isin(techLocations), 'lbrwServed'] = 'Served'"
   ]
  },
  {
   "cell_type": "markdown",
   "metadata": {},
   "source": [
    "### Licensed Fixed Wireless"
   ]
  },
  {
   "cell_type": "code",
   "execution_count": 19,
   "metadata": {},
   "outputs": [],
   "source": [
    "waLocations['lfwServed'] = 'Unserved'\n",
    "techData = waAvailabilityData[waAvailabilityData.technology == 71]\n",
    "techLocations = techData[((techData.max_advertised_download_speed >= 25) & (techData.max_advertised_upload_speed >= 3))].location_id.reset_index(drop=True)\n",
    "waLocations.loc[waLocations.location_id.isin(techLocations), 'lfwServed'] = 'Underserved'\n",
    "techLocations = techData[((techData.max_advertised_download_speed >= 100) & (techData.max_advertised_upload_speed >= 20))].location_id.reset_index(drop=True)\n",
    "waLocations.loc[waLocations.location_id.isin(techLocations), 'lfwServed'] = 'Served'"
   ]
  },
  {
   "cell_type": "markdown",
   "metadata": {},
   "source": [
    "### Non-Geostationary Orbit"
   ]
  },
  {
   "cell_type": "code",
   "execution_count": 20,
   "metadata": {},
   "outputs": [],
   "source": [
    "waLocations['ngsoServed'] = 'Unserved'\n",
    "techData = waAvailabilityData[waAvailabilityData.technology == 61]\n",
    "techLocations = techData[((techData.max_advertised_download_speed >= 25) & (techData.max_advertised_upload_speed >= 3))].location_id.reset_index(drop=True)\n",
    "waLocations.loc[waLocations.location_id.isin(techLocations), 'ngsoServed'] = 'Underserved'\n",
    "techLocations = techData[((techData.max_advertised_download_speed >= 100) & (techData.max_advertised_upload_speed >= 20))].location_id.reset_index(drop=True)\n",
    "waLocations.loc[waLocations.location_id.isin(techLocations), 'ngsoServed'] = 'Served'"
   ]
  },
  {
   "cell_type": "markdown",
   "metadata": {},
   "source": [
    "### Unlicensed Fixed Wireless"
   ]
  },
  {
   "cell_type": "code",
   "execution_count": 21,
   "metadata": {},
   "outputs": [],
   "source": [
    "waLocations['ufwServed'] = 'Unserved'\n",
    "techData = waAvailabilityData[waAvailabilityData.technology == 70]\n",
    "techLocations = techData[((techData.max_advertised_download_speed >= 25) & (techData.max_advertised_upload_speed >= 3))].location_id.reset_index(drop=True)\n",
    "waLocations.loc[waLocations.location_id.isin(techLocations), 'ufwServed'] = 'Underserved'\n",
    "techLocations = techData[((techData.max_advertised_download_speed >= 100) & (techData.max_advertised_upload_speed >= 20))].location_id.reset_index(drop=True)\n",
    "waLocations.loc[waLocations.location_id.isin(techLocations), 'ufwServed'] = 'Served'"
   ]
  },
  {
   "cell_type": "code",
   "execution_count": 22,
   "metadata": {},
   "outputs": [
    {
     "data": {
      "text/html": [
       "<style>.itables table td {\n",
       "    text-overflow: ellipsis;\n",
       "    overflow: hidden;\n",
       "}\n",
       "\n",
       ".itables table th {\n",
       "    text-overflow: ellipsis;\n",
       "    overflow: hidden;\n",
       "}\n",
       "\n",
       ".itables thead input {\n",
       "    width: 100%;\n",
       "    padding: 3px;\n",
       "    box-sizing: border-box;\n",
       "}\n",
       "\n",
       ".itables tfoot input {\n",
       "    width: 100%;\n",
       "    padding: 3px;\n",
       "    box-sizing: border-box;\n",
       "}\n",
       "</style>\n",
       "<div class=\"itables\">\n",
       "<table id=\"1cb7097a-f9f2-4fdf-8551-84a6ca523f72\" class=\"display nowrap\"style=\"float:left;width:auto\"><thead>\n",
       "    <tr style=\"text-align: right;\">\n",
       "      <th></th>\n",
       "      <th>location_id</th>\n",
       "      <th>block_geoid</th>\n",
       "      <th>h3_res8_id</th>\n",
       "      <th>county_geoid</th>\n",
       "      <th>wsbo</th>\n",
       "      <th>cableServed</th>\n",
       "      <th>copperServed</th>\n",
       "      <th>fiberServed</th>\n",
       "      <th>gsoServed</th>\n",
       "      <th>lbrwServed</th>\n",
       "      <th>lfwServed</th>\n",
       "      <th>ngsoServed</th>\n",
       "      <th>ufwServed</th>\n",
       "    </tr>\n",
       "  </thead><tbody><tr><td>Loading... (need <a href=https://mwouts.github.io/itables/troubleshooting.html>help</a>?)</td></tr></tbody></table>\n",
       "<link rel=\"stylesheet\" type=\"text/css\" href=\"https://cdn.datatables.net/1.13.1/css/jquery.dataTables.min.css\">\n",
       "<script type=\"module\">\n",
       "    // Import jquery and DataTable\n",
       "    import 'https://code.jquery.com/jquery-3.6.0.min.js';\n",
       "    import dt from 'https://cdn.datatables.net/1.12.1/js/jquery.dataTables.mjs';\n",
       "    dt($);\n",
       "\n",
       "    // Define the table data\n",
       "    const data = [[0, 1015880838, \"530659514022053\", \"8812db0811fffff\", \"53065\", \"Served\", \"Served\", \"Underserved\", \"Unserved\", \"Underserved\", \"Underserved\", \"Unserved\", \"Underserved\", \"Underserved\"], [1, 1073176227, \"530350910012001\", \"8828d50b39fffff\", \"53035\", \"Served\", \"Served\", \"Unserved\", \"Unserved\", \"Underserved\", \"Unserved\", \"Unserved\", \"Underserved\", \"Unserved\"], [2, 1073185639, \"530350907004015\", \"8828d546bdfffff\", \"53035\", \"Served\", \"Served\", \"Unserved\", \"Unserved\", \"Underserved\", \"Unserved\", \"Unserved\", \"Underserved\", \"Unserved\"], [3, 1056655277, \"530499502005010\", \"8828c6c015fffff\", \"53049\", \"Served\", \"Served\", \"Unserved\", \"Unserved\", \"Underserved\", \"Unserved\", \"Unserved\", \"Underserved\", \"Underserved\"], [4, 1073186253, \"530350909022006\", \"8828d554b7fffff\", \"53035\", \"Served\", \"Served\", \"Unserved\", \"Unserved\", \"Underserved\", \"Unserved\", \"Unserved\", \"Underserved\", \"Unserved\"], [5, 1056655761, \"530499502004023\", \"8828c6c0cdfffff\", \"53049\", \"Served\", \"Served\", \"Unserved\", \"Unserved\", \"Underserved\", \"Unserved\", \"Unserved\", \"Underserved\", \"Underserved\"], [6, 1063122914, \"530150020013011\", \"8828f38e69fffff\", \"53015\", \"Served\", \"Served\", \"Unserved\", \"Unserved\", \"Underserved\", \"Unserved\", \"Underserved\", \"Underserved\", \"Unserved\"], [7, 1073189314, \"530350801023000\", \"8828d50841fffff\", \"53035\", \"Served\", \"Served\", \"Unserved\", \"Unserved\", \"Underserved\", \"Unserved\", \"Served\", \"Underserved\", \"Unserved\"], [8, 1063124469, \"530150020012011\", \"8828f38c4bfffff\", \"53015\", \"Served\", \"Served\", \"Unserved\", \"Unserved\", \"Underserved\", \"Unserved\", \"Underserved\", \"Underserved\", \"Unserved\"], [9, 1056657158, \"530499502005003\", \"8828c6c003fffff\", \"53049\", \"Served\", \"Served\", \"Unserved\", \"Unserved\", \"Underserved\", \"Unserved\", \"Unserved\", \"Underserved\", \"Underserved\"], [10, 1073194185, \"530350803002005\", \"8828d50a25fffff\", \"53035\", \"Served\", \"Served\", \"Unserved\", \"Served\", \"Underserved\", \"Unserved\", \"Unserved\", \"Underserved\", \"Unserved\"], [11, 1073275936, \"530350902012006\", \"8828d570a5fffff\", \"53035\", \"Served\", \"Served\", \"Unserved\", \"Unserved\", \"Underserved\", \"Unserved\", \"Unserved\", \"Underserved\", \"Unserved\"], [12, 1063130307, \"530150016012074\", \"8828f3930dfffff\", \"53015\", \"Served\", \"Served\", \"Unserved\", \"Unserved\", \"Underserved\", \"Unserved\", \"Unserved\", \"Underserved\", \"Unserved\"], [13, 1073197017, \"530350915001005\", \"8828d508edfffff\", \"53035\", \"Served\", \"Served\", \"Unserved\", \"Served\", \"Underserved\", \"Unserved\", \"Unserved\", \"Underserved\", \"Unserved\"], [14, 1073278239, \"530350905023005\", \"8828d5731bfffff\", \"53035\", \"Served\", \"Served\", \"Unserved\", \"Unserved\", \"Underserved\", \"Unserved\", \"Unserved\", \"Underserved\", \"Unserved\"], [15, 1073281499, \"530350905021008\", \"8828d5706bfffff\", \"53035\", \"Served\", \"Served\", \"Unserved\", \"Unserved\", \"Underserved\", \"Unserved\", \"Underserved\", \"Underserved\", \"Unserved\"], [16, 1073199650, \"530350916001000\", \"8828d50837fffff\", \"53035\", \"Served\", \"Served\", \"Unserved\", \"Served\", \"Underserved\", \"Unserved\", \"Served\", \"Underserved\", \"Unserved\"], [17, 1073282028, \"530350902023013\", \"8828d57061fffff\", \"53035\", \"Served\", \"Served\", \"Underserved\", \"Unserved\", \"Underserved\", \"Unserved\", \"Underserved\", \"Underserved\", \"Unserved\"], [18, 1073204238, \"530350917012000\", \"8828d509c9fffff\", \"53035\", \"Served\", \"Served\", \"Unserved\", \"Unserved\", \"Underserved\", \"Unserved\", \"Underserved\", \"Underserved\", \"Unserved\"], [19, 1073206807, \"530350919001000\", \"8828d50801fffff\", \"53035\", \"Served\", \"Served\", \"Unserved\", \"Served\", \"Underserved\", \"Unserved\", \"Underserved\", \"Underserved\", \"Unserved\"], [20, 1073215271, \"530350811002008\", \"8828d50a01fffff\", \"53035\", \"Served\", \"Served\", \"Underserved\", \"Unserved\", \"Underserved\", \"Unserved\", \"Underserved\", \"Underserved\", \"Unserved\"], [21, 1105674227, \"530419705001007\", \"8828f33855fffff\", \"53041\", \"Served\", \"Served\", \"Unserved\", \"Unserved\", \"Underserved\", \"Unserved\", \"Underserved\", \"Underserved\", \"Unserved\"], [22, 1073215791, \"530350806003009\", \"8828d50a03fffff\", \"53035\", \"Served\", \"Served\", \"Underserved\", \"Unserved\", \"Underserved\", \"Unserved\", \"Underserved\", \"Underserved\", \"Unserved\"], [23, 1105676135, \"530419704001045\", \"8828f3380bfffff\", \"53041\", \"Served\", \"Served\", \"Unserved\", \"Unserved\", \"Underserved\", \"Unserved\", \"Underserved\", \"Underserved\", \"Unserved\"], [24, 1073217036, \"530350812002014\", \"8828d50a05fffff\", \"53035\", \"Served\", \"Served\", \"Underserved\", \"Unserved\", \"Underserved\", \"Unserved\", \"Served\", \"Underserved\", \"Unserved\"], [25, 1063138082, \"530150017001001\", \"8828f3818bfffff\", \"53015\", \"Served\", \"Served\", \"Unserved\", \"Served\", \"Underserved\", \"Unserved\", \"Unserved\", \"Underserved\", \"Unserved\"], [26, 1073221297, \"530350806001002\", \"8828d50a31fffff\", \"53035\", \"Served\", \"Served\", \"Unserved\", \"Served\", \"Underserved\", \"Unserved\", \"Unserved\", \"Underserved\", \"Unserved\"], [27, 1063142397, \"530150012001007\", \"8828f3804dfffff\", \"53015\", \"Served\", \"Served\", \"Unserved\", \"Served\", \"Underserved\", \"Unserved\", \"Unserved\", \"Underserved\", \"Unserved\"], [28, 1296248370, \"530299710001051\", \"8828d1d5d1fffff\", \"53029\", \"Served\", \"Served\", \"Unserved\", \"Unserved\", \"Underserved\", \"Unserved\", \"Underserved\", \"Underserved\", \"Unserved\"], [29, 1073224818, \"530350809002009\", \"8828d50a13fffff\", \"53035\", \"Served\", \"Served\", \"Underserved\", \"Unserved\", \"Underserved\", \"Unserved\", \"Unserved\", \"Underserved\", \"Unserved\"], [30, 1296266689, \"530299706021002\", \"8828d1c713fffff\", \"53029\", \"Served\", \"Served\", \"Unserved\", \"Unserved\", \"Underserved\", \"Unserved\", \"Unserved\", \"Underserved\", \"Unserved\"], [31, 1063150061, \"530150005011017\", \"8828f3821dfffff\", \"53015\", \"Served\", \"Served\", \"Unserved\", \"Served\", \"Underserved\", \"Unserved\", \"Underserved\", \"Underserved\", \"Unserved\"], [32, 1063154678, \"530150008011013\", \"8828f38237fffff\", \"53015\", \"Served\", \"Served\", \"Unserved\", \"Unserved\", \"Underserved\", \"Unserved\", \"Underserved\", \"Underserved\", \"Unserved\"], [33, 1296267353, \"530299706022001\", \"8828d1c469fffff\", \"53029\", \"Served\", \"Served\", \"Unserved\", \"Unserved\", \"Underserved\", \"Unserved\", \"Unserved\", \"Underserved\", \"Unserved\"], [34, 1073228065, \"530350805003004\", \"8828d50a29fffff\", \"53035\", \"Served\", \"Served\", \"Unserved\", \"Served\", \"Underserved\", \"Unserved\", \"Unserved\", \"Underserved\", \"Unserved\"], [35, 1296267947, \"530299705004002\", \"8828d1c6edfffff\", \"53029\", \"Served\", \"Served\", \"Unserved\", \"Unserved\", \"Underserved\", \"Unserved\", \"Unserved\", \"Underserved\", \"Unserved\"], [36, 1063155609, \"530150021004001\", \"8828f38231fffff\", \"53015\", \"Served\", \"Served\", \"Unserved\", \"Served\", \"Underserved\", \"Unserved\", \"Underserved\", \"Underserved\", \"Unserved\"], [37, 1073234240, \"530350901022020\", \"8828d57a15fffff\", \"53035\", \"Served\", \"Served\", \"Underserved\", \"Unserved\", \"Underserved\", \"Unserved\", \"Unserved\", \"Underserved\", \"Unserved\"], [38, 1063160299, \"530150007061014\", \"8828f38295fffff\", \"53015\", \"Served\", \"Served\", \"Underserved\", \"Served\", \"Underserved\", \"Unserved\", \"Underserved\", \"Underserved\", \"Unserved\"], [39, 1296268666, \"530299707001013\", \"8828d1c717fffff\", \"53029\", \"Served\", \"Served\", \"Underserved\", \"Served\", \"Underserved\", \"Unserved\", \"Unserved\", \"Underserved\", \"Unserved\"], [40, 1073235851, \"530350901024028\", \"8828d57a57fffff\", \"53035\", \"Served\", \"Served\", \"Unserved\", \"Unserved\", \"Underserved\", \"Unserved\", \"Unserved\", \"Underserved\", \"Unserved\"], [41, 1296269714, \"530299703001000\", \"8828d1c539fffff\", \"53029\", \"Served\", \"Served\", \"Unserved\", \"Unserved\", \"Underserved\", \"Unserved\", \"Served\", \"Underserved\", \"Unserved\"], [42, 1063162101, \"530150006023007\", \"8828f382e9fffff\", \"53015\", \"Served\", \"Served\", \"Unserved\", \"Served\", \"Underserved\", \"Unserved\", \"Unserved\", \"Underserved\", \"Unserved\"], [43, 1063164419, \"530150008011009\", \"8828f382e5fffff\", \"53015\", \"Served\", \"Served\", \"Unserved\", \"Unserved\", \"Underserved\", \"Unserved\", \"Underserved\", \"Underserved\", \"Unserved\"], [44, 1296276430, \"530299707002016\", \"8828d1c711fffff\", \"53029\", \"Served\", \"Served\", \"Unserved\", \"Unserved\", \"Underserved\", \"Unserved\", \"Unserved\", \"Underserved\", \"Unserved\"], [45, 1302600501, \"530670116222003\", \"8828f364e1fffff\", \"53067\", \"Served\", \"Served\", \"Underserved\", \"Unserved\", \"Underserved\", \"Unserved\", \"Unserved\", \"Underserved\", \"Unserved\"], [46, 1296277194, \"530299706023003\", \"8828d1c71bfffff\", \"53029\", \"Served\", \"Served\", \"Unserved\", \"Unserved\", \"Underserved\", \"Unserved\", \"Unserved\", \"Underserved\", \"Unserved\"], [47, 1296277652, \"530299705003003\", \"8828d1c71bfffff\", \"53029\", \"Served\", \"Served\", \"Unserved\", \"Unserved\", \"Underserved\", \"Unserved\", \"Unserved\", \"Underserved\", \"Unserved\"], [48, 1063165131, \"530150005021018\", \"8828f3821bfffff\", \"53015\", \"Served\", \"Served\", \"Unserved\", \"Served\", \"Underserved\", \"Unserved\", \"Unserved\", \"Underserved\", \"Unserved\"], [49, 1063173296, \"530150015031002\", \"8828f0660bfffff\", \"53015\", \"Served\", \"Served\", \"Unserved\", \"Unserved\", \"Underserved\", \"Unserved\", \"Unserved\", \"Underserved\", \"Unserved\"], [50, 1296277839, \"530299705001015\", \"8828d1c441fffff\", \"53029\", \"Served\", \"Served\", \"Unserved\", \"Unserved\", \"Underserved\", \"Unserved\", \"Underserved\", \"Underserved\", \"Unserved\"], [51, 1302601460, \"530670116251001\", \"8828f364e3fffff\", \"53067\", \"Served\", \"Served\", \"Underserved\", \"Unserved\", \"Underserved\", \"Unserved\", \"Unserved\", \"Underserved\", \"Unserved\"], [52, 1063173405, \"530150015042008\", \"8828f06659fffff\", \"53015\", \"Served\", \"Served\", \"Unserved\", \"Served\", \"Underserved\", \"Unserved\", \"Underserved\", \"Underserved\", \"Unserved\"], [53, 1302607145, \"530670116262000\", \"8828f36487fffff\", \"53067\", \"Served\", \"Served\", \"Unserved\", \"Unserved\", \"Underserved\", \"Unserved\", \"Unserved\", \"Underserved\", \"Unserved\"], [54, 1296411339, \"530459606003021\", \"8828d58515fffff\", \"53045\", \"Served\", \"Served\", \"Unserved\", \"Served\", \"Underserved\", \"Unserved\", \"Unserved\", \"Underserved\", \"Unserved\"], [55, 1296419026, \"530459607001035\", \"8828d58551fffff\", \"53045\", \"Served\", \"Served\", \"Unserved\", \"Served\", \"Underserved\", \"Unserved\", \"Underserved\", \"Underserved\", \"Unserved\"], [56, 1302662266, \"530670102001014\", \"8828d59133fffff\", \"53067\", \"Served\", \"Served\", \"Unserved\", \"Unserved\", \"Underserved\", \"Unserved\", \"Unserved\", \"Underserved\", \"Unserved\"], [57, 1302611751, \"530670123313021\", \"8828f3658dfffff\", \"53067\", \"Served\", \"Served\", \"Unserved\", \"Served\", \"Underserved\", \"Unserved\", \"Unserved\", \"Underserved\", \"Unserved\"], [58, 1302663246, \"530670109201017\", \"8828d5933bfffff\", \"53067\", \"Served\", \"Served\", \"Unserved\", \"Unserved\", \"Underserved\", \"Unserved\", \"Underserved\", \"Underserved\", \"Unserved\"], [59, 1296423942, \"530459609001006\", \"8828d58727fffff\", \"53045\", \"Served\", \"Served\", \"Unserved\", \"Unserved\", \"Underserved\", \"Unserved\", \"Unserved\", \"Underserved\", \"Unserved\"], [60, 1302614677, \"530670106004012\", \"8828d591ebfffff\", \"53067\", \"Served\", \"Served\", \"Unserved\", \"Unserved\", \"Underserved\", \"Unserved\", \"Unserved\", \"Underserved\", \"Unserved\"], [61, 1302663473, \"530670124222022\", \"8828f360a9fffff\", \"53067\", \"Served\", \"Served\", \"Unserved\", \"Served\", \"Underserved\", \"Unserved\", \"Unserved\", \"Underserved\", \"Unserved\"], [62, 1302615619, \"530670115004001\", \"8828d59a65fffff\", \"53067\", \"Served\", \"Served\", \"Unserved\", \"Unserved\", \"Underserved\", \"Unserved\", \"Unserved\", \"Underserved\", \"Unserved\"], [63, 1302670373, \"530670117213000\", \"8828f36493fffff\", \"53067\", \"Served\", \"Served\", \"Unserved\", \"Unserved\", \"Underserved\", \"Unserved\", \"Served\", \"Underserved\", \"Unserved\"], [64, 1310085859, \"530730002032017\", \"8828d17b17fffff\", \"53073\", \"Served\", \"Served\", \"Unserved\", \"Unserved\", \"Underserved\", \"Unserved\", \"Unserved\", \"Underserved\", \"Unserved\"], [65, 1302619354, \"530670109202001\", \"8828d59315fffff\", \"53067\", \"Served\", \"Served\", \"Unserved\", \"Unserved\", \"Underserved\", \"Unserved\", \"Unserved\", \"Underserved\", \"Unserved\"], [66, 1310086710, \"530730002031000\", \"8828d17865fffff\", \"53073\", \"Served\", \"Served\", \"Unserved\", \"Unserved\", \"Underserved\", \"Unserved\", \"Unserved\", \"Underserved\", \"Unserved\"], [67, 1302671342, \"530670122252020\", \"8828d59861fffff\", \"53067\", \"Served\", \"Served\", \"Underserved\", \"Unserved\", \"Underserved\", \"Unserved\", \"Unserved\", \"Underserved\", \"Unserved\"], [68, 1302673719, \"530670102002025\", \"8828d5913dfffff\", \"53067\", \"Served\", \"Served\", \"Unserved\", \"Unserved\", \"Underserved\", \"Unserved\", \"Unserved\", \"Underserved\", \"Unserved\"], [69, 1310086783, \"530730002021015\", \"8828d17861fffff\", \"53073\", \"Served\", \"Served\", \"Underserved\", \"Unserved\", \"Underserved\", \"Unserved\", \"Unserved\", \"Underserved\", \"Unserved\"], [70, 1302620922, \"530670102003040\", \"8828d5912bfffff\", \"53067\", \"Served\", \"Served\", \"Unserved\", \"Unserved\", \"Underserved\", \"Unserved\", \"Unserved\", \"Underserved\", \"Unserved\"], [71, 1310087039, \"530730002032010\", \"8828d17809fffff\", \"53073\", \"Served\", \"Served\", \"Unserved\", \"Unserved\", \"Underserved\", \"Unserved\", \"Underserved\", \"Underserved\", \"Unserved\"], [72, 1302676181, \"530670111003005\", \"8828d59189fffff\", \"53067\", \"Served\", \"Served\", \"Underserved\", \"Unserved\", \"Underserved\", \"Unserved\", \"Served\", \"Underserved\", \"Unserved\"], [73, 1302622943, \"530670116283000\", \"8828f3659dfffff\", \"53067\", \"Served\", \"Served\", \"Underserved\", \"Unserved\", \"Underserved\", \"Unserved\", \"Unserved\", \"Underserved\", \"Unserved\"], [74, 1302677977, \"530670123203009\", \"8828f36e97fffff\", \"53067\", \"Served\", \"Served\", \"Unserved\", \"Unserved\", \"Underserved\", \"Unserved\", \"Unserved\", \"Underserved\", \"Unserved\"], [75, 1310087488, \"530730002021010\", \"8828d17867fffff\", \"53073\", \"Served\", \"Served\", \"Underserved\", \"Unserved\", \"Underserved\", \"Unserved\", \"Unserved\", \"Underserved\", \"Unserved\"], [76, 1302626504, \"530670123311003\", \"8828f365ebfffff\", \"53067\", \"Served\", \"Served\", \"Underserved\", \"Unserved\", \"Underserved\", \"Unserved\", \"Unserved\", \"Underserved\", \"Unserved\"], [77, 1310089880, \"530730106001017\", \"8828d17885fffff\", \"53073\", \"Served\", \"Served\", \"Unserved\", \"Unserved\", \"Underserved\", \"Unserved\", \"Unserved\", \"Underserved\", \"Unserved\"], [78, 1310094521, \"530730104052000\", \"8828d16e09fffff\", \"53073\", \"Served\", \"Served\", \"Unserved\", \"Unserved\", \"Underserved\", \"Unserved\", \"Unserved\", \"Underserved\", \"Unserved\"], [79, 1302681859, \"530670106005035\", \"8828d59111fffff\", \"53067\", \"Served\", \"Served\", \"Underserved\", \"Unserved\", \"Underserved\", \"Unserved\", \"Underserved\", \"Underserved\", \"Unserved\"], [80, 1302683819, \"530670122111025\", \"8828d59a89fffff\", \"53067\", \"Served\", \"Served\", \"Unserved\", \"Unserved\", \"Underserved\", \"Unserved\", \"Unserved\", \"Underserved\", \"Unserved\"], [81, 1302630682, \"530670118211014\", \"8828f3669dfffff\", \"53067\", \"Served\", \"Served\", \"Unserved\", \"Unserved\", \"Underserved\", \"Unserved\", \"Unserved\", \"Underserved\", \"Unserved\"], [82, 1302684252, \"530670121001013\", \"8828d598d1fffff\", \"53067\", \"Served\", \"Served\", \"Unserved\", \"Unserved\", \"Underserved\", \"Unserved\", \"Unserved\", \"Underserved\", \"Unserved\"], [83, 1310094819, \"530730104051028\", \"8828d16e09fffff\", \"53073\", \"Served\", \"Served\", \"Unserved\", \"Served\", \"Underserved\", \"Unserved\", \"Unserved\", \"Underserved\", \"Unserved\"], [84, 1310096495, \"530730104051005\", \"8828d16e3bfffff\", \"53073\", \"Served\", \"Served\", \"Unserved\", \"Unserved\", \"Underserved\", \"Unserved\", \"Unserved\", \"Underserved\", \"Unserved\"], [85, 1302684491, \"530670118211004\", \"8828f36691fffff\", \"53067\", \"Served\", \"Served\", \"Underserved\", \"Unserved\", \"Underserved\", \"Unserved\", \"Underserved\", \"Underserved\", \"Unserved\"], [86, 1302636715, \"530670127303023\", \"8828f32139fffff\", \"53067\", \"Served\", \"Served\", \"Unserved\", \"Unserved\", \"Underserved\", \"Unserved\", \"Unserved\", \"Underserved\", \"Unserved\"], [87, 1302684710, \"530670126101004\", \"8828f36615fffff\", \"53067\", \"Served\", \"Served\", \"Unserved\", \"Unserved\", \"Underserved\", \"Unserved\", \"Unserved\", \"Underserved\", \"Unserved\"], [88, 1302685076, \"530670126202005\", \"8828f374d3fffff\", \"53067\", \"Served\", \"Served\", \"Underserved\", \"Unserved\", \"Underserved\", \"Unserved\", \"Served\", \"Underserved\", \"Unserved\"], [89, 1302685917, \"530670126203010\", \"8828f374d7fffff\", \"53067\", \"Served\", \"Served\", \"Underserved\", \"Unserved\", \"Underserved\", \"Unserved\", \"Served\", \"Underserved\", \"Unserved\"], [90, 1302711537, \"530670121002008\", \"8828d59a95fffff\", \"53067\", \"Served\", \"Served\", \"Unserved\", \"Unserved\", \"Underserved\", \"Unserved\", \"Unserved\", \"Underserved\", \"Unserved\"], [91, 1310105377, \"530730008033014\", \"8828d14eb1fffff\", \"53073\", \"Served\", \"Served\", \"Unserved\", \"Unserved\", \"Underserved\", \"Unserved\", \"Unserved\", \"Underserved\", \"Unserved\"], [92, 1310111310, \"530730101011011\", \"8828d3b1abfffff\", \"53073\", \"Served\", \"Served\", \"Unserved\", \"Unserved\", \"Underserved\", \"Unserved\", \"Unserved\", \"Underserved\", \"Unserved\"], [93, 1310114050, \"530730107023028\", \"8828d3b403fffff\", \"53073\", \"Served\", \"Served\", \"Unserved\", \"Unserved\", \"Underserved\", \"Unserved\", \"Underserved\", \"Underserved\", \"Unserved\"], [94, 1310117238, \"530730008082005\", \"8828d14e21fffff\", \"53073\", \"Served\", \"Served\", \"Unserved\", \"Unserved\", \"Underserved\", \"Unserved\", \"Unserved\", \"Underserved\", \"Unserved\"], [95, 1302637978, \"530670104001022\", \"8828d5916bfffff\", \"53067\", \"Served\", \"Served\", \"Unserved\", \"Unserved\", \"Underserved\", \"Unserved\", \"Unserved\", \"Underserved\", \"Unserved\"], [96, 1310120936, \"530730104111012\", \"8828d16199fffff\", \"53073\", \"Served\", \"Served\", \"Unserved\", \"Served\", \"Underserved\", \"Unserved\", \"Unserved\", \"Underserved\", \"Unserved\"], [97, 1310121044, \"530730104072008\", \"8828d16a9bfffff\", \"53073\", \"Served\", \"Served\", \"Unserved\", \"Unserved\", \"Underserved\", \"Unserved\", \"Unserved\", \"Underserved\", \"Unserved\"], [98, 1302716251, \"530670122252061\", \"8828d5980dfffff\", \"53067\", \"Served\", \"Served\", \"Unserved\", \"Served\", \"Underserved\", \"Unserved\", \"Unserved\", \"Underserved\", \"Unserved\"], [99, 1302642233, \"530670116221006\", \"8828f364e5fffff\", \"53067\", \"Served\", \"Served\", \"Served\", \"Unserved\", \"Underserved\", \"Unserved\", \"Underserved\", \"Underserved\", \"Unserved\"], [100, 1312926839, \"530579514002006\", \"8828d1510bfffff\", \"53057\", \"Served\", \"Served\", \"Unserved\", \"Served\", \"Underserved\", \"Unserved\", \"Unserved\", \"Underserved\", \"Unserved\"], [101, 1310121462, \"530730104112000\", \"8828d16191fffff\", \"53073\", \"Served\", \"Served\", \"Unserved\", \"Unserved\", \"Underserved\", \"Unserved\", \"Unserved\", \"Underserved\", \"Unserved\"], [102, 1302643697, \"530670120012012\", \"8828d59183fffff\", \"53067\", \"Served\", \"Served\", \"Unserved\", \"Unserved\", \"Underserved\", \"Unserved\", \"Served\", \"Underserved\", \"Unserved\"], [103, 1310121770, \"530730104071018\", \"8828d161bbfffff\", \"53073\", \"Served\", \"Served\", \"Unserved\", \"Served\", \"Underserved\", \"Unserved\", \"Unserved\", \"Underserved\", \"Unserved\"], [104, 1312929644, \"530579524012002\", \"8828d15245fffff\", \"53057\", \"Served\", \"Served\", \"Unserved\", \"Unserved\", \"Underserved\", \"Unserved\", \"Unserved\", \"Underserved\", \"Unserved\"], [105, 1302645492, \"530670104001006\", \"8828d59145fffff\", \"53067\", \"Served\", \"Served\", \"Unserved\", \"Unserved\", \"Underserved\", \"Unserved\", \"Unserved\", \"Underserved\", \"Unserved\"], [106, 1312931059, \"530579523043006\", \"8828d1c9b7fffff\", \"53057\", \"Served\", \"Served\", \"Unserved\", \"Served\", \"Underserved\", \"Unserved\", \"Underserved\", \"Underserved\", \"Unserved\"], [107, 1310122547, \"530730011011006\", \"8828d145c9fffff\", \"53073\", \"Served\", \"Served\", \"Unserved\", \"Unserved\", \"Underserved\", \"Unserved\", \"Unserved\", \"Underserved\", \"Unserved\"], [108, 1302648999, \"530670112004002\", \"8828d59a6bfffff\", \"53067\", \"Served\", \"Served\", \"Unserved\", \"Unserved\", \"Underserved\", \"Unserved\", \"Unserved\", \"Underserved\", \"Unserved\"], [109, 1310126799, \"530730011012011\", \"8828d14581fffff\", \"53073\", \"Served\", \"Served\", \"Unserved\", \"Unserved\", \"Underserved\", \"Unserved\", \"Served\", \"Underserved\", \"Unserved\"], [110, 1312931275, \"530579515032003\", \"8828d15135fffff\", \"53057\", \"Served\", \"Served\", \"Underserved\", \"Served\", \"Underserved\", \"Unserved\", \"Unserved\", \"Underserved\", \"Unserved\"], [111, 1310126913, \"530730011021062\", \"8828d1458bfffff\", \"53073\", \"Served\", \"Served\", \"Unserved\", \"Unserved\", \"Underserved\", \"Unserved\", \"Served\", \"Underserved\", \"Unserved\"], [112, 1302650857, \"530670127303014\", \"8828f32131fffff\", \"53067\", \"Served\", \"Served\", \"Underserved\", \"Unserved\", \"Underserved\", \"Unserved\", \"Unserved\", \"Underserved\", \"Unserved\"], [113, 1310130412, \"530730010002008\", \"8828d145a3fffff\", \"53073\", \"Served\", \"Served\", \"Unserved\", \"Unserved\", \"Underserved\", \"Unserved\", \"Unserved\", \"Underserved\", \"Unserved\"], [114, 1312932125, \"530579404032012\", \"8828d1198dfffff\", \"53057\", \"Served\", \"Served\", \"Unserved\", \"Unserved\", \"Underserved\", \"Unserved\", \"Underserved\", \"Underserved\", \"Unserved\"], [115, 1312935954, \"530579402011018\", \"8828d119c7fffff\", \"53057\", \"Served\", \"Served\", \"Unserved\", \"Unserved\", \"Underserved\", \"Unserved\", \"Unserved\", \"Underserved\", \"Unserved\"], [116, 1302651358, \"530670109102023\", \"8828d59065fffff\", \"53067\", \"Served\", \"Served\", \"Underserved\", \"Unserved\", \"Underserved\", \"Unserved\", \"Unserved\", \"Underserved\", \"Unserved\"], [117, 1312935962, \"530579402011018\", \"8828d119c7fffff\", \"53057\", \"Served\", \"Served\", \"Unserved\", \"Unserved\", \"Underserved\", \"Unserved\", \"Unserved\", \"Underserved\", \"Unserved\"], [118, 1310131221, \"530730005012028\", \"8828d17b41fffff\", \"53073\", \"Served\", \"Served\", \"Unserved\", \"Served\", \"Underserved\", \"Unserved\", \"Unserved\", \"Underserved\", \"Unserved\"], [119, 1310131769, \"530730005011051\", \"8828d17b45fffff\", \"53073\", \"Served\", \"Served\", \"Unserved\", \"Unserved\", \"Underserved\", \"Unserved\", \"Unserved\", \"Underserved\", \"Unserved\"], [120, 1302651614, \"530670112003019\", \"8828d59a47fffff\", \"53067\", \"Served\", \"Served\", \"Unserved\", \"Unserved\", \"Underserved\", \"Unserved\", \"Unserved\", \"Underserved\", \"Unserved\"], [121, 1310132975, \"530730005021012\", \"8828d17b43fffff\", \"53073\", \"Served\", \"Served\", \"Unserved\", \"Served\", \"Underserved\", \"Unserved\", \"Served\", \"Underserved\", \"Unserved\"], [122, 1312937912, \"530579516001018\", \"8828d1500dfffff\", \"53057\", \"Served\", \"Served\", \"Unserved\", \"Served\", \"Underserved\", \"Unserved\", \"Unserved\", \"Underserved\", \"Unserved\"], [123, 1302653741, \"530670127303022\", \"8828f32131fffff\", \"53067\", \"Served\", \"Served\", \"Underserved\", \"Unserved\", \"Underserved\", \"Unserved\", \"Unserved\", \"Underserved\", \"Unserved\"], [124, 1312943521, \"530579524011000\", \"8828d1526bfffff\", \"53057\", \"Served\", \"Served\", \"Unserved\", \"Unserved\", \"Underserved\", \"Unserved\", \"Unserved\", \"Underserved\", \"Unserved\"], [125, 1312944314, \"530579523012000\", \"8828d15267fffff\", \"53057\", \"Served\", \"Served\", \"Unserved\", \"Unserved\", \"Underserved\", \"Unserved\", \"Unserved\", \"Underserved\", \"Unserved\"], [126, 1310133968, \"530730004022019\", \"8828d17b5dfffff\", \"53073\", \"Served\", \"Served\", \"Unserved\", \"Served\", \"Underserved\", \"Unserved\", \"Unserved\", \"Underserved\", \"Unserved\"], [127, 1302654753, \"530670122261034\", \"8828d59a25fffff\", \"53067\", \"Served\", \"Served\", \"Underserved\", \"Unserved\", \"Underserved\", \"Unserved\", \"Underserved\", \"Underserved\", \"Unserved\"], [128, 1310135338, \"530730004013007\", \"8828d17b0dfffff\", \"53073\", \"Served\", \"Served\", \"Underserved\", \"Unserved\", \"Underserved\", \"Unserved\", \"Unserved\", \"Underserved\", \"Unserved\"], [129, 1310136436, \"530730004012003\", \"8828d17b0bfffff\", \"53073\", \"Served\", \"Served\", \"Underserved\", \"Unserved\", \"Underserved\", \"Unserved\", \"Unserved\", \"Underserved\", \"Unserved\"], [130, 1312946818, \"530579514004016\", \"8828d15163fffff\", \"53057\", \"Served\", \"Served\", \"Unserved\", \"Served\", \"Underserved\", \"Unserved\", \"Unserved\", \"Underserved\", \"Unserved\"], [131, 1302655315, \"530670116251006\", \"8828f3648dfffff\", \"53067\", \"Served\", \"Served\", \"Unserved\", \"Unserved\", \"Underserved\", \"Unserved\", \"Unserved\", \"Underserved\", \"Unserved\"], [132, 1312948625, \"530579407001029\", \"8828d156d1fffff\", \"53057\", \"Served\", \"Served\", \"Unserved\", \"Served\", \"Underserved\", \"Unserved\", \"Underserved\", \"Underserved\", \"Unserved\"], [133, 1310136439, \"530730004012011\", \"8828d17b0bfffff\", \"53073\", \"Served\", \"Served\", \"Unserved\", \"Unserved\", \"Underserved\", \"Unserved\", \"Unserved\", \"Underserved\", \"Unserved\"], [134, 1302655546, \"530670121002006\", \"8828d59a95fffff\", \"53067\", \"Served\", \"Served\", \"Unserved\", \"Unserved\", \"Underserved\", \"Unserved\", \"Unserved\", \"Underserved\", \"Unserved\"], [135, 1310139751, \"530730105061005\", \"8828d178b9fffff\", \"53073\", \"Served\", \"Served\", \"Unserved\", \"Unserved\", \"Underserved\", \"Unserved\", \"Unserved\", \"Underserved\", \"Unserved\"], [136, 1312956124, \"530579523041008\", \"8828d1c9b7fffff\", \"53057\", \"Served\", \"Served\", \"Unserved\", \"Served\", \"Underserved\", \"Unserved\", \"Unserved\", \"Underserved\", \"Unserved\"], [137, 1312959874, \"530579523013005\", \"8828d1522dfffff\", \"53057\", \"Served\", \"Served\", \"Unserved\", \"Unserved\", \"Underserved\", \"Unserved\", \"Unserved\", \"Underserved\", \"Unserved\"], [138, 1310140363, \"530730105051004\", \"8828d178b5fffff\", \"53073\", \"Served\", \"Served\", \"Unserved\", \"Served\", \"Underserved\", \"Unserved\", \"Unserved\", \"Underserved\", \"Unserved\"], [139, 1302659415, \"530670107001007\", \"8828d59161fffff\", \"53067\", \"Served\", \"Served\", \"Unserved\", \"Unserved\", \"Underserved\", \"Unserved\", \"Unserved\", \"Underserved\", \"Unserved\"], [140, 1310142584, \"530730103012045\", \"8828d16a01fffff\", \"53073\", \"Served\", \"Served\", \"Unserved\", \"Unserved\", \"Underserved\", \"Unserved\", \"Unserved\", \"Underserved\", \"Unserved\"], [141, 1312961234, \"530579524032010\", \"8828d1c9b9fffff\", \"53057\", \"Served\", \"Served\", \"Unserved\", \"Served\", \"Underserved\", \"Unserved\", \"Unserved\", \"Underserved\", \"Unserved\"], [142, 1302661017, \"530670115002015\", \"8828d59a0dfffff\", \"53067\", \"Served\", \"Served\", \"Underserved\", \"Unserved\", \"Underserved\", \"Unserved\", \"Unserved\", \"Underserved\", \"Unserved\"], [143, 1312962609, \"530579519002046\", \"8828d15217fffff\", \"53057\", \"Served\", \"Served\", \"Unserved\", \"Unserved\", \"Underserved\", \"Unserved\", \"Unserved\", \"Underserved\", \"Unserved\"], [144, 1310184044, \"530730104111015\", \"8828d160a5fffff\", \"53073\", \"Served\", \"Served\", \"Unserved\", \"Served\", \"Underserved\", \"Unserved\", \"Unserved\", \"Underserved\", \"Unserved\"], [145, 1330127317, \"530530718072001\", \"8828d5d0d1fffff\", \"53053\", \"Served\", \"Served\", \"Unserved\", \"Unserved\", \"Underserved\", \"Unserved\", \"Unserved\", \"Underserved\", \"Unserved\"], [146, 1315726881, \"530270010001007\", \"8828c65499fffff\", \"53027\", \"Served\", \"Served\", \"Unserved\", \"Unserved\", \"Underserved\", \"Unserved\", \"Unserved\", \"Underserved\", \"Unserved\"], [147, 1312963566, \"530579523032011\", \"8828d1526dfffff\", \"53057\", \"Served\", \"Served\", \"Unserved\", \"Unserved\", \"Underserved\", \"Unserved\", \"Unserved\", \"Underserved\", \"Unserved\"], [148, 1312980675, \"530579521003001\", \"8828d1cd37fffff\", \"53057\", \"Served\", \"Served\", \"Unserved\", \"Unserved\", \"Underserved\", \"Unserved\", \"Unserved\", \"Underserved\", \"Unserved\"], [149, 1315738011, \"530270014002019\", \"8828c60861fffff\", \"53027\", \"Served\", \"Served\", \"Unserved\", \"Unserved\", \"Underserved\", \"Unserved\", \"Underserved\", \"Underserved\", \"Unserved\"], [150, 1330134022, \"530530731141007\", \"8828f369cbfffff\", \"53053\", \"Served\", \"Served\", \"Unserved\", \"Unserved\", \"Underserved\", \"Unserved\", \"Unserved\", \"Underserved\", \"Unserved\"], [151, 1315756850, \"530270016021024\", \"8828c60a49fffff\", \"53027\", \"Served\", \"Served\", \"Unserved\", \"Unserved\", \"Underserved\", \"Unserved\", \"Unserved\", \"Underserved\", \"Unserved\"], [152, 1330137916, \"530530726021000\", \"8828d5c4d1fffff\", \"53053\", \"Served\", \"Served\", \"Unserved\", \"Unserved\", \"Underserved\", \"Unserved\", \"Served\", \"Underserved\", \"Unserved\"], [153, 1315780377, \"530270003002142\", \"8828c646e9fffff\", \"53027\", \"Served\", \"Served\", \"Underserved\", \"Unserved\", \"Underserved\", \"Unserved\", \"Unserved\", \"Underserved\", \"Unserved\"], [154, 1330138051, \"530530725033003\", \"8828d5c4abfffff\", \"53053\", \"Served\", \"Served\", \"Unserved\", \"Unserved\", \"Underserved\", \"Unserved\", \"Unserved\", \"Underserved\", \"Unserved\"], [155, 1330140613, \"530530735011009\", \"8828d5d8cbfffff\", \"53053\", \"Served\", \"Served\", \"Underserved\", \"Unserved\", \"Underserved\", \"Unserved\", \"Unserved\", \"Underserved\", \"Unserved\"], [156, 1330141482, \"530530703103000\", \"8828d5db49fffff\", \"53053\", \"Served\", \"Served\", \"Underserved\", \"Unserved\", \"Underserved\", \"Unserved\", \"Served\", \"Underserved\", \"Unserved\"], [157, 1330148536, \"530530725092027\", \"8828d5c5c9fffff\", \"53053\", \"Served\", \"Served\", \"Unserved\", \"Served\", \"Underserved\", \"Unserved\", \"Unserved\", \"Underserved\", \"Unserved\"], [158, 1330149211, \"530530724083004\", \"8828d5c74bfffff\", \"53053\", \"Served\", \"Served\", \"Underserved\", \"Unserved\", \"Underserved\", \"Unserved\", \"Served\", \"Underserved\", \"Unserved\"], [159, 1330149672, \"530530731241000\", \"8828d4a6d5fffff\", \"53053\", \"Served\", \"Served\", \"Underserved\", \"Unserved\", \"Underserved\", \"Unserved\", \"Underserved\", \"Underserved\", \"Unserved\"], [160, 1330151679, \"530530721073007\", \"8828d5d711fffff\", \"53053\", \"Served\", \"Served\", \"Underserved\", \"Unserved\", \"Underserved\", \"Unserved\", \"Served\", \"Underserved\", \"Unserved\"], [161, 1330153102, \"530530721073001\", \"8828d5d711fffff\", \"53053\", \"Served\", \"Served\", \"Unserved\", \"Unserved\", \"Underserved\", \"Unserved\", \"Served\", \"Underserved\", \"Unserved\"], [162, 1330155212, \"530530731152001\", \"8828f36919fffff\", \"53053\", \"Served\", \"Served\", \"Underserved\", \"Unserved\", \"Underserved\", \"Unserved\", \"Unserved\", \"Underserved\", \"Unserved\"], [163, 1330156192, \"530530611005014\", \"8828d5c2c3fffff\", \"53053\", \"Served\", \"Served\", \"Unserved\", \"Unserved\", \"Underserved\", \"Unserved\", \"Underserved\", \"Underserved\", \"Unserved\"], [164, 1330156277, \"530530703081004\", \"8828d5db57fffff\", \"53053\", \"Served\", \"Served\", \"Underserved\", \"Unserved\", \"Underserved\", \"Underserved\", \"Underserved\", \"Underserved\", \"Unserved\"], [165, 1330161944, \"530539400112011\", \"8828d5c031fffff\", \"53053\", \"Served\", \"Served\", \"Underserved\", \"Unserved\", \"Underserved\", \"Unserved\", \"Unserved\", \"Underserved\", \"Unserved\"], [166, 1330162660, \"530530612002024\", \"8828d5c217fffff\", \"53053\", \"Served\", \"Served\", \"Unserved\", \"Served\", \"Underserved\", \"Unserved\", \"Underserved\", \"Underserved\", \"Unserved\"], [167, 1330168831, \"530530723132000\", \"8828d5d501fffff\", \"53053\", \"Served\", \"Served\", \"Underserved\", \"Unserved\", \"Underserved\", \"Unserved\", \"Underserved\", \"Underserved\", \"Unserved\"], [168, 1330170088, \"530530715041011\", \"8828d5d019fffff\", \"53053\", \"Served\", \"Served\", \"Underserved\", \"Unserved\", \"Underserved\", \"Unserved\", \"Unserved\", \"Underserved\", \"Unserved\"], [169, 1330170471, \"530530612003001\", \"8828d5c2e9fffff\", \"53053\", \"Served\", \"Served\", \"Unserved\", \"Served\", \"Underserved\", \"Unserved\", \"Served\", \"Underserved\", \"Unserved\"], [170, 1330174915, \"530530731143013\", \"8828f3691bfffff\", \"53053\", \"Served\", \"Served\", \"Unserved\", \"Unserved\", \"Underserved\", \"Unserved\", \"Unserved\", \"Underserved\", \"Unserved\"], [171, 1330328088, \"530530725032001\", \"8828d5c4a9fffff\", \"53053\", \"Served\", \"Served\", \"Unserved\", \"Unserved\", \"Underserved\", \"Unserved\", \"Underserved\", \"Underserved\", \"Unserved\"], [172, 1330267573, \"530530634023001\", \"8828d5d0e5fffff\", \"53053\", \"Served\", \"Served\", \"Underserved\", \"Unserved\", \"Underserved\", \"Unserved\", \"Unserved\", \"Underserved\", \"Unserved\"], [173, 1330269424, \"530539400011016\", \"8828d5c023fffff\", \"53053\", \"Served\", \"Served\", \"Underserved\", \"Unserved\", \"Underserved\", \"Unserved\", \"Underserved\", \"Underserved\", \"Unserved\"], [174, 1330269501, \"530539400011016\", \"8828d5c023fffff\", \"53053\", \"Served\", \"Served\", \"Unserved\", \"Unserved\", \"Underserved\", \"Unserved\", \"Unserved\", \"Underserved\", \"Unserved\"], [175, 1330272250, \"530530712053006\", \"8828d5d139fffff\", \"53053\", \"Served\", \"Served\", \"Underserved\", \"Unserved\", \"Underserved\", \"Unserved\", \"Unserved\", \"Underserved\", \"Unserved\"], [176, 1330274473, \"530530728013009\", \"8828f36c99fffff\", \"53053\", \"Served\", \"Served\", \"Unserved\", \"Unserved\", \"Underserved\", \"Unserved\", \"Unserved\", \"Underserved\", \"Unserved\"], [177, 1330274923, \"530530728013000\", \"8828f36c9dfffff\", \"53053\", \"Served\", \"Served\", \"Unserved\", \"Unserved\", \"Underserved\", \"Unserved\", \"Unserved\", \"Underserved\", \"Unserved\"], [178, 1330275512, \"530530711002008\", \"8828d5d1cdfffff\", \"53053\", \"Served\", \"Served\", \"Unserved\", \"Served\", \"Underserved\", \"Unserved\", \"Unserved\", \"Underserved\", \"Unserved\"], [179, 1330276663, \"530530614001015\", \"8828d5c231fffff\", \"53053\", \"Served\", \"Served\", \"Unserved\", \"Unserved\", \"Underserved\", \"Unserved\", \"Served\", \"Underserved\", \"Unserved\"], [180, 1330277033, \"530530713041000\", \"8828d4a491fffff\", \"53053\", \"Served\", \"Served\", \"Unserved\", \"Unserved\", \"Underserved\", \"Unserved\", \"Served\", \"Underserved\", \"Unserved\"], [181, 1330277259, \"530530713101005\", \"8828d5d159fffff\", \"53053\", \"Served\", \"Served\", \"Underserved\", \"Unserved\", \"Underserved\", \"Unserved\", \"Served\", \"Underserved\", \"Unserved\"], [182, 1330278679, \"530530731223000\", \"8828d4a4c5fffff\", \"53053\", \"Served\", \"Served\", \"Unserved\", \"Unserved\", \"Underserved\", \"Unserved\", \"Served\", \"Underserved\", \"Unserved\"], [183, 1330279606, \"530530704042001\", \"8828d4a43bfffff\", \"53053\", \"Served\", \"Served\", \"Unserved\", \"Underserved\", \"Underserved\", \"Unserved\", \"Underserved\", \"Underserved\", \"Unserved\"], [184, 1330287008, \"530530632001013\", \"8828d5d19bfffff\", \"53053\", \"Served\", \"Served\", \"Unserved\", \"Served\", \"Underserved\", \"Unserved\", \"Unserved\", \"Underserved\", \"Unserved\"], [185, 1330290855, \"530530701003004\", \"8828d4a73bfffff\", \"53053\", \"Served\", \"Served\", \"Underserved\", \"Unserved\", \"Underserved\", \"Unserved\", \"Unserved\", \"Underserved\", \"Unserved\"], [186, 1330292620, \"530530703094001\", \"8828d4aebbfffff\", \"53053\", \"Served\", \"Served\", \"Unserved\", \"Unserved\", \"Underserved\", \"Unserved\", \"Served\", \"Underserved\", \"Unserved\"], [187, 1330293843, \"530539400092014\", \"8828d5dabdfffff\", \"53053\", \"Served\", \"Served\", \"Unserved\", \"Unserved\", \"Underserved\", \"Unserved\", \"Underserved\", \"Underserved\", \"Unserved\"], [188, 1330296116, \"530530731143017\", \"8828f369cdfffff\", \"53053\", \"Served\", \"Served\", \"Unserved\", \"Unserved\", \"Underserved\", \"Unserved\", \"Unserved\", \"Underserved\", \"Unserved\"], [189, 1330178878, \"530539400083000\", \"8828d5c023fffff\", \"53053\", \"Served\", \"Served\", \"Underserved\", \"Unserved\", \"Underserved\", \"Unserved\", \"Unserved\", \"Underserved\", \"Unserved\"], [190, 1330178964, \"530539400083000\", \"8828d5c023fffff\", \"53053\", \"Served\", \"Served\", \"Underserved\", \"Unserved\", \"Underserved\", \"Unserved\", \"Unserved\", \"Underserved\", \"Unserved\"], [191, 1330179674, \"530530634013002\", \"8828d5d0a5fffff\", \"53053\", \"Served\", \"Served\", \"Unserved\", \"Unserved\", \"Underserved\", \"Unserved\", \"Unserved\", \"Underserved\", \"Unserved\"], [192, 1330180900, \"530530619002006\", \"8828d5c20dfffff\", \"53053\", \"Served\", \"Served\", \"Unserved\", \"Served\", \"Underserved\", \"Unserved\", \"Served\", \"Underserved\", \"Unserved\"], [193, 1330180935, \"530530610022006\", \"8828d5c2ddfffff\", \"53053\", \"Served\", \"Served\", \"Underserved\", \"Unserved\", \"Underserved\", \"Unserved\", \"Underserved\", \"Underserved\", \"Unserved\"], [194, 1330182342, \"530530731322004\", \"8828d4a6b9fffff\", \"53053\", \"Served\", \"Served\", \"Unserved\", \"Unserved\", \"Underserved\", \"Unserved\", \"Unserved\", \"Underserved\", \"Unserved\"], [195, 1330183432, \"530530714033004\", \"8828d5d23bfffff\", \"53053\", \"Served\", \"Served\", \"Unserved\", \"Unserved\", \"Underserved\", \"Unserved\", \"Unserved\", \"Underserved\", \"Unserved\"], [196, 1330187077, \"530530731312003\", \"8828d4a691fffff\", \"53053\", \"Served\", \"Served\", \"Underserved\", \"Unserved\", \"Underserved\", \"Unserved\", \"Unserved\", \"Underserved\", \"Unserved\"], [197, 1330188506, \"530530703101001\", \"8828d4a5a7fffff\", \"53053\", \"Served\", \"Served\", \"Unserved\", \"Unserved\", \"Underserved\", \"Underserved\", \"Underserved\", \"Underserved\", \"Unserved\"], [198, 1330194793, \"530530734062010\", \"8828d5da1dfffff\", \"53053\", \"Served\", \"Served\", \"Unserved\", \"Unserved\", \"Underserved\", \"Unserved\", \"Underserved\", \"Underserved\", \"Unserved\"], [199, 1330198099, \"530530735023009\", \"8828d5dae5fffff\", \"53053\", \"Served\", \"Served\", \"Unserved\", \"Unserved\", \"Underserved\", \"Unserved\", \"Served\", \"Underserved\", \"Unserved\"], [200, 1330199206, \"530530609082006\", \"8828d5c29bfffff\", \"53053\", \"Served\", \"Served\", \"Unserved\", \"Unserved\", \"Underserved\", \"Unserved\", \"Served\", \"Underserved\", \"Unserved\"], [201, 1330201739, \"530530714092008\", \"8828d5d221fffff\", \"53053\", \"Served\", \"Served\", \"Unserved\", \"Unserved\", \"Underserved\", \"Unserved\", \"Unserved\", \"Underserved\", \"Unserved\"], [202, 1330202253, \"530530625012020\", \"8828d5c25dfffff\", \"53053\", \"Served\", \"Served\", \"Unserved\", \"Served\", \"Underserved\", \"Unserved\", \"Underserved\", \"Underserved\", \"Unserved\"], [203, 1330209583, \"530530719022033\", \"8828d5d705fffff\", \"53053\", \"Served\", \"Served\", \"Unserved\", \"Unserved\", \"Underserved\", \"Unserved\", \"Underserved\", \"Underserved\", \"Unserved\"], [204, 1330296942, \"530530625013003\", \"8828d5c209fffff\", \"53053\", \"Served\", \"Served\", \"Unserved\", \"Served\", \"Underserved\", \"Unserved\", \"Unserved\", \"Underserved\", \"Unserved\"], [205, 1330298356, \"530530714152001\", \"8828f369e7fffff\", \"53053\", \"Served\", \"Served\", \"Unserved\", \"Unserved\", \"Underserved\", \"Unserved\", \"Unserved\", \"Underserved\", \"Unserved\"], [206, 1330329415, \"530530610012018\", \"8828d5d5e5fffff\", \"53053\", \"Served\", \"Served\", \"Underserved\", \"Unserved\", \"Underserved\", \"Unserved\", \"Underserved\", \"Underserved\", \"Unserved\"], [207, 1330302650, \"530530633011008\", \"8828d5d19dfffff\", \"53053\", \"Served\", \"Served\", \"Unserved\", \"Unserved\", \"Underserved\", \"Unserved\", \"Unserved\", \"Underserved\", \"Unserved\"], [208, 1330210464, \"530530631002009\", \"8828d5d0a3fffff\", \"53053\", \"Served\", \"Served\", \"Unserved\", \"Served\", \"Underserved\", \"Unserved\", \"Unserved\", \"Underserved\", \"Unserved\"], [209, 1330332000, \"530530607005020\", \"8828d5c2ebfffff\", \"53053\", \"Served\", \"Served\", \"Unserved\", \"Served\", \"Underserved\", \"Unserved\", \"Unserved\", \"Underserved\", \"Unserved\"], [210, 1330211503, \"530530707032007\", \"8828d5d8ddfffff\", \"53053\", \"Served\", \"Served\", \"Underserved\", \"Unserved\", \"Underserved\", \"Unserved\", \"Served\", \"Underserved\", \"Unserved\"], [211, 1330303154, \"530530714151003\", \"8828f369abfffff\", \"53053\", \"Served\", \"Served\", \"Underserved\", \"Unserved\", \"Underserved\", \"Unserved\", \"Unserved\", \"Underserved\", \"Unserved\"], [212, 1330333010, \"530530725091000\", \"8828d5c5c9fffff\", \"53053\", \"Served\", \"Served\", \"Unserved\", \"Unserved\", \"Underserved\", \"Unserved\", \"Underserved\", \"Underserved\", \"Unserved\"], [213, 1330303942, \"530530720002003\", \"8828f36da5fffff\", \"53053\", \"Served\", \"Served\", \"Unserved\", \"Unserved\", \"Underserved\", \"Unserved\", \"Unserved\", \"Underserved\", \"Unserved\"], [214, 1330214373, \"530530703154003\", \"8828d5d827fffff\", \"53053\", \"Served\", \"Served\", \"Unserved\", \"Unserved\", \"Underserved\", \"Unserved\", \"Unserved\", \"Underserved\", \"Unserved\"], [215, 1330335460, \"530530703083004\", \"8828d5db5dfffff\", \"53053\", \"Served\", \"Served\", \"Unserved\", \"Unserved\", \"Underserved\", \"Unserved\", \"Underserved\", \"Underserved\", \"Unserved\"], [216, 1330215493, \"530530713043000\", \"8828d5d161fffff\", \"53053\", \"Served\", \"Served\", \"Unserved\", \"Served\", \"Underserved\", \"Unserved\", \"Unserved\", \"Underserved\", \"Unserved\"], [217, 1330306430, \"530539400071040\", \"8828d5c35bfffff\", \"53053\", \"Served\", \"Served\", \"Underserved\", \"Unserved\", \"Underserved\", \"Unserved\", \"Unserved\", \"Underserved\", \"Unserved\"], [218, 1330308402, \"530530721121005\", \"8828d5d71bfffff\", \"53053\", \"Served\", \"Served\", \"Underserved\", \"Unserved\", \"Underserved\", \"Unserved\", \"Served\", \"Underserved\", \"Unserved\"], [219, 1330227038, \"530539400131010\", \"8828d5da9bfffff\", \"53053\", \"Served\", \"Served\", \"Underserved\", \"Unserved\", \"Underserved\", \"Unserved\", \"Underserved\", \"Underserved\", \"Unserved\"], [220, 1330337486, \"530530630002015\", \"8828d5d0bbfffff\", \"53053\", \"Served\", \"Served\", \"Unserved\", \"Served\", \"Underserved\", \"Unserved\", \"Underserved\", \"Underserved\", \"Unserved\"], [221, 1330227489, \"530530731144003\", \"8828f36989fffff\", \"53053\", \"Served\", \"Served\", \"Unserved\", \"Unserved\", \"Underserved\", \"Unserved\", \"Unserved\", \"Underserved\", \"Unserved\"], [222, 1330310435, \"530530703074009\", \"8828d5db65fffff\", \"53053\", \"Served\", \"Served\", \"Underserved\", \"Unserved\", \"Underserved\", \"Underserved\", \"Underserved\", \"Underserved\", \"Unserved\"], [223, 1330343605, \"530530628021004\", \"8828d5d56bfffff\", \"53053\", \"Served\", \"Served\", \"Unserved\", \"Unserved\", \"Underserved\", \"Unserved\", \"Unserved\", \"Underserved\", \"Unserved\"], [224, 1330311073, \"530530704033002\", \"8828d4a405fffff\", \"53053\", \"Served\", \"Served\", \"Unserved\", \"Unserved\", \"Underserved\", \"Unserved\", \"Underserved\", \"Underserved\", \"Unserved\"], [225, 1330228434, \"530530721082004\", \"8828d5d75dfffff\", \"53053\", \"Served\", \"Served\", \"Unserved\", \"Unserved\", \"Underserved\", \"Unserved\", \"Unserved\", \"Underserved\", \"Unserved\"], [226, 1330311865, \"530539400103010\", \"8828d5da83fffff\", \"53053\", \"Served\", \"Served\", \"Unserved\", \"Unserved\", \"Underserved\", \"Unserved\", \"Served\", \"Underserved\", \"Unserved\"], [227, 1330345490, \"530530714162000\", \"8828d5d241fffff\", \"53053\", \"Served\", \"Served\", \"Underserved\", \"Unserved\", \"Underserved\", \"Unserved\", \"Unserved\", \"Underserved\", \"Unserved\"], [228, 1330314004, \"530530609073011\", \"8828d5c2d3fffff\", \"53053\", \"Served\", \"Served\", \"Underserved\", \"Unserved\", \"Underserved\", \"Unserved\", \"Served\", \"Underserved\", \"Unserved\"], [229, 1330232469, \"530530735013001\", \"8828d5d8c5fffff\", \"53053\", \"Served\", \"Served\", \"Unserved\", \"Unserved\", \"Underserved\", \"Unserved\", \"Unserved\", \"Underserved\", \"Unserved\"], [230, 1330233899, \"530530606003013\", \"8828d5c2e5fffff\", \"53053\", \"Served\", \"Served\", \"Unserved\", \"Served\", \"Underserved\", \"Unserved\", \"Underserved\", \"Underserved\", \"Unserved\"], [231, 1330347900, \"530530719022004\", \"8828d5d72bfffff\", \"53053\", \"Served\", \"Served\", \"Unserved\", \"Served\", \"Underserved\", \"Unserved\", \"Underserved\", \"Underserved\", \"Unserved\"], [232, 1330238004, \"530530702072006\", \"8828d4ac41fffff\", \"53053\", \"Served\", \"Served\", \"Unserved\", \"Unserved\", \"Underserved\", \"Underserved\", \"Unserved\", \"Underserved\", \"Unserved\"], [233, 1330314828, \"530530731222002\", \"8828d4a4c5fffff\", \"53053\", \"Served\", \"Served\", \"Unserved\", \"Unserved\", \"Underserved\", \"Unserved\", \"Served\", \"Underserved\", \"Unserved\"], [234, 1330348553, \"530530701003006\", \"8828d4a73bfffff\", \"53053\", \"Served\", \"Served\", \"Unserved\", \"Unserved\", \"Underserved\", \"Unserved\", \"Unserved\", \"Underserved\", \"Unserved\"], [235, 1330316479, \"530539400111010\", \"8828d5c031fffff\", \"53053\", \"Served\", \"Served\", \"Unserved\", \"Unserved\", \"Underserved\", \"Unserved\", \"Unserved\", \"Underserved\", \"Unserved\"], [236, 1330322267, \"530530714143011\", \"8828f3698dfffff\", \"53053\", \"Served\", \"Served\", \"Unserved\", \"Unserved\", \"Underserved\", \"Unserved\", \"Unserved\", \"Underserved\", \"Unserved\"], [237, 1330240501, \"530530723143009\", \"8828d5d557fffff\", \"53053\", \"Served\", \"Served\", \"Underserved\", \"Unserved\", \"Underserved\", \"Unserved\", \"Underserved\", \"Underserved\", \"Unserved\"], [238, 1330350255, \"530530703093023\", \"8828d5db49fffff\", \"53053\", \"Served\", \"Served\", \"Underserved\", \"Unserved\", \"Underserved\", \"Unserved\", \"Unserved\", \"Underserved\", \"Unserved\"], [239, 1330241565, \"530530703072003\", \"8828d5d943fffff\", \"53053\", \"Served\", \"Served\", \"Served\", \"Unserved\", \"Underserved\", \"Underserved\", \"Unserved\", \"Underserved\", \"Unserved\"], [240, 1330323114, \"530530724082009\", \"8828d5c759fffff\", \"53053\", \"Served\", \"Served\", \"Unserved\", \"Unserved\", \"Underserved\", \"Unserved\", \"Unserved\", \"Underserved\", \"Unserved\"], [241, 1330244368, \"530530607004013\", \"8828d5c28dfffff\", \"53053\", \"Served\", \"Served\", \"Unserved\", \"Served\", \"Underserved\", \"Unserved\", \"Unserved\", \"Underserved\", \"Unserved\"], [242, 1330353577, \"530530626002029\", \"8828d5c253fffff\", \"53053\", \"Served\", \"Served\", \"Unserved\", \"Served\", \"Underserved\", \"Unserved\", \"Underserved\", \"Underserved\", \"Unserved\"], [243, 1330249026, \"530530703104005\", \"8828d4a5a7fffff\", \"53053\", \"Served\", \"Served\", \"Underserved\", \"Unserved\", \"Underserved\", \"Unserved\", \"Unserved\", \"Underserved\", \"Unserved\"], [244, 1330326157, \"530539400121003\", \"8828d5c347fffff\", \"53053\", \"Served\", \"Served\", \"Unserved\", \"Unserved\", \"Underserved\", \"Unserved\", \"Underserved\", \"Underserved\", \"Unserved\"], [245, 1330355453, \"530530623003001\", \"8828d5d197fffff\", \"53053\", \"Served\", \"Served\", \"Unserved\", \"Unserved\", \"Underserved\", \"Unserved\", \"Unserved\", \"Underserved\", \"Unserved\"], [246, 1330400764, \"530530608002051\", \"8828d5c281fffff\", \"53053\", \"Served\", \"Served\", \"Unserved\", \"Served\", \"Underserved\", \"Unserved\", \"Unserved\", \"Underserved\", \"Unserved\"], [247, 1330252383, \"530530632002003\", \"8828d5d0a7fffff\", \"53053\", \"Served\", \"Served\", \"Unserved\", \"Served\", \"Underserved\", \"Unserved\", \"Unserved\", \"Underserved\", \"Unserved\"], [248, 1330358435, \"530530703113010\", \"8828d4aed7fffff\", \"53053\", \"Served\", \"Served\", \"Unserved\", \"Unserved\", \"Underserved\", \"Underserved\", \"Served\", \"Underserved\", \"Unserved\"], [249, 1330252457, \"530530632003026\", \"8828d5d0a1fffff\", \"53053\", \"Served\", \"Served\", \"Unserved\", \"Unserved\", \"Underserved\", \"Unserved\", \"Unserved\", \"Underserved\", \"Unserved\"], [250, 1330254948, \"530530635012004\", \"8828d5d085fffff\", \"53053\", \"Served\", \"Served\", \"Underserved\", \"Unserved\", \"Underserved\", \"Unserved\", \"Served\", \"Underserved\", \"Unserved\"], [251, 1330403035, \"530530608001025\", \"8828d5c287fffff\", \"53053\", \"Served\", \"Served\", \"Unserved\", \"Served\", \"Underserved\", \"Unserved\", \"Served\", \"Underserved\", \"Unserved\"], [252, 1330403992, \"530530731203000\", \"8828d4a4dbfffff\", \"53053\", \"Served\", \"Served\", \"Unserved\", \"Unserved\", \"Underserved\", \"Unserved\", \"Unserved\", \"Underserved\", \"Unserved\"], [253, 1330360166, \"530530713104000\", \"8828d5d149fffff\", \"53053\", \"Served\", \"Served\", \"Unserved\", \"Served\", \"Underserved\", \"Unserved\", \"Underserved\", \"Underserved\", \"Unserved\"], [254, 1330408300, \"530530731261001\", \"8828d4a6bbfffff\", \"53053\", \"Served\", \"Served\", \"Unserved\", \"Served\", \"Underserved\", \"Unserved\", \"Unserved\", \"Underserved\", \"Unserved\"], [255, 1330266613, \"530530731142002\", \"8828f36823fffff\", \"53053\", \"Served\", \"Served\", \"Unserved\", \"Unserved\", \"Underserved\", \"Unserved\", \"Unserved\", \"Underserved\", \"Unserved\"], [256, 1330365155, \"530530723071001\", \"8828d5d51dfffff\", \"53053\", \"Served\", \"Served\", \"Underserved\", \"Unserved\", \"Underserved\", \"Unserved\", \"Served\", \"Underserved\", \"Unserved\"], [257, 1330365930, \"530530703152004\", \"8828d5d835fffff\", \"53053\", \"Served\", \"Served\", \"Unserved\", \"Unserved\", \"Underserved\", \"Unserved\", \"Underserved\", \"Underserved\", \"Unserved\"], [258, 1336999813, \"530610528101000\", \"8828d0ae59fffff\", \"53061\", \"Served\", \"Served\", \"Unserved\", \"Served\", \"Underserved\", \"Unserved\", \"Underserved\", \"Underserved\", \"Unserved\"], [259, 1330409881, \"530530731292002\", \"8828d4a687fffff\", \"53053\", \"Served\", \"Served\", \"Unserved\", \"Unserved\", \"Underserved\", \"Unserved\", \"Unserved\", \"Underserved\", \"Unserved\"], [260, 1330370232, \"530530712113000\", \"8828d4a4b1fffff\", \"53053\", \"Served\", \"Served\", \"Unserved\", \"Unserved\", \"Underserved\", \"Unserved\", \"Unserved\", \"Underserved\", \"Unserved\"], [261, 1337004211, \"530610519291000\", \"8828d54ce5fffff\", \"53061\", \"Served\", \"Served\", \"Unserved\", \"Unserved\", \"Underserved\", \"Unserved\", \"Underserved\", \"Underserved\", \"Unserved\"], [262, 1330373686, \"530530629023023\", \"8828d5d0b9fffff\", \"53053\", \"Served\", \"Served\", \"Served\", \"Unserved\", \"Underserved\", \"Unserved\", \"Unserved\", \"Underserved\", \"Unserved\"], [263, 1337007625, \"530610509002000\", \"8828d54ebdfffff\", \"53061\", \"Served\", \"Served\", \"Unserved\", \"Served\", \"Underserved\", \"Unserved\", \"Underserved\", \"Underserved\", \"Unserved\"], [264, 1330376551, \"530530612004019\", \"8828d5c2c5fffff\", \"53053\", \"Served\", \"Served\", \"Unserved\", \"Served\", \"Underserved\", \"Unserved\", \"Served\", \"Underserved\", \"Unserved\"], [265, 1337007795, \"530610519163008\", \"8828d54c67fffff\", \"53061\", \"Served\", \"Served\", \"Unserved\", \"Served\", \"Underserved\", \"Unserved\", \"Unserved\", \"Underserved\", \"Unserved\"], [266, 1337008860, \"530610418161008\", \"8828d0b66dfffff\", \"53061\", \"Served\", \"Served\", \"Unserved\", \"Served\", \"Underserved\", \"Unserved\", \"Unserved\", \"Underserved\", \"Unserved\"], [267, 1337012454, \"530610413031004\", \"8828d0b42bfffff\", \"53061\", \"Served\", \"Served\", \"Unserved\", \"Served\", \"Underserved\", \"Unserved\", \"Served\", \"Underserved\", \"Unserved\"], [268, 1330377813, \"530530618002000\", \"8828d5c257fffff\", \"53053\", \"Served\", \"Served\", \"Unserved\", \"Served\", \"Underserved\", \"Unserved\", \"Underserved\", \"Underserved\", \"Unserved\"], [269, 1337013495, \"530610516023010\", \"8828d54c87fffff\", \"53061\", \"Served\", \"Served\", \"Unserved\", \"Served\", \"Underserved\", \"Unserved\", \"Underserved\", \"Underserved\", \"Unserved\"], [270, 1330447307, \"530530701003001\", \"8828d4a46dfffff\", \"53053\", \"Served\", \"Served\", \"Unserved\", \"Unserved\", \"Underserved\", \"Unserved\", \"Underserved\", \"Underserved\", \"Unserved\"], [271, 1330381933, \"530530731201001\", \"8828d4a4d7fffff\", \"53053\", \"Served\", \"Served\", \"Underserved\", \"Unserved\", \"Underserved\", \"Unserved\", \"Underserved\", \"Underserved\", \"Unserved\"], [272, 1337016196, \"530610418083002\", \"8828d0b757fffff\", \"53061\", \"Served\", \"Served\", \"Underserved\", \"Unserved\", \"Underserved\", \"Unserved\", \"Unserved\", \"Underserved\", \"Unserved\"], [273, 1330383348, \"530530712065004\", \"8828d5d129fffff\", \"53053\", \"Served\", \"Served\", \"Unserved\", \"Unserved\", \"Underserved\", \"Unserved\", \"Unserved\", \"Underserved\", \"Unserved\"], [274, 1337016238, \"530610519311005\", \"8828d54dcbfffff\", \"53061\", \"Served\", \"Served\", \"Unserved\", \"Served\", \"Underserved\", \"Unserved\", \"Served\", \"Underserved\", \"Unserved\"], [275, 1337017107, \"530610405001030\", \"8828d0a2ddfffff\", \"53061\", \"Served\", \"Served\", \"Unserved\", \"Served\", \"Underserved\", \"Unserved\", \"Underserved\", \"Underserved\", \"Unserved\"], [276, 1330384185, \"530530704033011\", \"8828d4a40dfffff\", \"53053\", \"Served\", \"Served\", \"Unserved\", \"Unserved\", \"Underserved\", \"Unserved\", \"Unserved\", \"Underserved\", \"Unserved\"], [277, 1337018486, \"530610411001000\", \"8828d0b557fffff\", \"53061\", \"Served\", \"Served\", \"Unserved\", \"Served\", \"Underserved\", \"Unserved\", \"Served\", \"Underserved\", \"Unserved\"], [278, 1330385347, \"530539400051000\", \"8828d5c159fffff\", \"53053\", \"Served\", \"Served\", \"Served\", \"Unserved\", \"Underserved\", \"Unserved\", \"Underserved\", \"Underserved\", \"Unserved\"], [279, 1337022813, \"530610420013004\", \"8828d0b6edfffff\", \"53061\", \"Served\", \"Served\", \"Unserved\", \"Served\", \"Underserved\", \"Unserved\", \"Unserved\", \"Underserved\", \"Unserved\"], [280, 1330385693, \"530530721072003\", \"8828d5d755fffff\", \"53053\", \"Served\", \"Served\", \"Unserved\", \"Served\", \"Underserved\", \"Unserved\", \"Underserved\", \"Underserved\", \"Unserved\"], [281, 1337024326, \"530610408002001\", \"8828d0a2dbfffff\", \"53061\", \"Served\", \"Served\", \"Underserved\", \"Unserved\", \"Underserved\", \"Unserved\", \"Served\", \"Underserved\", \"Unserved\"], [282, 1330388180, \"530530703161007\", \"8828d5d83dfffff\", \"53053\", \"Served\", \"Served\", \"Underserved\", \"Unserved\", \"Underserved\", \"Unserved\", \"Underserved\", \"Underserved\", \"Unserved\"], [283, 1337027156, \"530610521202001\", \"8828d0b2bdfffff\", \"53061\", \"Served\", \"Served\", \"Underserved\", \"Served\", \"Underserved\", \"Unserved\", \"Served\", \"Underserved\", \"Unserved\"], [284, 1330388477, \"530530703135008\", \"8828d5db03fffff\", \"53053\", \"Served\", \"Served\", \"Unserved\", \"Unserved\", \"Underserved\", \"Underserved\", \"Underserved\", \"Underserved\", \"Unserved\"], [285, 1337027206, \"530610509002010\", \"8828d54e87fffff\", \"53061\", \"Served\", \"Served\", \"Unserved\", \"Served\", \"Underserved\", \"Unserved\", \"Underserved\", \"Underserved\", \"Unserved\"], [286, 1330389435, \"530539400024022\", \"8828d5c305fffff\", \"53053\", \"Served\", \"Served\", \"Unserved\", \"Unserved\", \"Underserved\", \"Unserved\", \"Unserved\", \"Underserved\", \"Unserved\"], [287, 1330390515, \"530530731144002\", \"8828f36989fffff\", \"53053\", \"Served\", \"Served\", \"Underserved\", \"Unserved\", \"Underserved\", \"Unserved\", \"Unserved\", \"Underserved\", \"Unserved\"], [288, 1330399198, \"530530631001016\", \"8828d5d0b5fffff\", \"53053\", \"Served\", \"Served\", \"Unserved\", \"Served\", \"Underserved\", \"Unserved\", \"Unserved\", \"Underserved\", \"Unserved\"], [289, 1330399335, \"530530735013006\", \"8828d5d81bfffff\", \"53053\", \"Served\", \"Served\", \"Unserved\", \"Unserved\", \"Underserved\", \"Unserved\", \"Unserved\", \"Underserved\", \"Unserved\"], [290, 1330399757, \"530530721123005\", \"8828d5d751fffff\", \"53053\", \"Served\", \"Served\", \"Unserved\", \"Served\", \"Underserved\", \"Unserved\", \"Unserved\", \"Underserved\", \"Unserved\"], [291, 1337152181, \"530610412021003\", \"8828d0b551fffff\", \"53061\", \"Served\", \"Served\", \"Unserved\", \"Served\", \"Underserved\", \"Unserved\", \"Underserved\", \"Underserved\", \"Unserved\"], [292, 1337091865, \"530610535071007\", \"8828d0ac1bfffff\", \"53061\", \"Served\", \"Served\", \"Unserved\", \"Unserved\", \"Underserved\", \"Unserved\", \"Unserved\", \"Underserved\", \"Unserved\"], [293, 1337092363, \"530610519274000\", \"8828d54d85fffff\", \"53061\", \"Served\", \"Served\", \"Unserved\", \"Served\", \"Underserved\", \"Unserved\", \"Served\", \"Underserved\", \"Unserved\"], [294, 1337094872, \"530610520103000\", \"8828d0b2d1fffff\", \"53061\", \"Served\", \"Served\", \"Unserved\", \"Served\", \"Underserved\", \"Unserved\", \"Underserved\", \"Underserved\", \"Unserved\"], [295, 1337096246, \"530610538024009\", \"8828d08533fffff\", \"53061\", \"Served\", \"Served\", \"Unserved\", \"Served\", \"Underserved\", \"Unserved\", \"Unserved\", \"Underserved\", \"Unserved\"], [296, 1337097791, \"530610525054004\", \"8828d0a217fffff\", \"53061\", \"Served\", \"Served\", \"Unserved\", \"Served\", \"Underserved\", \"Unserved\", \"Underserved\", \"Underserved\", \"Unserved\"], [297, 1337097865, \"530610525054005\", \"8828d0a217fffff\", \"53061\", \"Served\", \"Served\", \"Unserved\", \"Served\", \"Underserved\", \"Unserved\", \"Served\", \"Underserved\", \"Unserved\"], [298, 1337027942, \"530610528071004\", \"8828d0a523fffff\", \"53061\", \"Served\", \"Served\", \"Unserved\", \"Served\", \"Underserved\", \"Unserved\", \"Unserved\", \"Underserved\", \"Unserved\"], [299, 1337030178, \"530610501022000\", \"8828d0b649fffff\", \"53061\", \"Served\", \"Served\", \"Unserved\", \"Served\", \"Underserved\", \"Unserved\", \"Underserved\", \"Underserved\", \"Unserved\"], [300, 1337031448, \"530610538032006\", \"8828d08e29fffff\", \"53061\", \"Served\", \"Served\", \"Unserved\", \"Served\", \"Underserved\", \"Unserved\", \"Unserved\", \"Underserved\", \"Unserved\"], [301, 1337031612, \"530610519211009\", \"8828d54dc5fffff\", \"53061\", \"Served\", \"Served\", \"Unserved\", \"Served\", \"Underserved\", \"Unserved\", \"Underserved\", \"Underserved\", \"Unserved\"], [302, 1337034686, \"530610527062009\", \"8828d0a2edfffff\", \"53061\", \"Served\", \"Served\", \"Unserved\", \"Unserved\", \"Underserved\", \"Unserved\", \"Underserved\", \"Underserved\", \"Unserved\"], [303, 1337035067, \"530610521071002\", \"8828d54d31fffff\", \"53061\", \"Served\", \"Served\", \"Unserved\", \"Served\", \"Underserved\", \"Unserved\", \"Served\", \"Underserved\", \"Unserved\"], [304, 1337043308, \"530610519282000\", \"8828d54d81fffff\", \"53061\", \"Served\", \"Served\", \"Unserved\", \"Served\", \"Underserved\", \"Unserved\", \"Served\", \"Underserved\", \"Unserved\"], [305, 1337043764, \"530610519161004\", \"8828d54c2dfffff\", \"53061\", \"Served\", \"Served\", \"Unserved\", \"Served\", \"Underserved\", \"Unserved\", \"Unserved\", \"Underserved\", \"Unserved\"], [306, 1337045252, \"530610527063002\", \"8828d0a051fffff\", \"53061\", \"Served\", \"Served\", \"Unserved\", \"Unserved\", \"Underserved\", \"Unserved\", \"Unserved\", \"Underserved\", \"Unserved\"], [307, 1337045423, \"530610517023003\", \"8828d54ca5fffff\", \"53061\", \"Served\", \"Served\", \"Unserved\", \"Served\", \"Underserved\", \"Unserved\", \"Served\", \"Underserved\", \"Unserved\"], [308, 1337045948, \"530610508004007\", \"8828d57b6dfffff\", \"53061\", \"Served\", \"Served\", \"Unserved\", \"Served\", \"Underserved\", \"Unserved\", \"Served\", \"Underserved\", \"Unserved\"], [309, 1337047550, \"530610413014006\", \"8828d0b457fffff\", \"53061\", \"Served\", \"Served\", \"Unserved\", \"Served\", \"Underserved\", \"Unserved\", \"Underserved\", \"Underserved\", \"Unserved\"], [310, 1337052392, \"530610538024009\", \"8828d08533fffff\", \"53061\", \"Served\", \"Served\", \"Unserved\", \"Served\", \"Underserved\", \"Unserved\", \"Unserved\", \"Underserved\", \"Unserved\"], [311, 1337098050, \"530610525054006\", \"8828d0a215fffff\", \"53061\", \"Served\", \"Served\", \"Unserved\", \"Unserved\", \"Underserved\", \"Unserved\", \"Served\", \"Underserved\", \"Unserved\"], [312, 1337153968, \"530610413013010\", \"8828d0b457fffff\", \"53061\", \"Served\", \"Served\", \"Unserved\", \"Unserved\", \"Underserved\", \"Unserved\", \"Underserved\", \"Underserved\", \"Unserved\"], [313, 1337098759, \"530610416091003\", \"8828d0b761fffff\", \"53061\", \"Served\", \"Served\", \"Unserved\", \"Served\", \"Underserved\", \"Unserved\", \"Underserved\", \"Underserved\", \"Unserved\"], [314, 1337052874, \"530610519261004\", \"8828d54d63fffff\", \"53061\", \"Served\", \"Served\", \"Unserved\", \"Served\", \"Underserved\", \"Unserved\", \"Unserved\", \"Underserved\", \"Unserved\"], [12518188, 1032760836, \"530319502022103\", \"8828d57445fffff\", \"53031\", \"Unserved\", \"Unserved\", \"Unserved\", \"Unserved\", \"Underserved\", \"Unserved\", \"Unserved\", \"Underserved\", \"Unserved\"], [12518192, 1032768614, \"530319507023031\", \"8828d505ebfffff\", \"53031\", \"Unserved\", \"Unserved\", \"Unserved\", \"Unserved\", \"Underserved\", \"Unserved\", \"Unserved\", \"Underserved\", \"Unserved\"], [12518214, 1042970300, \"530439604001141\", \"88288b00ddfffff\", \"53043\", \"Unserved\", \"Unserved\", \"Unserved\", \"Unserved\", \"Underserved\", \"Unserved\", \"Unserved\", \"Underserved\", \"Unserved\"], [12518216, 1042975068, \"530439603002216\", \"88288b75c9fffff\", \"53043\", \"Unserved\", \"Unserved\", \"Unserved\", \"Unserved\", \"Underserved\", \"Unserved\", \"Unserved\", \"Underserved\", \"Underserved\"], [12518218, 1048329127, \"530090024001029\", \"8828c23949fffff\", \"53009\", \"Unserved\", \"Unserved\", \"Unserved\", \"Unserved\", \"Underserved\", \"Unserved\", \"Unserved\", \"Underserved\", \"Unserved\"], [12518226, 1048347489, \"530090018003012\", \"8828d1944bfffff\", \"53009\", \"Unserved\", \"Unserved\", \"Unserved\", \"Unserved\", \"Underserved\", \"Unserved\", \"Unserved\", \"Underserved\", \"Underserved\"], [12518228, 1048351728, \"530090006002004\", \"8828c24567fffff\", \"53009\", \"Unserved\", \"Unserved\", \"Unserved\", \"Unserved\", \"Underserved\", \"Unserved\", \"Unserved\", \"Underserved\", \"Underserved\"], [12518240, 1048368522, \"530090023012003\", \"8828d1834bfffff\", \"53009\", \"Unserved\", \"Unserved\", \"Unserved\", \"Unserved\", \"Underserved\", \"Unserved\", \"Unserved\", \"Underserved\", \"Underserved\"], [12518258, 1049465710, \"530479703021034\", \"8812de7983fffff\", \"53047\", \"Unserved\", \"Unserved\", \"Unserved\", \"Unserved\", \"Underserved\", \"Unserved\", \"Unserved\", \"Underserved\", \"Unserved\"], [12518260, 1049468036, \"530479703033045\", \"8812de6c31fffff\", \"53047\", \"Unserved\", \"Unserved\", \"Unserved\", \"Unserved\", \"Underserved\", \"Unserved\", \"Unserved\", \"Underserved\", \"Unserved\"], [12518336, 1063167014, \"530150018002037\", \"8828f3c417fffff\", \"53015\", \"Unserved\", \"Unserved\", \"Unserved\", \"Unserved\", \"Underserved\", \"Unserved\", \"Unserved\", \"Underserved\", \"Unserved\"], [12518344, 1063172247, \"530150015013057\", \"8828f06421fffff\", \"53015\", \"Unserved\", \"Unserved\", \"Unserved\", \"Unserved\", \"Underserved\", \"Unserved\", \"Unserved\", \"Underserved\", \"Unserved\"], [12518434, 1073288471, \"530350920001017\", \"8828d500d7fffff\", \"53035\", \"Unserved\", \"Unserved\", \"Unserved\", \"Unserved\", \"Underserved\", \"Unserved\", \"Unserved\", \"Underserved\", \"Unserved\"], [12518446, 1089294662, \"530559601031003\", \"8828d13919fffff\", \"53055\", \"Unserved\", \"Unserved\", \"Unserved\", \"Unserved\", \"Underserved\", \"Unserved\", \"Unserved\", \"Underserved\", \"Unserved\"], [12518528, 1110482231, \"530250107002026\", \"8828897aa1fffff\", \"53025\", \"Unserved\", \"Unserved\", \"Unserved\", \"Unserved\", \"Underserved\", \"Unserved\", \"Unserved\", \"Underserved\", \"Unserved\"], [12518530, 1110485108, \"530250107003030\", \"88288962c7fffff\", \"53025\", \"Underserved\", \"Unserved\", \"Unserved\", \"Unserved\", \"Underserved\", \"Unserved\", \"Underserved\", \"Underserved\", \"Unserved\"], [12518532, 1110497081, \"530250114011016\", \"88288948edfffff\", \"53025\", \"Unserved\", \"Unserved\", \"Unserved\", \"Unserved\", \"Underserved\", \"Unserved\", \"Unserved\", \"Underserved\", \"Unserved\"], [12518562, 1137462145, \"530399502002120\", \"8828f29955fffff\", \"53039\", \"Unserved\", \"Unserved\", \"Unserved\", \"Unserved\", \"Underserved\", \"Unserved\", \"Unserved\", \"Underserved\", \"Unserved\"], [12518576, 1137477588, \"530399501011095\", \"88288d345dfffff\", \"53039\", \"Unserved\", \"Unserved\", \"Unserved\", \"Unserved\", \"Underserved\", \"Unserved\", \"Unserved\", \"Underserved\", \"Unserved\"], [12518582, 1288876485, \"530599504002009\", \"8828f282bdfffff\", \"53059\", \"Unserved\", \"Unserved\", \"Unserved\", \"Unserved\", \"Underserved\", \"Unserved\", \"Unserved\", \"Underserved\", \"Unserved\"], [12518590, 1288880783, \"530599501001443\", \"8828f2a0c3fffff\", \"53059\", \"Unserved\", \"Unserved\", \"Unserved\", \"Unserved\", \"Underserved\", \"Unserved\", \"Unserved\", \"Underserved\", \"Unserved\"], [12518592, 1288928684, \"530750007001122\", \"88288a732bfffff\", \"53075\", \"Unserved\", \"Unserved\", \"Unserved\", \"Unserved\", \"Underserved\", \"Unserved\", \"Unserved\", \"Underserved\", \"Underserved\"], [12518756, 1296188758, \"530210208023094\", \"8828882847fffff\", \"53021\", \"Unserved\", \"Unserved\", \"Unserved\", \"Unserved\", \"Underserved\", \"Unserved\", \"Unserved\", \"Underserved\", \"Unserved\"], [12518935, 1296306365, \"530379751021035\", \"8828d4556dfffff\", \"53037\", \"Unserved\", \"Unserved\", \"Unserved\", \"Unserved\", \"Underserved\", \"Unserved\", \"Unserved\", \"Underserved\", \"Served\"], [12519114, 1367040266, \"530330058041009\", \"8828d555a7fffff\", \"53033\", \"Underserved\", \"Unserved\", \"Unserved\", \"Unserved\", \"Underserved\", \"Unserved\", \"Underserved\", \"Underserved\", \"Unserved\"], [12519208, 1367107511, \"530330315012056\", \"8828d430b3fffff\", \"53033\", \"Served\", \"Unserved\", \"Unserved\", \"Unserved\", \"Underserved\", \"Unserved\", \"Served\", \"Underserved\", \"Unserved\"], [12519242, 1367116869, \"530330320034029\", \"8828d42033fffff\", \"53033\", \"Unserved\", \"Unserved\", \"Unserved\", \"Unserved\", \"Underserved\", \"Unserved\", \"Unserved\", \"Underserved\", \"Unserved\"], [12519250, 1367123901, \"530330312024000\", \"8828d43661fffff\", \"53033\", \"Underserved\", \"Unserved\", \"Unserved\", \"Unserved\", \"Underserved\", \"Underserved\", \"Underserved\", \"Underserved\", \"Unserved\"], [12519257, 1409385319, \"530210207001028\", \"882888620dfffff\", \"53021\", \"Unserved\", \"Unserved\", \"Unserved\", \"Unserved\", \"Underserved\", \"Unserved\", \"Unserved\", \"Underserved\", \"Unserved\"], [12519293, 1409719007, \"530330313012006\", \"8828d4ac8dfffff\", \"53033\", \"Underserved\", \"Unserved\", \"Unserved\", \"Unserved\", \"Underserved\", \"Underserved\", \"Underserved\", \"Underserved\", \"Unserved\"], [12519311, 1409902357, \"530350928032006\", \"8828d5c5bdfffff\", \"53035\", \"Unserved\", \"Unserved\", \"Unserved\", \"Unserved\", \"Underserved\", \"Unserved\", \"Unserved\", \"Underserved\", \"Unserved\"], [12519326, 1409968115, \"530050120001025\", \"882889cadbfffff\", \"53005\", \"Underserved\", \"Unserved\", \"Unserved\", \"Unserved\", \"Underserved\", \"Unserved\", \"Underserved\", \"Underserved\", \"Unserved\"], [12519410, 1302688545, \"530670126102015\", \"8828f32861fffff\", \"53067\", \"Unserved\", \"Unserved\", \"Unserved\", \"Unserved\", \"Underserved\", \"Unserved\", \"Unserved\", \"Underserved\", \"Unserved\"], [12519419, 1302693000, \"530670118102014\", \"8828f32891fffff\", \"53067\", \"Unserved\", \"Unserved\", \"Unserved\", \"Unserved\", \"Underserved\", \"Unserved\", \"Unserved\", \"Underserved\", \"Unserved\"], [12519432, 1302704088, \"530670127302003\", \"8828f32815fffff\", \"53067\", \"Unserved\", \"Unserved\", \"Unserved\", \"Unserved\", \"Underserved\", \"Unserved\", \"Unserved\", \"Underserved\", \"Unserved\"], [12519444, 1302713774, \"530670125314013\", \"8828f3625bfffff\", \"53067\", \"Unserved\", \"Unserved\", \"Unserved\", \"Unserved\", \"Underserved\", \"Unserved\", \"Unserved\", \"Underserved\", \"Unserved\"], [12519558, 1305975665, \"530770030032084\", \"882889b6adfffff\", \"53077\", \"Unserved\", \"Unserved\", \"Unserved\", \"Unserved\", \"Underserved\", \"Unserved\", \"Unserved\", \"Underserved\", \"Served\"], [12519560, 1305977144, \"530770030031011\", \"8828d4d4b1fffff\", \"53077\", \"Unserved\", \"Unserved\", \"Unserved\", \"Unserved\", \"Underserved\", \"Unserved\", \"Unserved\", \"Underserved\", \"Unserved\"], [12519566, 1305991912, \"530770021032069\", \"8828899861fffff\", \"53077\", \"Served\", \"Unserved\", \"Unserved\", \"Unserved\", \"Underserved\", \"Served\", \"Underserved\", \"Underserved\", \"Served\"], [12519684, 1049470798, \"530479709002000\", \"8828d2161bfffff\", \"53047\", \"Unserved\", \"Unserved\", \"Unserved\", \"Unserved\", \"Underserved\", \"Unserved\", \"Unserved\", \"Underserved\", \"Underserved\"], [12519686, 1049471236, \"530479709001043\", \"8828d21047fffff\", \"53047\", \"Unserved\", \"Unserved\", \"Unserved\", \"Unserved\", \"Underserved\", \"Unserved\", \"Unserved\", \"Underserved\", \"Unserved\"], [12520220, 1337238596, \"530610538013052\", \"8828d08a01fffff\", \"53061\", \"Unserved\", \"Unserved\", \"Unserved\", \"Unserved\", \"Underserved\", \"Unserved\", \"Unserved\", \"Underserved\", \"Unserved\"], [12520258, 1337262908, \"530619400023007\", \"8828d0a4abfffff\", \"53061\", \"Unserved\", \"Unserved\", \"Unserved\", \"Unserved\", \"Underserved\", \"Unserved\", \"Unserved\", \"Underserved\", \"Unserved\"], [12520310, 1315758510, \"530270004012047\", \"8828c64c4bfffff\", \"53027\", \"Unserved\", \"Unserved\", \"Unserved\", \"Unserved\", \"Underserved\", \"Unserved\", \"Unserved\", \"Underserved\", \"Unserved\"], [12520312, 1315759002, \"530270016021007\", \"8828c656d9fffff\", \"53027\", \"Unserved\", \"Unserved\", \"Unserved\", \"Unserved\", \"Underserved\", \"Unserved\", \"Unserved\", \"Underserved\", \"Unserved\"], [12520326, 1315759555, \"530270002021038\", \"8828c60c61fffff\", \"53027\", \"Underserved\", \"Unserved\", \"Unserved\", \"Unserved\", \"Underserved\", \"Unserved\", \"Underserved\", \"Underserved\", \"Unserved\"], [12520738, 1342695326, \"530630102011015\", \"8812db159dfffff\", \"53063\", \"Unserved\", \"Unserved\", \"Unserved\", \"Unserved\", \"Underserved\", \"Unserved\", \"Unserved\", \"Underserved\", \"Underserved\"], [12520742, 1342700881, \"530630104031049\", \"8812db7a89fffff\", \"53063\", \"Unserved\", \"Unserved\", \"Unserved\", \"Unserved\", \"Underserved\", \"Unserved\", \"Unserved\", \"Underserved\", \"Underserved\"], [12520746, 1342700941, \"530630103042000\", \"8812db1023fffff\", \"53063\", \"Unserved\", \"Unserved\", \"Unserved\", \"Unserved\", \"Underserved\", \"Unserved\", \"Unserved\", \"Underserved\", \"Underserved\"], [12520750, 1342714021, \"530630101012020\", \"8812db385dfffff\", \"53063\", \"Underserved\", \"Unserved\", \"Unserved\", \"Unserved\", \"Underserved\", \"Unserved\", \"Underserved\", \"Underserved\", \"Underserved\"], [12520792, 1342746178, \"530630143001036\", \"8812db669bfffff\", \"53063\", \"Underserved\", \"Unserved\", \"Unserved\", \"Unserved\", \"Underserved\", \"Underserved\", \"Unserved\", \"Underserved\", \"Underserved\"], [12520799, 1342746856, \"530630137002081\", \"8812db70dbfffff\", \"53063\", \"Unserved\", \"Unserved\", \"Unserved\", \"Unserved\", \"Underserved\", \"Unserved\", \"Unserved\", \"Underserved\", \"Underserved\"], [12520956, 1349316636, \"530110407072001\", \"8828f00887fffff\", \"53011\", \"Unserved\", \"Unserved\", \"Unserved\", \"Unserved\", \"Underserved\", \"Unserved\", \"Unserved\", \"Underserved\", \"Unserved\"], [12521106, 1349390163, \"530110401014003\", \"8828f06135fffff\", \"53011\", \"Unserved\", \"Unserved\", \"Unserved\", \"Unserved\", \"Underserved\", \"Unserved\", \"Unserved\", \"Underserved\", \"Unserved\"], [12522138, 1015887774, \"530659508002137\", \"8812dbd51dfffff\", \"53065\", \"Unserved\", \"Unserved\", \"Unserved\", \"Unserved\", \"Underserved\", \"Unserved\", \"Unserved\", \"Underserved\", \"Underserved\"], [12522146, 1015897034, \"530659506002004\", \"8812d870d7fffff\", \"53065\", \"Unserved\", \"Unserved\", \"Unserved\", \"Unserved\", \"Underserved\", \"Unserved\", \"Unserved\", \"Underserved\", \"Unserved\"], [12522150, 1015901957, \"530659501013012\", \"8812d841bbfffff\", \"53065\", \"Unserved\", \"Unserved\", \"Unserved\", \"Unserved\", \"Underserved\", \"Unserved\", \"Unserved\", \"Underserved\", \"Underserved\"], [12522156, 1015918816, \"530659511002054\", \"8812dbce4bfffff\", \"53065\", \"Unserved\", \"Unserved\", \"Unserved\", \"Unserved\", \"Underserved\", \"Unserved\", \"Unserved\", \"Underserved\", \"Underserved\"], [12522164, 1024103284, \"530019502003085\", \"88288aa0d9fffff\", \"53001\", \"Unserved\", \"Unserved\", \"Unserved\", \"Unserved\", \"Underserved\", \"Unserved\", \"Unserved\", \"Underserved\", \"Unserved\"], [12522168, 1024104432, \"530019502002105\", \"88288864b1fffff\", \"53001\", \"Unserved\", \"Unserved\", \"Unserved\", \"Unserved\", \"Underserved\", \"Unserved\", \"Unserved\", \"Underserved\", \"Unserved\"], [12522170, 1027401704, \"530519701001055\", \"8812d80f1dfffff\", \"53051\", \"Unserved\", \"Unserved\", \"Unserved\", \"Unserved\", \"Underserved\", \"Unserved\", \"Unserved\", \"Underserved\", \"Unserved\"], [12522178, 1032761960, \"530319502022132\", \"8828d57725fffff\", \"53031\", \"Unserved\", \"Unserved\", \"Unserved\", \"Unserved\", \"Underserved\", \"Unserved\", \"Unserved\", \"Underserved\", \"Unserved\"], [12522182, 1032765470, \"530319504002034\", \"8828d56e97fffff\", \"53031\", \"Unserved\", \"Unserved\", \"Unserved\", \"Unserved\", \"Underserved\", \"Unserved\", \"Unserved\", \"Underserved\", \"Unserved\"], [12522184, 1032765529, \"530319504002034\", \"8828d56e97fffff\", \"53031\", \"Unserved\", \"Unserved\", \"Unserved\", \"Unserved\", \"Underserved\", \"Unserved\", \"Unserved\", \"Underserved\", \"Unserved\"], [12522186, 1032765962, \"530319507022078\", \"8828d50cb9fffff\", \"53031\", \"Underserved\", \"Unserved\", \"Unserved\", \"Unserved\", \"Underserved\", \"Unserved\", \"Underserved\", \"Underserved\", \"Unserved\"], [12522188, 1032767261, \"530319507022039\", \"8828d57657fffff\", \"53031\", \"Unserved\", \"Unserved\", \"Unserved\", \"Unserved\", \"Underserved\", \"Unserved\", \"Unserved\", \"Underserved\", \"Unserved\"], [12522192, 1032775763, \"530319503022011\", \"8828d560d5fffff\", \"53031\", \"Unserved\", \"Unserved\", \"Unserved\", \"Unserved\", \"Underserved\", \"Unserved\", \"Unserved\", \"Underserved\", \"Unserved\"], [12522206, 1042974000, \"530439603001012\", \"8812da29abfffff\", \"53043\", \"Unserved\", \"Unserved\", \"Unserved\", \"Unserved\", \"Underserved\", \"Unserved\", \"Unserved\", \"Underserved\", \"Unserved\"], [12522208, 1048328916, \"530090024001034\", \"8828c23b17fffff\", \"53009\", \"Unserved\", \"Unserved\", \"Unserved\", \"Unserved\", \"Underserved\", \"Unserved\", \"Unserved\", \"Underserved\", \"Unserved\"], [12522210, 1048331608, \"530090003002001\", \"8828c20423fffff\", \"53009\", \"Unserved\", \"Unserved\", \"Unserved\", \"Unserved\", \"Underserved\", \"Unserved\", \"Unserved\", \"Underserved\", \"Unserved\"], [12522224, 1048368388, \"530090023012003\", \"8828d1835dfffff\", \"53009\", \"Unserved\", \"Unserved\", \"Unserved\", \"Unserved\", \"Underserved\", \"Unserved\", \"Unserved\", \"Underserved\", \"Underserved\"], [12522240, 1049478995, \"530479707004039\", \"8812da5b21fffff\", \"53047\", \"Unserved\", \"Unserved\", \"Unserved\", \"Unserved\", \"Underserved\", \"Unserved\", \"Unserved\", \"Underserved\", \"Underserved\"], [12522268, 1063126454, \"530150016021002\", \"8828f39165fffff\", \"53015\", \"Unserved\", \"Unserved\", \"Unserved\", \"Unserved\", \"Underserved\", \"Unserved\", \"Unserved\", \"Underserved\", \"Unserved\"], [12522274, 1063129642, \"530150016021000\", \"8828f39a1bfffff\", \"53015\", \"Unserved\", \"Unserved\", \"Unserved\", \"Unserved\", \"Underserved\", \"Unserved\", \"Unserved\", \"Underserved\", \"Unserved\"], [12522282, 1063132578, \"530150017003000\", \"8828f398b5fffff\", \"53015\", \"Unserved\", \"Unserved\", \"Unserved\", \"Unserved\", \"Underserved\", \"Unserved\", \"Unserved\", \"Underserved\", \"Unserved\"], [12522440, 1349390404, \"530110401014003\", \"8828f06135fffff\", \"53011\", \"Unserved\", \"Unserved\", \"Unserved\", \"Unserved\", \"Underserved\", \"Unserved\", \"Unserved\", \"Underserved\", \"Unserved\"], [12522444, 1310094884, \"530730104102008\", \"8828d16f55fffff\", \"53073\", \"Unserved\", \"Unserved\", \"Unserved\", \"Unserved\", \"Underserved\", \"Unserved\", \"Unserved\", \"Underserved\", \"Unserved\"], [12522580, 1089294795, \"530559603013041\", \"8828d10499fffff\", \"53055\", \"Unserved\", \"Unserved\", \"Unserved\", \"Unserved\", \"Underserved\", \"Unserved\", \"Unserved\", \"Underserved\", \"Unserved\"], [12522596, 1105664614, \"530419720001021\", \"8828f224dbfffff\", \"53041\", \"Unserved\", \"Unserved\", \"Unserved\", \"Unserved\", \"Underserved\", \"Unserved\", \"Unserved\", \"Underserved\", \"Unserved\"], [12522598, 1105671150, \"530419719003019\", \"8828f35467fffff\", \"53041\", \"Unserved\", \"Unserved\", \"Unserved\", \"Unserved\", \"Underserved\", \"Unserved\", \"Unserved\", \"Underserved\", \"Unserved\"], [12522654, 1110457089, \"530250102002052\", \"88288bb895fffff\", \"53025\", \"Unserved\", \"Unserved\", \"Unserved\", \"Unserved\", \"Underserved\", \"Unserved\", \"Unserved\", \"Underserved\", \"Unserved\"], [12522864, 1312998779, \"530579521003042\", \"8828d1cd49fffff\", \"53057\", \"Unserved\", \"Unserved\", \"Unserved\", \"Unserved\", \"Underserved\", \"Unserved\", \"Unserved\", \"Underserved\", \"Unserved\"], [12522870, 1122539996, \"530199400001107\", \"8812da76cbfffff\", \"53019\", \"Unserved\", \"Unserved\", \"Unserved\", \"Unserved\", \"Underserved\", \"Unserved\", \"Unserved\", \"Underserved\", \"Unserved\"], [12522878, 1137460260, \"530399501031006\", \"88288d36c9fffff\", \"53039\", \"Unserved\", \"Unserved\", \"Unserved\", \"Unserved\", \"Underserved\", \"Unserved\", \"Unserved\", \"Underserved\", \"Unserved\"], [12522886, 1137460798, \"530399501021011\", \"8828f2c165fffff\", \"53039\", \"Unserved\", \"Unserved\", \"Unserved\", \"Unserved\", \"Underserved\", \"Unserved\", \"Unserved\", \"Underserved\", \"Unserved\"], [12522967, 1288880780, \"530599501001441\", \"8828f2a0ddfffff\", \"53059\", \"Unserved\", \"Unserved\", \"Unserved\", \"Unserved\", \"Underserved\", \"Unserved\", \"Unserved\", \"Underserved\", \"Unserved\"], [12522973, 1288930973, \"530750007002169\", \"88288a1ab9fffff\", \"53075\", \"Unserved\", \"Unserved\", \"Unserved\", \"Unserved\", \"Underserved\", \"Unserved\", \"Unserved\", \"Underserved\", \"Underserved\"], [12522997, 1315751682, \"530270003003120\", \"8828c2d2d7fffff\", \"53027\", \"Unserved\", \"Unserved\", \"Unserved\", \"Unserved\", \"Underserved\", \"Unserved\", \"Unserved\", \"Underserved\", \"Unserved\"], [12523008, 1288950728, \"530750009002216\", \"88288a76e1fffff\", \"53075\", \"Unserved\", \"Unserved\", \"Unserved\", \"Unserved\", \"Underserved\", \"Unserved\", \"Unserved\", \"Underserved\", \"Unserved\"], [12523067, 1296191400, \"530210208012015\", \"882888276bfffff\", \"53021\", \"Unserved\", \"Unserved\", \"Unserved\", \"Unserved\", \"Underserved\", \"Unserved\", \"Unserved\", \"Underserved\", \"Unserved\"], [12523212, 1296304988, \"530379751041078\", \"8828d45515fffff\", \"53037\", \"Unserved\", \"Unserved\", \"Unserved\", \"Unserved\", \"Underserved\", \"Unserved\", \"Unserved\", \"Underserved\", \"Served\"], [12523244, 1296325114, \"530379751011247\", \"8828d455c3fffff\", \"53037\", \"Unserved\", \"Unserved\", \"Unserved\", \"Unserved\", \"Underserved\", \"Unserved\", \"Unserved\", \"Underserved\", \"Served\"], [12523302, 1366771913, \"530330303131008\", \"8828d5c12dfffff\", \"53033\", \"Underserved\", \"Unserved\", \"Unserved\", \"Unserved\", \"Underserved\", \"Unserved\", \"Underserved\", \"Underserved\", \"Unserved\"], [12523820, 1330427369, \"530530701001122\", \"8828d4a0adfffff\", \"53053\", \"Unserved\", \"Unserved\", \"Unserved\", \"Unserved\", \"Underserved\", \"Unserved\", \"Unserved\", \"Underserved\", \"Unserved\"], [12523824, 1330432629, \"530530702061017\", \"8828d4ae49fffff\", \"53053\", \"Underserved\", \"Unserved\", \"Unserved\", \"Unserved\", \"Underserved\", \"Underserved\", \"Unserved\", \"Underserved\", \"Unserved\"], [12524008, 1367120595, \"530330325001028\", \"8828d09599fffff\", \"53033\", \"Unserved\", \"Unserved\", \"Unserved\", \"Unserved\", \"Underserved\", \"Unserved\", \"Unserved\", \"Underserved\", \"Unserved\"], [12524014, 1367123171, \"530330319121000\", \"8828d424e3fffff\", \"53033\", \"Underserved\", \"Unserved\", \"Unserved\", \"Unserved\", \"Underserved\", \"Unserved\", \"Underserved\", \"Underserved\", \"Unserved\"], [12524018, 1367128090, \"530330277022037\", \"8828d5ce39fffff\", \"53033\", \"Unserved\", \"Unserved\", \"Unserved\", \"Unserved\", \"Underserved\", \"Unserved\", \"Unserved\", \"Underserved\", \"Unserved\"], [12524031, 1409475012, \"530630103032045\", \"8812db0addfffff\", \"53063\", \"Unserved\", \"Unserved\", \"Unserved\", \"Unserved\", \"Underserved\", \"Unserved\", \"Unserved\", \"Underserved\", \"Underserved\"], [12524040, 1409584280, \"530530730014003\", \"8828f36ab9fffff\", \"53053\", \"Unserved\", \"Unserved\", \"Unserved\", \"Unserved\", \"Underserved\", \"Unserved\", \"Unserved\", \"Underserved\", \"Unserved\"], [12524044, 1409585740, \"530319502022144\", \"8828d50d13fffff\", \"53031\", \"Unserved\", \"Unserved\", \"Unserved\", \"Unserved\", \"Underserved\", \"Unserved\", \"Unserved\", \"Underserved\", \"Unserved\"], [12524048, 1409649283, \"530659410001018\", \"8812da25c7fffff\", \"53065\", \"Underserved\", \"Unserved\", \"Unserved\", \"Unserved\", \"Underserved\", \"Unserved\", \"Underserved\", \"Underserved\", \"Unserved\"], [12524052, 1409663594, \"530519702001066\", \"8812d829ebfffff\", \"53051\", \"Unserved\", \"Unserved\", \"Unserved\", \"Unserved\", \"Underserved\", \"Unserved\", \"Unserved\", \"Underserved\", \"Unserved\"], [12524079, 1409780560, \"530179502001123\", \"8828d61913fffff\", \"53017\", \"Unserved\", \"Unserved\", \"Unserved\", \"Unserved\", \"Underserved\", \"Unserved\", \"Unserved\", \"Underserved\", \"Unserved\"], [12524180, 1337249463, \"530610522072017\", \"8828d0ba61fffff\", \"53061\", \"Unserved\", \"Unserved\", \"Unserved\", \"Unserved\", \"Underserved\", \"Unserved\", \"Unserved\", \"Underserved\", \"Unserved\"], [12524252, 1337282844, \"530610538012023\", \"8828d086cdfffff\", \"53061\", \"Unserved\", \"Unserved\", \"Unserved\", \"Unserved\", \"Underserved\", \"Unserved\", \"Unserved\", \"Underserved\", \"Unserved\"], [12524412, 1342699439, \"530630133001005\", \"8812db2b35fffff\", \"53063\", \"Underserved\", \"Unserved\", \"Unserved\", \"Unserved\", \"Underserved\", \"Underserved\", \"Underserved\", \"Underserved\", \"Underserved\"], [12524417, 1342703207, \"530630102041016\", \"8812db051bfffff\", \"53063\", \"Unserved\", \"Unserved\", \"Unserved\", \"Unserved\", \"Underserved\", \"Unserved\", \"Unserved\", \"Underserved\", \"Underserved\"], [12524426, 1342707139, \"530630133002003\", \"8812db2a0bfffff\", \"53063\", \"Unserved\", \"Unserved\", \"Unserved\", \"Unserved\", \"Underserved\", \"Unserved\", \"Unserved\", \"Underserved\", \"Served\"], [12524434, 1342715487, \"530630133001023\", \"8812db29cdfffff\", \"53063\", \"Underserved\", \"Unserved\", \"Unserved\", \"Unserved\", \"Underserved\", \"Underserved\", \"Unserved\", \"Underserved\", \"Underserved\"], [12524437, 1342721465, \"530630135021047\", \"8812db666bfffff\", \"53063\", \"Unserved\", \"Unserved\", \"Unserved\", \"Unserved\", \"Underserved\", \"Unserved\", \"Unserved\", \"Underserved\", \"Underserved\"], [12524438, 1342722404, \"530630135021014\", \"8812db2969fffff\", \"53063\", \"Underserved\", \"Unserved\", \"Unserved\", \"Unserved\", \"Underserved\", \"Unserved\", \"Underserved\", \"Underserved\", \"Underserved\"], [12524441, 1342728979, \"530630113012008\", \"8812db3b33fffff\", \"53063\", \"Unserved\", \"Unserved\", \"Unserved\", \"Unserved\", \"Underserved\", \"Unserved\", \"Unserved\", \"Underserved\", \"Underserved\"], [12525037, 1049473868, \"530479710002053\", \"8828d28869fffff\", \"53047\", \"Unserved\", \"Unserved\", \"Unserved\", \"Unserved\", \"Underserved\", \"Unserved\", \"Unserved\", \"Underserved\", \"Unserved\"], [12525751, 1109870820, \"530719200004007\", \"8828887a2dfffff\", \"53071\", \"Unserved\", \"Unserved\", \"Unserved\", \"Unserved\", \"Underserved\", \"Unserved\", \"Unserved\", \"Underserved\", \"Unserved\"], [12525753, 1109872616, \"530719201001021\", \"882888d4b9fffff\", \"53071\", \"Underserved\", \"Unserved\", \"Unserved\", \"Unserved\", \"Underserved\", \"Unserved\", \"Underserved\", \"Underserved\", \"Underserved\"], [12525876, 1127324682, \"530139602001048\", \"88288e2e2dfffff\", \"53013\", \"Unserved\", \"Unserved\", \"Unserved\", \"Unserved\", \"Underserved\", \"Unserved\", \"Unserved\", \"Underserved\", \"Unserved\"], [12525892, 1342648462, \"530630131013004\", \"8812db2365fffff\", \"53063\", \"Underserved\", \"Unserved\", \"Unserved\", \"Unserved\", \"Underserved\", \"Underserved\", \"Unserved\", \"Underserved\", \"Underserved\"], [12525942, 1342704616, \"530630141003031\", \"8812db6041fffff\", \"53063\", \"Unserved\", \"Unserved\", \"Unserved\", \"Unserved\", \"Underserved\", \"Unserved\", \"Unserved\", \"Underserved\", \"Underserved\"], [12525944, 1342709361, \"530630103041001\", \"8812db10b3fffff\", \"53063\", \"Unserved\", \"Unserved\", \"Unserved\", \"Unserved\", \"Underserved\", \"Unserved\", \"Unserved\", \"Underserved\", \"Underserved\"], [12525946, 1342716467, \"530630104032047\", \"8812db7157fffff\", \"53063\", \"Unserved\", \"Unserved\", \"Unserved\", \"Unserved\", \"Underserved\", \"Unserved\", \"Served\", \"Underserved\", \"Underserved\"], [12525957, 1342732839, \"530630102032038\", \"8812db0095fffff\", \"53063\", \"Unserved\", \"Unserved\", \"Unserved\", \"Unserved\", \"Underserved\", \"Unserved\", \"Unserved\", \"Underserved\", \"Underserved\"], [12525963, 1342737421, \"530630135031001\", \"8812db75d7fffff\", \"53063\", \"Underserved\", \"Unserved\", \"Unserved\", \"Unserved\", \"Underserved\", \"Underserved\", \"Unserved\", \"Underserved\", \"Underserved\"], [12525974, 1342743882, \"530630104043035\", \"8812db722dfffff\", \"53063\", \"Unserved\", \"Unserved\", \"Unserved\", \"Unserved\", \"Underserved\", \"Unserved\", \"Unserved\", \"Underserved\", \"Underserved\"], [12526045, 1288929954, \"530750009002169\", \"88288a7195fffff\", \"53075\", \"Unserved\", \"Unserved\", \"Unserved\", \"Unserved\", \"Underserved\", \"Unserved\", \"Unserved\", \"Underserved\", \"Underserved\"], [12526055, 1288937276, \"530750010002096\", \"88288ab11bfffff\", \"53075\", \"Unserved\", \"Unserved\", \"Unserved\", \"Unserved\", \"Underserved\", \"Unserved\", \"Unserved\", \"Underserved\", \"Unserved\"], [12526104, 1296187313, \"530210206082036\", \"882888a1a9fffff\", \"53021\", \"Served\", \"Unserved\", \"Unserved\", \"Unserved\", \"Underserved\", \"Unserved\", \"Served\", \"Underserved\", \"Served\"], [12526113, 1296191157, \"530210208012013\", \"88288835bbfffff\", \"53021\", \"Unserved\", \"Unserved\", \"Unserved\", \"Unserved\", \"Underserved\", \"Unserved\", \"Unserved\", \"Underserved\", \"Unserved\"], [12526245, 1349425022, \"530110401014003\", \"8828f06135fffff\", \"53011\", \"Unserved\", \"Unserved\", \"Unserved\", \"Unserved\", \"Underserved\", \"Unserved\", \"Unserved\", \"Underserved\", \"Unserved\"], [12526264, 1296294544, \"530379752011097\", \"8828892493fffff\", \"53037\", \"Unserved\", \"Unserved\", \"Unserved\", \"Unserved\", \"Underserved\", \"Unserved\", \"Unserved\", \"Underserved\", \"Served\"], [12526281, 1296307737, \"530379753002012\", \"8828892569fffff\", \"53037\", \"Underserved\", \"Unserved\", \"Unserved\", \"Unserved\", \"Underserved\", \"Unserved\", \"Underserved\", \"Underserved\", \"Served\"], [12526285, 1296307999, \"530379751011355\", \"8828d451e3fffff\", \"53037\", \"Unserved\", \"Unserved\", \"Unserved\", \"Unserved\", \"Underserved\", \"Unserved\", \"Unserved\", \"Underserved\", \"Served\"], [12526326, 1296398896, \"530459601002027\", \"8828d5aa4bfffff\", \"53045\", \"Unserved\", \"Unserved\", \"Unserved\", \"Unserved\", \"Underserved\", \"Unserved\", \"Unserved\", \"Underserved\", \"Unserved\"], [12526867, 1305960676, \"530779400012009\", \"882889ba4dfffff\", \"53077\", \"Served\", \"Unserved\", \"Unserved\", \"Unserved\", \"Underserved\", \"Unserved\", \"Served\", \"Underserved\", \"Underserved\"], [12526885, 1305970875, \"530770030031011\", \"8828d4d495fffff\", \"53077\", \"Unserved\", \"Unserved\", \"Unserved\", \"Unserved\", \"Underserved\", \"Unserved\", \"Unserved\", \"Underserved\", \"Unserved\"], [12526889, 1305971684, \"530779400012065\", \"882889841dfffff\", \"53077\", \"Underserved\", \"Unserved\", \"Unserved\", \"Unserved\", \"Underserved\", \"Unserved\", \"Underserved\", \"Underserved\", \"Unserved\"], [12526894, 1305972264, \"530779400021020\", \"882889830bfffff\", \"53077\", \"Served\", \"Unserved\", \"Unserved\", \"Unserved\", \"Underserved\", \"Served\", \"Underserved\", \"Underserved\", \"Served\"], [12526908, 1305979457, \"530770030032067\", \"8828f279a5fffff\", \"53077\", \"Unserved\", \"Unserved\", \"Unserved\", \"Unserved\", \"Underserved\", \"Unserved\", \"Unserved\", \"Underserved\", \"Unserved\"], [12526918, 1305982813, \"530770018021031\", \"88288d65b7fffff\", \"53077\", \"Served\", \"Unserved\", \"Unserved\", \"Unserved\", \"Underserved\", \"Served\", \"Unserved\", \"Underserved\", \"Served\"], [12526931, 1305995666, \"530779400032041\", \"882889ba05fffff\", \"53077\", \"Served\", \"Unserved\", \"Unserved\", \"Unserved\", \"Underserved\", \"Unserved\", \"Served\", \"Underserved\", \"Served\"], [12526941, 1305997551, \"530770021011027\", \"88288999d7fffff\", \"53077\", \"Served\", \"Unserved\", \"Unserved\", \"Unserved\", \"Underserved\", \"Served\", \"Underserved\", \"Underserved\", \"Served\"], [12526991, 1015882757, \"530659410002058\", \"8812db555dfffff\", \"53065\", \"Unserved\", \"Unserved\", \"Unserved\", \"Unserved\", \"Underserved\", \"Unserved\", \"Unserved\", \"Underserved\", \"Underserved\"], [12526997, 1015897756, \"530659502001051\", \"8812d8786bfffff\", \"53065\", \"Unserved\", \"Unserved\", \"Unserved\", \"Unserved\", \"Underserved\", \"Unserved\", \"Unserved\", \"Underserved\", \"Underserved\"], [12526999, 1015899539, \"530659506001003\", \"8812d87349fffff\", \"53065\", \"Unserved\", \"Unserved\", \"Unserved\", \"Unserved\", \"Underserved\", \"Unserved\", \"Unserved\", \"Underserved\", \"Unserved\"], [12527003, 1015912811, \"530659501023034\", \"8812d85609fffff\", \"53065\", \"Unserved\", \"Unserved\", \"Unserved\", \"Unserved\", \"Underserved\", \"Unserved\", \"Unserved\", \"Underserved\", \"Underserved\"], [12527007, 1015916016, \"530659513011014\", \"8812db565bfffff\", \"53065\", \"Unserved\", \"Unserved\", \"Unserved\", \"Unserved\", \"Underserved\", \"Unserved\", \"Unserved\", \"Underserved\", \"Underserved\"], [12527014, 1015916133, \"530659513011014\", \"8812dbccb7fffff\", \"53065\", \"Unserved\", \"Unserved\", \"Unserved\", \"Unserved\", \"Underserved\", \"Unserved\", \"Unserved\", \"Underserved\", \"Underserved\"], [12527030, 1027401787, \"530519701003093\", \"8812d80c03fffff\", \"53051\", \"Unserved\", \"Unserved\", \"Unserved\", \"Unserved\", \"Underserved\", \"Unserved\", \"Unserved\", \"Underserved\", \"Underserved\"], [12527043, 1027408561, \"530519702003051\", \"8812db8231fffff\", \"53051\", \"Unserved\", \"Unserved\", \"Unserved\", \"Unserved\", \"Underserved\", \"Unserved\", \"Unserved\", \"Underserved\", \"Unserved\"], [12527125, 1049478868, \"530479707005017\", \"8812da5b25fffff\", \"53047\", \"Unserved\", \"Unserved\", \"Unserved\", \"Unserved\", \"Underserved\", \"Unserved\", \"Unserved\", \"Underserved\", \"Underserved\"], [12527140, 1367092948, \"530330315012062\", \"8828d430abfffff\", \"53033\", \"Served\", \"Unserved\", \"Unserved\", \"Unserved\", \"Underserved\", \"Unserved\", \"Served\", \"Underserved\", \"Unserved\"], [12527158, 1409404458, \"530479703031080\", \"8812de69e7fffff\", \"53047\", \"Unserved\", \"Unserved\", \"Unserved\", \"Unserved\", \"Underserved\", \"Unserved\", \"Unserved\", \"Underserved\", \"Unserved\"], [12527166, 1409521668, \"530750003002015\", \"88288ac4c1fffff\", \"53075\", \"Unserved\", \"Unserved\", \"Unserved\", \"Unserved\", \"Underserved\", \"Unserved\", \"Unserved\", \"Underserved\", \"Underserved\"], [12527172, 1409551465, \"530530626001008\", \"8828d5d56dfffff\", \"53053\", \"Unserved\", \"Unserved\", \"Unserved\", \"Unserved\", \"Underserved\", \"Unserved\", \"Unserved\", \"Underserved\", \"Unserved\"], [12527178, 1409662416, \"530519702001094\", \"8812db9331fffff\", \"53051\", \"Unserved\", \"Unserved\", \"Unserved\", \"Unserved\", \"Underserved\", \"Unserved\", \"Unserved\", \"Underserved\", \"Unserved\"], [12527183, 1049482703, \"530479402001032\", \"8828d2db25fffff\", \"53047\", \"Unserved\", \"Unserved\", \"Unserved\", \"Unserved\", \"Underserved\", \"Unserved\", \"Unserved\", \"Underserved\", \"Unserved\"], [12527185, 1049483792, \"530479703031006\", \"8812de6345fffff\", \"53047\", \"Unserved\", \"Unserved\", \"Unserved\", \"Unserved\", \"Underserved\", \"Unserved\", \"Unserved\", \"Underserved\", \"Unserved\"], [12527228, 1063121626, \"530150020041005\", \"8828f38d07fffff\", \"53015\", \"Unserved\", \"Unserved\", \"Unserved\", \"Unserved\", \"Underserved\", \"Unserved\", \"Unserved\", \"Underserved\", \"Unserved\"], [12527263, 1410083092, \"530250114041037\", \"88288908c5fffff\", \"53025\", \"Underserved\", \"Unserved\", \"Unserved\", \"Unserved\", \"Underserved\", \"Unserved\", \"Underserved\", \"Underserved\", \"Unserved\"], [12527270, 1410092620, \"530250113002063\", \"88288b8293fffff\", \"53025\", \"Unserved\", \"Unserved\", \"Unserved\", \"Unserved\", \"Underserved\", \"Unserved\", \"Unserved\", \"Underserved\", \"Unserved\"], [12527393, 1049464428, \"530479703011116\", \"8828d258adfffff\", \"53047\", \"Unserved\", \"Unserved\", \"Unserved\", \"Unserved\", \"Underserved\", \"Unserved\", \"Unserved\", \"Underserved\", \"Unserved\"], [12527550, 1089295727, \"530559601013010\", \"8828d172d1fffff\", \"53055\", \"Unserved\", \"Unserved\", \"Unserved\", \"Unserved\", \"Underserved\", \"Unserved\", \"Unserved\", \"Underserved\", \"Underserved\"], [12527558, 1089309497, \"530559603013015\", \"8828d13a85fffff\", \"53055\", \"Unserved\", \"Unserved\", \"Unserved\", \"Unserved\", \"Underserved\", \"Unserved\", \"Unserved\", \"Underserved\", \"Unserved\"], [12527564, 1105687925, \"530419713001007\", \"8828f30443fffff\", \"53041\", \"Unserved\", \"Unserved\", \"Unserved\", \"Unserved\", \"Underserved\", \"Unserved\", \"Unserved\", \"Underserved\", \"Unserved\"], [12527578, 1105698439, \"530419714001019\", \"8828f304c3fffff\", \"53041\", \"Unserved\", \"Unserved\", \"Unserved\", \"Unserved\", \"Underserved\", \"Unserved\", \"Unserved\", \"Underserved\", \"Unserved\"], [12528455, 1330436178, \"530530731192012\", \"8828d4b5c5fffff\", \"53053\", \"Unserved\", \"Unserved\", \"Unserved\", \"Unserved\", \"Underserved\", \"Unserved\", \"Unserved\", \"Underserved\", \"Unserved\"], [12528457, 1330454705, \"530530730012027\", \"8828f361a9fffff\", \"53053\", \"Unserved\", \"Unserved\", \"Unserved\", \"Unserved\", \"Underserved\", \"Unserved\", \"Unserved\", \"Underserved\", \"Unserved\"], [12528686, 1337257623, \"530610536061004\", \"8828d0b8cbfffff\", \"53061\", \"Unserved\", \"Unserved\", \"Unserved\", \"Unserved\", \"Underserved\", \"Unserved\", \"Unserved\", \"Underserved\", \"Unserved\"], [12528703, 1337281111, \"530610534003003\", \"8828d0344bfffff\", \"53061\", \"Unserved\", \"Unserved\", \"Unserved\", \"Unserved\", \"Underserved\", \"Unserved\", \"Unserved\", \"Underserved\", \"Unserved\"], [12529321, 1089295741, \"530559601013010\", \"8828d172d1fffff\", \"53055\", \"Unserved\", \"Unserved\", \"Unserved\", \"Unserved\", \"Underserved\", \"Unserved\", \"Unserved\", \"Underserved\", \"Underserved\"], [12529349, 1105699894, \"530419701002055\", \"8828f33087fffff\", \"53041\", \"Unserved\", \"Unserved\", \"Unserved\", \"Unserved\", \"Underserved\", \"Unserved\", \"Unserved\", \"Underserved\", \"Unserved\"], [12529361, 1109872702, \"530719201001098\", \"8828888b1bfffff\", \"53071\", \"Underserved\", \"Unserved\", \"Unserved\", \"Unserved\", \"Underserved\", \"Unserved\", \"Underserved\", \"Underserved\", \"Underserved\"], [12529381, 1109886354, \"530719201003156\", \"882888d5a1fffff\", \"53071\", \"Underserved\", \"Unserved\", \"Unserved\", \"Unserved\", \"Underserved\", \"Unserved\", \"Underserved\", \"Underserved\", \"Underserved\"], [12529423, 1110475080, \"530250113001016\", \"88288b8e5bfffff\", \"53025\", \"Unserved\", \"Unserved\", \"Unserved\", \"Unserved\", \"Underserved\", \"Unserved\", \"Unserved\", \"Underserved\", \"Unserved\"], [12529437, 1110502413, \"530250114011048\", \"8828894e47fffff\", \"53025\", \"Unserved\", \"Unserved\", \"Unserved\", \"Unserved\", \"Underserved\", \"Unserved\", \"Unserved\", \"Underserved\", \"Unserved\"], [12529439, 1110503371, \"530250114011079\", \"882889415bfffff\", \"53025\", \"Unserved\", \"Unserved\", \"Unserved\", \"Unserved\", \"Underserved\", \"Unserved\", \"Unserved\", \"Underserved\", \"Unserved\"], [12529453, 1121329914, \"530179501012077\", \"8828d60931fffff\", \"53017\", \"Unserved\", \"Unserved\", \"Unserved\", \"Unserved\", \"Underserved\", \"Unserved\", \"Unserved\", \"Underserved\", \"Unserved\"], [12529461, 1122547270, \"530199701001111\", \"8812d84a87fffff\", \"53019\", \"Unserved\", \"Unserved\", \"Unserved\", \"Unserved\", \"Underserved\", \"Unserved\", \"Unserved\", \"Underserved\", \"Underserved\"], [12529482, 1127326741, \"530139602001129\", \"8828885363fffff\", \"53013\", \"Unserved\", \"Unserved\", \"Unserved\", \"Unserved\", \"Underserved\", \"Unserved\", \"Unserved\", \"Underserved\", \"Unserved\"], [12529486, 1137464928, \"530399501031028\", \"88288daca3fffff\", \"53039\", \"Unserved\", \"Unserved\", \"Unserved\", \"Unserved\", \"Underserved\", \"Unserved\", \"Unserved\", \"Underserved\", \"Unserved\"], [12529488, 1137467416, \"530399501011082\", \"88288d3451fffff\", \"53039\", \"Unserved\", \"Unserved\", \"Unserved\", \"Unserved\", \"Underserved\", \"Unserved\", \"Unserved\", \"Underserved\", \"Unserved\"], [12529518, 1288880797, \"530599501001441\", \"8828f2a0cbfffff\", \"53059\", \"Unserved\", \"Unserved\", \"Unserved\", \"Unserved\", \"Underserved\", \"Unserved\", \"Unserved\", \"Underserved\", \"Unserved\"], [12529536, 1288932527, \"530750007001242\", \"88288a0e09fffff\", \"53075\", \"Unserved\", \"Unserved\", \"Unserved\", \"Unserved\", \"Underserved\", \"Unserved\", \"Unserved\", \"Underserved\", \"Unserved\"], [12529541, 1288934010, \"530750007001249\", \"88288a0f0bfffff\", \"53075\", \"Unserved\", \"Unserved\", \"Unserved\", \"Unserved\", \"Underserved\", \"Unserved\", \"Unserved\", \"Underserved\", \"Underserved\"], [12529555, 1288938062, \"530750010002121\", \"88288a16e7fffff\", \"53075\", \"Unserved\", \"Unserved\", \"Unserved\", \"Unserved\", \"Underserved\", \"Unserved\", \"Unserved\", \"Underserved\", \"Unserved\"], [12529557, 1288941157, \"530750004003009\", \"88288ac0d3fffff\", \"53075\", \"Unserved\", \"Unserved\", \"Unserved\", \"Unserved\", \"Underserved\", \"Unserved\", \"Unserved\", \"Underserved\", \"Underserved\"], [12529589, 1288950743, \"530750009002177\", \"88288a7409fffff\", \"53075\", \"Unserved\", \"Unserved\", \"Unserved\", \"Unserved\", \"Underserved\", \"Unserved\", \"Unserved\", \"Underserved\", \"Underserved\"], [12529634, 1337235561, \"530610536062009\", \"8828d01437fffff\", \"53061\", \"Unserved\", \"Unserved\", \"Unserved\", \"Unserved\", \"Underserved\", \"Unserved\", \"Unserved\", \"Underserved\", \"Unserved\"], [12529638, 1337236610, \"530610538013052\", \"8828d08a57fffff\", \"53061\", \"Unserved\", \"Unserved\", \"Unserved\", \"Unserved\", \"Underserved\", \"Unserved\", \"Unserved\", \"Underserved\", \"Unserved\"], [12529667, 1337274329, \"530610522071012\", \"8828d08599fffff\", \"53061\", \"Unserved\", \"Unserved\", \"Unserved\", \"Unserved\", \"Underserved\", \"Unserved\", \"Unserved\", \"Underserved\", \"Unserved\"], [12529749, 1342606740, \"530630139003088\", \"8812db6329fffff\", \"53063\", \"Unserved\", \"Unserved\", \"Unserved\", \"Unserved\", \"Underserved\", \"Unserved\", \"Unserved\", \"Underserved\", \"Underserved\"], [12529863, 1296295966, \"530379751041084\", \"8828d45515fffff\", \"53037\", \"Unserved\", \"Unserved\", \"Unserved\", \"Unserved\", \"Underserved\", \"Unserved\", \"Unserved\", \"Underserved\", \"Served\"], [12529879, 1342701992, \"530630103051043\", \"8812db00cdfffff\", \"53063\", \"Unserved\", \"Unserved\", \"Unserved\", \"Unserved\", \"Underserved\", \"Unserved\", \"Unserved\", \"Underserved\", \"Underserved\"], [12529889, 1342703524, \"530630135011027\", \"8812db62c7fffff\", \"53063\", \"Unserved\", \"Unserved\", \"Unserved\", \"Unserved\", \"Underserved\", \"Unserved\", \"Underserved\", \"Underserved\", \"Underserved\"], [12529893, 1342706452, \"530630102012012\", \"8812db150dfffff\", \"53063\", \"Unserved\", \"Unserved\", \"Unserved\", \"Unserved\", \"Underserved\", \"Unserved\", \"Unserved\", \"Underserved\", \"Underserved\"], [12529920, 1342731291, \"530630135021056\", \"8812db663dfffff\", \"53063\", \"Underserved\", \"Unserved\", \"Unserved\", \"Unserved\", \"Underserved\", \"Underserved\", \"Unserved\", \"Underserved\", \"Underserved\"], [12530137, 1349425068, \"530110401014003\", \"8828f06ac9fffff\", \"53011\", \"Unserved\", \"Unserved\", \"Unserved\", \"Unserved\", \"Underserved\", \"Unserved\", \"Unserved\", \"Underserved\", \"Unserved\"], [12530261, 1015878186, \"530659513011018\", \"8812db1827fffff\", \"53065\", \"Unserved\", \"Unserved\", \"Unserved\", \"Unserved\", \"Underserved\", \"Unserved\", \"Unserved\", \"Underserved\", \"Underserved\"], [12530268, 1015880939, \"530659514012020\", \"8812db19a7fffff\", \"53065\", \"Underserved\", \"Unserved\", \"Unserved\", \"Unserved\", \"Underserved\", \"Underserved\", \"Unserved\", \"Underserved\", \"Underserved\"], [12530271, 1015892916, \"530659506002002\", \"8812d8709dfffff\", \"53065\", \"Unserved\", \"Unserved\", \"Unserved\", \"Unserved\", \"Underserved\", \"Unserved\", \"Unserved\", \"Underserved\", \"Unserved\"], [12530282, 1015896265, \"530659506001063\", \"8812d8783bfffff\", \"53065\", \"Unserved\", \"Unserved\", \"Unserved\", \"Unserved\", \"Underserved\", \"Unserved\", \"Unserved\", \"Underserved\", \"Underserved\"], [12530288, 1015898504, \"530659502003026\", \"8812d86939fffff\", \"53065\", \"Unserved\", \"Unserved\", \"Unserved\", \"Unserved\", \"Underserved\", \"Unserved\", \"Unserved\", \"Underserved\", \"Underserved\"], [12530296, 1015899488, \"530659506002002\", \"8812d870d3fffff\", \"53065\", \"Unserved\", \"Unserved\", \"Unserved\", \"Unserved\", \"Underserved\", \"Unserved\", \"Unserved\", \"Underserved\", \"Unserved\"], [12530305, 1302702301, \"530670125314045\", \"8828f3625dfffff\", \"53067\", \"Unserved\", \"Unserved\", \"Unserved\", \"Unserved\", \"Underserved\", \"Unserved\", \"Unserved\", \"Underserved\", \"Unserved\"], [12530356, 1032778700, \"530319506021010\", \"8828d199e9fffff\", \"53031\", \"Unserved\", \"Unserved\", \"Unserved\", \"Unserved\", \"Underserved\", \"Unserved\", \"Unserved\", \"Underserved\", \"Unserved\"], [12530461, 1042955898, \"530439602001121\", \"8812db4465fffff\", \"53043\", \"Unserved\", \"Unserved\", \"Unserved\", \"Unserved\", \"Underserved\", \"Unserved\", \"Unserved\", \"Underserved\", \"Underserved\"], [12530467, 1042971557, \"530439604001075\", \"88288b0989fffff\", \"53043\", \"Unserved\", \"Unserved\", \"Unserved\", \"Unserved\", \"Underserved\", \"Unserved\", \"Unserved\", \"Underserved\", \"Unserved\"], [12530489, 1048368450, \"530090023012003\", \"8828d1834bfffff\", \"53009\", \"Unserved\", \"Unserved\", \"Unserved\", \"Unserved\", \"Underserved\", \"Unserved\", \"Unserved\", \"Underserved\", \"Unserved\"], [12530497, 1048382075, \"530090023021004\", \"8828d19191fffff\", \"53009\", \"Underserved\", \"Unserved\", \"Unserved\", \"Unserved\", \"Underserved\", \"Unserved\", \"Underserved\", \"Underserved\", \"Underserved\"], [12530509, 1052559360, \"530699501002060\", \"8828f3b705fffff\", \"53069\", \"Unserved\", \"Unserved\", \"Unserved\", \"Unserved\", \"Underserved\", \"Unserved\", \"Unserved\", \"Underserved\", \"Underserved\"], [12530521, 1056676087, \"530499504002107\", \"8828f161abfffff\", \"53049\", \"Unserved\", \"Unserved\", \"Unserved\", \"Unserved\", \"Underserved\", \"Unserved\", \"Unserved\", \"Underserved\", \"Unserved\"], [12530529, 1063132576, \"530150017004003\", \"8828f398bdfffff\", \"53015\", \"Unserved\", \"Unserved\", \"Unserved\", \"Unserved\", \"Underserved\", \"Unserved\", \"Unserved\", \"Underserved\", \"Unserved\"], [12530537, 1063140149, \"530150017001012\", \"8828f381ddfffff\", \"53015\", \"Underserved\", \"Unserved\", \"Unserved\", \"Unserved\", \"Underserved\", \"Unserved\", \"Underserved\", \"Underserved\", \"Unserved\"], [12530559, 1366772089, \"530330303131008\", \"8828d5c12dfffff\", \"53033\", \"Unserved\", \"Unserved\", \"Unserved\", \"Unserved\", \"Underserved\", \"Unserved\", \"Unserved\", \"Underserved\", \"Unserved\"], [12530605, 1366787029, \"530330316013006\", \"8828d436b7fffff\", \"53033\", \"Unserved\", \"Unserved\", \"Unserved\", \"Unserved\", \"Underserved\", \"Unserved\", \"Unserved\", \"Underserved\", \"Unserved\"], [12530662, 1073212021, \"530350921021055\", \"8828d50331fffff\", \"53035\", \"Unserved\", \"Unserved\", \"Unserved\", \"Unserved\", \"Underserved\", \"Unserved\", \"Unserved\", \"Underserved\", \"Unserved\"], [12530698, 1073259190, \"530350928022000\", \"8828d51b11fffff\", \"53035\", \"Unserved\", \"Unserved\", \"Unserved\", \"Unserved\", \"Underserved\", \"Unserved\", \"Unserved\", \"Underserved\", \"Unserved\"], [12531032, 1305956954, \"530770022013021\", \"8828898a59fffff\", \"53077\", \"Served\", \"Unserved\", \"Unserved\", \"Unserved\", \"Underserved\", \"Served\", \"Underserved\", \"Underserved\", \"Served\"], [12531067, 1305982096, \"530770029004023\", \"882889a1d1fffff\", \"53077\", \"Served\", \"Unserved\", \"Unserved\", \"Unserved\", \"Underserved\", \"Served\", \"Underserved\", \"Underserved\", \"Served\"], [12531088, 1305995631, \"530770017012034\", \"8828898c95fffff\", \"53077\", \"Served\", \"Unserved\", \"Unserved\", \"Unserved\", \"Underserved\", \"Served\", \"Unserved\", \"Underserved\", \"Served\"], [12531290, 1409391474, \"530479402002077\", \"8828d2d345fffff\", \"53047\", \"Unserved\", \"Unserved\", \"Unserved\", \"Unserved\", \"Underserved\", \"Unserved\", \"Unserved\", \"Underserved\", \"Unserved\"], [12531310, 1310118561, \"530730105041034\", \"8828d16313fffff\", \"53073\", \"Unserved\", \"Unserved\", \"Unserved\", \"Unserved\", \"Underserved\", \"Unserved\", \"Unserved\", \"Underserved\", \"Unserved\"], [12531321, 1409591055, \"530319507021212\", \"8828c2175bfffff\", \"53031\", \"Unserved\", \"Unserved\", \"Unserved\", \"Unserved\", \"Underserved\", \"Unserved\", \"Unserved\", \"Underserved\", \"Unserved\"], [12531323, 1409604491, \"530770030031007\", \"8828d4c51dfffff\", \"53077\", \"Unserved\", \"Unserved\", \"Unserved\", \"Unserved\", \"Underserved\", \"Unserved\", \"Unserved\", \"Underserved\", \"Unserved\"], [12531331, 1409689965, \"530670124123014\", \"8828f36007fffff\", \"53067\", \"Unserved\", \"Unserved\", \"Unserved\", \"Unserved\", \"Underserved\", \"Unserved\", \"Unserved\", \"Underserved\", \"Unserved\"], [12531337, 1409732832, \"530330317051009\", \"8828d5c969fffff\", \"53033\", \"Unserved\", \"Unserved\", \"Unserved\", \"Unserved\", \"Underserved\", \"Unserved\", \"Unserved\", \"Underserved\", \"Unserved\"], [12531355, 1409885094, \"530110401012000\", \"8828f07ab7fffff\", \"53011\", \"Unserved\", \"Unserved\", \"Unserved\", \"Unserved\", \"Underserved\", \"Unserved\", \"Unserved\", \"Underserved\", \"Unserved\"], [12531367, 1409968376, \"530050120001013\", \"882889cae7fffff\", \"53005\", \"Underserved\", \"Unserved\", \"Unserved\", \"Unserved\", \"Underserved\", \"Unserved\", \"Underserved\", \"Underserved\", \"Unserved\"], [12531373, 1410013402, \"530619400023053\", \"8828d0a4adfffff\", \"53061\", \"Unserved\", \"Unserved\", \"Unserved\", \"Unserved\", \"Underserved\", \"Unserved\", \"Unserved\", \"Underserved\", \"Unserved\"], [12531377, 1410079539, \"530139602001075\", \"88288e25c7fffff\", \"53013\", \"Unserved\", \"Unserved\", \"Unserved\", \"Unserved\", \"Underserved\", \"Unserved\", \"Underserved\", \"Underserved\", \"Unserved\"], [12531383, 1410095373, \"530250105001029\", \"88288968bdfffff\", \"53025\", \"Unserved\", \"Unserved\", \"Unserved\", \"Unserved\", \"Underserved\", \"Unserved\", \"Unserved\", \"Underserved\", \"Underserved\"], [12531440, 1310119243, \"530730104071035\", \"8828d161c1fffff\", \"53073\", \"Underserved\", \"Unserved\", \"Unserved\", \"Unserved\", \"Underserved\", \"Unserved\", \"Underserved\", \"Underserved\", \"Unserved\"], [12531504, 1310011134, \"530730101032013\", \"8828d3d067fffff\", \"53073\", \"Unserved\", \"Unserved\", \"Unserved\", \"Unserved\", \"Underserved\", \"Unserved\", \"Unserved\", \"Underserved\", \"Unserved\"], [12531516, 1310157630, \"530730104072090\", \"8828d16a53fffff\", \"53073\", \"Unserved\", \"Unserved\", \"Unserved\", \"Unserved\", \"Underserved\", \"Unserved\", \"Unserved\", \"Underserved\", \"Unserved\"], [12531533, 1049476450, \"530479710002010\", \"8828d28b55fffff\", \"53047\", \"Unserved\", \"Unserved\", \"Unserved\", \"Unserved\", \"Underserved\", \"Unserved\", \"Unserved\", \"Underserved\", \"Underserved\"], [12531535, 1049483099, \"530479705002012\", \"8828d2cf57fffff\", \"53047\", \"Unserved\", \"Unserved\", \"Unserved\", \"Unserved\", \"Underserved\", \"Unserved\", \"Unserved\", \"Underserved\", \"Unserved\"], [12531810, 1312983802, \"530579511011066\", \"8828d06033fffff\", \"53057\", \"Unserved\", \"Unserved\", \"Unserved\", \"Unserved\", \"Underserved\", \"Unserved\", \"Unserved\", \"Underserved\", \"Unserved\"], [12531816, 1312986996, \"530579508021034\", \"8828d15525fffff\", \"53057\", \"Unserved\", \"Unserved\", \"Unserved\", \"Unserved\", \"Underserved\", \"Unserved\", \"Unserved\", \"Underserved\", \"Unserved\"], [12531820, 1312999865, \"530579511022077\", \"8828d0603bfffff\", \"53057\", \"Unserved\", \"Unserved\", \"Unserved\", \"Unserved\", \"Underserved\", \"Unserved\", \"Unserved\", \"Underserved\", \"Unserved\"], [12531842, 1315772835, \"530270002021064\", \"8828c60ea1fffff\", \"53027\", \"Unserved\", \"Unserved\", \"Unserved\", \"Unserved\", \"Underserved\", \"Unserved\", \"Unserved\", \"Underserved\", \"Unserved\"], [12531843, 1315773220, \"530270006003039\", \"8828c659edfffff\", \"53027\", \"Underserved\", \"Unserved\", \"Unserved\", \"Unserved\", \"Underserved\", \"Unserved\", \"Underserved\", \"Underserved\", \"Unserved\"], [12533044, 1315765209, \"530270008002014\", \"8828c65517fffff\", \"53027\", \"Unserved\", \"Unserved\", \"Unserved\", \"Unserved\", \"Underserved\", \"Unserved\", \"Unserved\", \"Underserved\", \"Unserved\"], [12533220, 1330319363, \"530539400103012\", \"8828d5da99fffff\", \"53053\", \"Underserved\", \"Unserved\", \"Unserved\", \"Unserved\", \"Underserved\", \"Unserved\", \"Underserved\", \"Underserved\", \"Unserved\"], [12533280, 1015878307, \"530659514012009\", \"8812db0a4dfffff\", \"53065\", \"Unserved\", \"Unserved\", \"Unserved\", \"Unserved\", \"Underserved\", \"Unserved\", \"Unserved\", \"Underserved\", \"Underserved\"], [12533286, 1015882486, \"530659514012050\", \"8812db0b3bfffff\", \"53065\", \"Underserved\", \"Unserved\", \"Unserved\", \"Unserved\", \"Underserved\", \"Underserved\", \"Unserved\", \"Underserved\", \"Underserved\"], [12533288, 1015889191, \"530659513012054\", \"8812db1a17fffff\", \"53065\", \"Served\", \"Unserved\", \"Unserved\", \"Unserved\", \"Underserved\", \"Unserved\", \"Served\", \"Underserved\", \"Underserved\"], [12533290, 1015889485, \"530659513011001\", \"8812db1847fffff\", \"53065\", \"Underserved\", \"Unserved\", \"Unserved\", \"Unserved\", \"Underserved\", \"Unserved\", \"Underserved\", \"Underserved\", \"Underserved\"], [12533292, 1015890230, \"530659501011039\", \"8812d856b5fffff\", \"53065\", \"Unserved\", \"Unserved\", \"Unserved\", \"Unserved\", \"Underserved\", \"Unserved\", \"Unserved\", \"Underserved\", \"Unserved\"], [12533296, 1015893080, \"530659506002008\", \"8812d86029fffff\", \"53065\", \"Unserved\", \"Unserved\", \"Unserved\", \"Unserved\", \"Underserved\", \"Unserved\", \"Unserved\", \"Underserved\", \"Unserved\"], [12533298, 1015893094, \"530659506002008\", \"8812d86029fffff\", \"53065\", \"Unserved\", \"Unserved\", \"Unserved\", \"Unserved\", \"Underserved\", \"Unserved\", \"Unserved\", \"Underserved\", \"Unserved\"], [12533300, 1015894725, \"530659502003005\", \"8812dab4e9fffff\", \"53065\", \"Unserved\", \"Unserved\", \"Unserved\", \"Unserved\", \"Underserved\", \"Unserved\", \"Unserved\", \"Underserved\", \"Underserved\"], [12533304, 1015917284, \"530659511002008\", \"8812dbc23dfffff\", \"53065\", \"Unserved\", \"Unserved\", \"Unserved\", \"Unserved\", \"Underserved\", \"Unserved\", \"Unserved\", \"Underserved\", \"Underserved\"], [12533306, 1015917801, \"530659511003007\", \"8812dbc29dfffff\", \"53065\", \"Unserved\", \"Unserved\", \"Unserved\", \"Unserved\", \"Underserved\", \"Unserved\", \"Unserved\", \"Underserved\", \"Underserved\"], [12533308, 1015919195, \"530659511002027\", \"8812dbc051fffff\", \"53065\", \"Unserved\", \"Unserved\", \"Unserved\", \"Unserved\", \"Underserved\", \"Unserved\", \"Unserved\", \"Underserved\", \"Underserved\"], [12533316, 1027402745, \"530519702004036\", \"8812db800dfffff\", \"53051\", \"Unserved\", \"Unserved\", \"Unserved\", \"Unserved\", \"Underserved\", \"Unserved\", \"Unserved\", \"Underserved\", \"Underserved\"], [12533320, 1027403564, \"530519702004048\", \"8812db8155fffff\", \"53051\", \"Unserved\", \"Unserved\", \"Unserved\", \"Unserved\", \"Underserved\", \"Unserved\", \"Unserved\", \"Underserved\", \"Underserved\"], [12533326, 1027405966, \"530519703002001\", \"8812db873dfffff\", \"53051\", \"Unserved\", \"Unserved\", \"Unserved\", \"Unserved\", \"Underserved\", \"Unserved\", \"Unserved\", \"Underserved\", \"Unserved\"], [12533332, 1032765518, \"530319504002034\", \"8828d56e97fffff\", \"53031\", \"Unserved\", \"Unserved\", \"Unserved\", \"Unserved\", \"Underserved\", \"Unserved\", \"Unserved\", \"Underserved\", \"Unserved\"], [12533342, 1032778775, \"530319505013124\", \"8828d56407fffff\", \"53031\", \"Unserved\", \"Unserved\", \"Unserved\", \"Unserved\", \"Underserved\", \"Unserved\", \"Unserved\", \"Underserved\", \"Unserved\"], [12533350, 1042959152, \"530439603002047\", \"8812da6ec1fffff\", \"53043\", \"Unserved\", \"Unserved\", \"Unserved\", \"Unserved\", \"Underserved\", \"Unserved\", \"Unserved\", \"Underserved\", \"Unserved\"], [12533352, 1042959205, \"530439603002016\", \"8812da6687fffff\", \"53043\", \"Unserved\", \"Unserved\", \"Unserved\", \"Unserved\", \"Underserved\", \"Unserved\", \"Unserved\", \"Underserved\", \"Unserved\"], [12533358, 1048335417, \"530090024002099\", \"8828c2ad65fffff\", \"53009\", \"Unserved\", \"Unserved\", \"Unserved\", \"Unserved\", \"Underserved\", \"Unserved\", \"Unserved\", \"Underserved\", \"Unserved\"], [12533382, 1048354919, \"530090015002060\", \"8828c2489bfffff\", \"53009\", \"Unserved\", \"Unserved\", \"Unserved\", \"Unserved\", \"Underserved\", \"Unserved\", \"Unserved\", \"Underserved\", \"Underserved\"], [12533392, 1048368414, \"530090023012003\", \"8828d1835dfffff\", \"53009\", \"Unserved\", \"Unserved\", \"Unserved\", \"Unserved\", \"Underserved\", \"Unserved\", \"Unserved\", \"Underserved\", \"Underserved\"], [12533400, 1049467080, \"530479703031132\", \"8812de61ddfffff\", \"53047\", \"Unserved\", \"Unserved\", \"Unserved\", \"Unserved\", \"Underserved\", \"Unserved\", \"Unserved\", \"Underserved\", \"Unserved\"], [12533414, 1052559389, \"530699501005033\", \"8828f14d55fffff\", \"53069\", \"Underserved\", \"Unserved\", \"Unserved\", \"Unserved\", \"Underserved\", \"Unserved\", \"Underserved\", \"Underserved\", \"Unserved\"], [12533420, 1056649461, \"530499503013052\", \"8828c6d4b3fffff\", \"53049\", \"Unserved\", \"Unserved\", \"Unserved\", \"Unserved\", \"Underserved\", \"Unserved\", \"Unserved\", \"Underserved\", \"Unserved\"], [12533436, 1063121504, \"530150020011013\", \"8828f38ca1fffff\", \"53015\", \"Unserved\", \"Unserved\", \"Unserved\", \"Unserved\", \"Underserved\", \"Unserved\", \"Unserved\", \"Underserved\", \"Unserved\"], [12533564, 1073281757, \"530350902022017\", \"8828d57005fffff\", \"53035\", \"Unserved\", \"Unserved\", \"Unserved\", \"Unserved\", \"Underserved\", \"Unserved\", \"Unserved\", \"Underserved\", \"Unserved\"], [12533604, 1105687896, \"530419713001007\", \"8828f30443fffff\", \"53041\", \"Unserved\", \"Unserved\", \"Unserved\", \"Unserved\", \"Underserved\", \"Unserved\", \"Unserved\", \"Underserved\", \"Unserved\"], [12533608, 1105696591, \"530419711002007\", \"8828f30515fffff\", \"53041\", \"Unserved\", \"Unserved\", \"Unserved\", \"Unserved\", \"Underserved\", \"Unserved\", \"Unserved\", \"Underserved\", \"Unserved\"], [12533618, 1105706554, \"530419711003024\", \"8828f300d7fffff\", \"53041\", \"Unserved\", \"Unserved\", \"Unserved\", \"Unserved\", \"Underserved\", \"Unserved\", \"Unserved\", \"Underserved\", \"Unserved\"], [12533642, 1109880275, \"530719201003135\", \"882888c749fffff\", \"53071\", \"Underserved\", \"Unserved\", \"Unserved\", \"Unserved\", \"Underserved\", \"Unserved\", \"Underserved\", \"Underserved\", \"Underserved\"], [12533654, 1109891444, \"530719201003046\", \"882888c8c7fffff\", \"53071\", \"Underserved\", \"Unserved\", \"Unserved\", \"Unserved\", \"Underserved\", \"Unserved\", \"Underserved\", \"Underserved\", \"Unserved\"], [12533682, 1110497719, \"530250114011016\", \"8828894833fffff\", \"53025\", \"Unserved\", \"Unserved\", \"Unserved\", \"Unserved\", \"Underserved\", \"Unserved\", \"Unserved\", \"Underserved\", \"Unserved\"], [12533700, 1121326115, \"530179501013024\", \"8828d60a05fffff\", \"53017\", \"Unserved\", \"Unserved\", \"Unserved\", \"Unserved\", \"Underserved\", \"Unserved\", \"Unserved\", \"Underserved\", \"Unserved\"], [12533706, 1121335249, \"530179502001076\", \"88288b26a3fffff\", \"53017\", \"Unserved\", \"Unserved\", \"Unserved\", \"Unserved\", \"Underserved\", \"Unserved\", \"Unserved\", \"Underserved\", \"Underserved\"], [12533708, 1122544507, \"530199701002081\", \"8812de7485fffff\", \"53019\", \"Unserved\", \"Unserved\", \"Unserved\", \"Unserved\", \"Underserved\", \"Unserved\", \"Unserved\", \"Underserved\", \"Underserved\"], [12533712, 1137458613, \"530399502002058\", \"8828f28b29fffff\", \"53039\", \"Unserved\", \"Unserved\", \"Unserved\", \"Unserved\", \"Underserved\", \"Unserved\", \"Unserved\", \"Underserved\", \"Unserved\"], [12533716, 1137459895, \"530399501011208\", \"88288d0661fffff\", \"53039\", \"Unserved\", \"Unserved\", \"Unserved\", \"Unserved\", \"Underserved\", \"Unserved\", \"Unserved\", \"Underserved\", \"Unserved\"], [12533722, 1137463193, \"530399502002061\", \"8828f2d697fffff\", \"53039\", \"Unserved\", \"Unserved\", \"Unserved\", \"Unserved\", \"Underserved\", \"Unserved\", \"Unserved\", \"Underserved\", \"Unserved\"], [12533742, 1288931301, \"530750008004023\", \"88288a11b1fffff\", \"53075\", \"Unserved\", \"Unserved\", \"Unserved\", \"Unserved\", \"Underserved\", \"Unserved\", \"Unserved\", \"Underserved\", \"Underserved\"], [12533754, 1288944774, \"530750003002007\", \"88288a116dfffff\", \"53075\", \"Unserved\", \"Unserved\", \"Unserved\", \"Unserved\", \"Underserved\", \"Unserved\", \"Unserved\", \"Underserved\", \"Underserved\"], [12533756, 1288944874, \"530750004003028\", \"88288ac62dfffff\", \"53075\", \"Unserved\", \"Unserved\", \"Unserved\", \"Unserved\", \"Underserved\", \"Unserved\", \"Unserved\", \"Underserved\", \"Underserved\"], [12533825, 1330411156, \"530530726035001\", \"8828d5d6bdfffff\", \"53053\", \"Unserved\", \"Unserved\", \"Unserved\", \"Unserved\", \"Underserved\", \"Unserved\", \"Unserved\", \"Underserved\", \"Unserved\"], [12533871, 1296231126, \"530079603023062\", \"8828d60d0dfffff\", \"53007\", \"Unserved\", \"Unserved\", \"Unserved\", \"Unserved\", \"Underserved\", \"Unserved\", \"Unserved\", \"Underserved\", \"Underserved\"], [12533879, 1296234140, \"530079612003028\", \"8828d698dbfffff\", \"53007\", \"Served\", \"Unserved\", \"Unserved\", \"Unserved\", \"Underserved\", \"Unserved\", \"Served\", \"Underserved\", \"Unserved\"], [12533999, 1296298874, \"530379751041084\", \"8828d4553bfffff\", \"53037\", \"Unserved\", \"Unserved\", \"Unserved\", \"Unserved\", \"Underserved\", \"Unserved\", \"Unserved\", \"Underserved\", \"Served\"], [12534060, 1296414256, \"530459613002019\", \"8828d594e3fffff\", \"53045\", \"Unserved\", \"Unserved\", \"Unserved\", \"Unserved\", \"Underserved\", \"Unserved\", \"Unserved\", \"Underserved\", \"Unserved\"], [12534407, 1337243714, \"530610535063043\", \"8828d0adc9fffff\", \"53061\", \"Unserved\", \"Unserved\", \"Unserved\", \"Unserved\", \"Underserved\", \"Unserved\", \"Unserved\", \"Underserved\", \"Unserved\"], [12534547, 1302631270, \"530670122112006\", \"8828d59ae9fffff\", \"53067\", \"Unserved\", \"Unserved\", \"Unserved\", \"Unserved\", \"Underserved\", \"Unserved\", \"Unserved\", \"Underserved\", \"Unserved\"], [12534702, 1367115228, \"530330315021074\", \"8828d430d9fffff\", \"53033\", \"Unserved\", \"Unserved\", \"Unserved\", \"Unserved\", \"Underserved\", \"Unserved\", \"Unserved\", \"Underserved\", \"Unserved\"], [12534759, 1409397353, \"530479708001042\", \"8828d66b15fffff\", \"53047\", \"Unserved\", \"Unserved\", \"Unserved\", \"Unserved\", \"Underserved\", \"Unserved\", \"Unserved\", \"Underserved\", \"Unserved\"], [12534788, 1342695237, \"530630103042008\", \"8812db111dfffff\", \"53063\", \"Unserved\", \"Unserved\", \"Unserved\", \"Unserved\", \"Underserved\", \"Unserved\", \"Unserved\", \"Underserved\", \"Underserved\"], [12534794, 1342695751, \"530630101021022\", \"8812dbb9a7fffff\", \"53063\", \"Unserved\", \"Unserved\", \"Unserved\", \"Unserved\", \"Underserved\", \"Unserved\", \"Unserved\", \"Underserved\", \"Underserved\"], [12534804, 1409684404, \"530670127101014\", \"8828f33885fffff\", \"53067\", \"Unserved\", \"Unserved\", \"Unserved\", \"Unserved\", \"Underserved\", \"Unserved\", \"Unserved\", \"Underserved\", \"Unserved\"], [12534807, 1342702768, \"530630139002049\", \"8812db6123fffff\", \"53063\", \"Unserved\", \"Unserved\", \"Unserved\", \"Unserved\", \"Underserved\", \"Unserved\", \"Unserved\", \"Underserved\", \"Underserved\"], [12534810, 1342711775, \"530630103031025\", \"8812db0331fffff\", \"53063\", \"Unserved\", \"Unserved\", \"Unserved\", \"Unserved\", \"Underserved\", \"Unserved\", \"Unserved\", \"Underserved\", \"Underserved\"], [12534815, 1342711911, \"530630101021024\", \"8812db1409fffff\", \"53063\", \"Unserved\", \"Unserved\", \"Unserved\", \"Unserved\", \"Underserved\", \"Unserved\", \"Unserved\", \"Underserved\", \"Unserved\"], [12534821, 1342713183, \"530630141002029\", \"8812db78bdfffff\", \"53063\", \"Unserved\", \"Unserved\", \"Unserved\", \"Unserved\", \"Underserved\", \"Unserved\", \"Unserved\", \"Underserved\", \"Underserved\"], [12534831, 1342717771, \"530630104032000\", \"8812db722bfffff\", \"53063\", \"Underserved\", \"Unserved\", \"Unserved\", \"Unserved\", \"Underserved\", \"Unserved\", \"Underserved\", \"Underserved\", \"Underserved\"], [12534836, 1342725881, \"530630104032016\", \"8812db4599fffff\", \"53063\", \"Unserved\", \"Unserved\", \"Unserved\", \"Unserved\", \"Underserved\", \"Unserved\", \"Unserved\", \"Underserved\", \"Underserved\"], [12534841, 1342726865, \"530630102012023\", \"8812db153dfffff\", \"53063\", \"Unserved\", \"Unserved\", \"Unserved\", \"Unserved\", \"Underserved\", \"Unserved\", \"Unserved\", \"Underserved\", \"Underserved\"], [12534851, 1342737225, \"530630103042005\", \"8812db1147fffff\", \"53063\", \"Unserved\", \"Unserved\", \"Unserved\", \"Unserved\", \"Underserved\", \"Unserved\", \"Unserved\", \"Underserved\", \"Underserved\"], [12534857, 1342737372, \"530630104032044\", \"8812db701dfffff\", \"53063\", \"Unserved\", \"Unserved\", \"Unserved\", \"Unserved\", \"Underserved\", \"Unserved\", \"Unserved\", \"Underserved\", \"Underserved\"], [12534880, 1342746597, \"530630112024002\", \"8812db0cdbfffff\", \"53063\", \"Underserved\", \"Unserved\", \"Unserved\", \"Unserved\", \"Underserved\", \"Unserved\", \"Underserved\", \"Underserved\", \"Underserved\"], [12534901, 1410075068, \"530019503021020\", \"8828895919fffff\", \"53001\", \"Unserved\", \"Unserved\", \"Unserved\", \"Unserved\", \"Underserved\", \"Unserved\", \"Unserved\", \"Underserved\", \"Unserved\"], [12534908, 1410102057, \"530250114032003\", \"88288919dbfffff\", \"53025\", \"Underserved\", \"Unserved\", \"Unserved\", \"Unserved\", \"Underserved\", \"Unserved\", \"Underserved\", \"Underserved\", \"Unserved\"], [12534924, 1305974388, \"530779400023117\", \"8828899547fffff\", \"53077\", \"Served\", \"Unserved\", \"Unserved\", \"Unserved\", \"Underserved\", \"Served\", \"Unserved\", \"Underserved\", \"Underserved\"], [12534956, 1015898773, \"530659501011002\", \"8812d81125fffff\", \"53065\", \"Unserved\", \"Unserved\", \"Unserved\", \"Unserved\", \"Underserved\", \"Unserved\", \"Unserved\", \"Underserved\", \"Unserved\"], [12535029, 1310087661, \"530730002032000\", \"8828d17801fffff\", \"53073\", \"Unserved\", \"Unserved\", \"Unserved\", \"Unserved\", \"Underserved\", \"Unserved\", \"Unserved\", \"Underserved\", \"Unserved\"], [12535061, 1049483490, \"530479709001124\", \"8828d2ab6bfffff\", \"53047\", \"Unserved\", \"Unserved\", \"Unserved\", \"Unserved\", \"Underserved\", \"Unserved\", \"Unserved\", \"Underserved\", \"Unserved\"], [12535205, 1310144322, \"530730103011029\", \"8828d169edfffff\", \"53073\", \"Unserved\", \"Unserved\", \"Unserved\", \"Unserved\", \"Underserved\", \"Unserved\", \"Unserved\", \"Underserved\", \"Unserved\"], [12535621, 1312148589, \"530050118021061\", \"882889d269fffff\", \"53005\", \"Served\", \"Unserved\", \"Unserved\", \"Unserved\", \"Underserved\", \"Served\", \"Underserved\", \"Underserved\", \"Served\"], [14570646, 1349409498, \"530110405043001\", \"8828f07365fffff\", \"53011\", \"Unserved\", \"Unserved\", \"Unserved\", \"Unserved\", \"Unserved\", \"Unserved\", \"Unserved\", \"Underserved\", \"Unserved\"]];\n",
       "\n",
       "    // Define the dt_args\n",
       "    let dt_args = {\"n\": 15, \"order\": [], \"fnInfoCallback\": function (oSettings, iStart, iEnd, iMax, iTotal, sPre) { return sPre + ' (<a href=\"https://mwouts.github.io/itables/downsampling.html\">downsampled</a> from 2,527,898x13 to 630x13 as maxBytes=65536)'; }};\n",
       "    dt_args[\"data\"] = data;\n",
       "\n",
       "    $(document).ready(function () {\n",
       "        \n",
       "        $('#1cb7097a-f9f2-4fdf-8551-84a6ca523f72').DataTable(dt_args);\n",
       "    });\n",
       "</script>\n",
       "</div>\n"
      ],
      "text/plain": [
       "<IPython.core.display.HTML object>"
      ]
     },
     "metadata": {},
     "output_type": "display_data"
    }
   ],
   "source": [
    "itables.show(waLocations, n=15)"
   ]
  },
  {
   "cell_type": "markdown",
   "metadata": {},
   "source": [
    "## Save the data!"
   ]
  },
  {
   "cell_type": "code",
   "execution_count": 23,
   "metadata": {},
   "outputs": [],
   "source": [
    "waLocations.to_parquet(os.path.join('data', 'parsedData.parquet'))"
   ]
  },
  {
   "cell_type": "markdown",
   "metadata": {},
   "source": [
    "## Under/Unserved"
   ]
  },
  {
   "cell_type": "code",
   "execution_count": 24,
   "metadata": {},
   "outputs": [
    {
     "name": "stdout",
     "output_type": "stream",
     "text": [
      "WSBO Unserved: 236134\n"
     ]
    }
   ],
   "source": [
    "print(f'WSBO Unserved: {wsboUnserved.shape[0]}')"
   ]
  },
  {
   "cell_type": "code",
   "execution_count": 25,
   "metadata": {},
   "outputs": [],
   "source": [
    "servedStats = (waLocations['cableServed'].astype('str') \n",
    "    + ',' + waLocations['copperServed'].astype('str')\n",
    "    + ',' + waLocations['fiberServed'].astype('str')\n",
    "    + ',' + waLocations['lbrwServed'].astype('str')\n",
    "    + ',' + waLocations['lfwServed'].astype('str')).value_counts().reset_index().rename(columns = {'index': 'status'})"
   ]
  },
  {
   "cell_type": "code",
   "execution_count": 26,
   "metadata": {},
   "outputs": [
    {
     "data": {
      "text/html": [
       "<div>\n",
       "<style scoped>\n",
       "    .dataframe tbody tr th:only-of-type {\n",
       "        vertical-align: middle;\n",
       "    }\n",
       "\n",
       "    .dataframe tbody tr th {\n",
       "        vertical-align: top;\n",
       "    }\n",
       "\n",
       "    .dataframe thead th {\n",
       "        text-align: right;\n",
       "    }\n",
       "</style>\n",
       "<table border=\"1\" class=\"dataframe\">\n",
       "  <thead>\n",
       "    <tr style=\"text-align: right;\">\n",
       "      <th></th>\n",
       "      <th>status</th>\n",
       "      <th>count</th>\n",
       "    </tr>\n",
       "  </thead>\n",
       "  <tbody>\n",
       "    <tr>\n",
       "      <th>3</th>\n",
       "      <td>Unserved,Unserved,Unserved,Unserved,Unserved</td>\n",
       "      <td>232495</td>\n",
       "    </tr>\n",
       "  </tbody>\n",
       "</table>\n",
       "</div>"
      ],
      "text/plain": [
       "                                         status   count\n",
       "3  Unserved,Unserved,Unserved,Unserved,Unserved  232495"
      ]
     },
     "execution_count": 26,
     "metadata": {},
     "output_type": "execute_result"
    }
   ],
   "source": [
    "# itables.show(servedStats)\n",
    "servedStats[servedStats.status == 'Unserved,Unserved,Unserved,Unserved,Unserved']"
   ]
  },
  {
   "cell_type": "markdown",
   "metadata": {},
   "source": [
    "### Remove LBR Wireless"
   ]
  },
  {
   "cell_type": "code",
   "execution_count": 27,
   "metadata": {},
   "outputs": [],
   "source": [
    "servedStats = (waLocations['cableServed'].astype('str') \n",
    "    + ',' + waLocations['copperServed'].astype('str')\n",
    "    + ',' + waLocations['fiberServed'].astype('str')\n",
    "    + ',' + waLocations['lfwServed'].astype('str')).value_counts().reset_index().rename(columns = {'index': 'status'})"
   ]
  },
  {
   "cell_type": "code",
   "execution_count": 28,
   "metadata": {},
   "outputs": [
    {
     "data": {
      "text/html": [
       "<div>\n",
       "<style scoped>\n",
       "    .dataframe tbody tr th:only-of-type {\n",
       "        vertical-align: middle;\n",
       "    }\n",
       "\n",
       "    .dataframe tbody tr th {\n",
       "        vertical-align: top;\n",
       "    }\n",
       "\n",
       "    .dataframe thead th {\n",
       "        text-align: right;\n",
       "    }\n",
       "</style>\n",
       "<table border=\"1\" class=\"dataframe\">\n",
       "  <thead>\n",
       "    <tr style=\"text-align: right;\">\n",
       "      <th></th>\n",
       "      <th>status</th>\n",
       "      <th>count</th>\n",
       "    </tr>\n",
       "  </thead>\n",
       "  <tbody>\n",
       "    <tr>\n",
       "      <th>3</th>\n",
       "      <td>Unserved,Unserved,Unserved,Unserved</td>\n",
       "      <td>239564</td>\n",
       "    </tr>\n",
       "  </tbody>\n",
       "</table>\n",
       "</div>"
      ],
      "text/plain": [
       "                                status   count\n",
       "3  Unserved,Unserved,Unserved,Unserved  239564"
      ]
     },
     "execution_count": 28,
     "metadata": {},
     "output_type": "execute_result"
    }
   ],
   "source": [
    "servedStats[servedStats.status == 'Unserved,Unserved,Unserved,Unserved']"
   ]
  },
  {
   "cell_type": "markdown",
   "metadata": {},
   "source": [
    "# Unused Stuff"
   ]
  },
  {
   "cell_type": "code",
   "execution_count": 29,
   "metadata": {},
   "outputs": [],
   "source": [
    "unservedWaLocations = waLocations.merge(wsboUnserved, how='outer', indicator=True)"
   ]
  },
  {
   "cell_type": "code",
   "execution_count": 30,
   "metadata": {},
   "outputs": [],
   "source": [
    "unservedWaLocations = unservedWaLocations[unservedWaLocations._merge != 'left_only']"
   ]
  },
  {
   "cell_type": "code",
   "execution_count": 31,
   "metadata": {},
   "outputs": [],
   "source": [
    "# waLocations.loc[waLocations.location_id == 1015880838, 'fiberserved'] = 'foo'"
   ]
  },
  {
   "cell_type": "code",
   "execution_count": 32,
   "metadata": {},
   "outputs": [
    {
     "ename": "AttributeError",
     "evalue": "'DataFrame' object has no attribute 'fiberserved'",
     "output_type": "error",
     "traceback": [
      "\u001b[1;31m---------------------------------------------------------------------------\u001b[0m",
      "\u001b[1;31mAttributeError\u001b[0m                            Traceback (most recent call last)",
      "\u001b[1;32m~\\AppData\\Local\\Temp\\ipykernel_28756\\982791840.py\u001b[0m in \u001b[0;36m?\u001b[1;34m()\u001b[0m\n\u001b[1;32m----> 1\u001b[1;33m \u001b[0mwaLocations\u001b[0m\u001b[1;33m.\u001b[0m\u001b[0mfiberserved\u001b[0m\u001b[1;33m.\u001b[0m\u001b[0mvalue_counts\u001b[0m\u001b[1;33m(\u001b[0m\u001b[1;33m)\u001b[0m\u001b[1;33m\u001b[0m\u001b[1;33m\u001b[0m\u001b[0m\n\u001b[0m",
      "\u001b[1;32mc:\\Users\\nick.pappin\\projects\\lteProblemAnalysis\\venv\\Lib\\site-packages\\pandas\\core\\generic.py\u001b[0m in \u001b[0;36m?\u001b[1;34m(self, name)\u001b[0m\n\u001b[0;32m   6200\u001b[0m             \u001b[1;32mand\u001b[0m \u001b[0mname\u001b[0m \u001b[1;32mnot\u001b[0m \u001b[1;32min\u001b[0m \u001b[0mself\u001b[0m\u001b[1;33m.\u001b[0m\u001b[0m_accessors\u001b[0m\u001b[1;33m\u001b[0m\u001b[1;33m\u001b[0m\u001b[0m\n\u001b[0;32m   6201\u001b[0m             \u001b[1;32mand\u001b[0m \u001b[0mself\u001b[0m\u001b[1;33m.\u001b[0m\u001b[0m_info_axis\u001b[0m\u001b[1;33m.\u001b[0m\u001b[0m_can_hold_identifiers_and_holds_name\u001b[0m\u001b[1;33m(\u001b[0m\u001b[0mname\u001b[0m\u001b[1;33m)\u001b[0m\u001b[1;33m\u001b[0m\u001b[1;33m\u001b[0m\u001b[0m\n\u001b[0;32m   6202\u001b[0m         ):\n\u001b[0;32m   6203\u001b[0m             \u001b[1;32mreturn\u001b[0m \u001b[0mself\u001b[0m\u001b[1;33m[\u001b[0m\u001b[0mname\u001b[0m\u001b[1;33m]\u001b[0m\u001b[1;33m\u001b[0m\u001b[1;33m\u001b[0m\u001b[0m\n\u001b[1;32m-> 6204\u001b[1;33m         \u001b[1;32mreturn\u001b[0m \u001b[0mobject\u001b[0m\u001b[1;33m.\u001b[0m\u001b[0m__getattribute__\u001b[0m\u001b[1;33m(\u001b[0m\u001b[0mself\u001b[0m\u001b[1;33m,\u001b[0m \u001b[0mname\u001b[0m\u001b[1;33m)\u001b[0m\u001b[1;33m\u001b[0m\u001b[1;33m\u001b[0m\u001b[0m\n\u001b[0m",
      "\u001b[1;31mAttributeError\u001b[0m: 'DataFrame' object has no attribute 'fiberserved'"
     ]
    }
   ],
   "source": [
    "waLocations.fiberserved.value_counts()"
   ]
  },
  {
   "cell_type": "code",
   "execution_count": null,
   "metadata": {},
   "outputs": [],
   "source": []
  },
  {
   "cell_type": "code",
   "execution_count": null,
   "metadata": {},
   "outputs": [],
   "source": [
    "waFiberData"
   ]
  },
  {
   "cell_type": "code",
   "execution_count": null,
   "metadata": {},
   "outputs": [],
   "source": [
    "waLocations.cableServed.value_counts()"
   ]
  },
  {
   "cell_type": "code",
   "execution_count": null,
   "metadata": {},
   "outputs": [],
   "source": []
  }
 ],
 "metadata": {
  "kernelspec": {
   "display_name": "venv",
   "language": "python",
   "name": "python3"
  },
  "language_info": {
   "codemirror_mode": {
    "name": "ipython",
    "version": 3
   },
   "file_extension": ".py",
   "mimetype": "text/x-python",
   "name": "python",
   "nbconvert_exporter": "python",
   "pygments_lexer": "ipython3",
   "version": "3.11.6"
  }
 },
 "nbformat": 4,
 "nbformat_minor": 2
}
