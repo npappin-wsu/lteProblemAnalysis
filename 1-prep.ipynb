{
 "cells": [
  {
   "cell_type": "markdown",
   "metadata": {},
   "source": [
    "# Data preparation\n",
    "\n",
    "In this notebook we will build a parquet file for use in further analyses. \n",
    "\n",
    "## Imports"
   ]
  },
  {
   "cell_type": "code",
   "execution_count": 1,
   "metadata": {},
   "outputs": [],
   "source": [
    "import os, zipfile, itables\n",
    "import pandas as pd\n",
    "itables.options.style = 'float:left;width:auto'"
   ]
  },
  {
   "cell_type": "markdown",
   "metadata": {},
   "source": [
    "## Load Data"
   ]
  },
  {
   "cell_type": "code",
   "execution_count": 2,
   "metadata": {},
   "outputs": [],
   "source": [
    "files = os.listdir('data')\n",
    "files = [file for file in files if file.endswith('.zip')]"
   ]
  },
  {
   "cell_type": "code",
   "execution_count": 3,
   "metadata": {},
   "outputs": [
    {
     "data": {
      "text/plain": [
       "['bdc_53_Cable_fixed_broadband_123122-20230926.zip',\n",
       " 'bdc_53_Copper_fixed_broadband_123122-20230926.zip',\n",
       " 'bdc_53_FibertothePremises_fixed_broadband_123122-20230926.zip',\n",
       " 'bdc_53_GSOSatellite_fixed_broadband_123122-20230926.zip',\n",
       " 'bdc_53_LBRFixedWireless_fixed_broadband_123122-20230926.zip',\n",
       " 'bdc_53_LicensedFixedWireless_fixed_broadband_123122-20230926.zip',\n",
       " 'bdc_53_NGSOSatellite_fixed_broadband_123122-20230926.zip',\n",
       " 'bdc_53_UnlicensedFixedWireless_fixed_broadband_123122-20230926.zip']"
      ]
     },
     "execution_count": 3,
     "metadata": {},
     "output_type": "execute_result"
    }
   ],
   "source": [
    "files"
   ]
  },
  {
   "cell_type": "code",
   "execution_count": null,
   "metadata": {},
   "outputs": [],
   "source": [
    "techHash = {\n",
    "    'technology': pd.Series([0, 10, 40, 50, 60, 61, 70, 71, 72]),\n",
    "    'techName': pd.Series(['Other', 'Copper', 'Cable', 'Fiber', 'GSO', 'NGSO', 'UFW', 'LFW', 'LBRW'])\n",
    "}\n",
    "techDf = pd.DataFrame(techHash)"
   ]
  },
  {
   "cell_type": "code",
   "execution_count": 37,
   "metadata": {},
   "outputs": [],
   "source": [
    "waAvailabilityData = pd.DataFrame()\n",
    "dfColumnHints = {\n",
    "    'block_geoid': str\n",
    "}\n",
    "\n",
    "for file in files:\n",
    "    # print(file)\n",
    "    archive = zipfile.ZipFile(os.path.join('data', file))\n",
    "    with archive.open(archive.filelist[0].filename) as f:\n",
    "        localDf = pd.read_csv(f, dtype=dfColumnHints)\n",
    "    waAvailabilityData = pd.concat([waAvailabilityData, localDf], ignore_index=True)\n",
    "\n",
    "waAvailabilityData = waAvailabilityData.merge(techDf, how='left')\n",
    "\n",
    "wsboUnserved = pd.read_csv(os.path.join('data', 'unserved.csv'))\n",
    "wsboUnderserved = pd.read_csv(os.path.join('data', 'underserved.csv'))"
   ]
  },
  {
   "cell_type": "markdown",
   "metadata": {},
   "source": [
    "### Parse out Locations"
   ]
  },
  {
   "cell_type": "code",
   "execution_count": 5,
   "metadata": {},
   "outputs": [],
   "source": [
    "waLocations = waAvailabilityData[['location_id', 'block_geoid']]"
   ]
  },
  {
   "cell_type": "code",
   "execution_count": 6,
   "metadata": {},
   "outputs": [],
   "source": [
    "waLocations = waLocations.drop_duplicates()\n",
    "waLocations['county_geoid'] = waLocations.block_geoid.str[0:5]"
   ]
  },
  {
   "cell_type": "code",
   "execution_count": 7,
   "metadata": {},
   "outputs": [
    {
     "data": {
      "text/html": [
       "<div>\n",
       "<style scoped>\n",
       "    .dataframe tbody tr th:only-of-type {\n",
       "        vertical-align: middle;\n",
       "    }\n",
       "\n",
       "    .dataframe tbody tr th {\n",
       "        vertical-align: top;\n",
       "    }\n",
       "\n",
       "    .dataframe thead th {\n",
       "        text-align: right;\n",
       "    }\n",
       "</style>\n",
       "<table border=\"1\" class=\"dataframe\">\n",
       "  <thead>\n",
       "    <tr style=\"text-align: right;\">\n",
       "      <th></th>\n",
       "      <th>location_id</th>\n",
       "      <th>block_geoid</th>\n",
       "      <th>county_geoid</th>\n",
       "    </tr>\n",
       "  </thead>\n",
       "  <tbody>\n",
       "    <tr>\n",
       "      <th>0</th>\n",
       "      <td>1015880838</td>\n",
       "      <td>530659514022053</td>\n",
       "      <td>53065</td>\n",
       "    </tr>\n",
       "    <tr>\n",
       "      <th>1</th>\n",
       "      <td>1073176227</td>\n",
       "      <td>530350910012001</td>\n",
       "      <td>53035</td>\n",
       "    </tr>\n",
       "    <tr>\n",
       "      <th>2</th>\n",
       "      <td>1073185639</td>\n",
       "      <td>530350907004015</td>\n",
       "      <td>53035</td>\n",
       "    </tr>\n",
       "    <tr>\n",
       "      <th>3</th>\n",
       "      <td>1056655277</td>\n",
       "      <td>530499502005010</td>\n",
       "      <td>53049</td>\n",
       "    </tr>\n",
       "    <tr>\n",
       "      <th>4</th>\n",
       "      <td>1073186253</td>\n",
       "      <td>530350909022006</td>\n",
       "      <td>53035</td>\n",
       "    </tr>\n",
       "    <tr>\n",
       "      <th>...</th>\n",
       "      <td>...</td>\n",
       "      <td>...</td>\n",
       "      <td>...</td>\n",
       "    </tr>\n",
       "    <tr>\n",
       "      <th>12535029</th>\n",
       "      <td>1310087661</td>\n",
       "      <td>530730002032000</td>\n",
       "      <td>53073</td>\n",
       "    </tr>\n",
       "    <tr>\n",
       "      <th>12535061</th>\n",
       "      <td>1049483490</td>\n",
       "      <td>530479709001124</td>\n",
       "      <td>53047</td>\n",
       "    </tr>\n",
       "    <tr>\n",
       "      <th>12535205</th>\n",
       "      <td>1310144322</td>\n",
       "      <td>530730103011029</td>\n",
       "      <td>53073</td>\n",
       "    </tr>\n",
       "    <tr>\n",
       "      <th>12535621</th>\n",
       "      <td>1312148589</td>\n",
       "      <td>530050118021061</td>\n",
       "      <td>53005</td>\n",
       "    </tr>\n",
       "    <tr>\n",
       "      <th>14570646</th>\n",
       "      <td>1349409498</td>\n",
       "      <td>530110405043001</td>\n",
       "      <td>53011</td>\n",
       "    </tr>\n",
       "  </tbody>\n",
       "</table>\n",
       "<p>2527898 rows × 3 columns</p>\n",
       "</div>"
      ],
      "text/plain": [
       "          location_id      block_geoid county_geoid\n",
       "0          1015880838  530659514022053        53065\n",
       "1          1073176227  530350910012001        53035\n",
       "2          1073185639  530350907004015        53035\n",
       "3          1056655277  530499502005010        53049\n",
       "4          1073186253  530350909022006        53035\n",
       "...               ...              ...          ...\n",
       "12535029   1310087661  530730002032000        53073\n",
       "12535061   1049483490  530479709001124        53047\n",
       "12535205   1310144322  530730103011029        53073\n",
       "12535621   1312148589  530050118021061        53005\n",
       "14570646   1349409498  530110405043001        53011\n",
       "\n",
       "[2527898 rows x 3 columns]"
      ]
     },
     "execution_count": 7,
     "metadata": {},
     "output_type": "execute_result"
    }
   ],
   "source": [
    "waLocations"
   ]
  },
  {
   "cell_type": "markdown",
   "metadata": {},
   "source": [
    "## WSBO Service"
   ]
  },
  {
   "cell_type": "code",
   "execution_count": 9,
   "metadata": {},
   "outputs": [],
   "source": [
    "waLocations['wsbo'] = 'Served'"
   ]
  },
  {
   "cell_type": "code",
   "execution_count": 13,
   "metadata": {},
   "outputs": [],
   "source": [
    "waLocations.loc[waLocations.location_id.isin(wsboUnderserved.location_id), 'wsbo'] = 'Underserved'\n",
    "waLocations.loc[waLocations.location_id.isin(wsboUnserved.location_id), 'wsbo'] = 'Unserved'"
   ]
  },
  {
   "cell_type": "code",
   "execution_count": 14,
   "metadata": {},
   "outputs": [
    {
     "data": {
      "text/plain": [
       "wsbo\n",
       "Served         2206330\n",
       "Unserved        236134\n",
       "Underserved      85434\n",
       "Name: count, dtype: int64"
      ]
     },
     "execution_count": 14,
     "metadata": {},
     "output_type": "execute_result"
    }
   ],
   "source": [
    "waLocations.wsbo.value_counts()"
   ]
  },
  {
   "cell_type": "code",
   "execution_count": 55,
   "metadata": {},
   "outputs": [
    {
     "data": {
      "text/html": [
       "<style>.itables table td {\n",
       "    text-overflow: ellipsis;\n",
       "    overflow: hidden;\n",
       "}\n",
       "\n",
       ".itables table th {\n",
       "    text-overflow: ellipsis;\n",
       "    overflow: hidden;\n",
       "}\n",
       "\n",
       ".itables thead input {\n",
       "    width: 100%;\n",
       "    padding: 3px;\n",
       "    box-sizing: border-box;\n",
       "}\n",
       "\n",
       ".itables tfoot input {\n",
       "    width: 100%;\n",
       "    padding: 3px;\n",
       "    box-sizing: border-box;\n",
       "}\n",
       "</style>\n",
       "<div class=\"itables\">\n",
       "<table id=\"ef7127bd-7b03-4d36-a586-63c10338504e\" class=\"display nowrap\"style=\"float:left;width:auto\"><thead>\n",
       "    <tr style=\"text-align: right;\">\n",
       "      <th></th>\n",
       "      <th>count</th>\n",
       "    </tr>\n",
       "    <tr>\n",
       "      <th>cableserved</th>\n",
       "      <th></th>\n",
       "    </tr>\n",
       "  </thead><tbody><tr><td>Loading... (need <a href=https://mwouts.github.io/itables/troubleshooting.html>help</a>?)</td></tr></tbody></table>\n",
       "<link rel=\"stylesheet\" type=\"text/css\" href=\"https://cdn.datatables.net/1.13.1/css/jquery.dataTables.min.css\">\n",
       "<script type=\"module\">\n",
       "    // Import jquery and DataTable\n",
       "    import 'https://code.jquery.com/jquery-3.6.0.min.js';\n",
       "    import dt from 'https://cdn.datatables.net/1.12.1/js/jquery.dataTables.mjs';\n",
       "    dt($);\n",
       "\n",
       "    // Define the table data\n",
       "    const data = [[\"Unserved\", 2527898]];\n",
       "\n",
       "    // Define the dt_args\n",
       "    let dt_args = {\"order\": [], \"dom\": \"t\"};\n",
       "    dt_args[\"data\"] = data;\n",
       "\n",
       "    $(document).ready(function () {\n",
       "        \n",
       "        $('#ef7127bd-7b03-4d36-a586-63c10338504e').DataTable(dt_args);\n",
       "    });\n",
       "</script>\n",
       "</div>\n"
      ],
      "text/plain": [
       "<IPython.core.display.HTML object>"
      ]
     },
     "metadata": {},
     "output_type": "display_data"
    }
   ],
   "source": [
    "itables.show(waLocations.cableserved.value_counts())"
   ]
  },
  {
   "cell_type": "markdown",
   "metadata": {},
   "source": [
    "## FCC Technology Service "
   ]
  },
  {
   "cell_type": "code",
   "execution_count": 50,
   "metadata": {},
   "outputs": [
    {
     "data": {
      "text/html": [
       "<style>.itables table td {\n",
       "    text-overflow: ellipsis;\n",
       "    overflow: hidden;\n",
       "}\n",
       "\n",
       ".itables table th {\n",
       "    text-overflow: ellipsis;\n",
       "    overflow: hidden;\n",
       "}\n",
       "\n",
       ".itables thead input {\n",
       "    width: 100%;\n",
       "    padding: 3px;\n",
       "    box-sizing: border-box;\n",
       "}\n",
       "\n",
       ".itables tfoot input {\n",
       "    width: 100%;\n",
       "    padding: 3px;\n",
       "    box-sizing: border-box;\n",
       "}\n",
       "</style>\n",
       "<div class=\"itables\">\n",
       "<table id=\"2abaf7f3-f8cd-44b4-81d9-c830451989a5\" class=\"display nowrap\"style=\"float:left;width:auto\"><thead>\n",
       "    <tr style=\"text-align: right;\">\n",
       "      \n",
       "      <th>technology</th>\n",
       "      <th>count</th>\n",
       "      <th>techName</th>\n",
       "    </tr>\n",
       "  </thead><tbody><tr><td>Loading... (need <a href=https://mwouts.github.io/itables/troubleshooting.html>help</a>?)</td></tr></tbody></table>\n",
       "<link rel=\"stylesheet\" type=\"text/css\" href=\"https://cdn.datatables.net/1.13.1/css/jquery.dataTables.min.css\">\n",
       "<script type=\"module\">\n",
       "    // Import jquery and DataTable\n",
       "    import 'https://code.jquery.com/jquery-3.6.0.min.js';\n",
       "    import dt from 'https://cdn.datatables.net/1.12.1/js/jquery.dataTables.mjs';\n",
       "    dt($);\n",
       "\n",
       "    // Define the table data\n",
       "    const data = [[60, 7566578, \"GSO\"], [71, 2921667, \"LFW\"], [61, 2527467, \"NGSO\"], [40, 2259782, \"Cable\"], [70, 1938421, \"UFW\"], [10, 1836789, \"Copper\"], [50, 873712, \"Fiber\"], [72, 59877, \"LBRW\"]];\n",
       "\n",
       "    // Define the dt_args\n",
       "    let dt_args = {\"order\": [], \"dom\": \"t\"};\n",
       "    dt_args[\"data\"] = data;\n",
       "\n",
       "    $(document).ready(function () {\n",
       "        \n",
       "        $('#2abaf7f3-f8cd-44b4-81d9-c830451989a5').DataTable(dt_args);\n",
       "    });\n",
       "</script>\n",
       "</div>\n"
      ],
      "text/plain": [
       "<IPython.core.display.HTML object>"
      ]
     },
     "metadata": {},
     "output_type": "display_data"
    }
   ],
   "source": [
    "itables.show(waAvailabilityData.technology.value_counts().reset_index().merge(techDf, how='left'))"
   ]
  },
  {
   "cell_type": "markdown",
   "metadata": {},
   "source": [
    "### Cable Service Categories"
   ]
  },
  {
   "cell_type": "code",
   "execution_count": 57,
   "metadata": {},
   "outputs": [],
   "source": [
    "waLocations['cableServed'] = 'Unserved'\n",
    "techData = waAvailabilityData[waAvailabilityData.technology == 40]\n",
    "techLocations = techData[((techData.max_advertised_download_speed >= 25) & (techData.max_advertised_upload_speed >= 3))].location_id.reset_index(drop=True)\n",
    "waLocations.loc[waLocations.location_id.isin(techLocations), 'cableServed'] = 'Underserved'\n",
    "techLocations = techData[((techData.max_advertised_download_speed >= 100) & (techData.max_advertised_upload_speed >= 20))].location_id.reset_index(drop=True)\n",
    "waLocations.loc[waLocations.location_id.isin(techLocations), 'cableServed'] = 'Served'"
   ]
  },
  {
   "cell_type": "markdown",
   "metadata": {},
   "source": [
    "### Copper Service Categories"
   ]
  },
  {
   "cell_type": "code",
   "execution_count": 60,
   "metadata": {},
   "outputs": [],
   "source": [
    "waLocations['copperServed'] = 'Unserved'\n",
    "techData = waAvailabilityData[waAvailabilityData.technology == 10]\n",
    "techLocations = techData[((techData.max_advertised_download_speed >= 25) & (techData.max_advertised_upload_speed >= 3))].location_id.reset_index(drop=True)\n",
    "waLocations.loc[waLocations.location_id.isin(techLocations), 'copperServed'] = 'Underserved'\n",
    "techLocations = techData[((techData.max_advertised_download_speed >= 100) & (techData.max_advertised_upload_speed >= 20))].location_id.reset_index(drop=True)\n",
    "waLocations.loc[waLocations.location_id.isin(techLocations), 'copperServed'] = 'Served'"
   ]
  },
  {
   "cell_type": "markdown",
   "metadata": {},
   "source": [
    "### Fiber Service Categories"
   ]
  },
  {
   "cell_type": "code",
   "execution_count": 56,
   "metadata": {},
   "outputs": [],
   "source": [
    "waLocations['fiberServed'] = 'Unserved'\n",
    "techData = waAvailabilityData[waAvailabilityData.technology == 50]\n",
    "techLocations = techData[((techData.max_advertised_download_speed >= 25) & (techData.max_advertised_upload_speed >= 3))].location_id.reset_index(drop=True)\n",
    "waLocations.loc[waLocations.location_id.isin(techLocations), 'fiberServed'] = 'Underserved'\n",
    "techLocations = techData[((techData.max_advertised_download_speed >= 100) & (techData.max_advertised_upload_speed >= 20))].location_id.reset_index(drop=True)\n",
    "waLocations.loc[waLocations.location_id.isin(techLocations), 'fiberServed'] = 'Served'"
   ]
  },
  {
   "cell_type": "markdown",
   "metadata": {},
   "source": [
    "### Geo-Stationary Orbit"
   ]
  },
  {
   "cell_type": "code",
   "execution_count": 62,
   "metadata": {},
   "outputs": [],
   "source": [
    "waLocations['gsoServed'] = 'Unserved'\n",
    "techData = waAvailabilityData[waAvailabilityData.technology == 60]\n",
    "techLocations = techData[((techData.max_advertised_download_speed >= 25) & (techData.max_advertised_upload_speed >= 3))].location_id.reset_index(drop=True)\n",
    "waLocations.loc[waLocations.location_id.isin(techLocations), 'gsoServed'] = 'Underserved'\n",
    "techLocations = techData[((techData.max_advertised_download_speed >= 100) & (techData.max_advertised_upload_speed >= 20))].location_id.reset_index(drop=True)\n",
    "waLocations.loc[waLocations.location_id.isin(techLocations), 'gsoServed'] = 'Served'"
   ]
  },
  {
   "cell_type": "markdown",
   "metadata": {},
   "source": [
    "### LBR Wireless"
   ]
  },
  {
   "cell_type": "code",
   "execution_count": 64,
   "metadata": {},
   "outputs": [],
   "source": [
    "waLocations['lbrwServed'] = 'Unserved'\n",
    "techData = waAvailabilityData[waAvailabilityData.technology == 72]\n",
    "techLocations = techData[((techData.max_advertised_download_speed >= 25) & (techData.max_advertised_upload_speed >= 3))].location_id.reset_index(drop=True)\n",
    "waLocations.loc[waLocations.location_id.isin(techLocations), 'lbrwServed'] = 'Underserved'\n",
    "techLocations = techData[((techData.max_advertised_download_speed >= 100) & (techData.max_advertised_upload_speed >= 20))].location_id.reset_index(drop=True)\n",
    "waLocations.loc[waLocations.location_id.isin(techLocations), 'lbrwServed'] = 'Served'"
   ]
  },
  {
   "cell_type": "markdown",
   "metadata": {},
   "source": [
    "### Licensed Fixed Wireless"
   ]
  },
  {
   "cell_type": "code",
   "execution_count": 66,
   "metadata": {},
   "outputs": [],
   "source": [
    "waLocations['lfwServed'] = 'Unserved'\n",
    "techData = waAvailabilityData[waAvailabilityData.technology == 71]\n",
    "techLocations = techData[((techData.max_advertised_download_speed >= 25) & (techData.max_advertised_upload_speed >= 3))].location_id.reset_index(drop=True)\n",
    "waLocations.loc[waLocations.location_id.isin(techLocations), 'lfwServed'] = 'Underserved'\n",
    "techLocations = techData[((techData.max_advertised_download_speed >= 100) & (techData.max_advertised_upload_speed >= 20))].location_id.reset_index(drop=True)\n",
    "waLocations.loc[waLocations.location_id.isin(techLocations), 'lfwServed'] = 'Served'"
   ]
  },
  {
   "cell_type": "markdown",
   "metadata": {},
   "source": [
    "### Non-Geostationary Orbit"
   ]
  },
  {
   "cell_type": "code",
   "execution_count": 67,
   "metadata": {},
   "outputs": [],
   "source": [
    "waLocations['ngsoServed'] = 'Unserved'\n",
    "techData = waAvailabilityData[waAvailabilityData.technology == 61]\n",
    "techLocations = techData[((techData.max_advertised_download_speed >= 25) & (techData.max_advertised_upload_speed >= 3))].location_id.reset_index(drop=True)\n",
    "waLocations.loc[waLocations.location_id.isin(techLocations), 'ngsoServed'] = 'Underserved'\n",
    "techLocations = techData[((techData.max_advertised_download_speed >= 100) & (techData.max_advertised_upload_speed >= 20))].location_id.reset_index(drop=True)\n",
    "waLocations.loc[waLocations.location_id.isin(techLocations), 'ngsoServed'] = 'Served'"
   ]
  },
  {
   "cell_type": "markdown",
   "metadata": {},
   "source": [
    "### Unlicensed Fixed Wireless"
   ]
  },
  {
   "cell_type": "code",
   "execution_count": 69,
   "metadata": {},
   "outputs": [],
   "source": [
    "waLocations['ufwServed'] = 'Unserved'\n",
    "techData = waAvailabilityData[waAvailabilityData.technology == 70]\n",
    "techLocations = techData[((techData.max_advertised_download_speed >= 25) & (techData.max_advertised_upload_speed >= 3))].location_id.reset_index(drop=True)\n",
    "waLocations.loc[waLocations.location_id.isin(techLocations), 'ufwServed'] = 'Underserved'\n",
    "techLocations = techData[((techData.max_advertised_download_speed >= 100) & (techData.max_advertised_upload_speed >= 20))].location_id.reset_index(drop=True)\n",
    "waLocations.loc[waLocations.location_id.isin(techLocations), 'ufwServed'] = 'Served'"
   ]
  },
  {
   "cell_type": "code",
   "execution_count": 70,
   "metadata": {},
   "outputs": [
    {
     "data": {
      "text/html": [
       "<style>.itables table td {\n",
       "    text-overflow: ellipsis;\n",
       "    overflow: hidden;\n",
       "}\n",
       "\n",
       ".itables table th {\n",
       "    text-overflow: ellipsis;\n",
       "    overflow: hidden;\n",
       "}\n",
       "\n",
       ".itables thead input {\n",
       "    width: 100%;\n",
       "    padding: 3px;\n",
       "    box-sizing: border-box;\n",
       "}\n",
       "\n",
       ".itables tfoot input {\n",
       "    width: 100%;\n",
       "    padding: 3px;\n",
       "    box-sizing: border-box;\n",
       "}\n",
       "</style>\n",
       "<div class=\"itables\">\n",
       "<table id=\"dd569439-aa2d-4327-ac0e-a7d6651ac7f6\" class=\"display nowrap\"style=\"float:left;width:auto\"><thead>\n",
       "    <tr style=\"text-align: right;\">\n",
       "      <th></th>\n",
       "      <th>location_id</th>\n",
       "      <th>block_geoid</th>\n",
       "      <th>county_geoid</th>\n",
       "      <th>wsbo</th>\n",
       "      <th>fiberserved</th>\n",
       "      <th>cableserved</th>\n",
       "      <th>copperserved</th>\n",
       "      <th>gsoServed</th>\n",
       "      <th>lbrwServed</th>\n",
       "      <th>lfwServed</th>\n",
       "      <th>ngsoServed</th>\n",
       "      <th>ufwServed</th>\n",
       "    </tr>\n",
       "  </thead><tbody><tr><td>Loading... (need <a href=https://mwouts.github.io/itables/troubleshooting.html>help</a>?)</td></tr></tbody></table>\n",
       "<link rel=\"stylesheet\" type=\"text/css\" href=\"https://cdn.datatables.net/1.13.1/css/jquery.dataTables.min.css\">\n",
       "<script type=\"module\">\n",
       "    // Import jquery and DataTable\n",
       "    import 'https://code.jquery.com/jquery-3.6.0.min.js';\n",
       "    import dt from 'https://cdn.datatables.net/1.12.1/js/jquery.dataTables.mjs';\n",
       "    dt($);\n",
       "\n",
       "    // Define the table data\n",
       "    const data = [[0, 1015880838, \"530659514022053\", \"53065\", \"Served\", \"Unserved\", \"Served\", \"Underserved\", \"Underserved\", \"Underserved\", \"Unserved\", \"Underserved\", \"Underserved\"], [1, 1073176227, \"530350910012001\", \"53035\", \"Served\", \"Unserved\", \"Served\", \"Unserved\", \"Underserved\", \"Unserved\", \"Unserved\", \"Underserved\", \"Unserved\"], [2, 1073185639, \"530350907004015\", \"53035\", \"Served\", \"Unserved\", \"Served\", \"Unserved\", \"Underserved\", \"Unserved\", \"Unserved\", \"Underserved\", \"Unserved\"], [3, 1056655277, \"530499502005010\", \"53049\", \"Served\", \"Unserved\", \"Served\", \"Unserved\", \"Underserved\", \"Unserved\", \"Unserved\", \"Underserved\", \"Underserved\"], [4, 1073186253, \"530350909022006\", \"53035\", \"Served\", \"Unserved\", \"Served\", \"Unserved\", \"Underserved\", \"Unserved\", \"Unserved\", \"Underserved\", \"Unserved\"], [5, 1056655761, \"530499502004023\", \"53049\", \"Served\", \"Unserved\", \"Served\", \"Unserved\", \"Underserved\", \"Unserved\", \"Unserved\", \"Underserved\", \"Underserved\"], [6, 1063122914, \"530150020013011\", \"53015\", \"Served\", \"Unserved\", \"Served\", \"Unserved\", \"Underserved\", \"Unserved\", \"Underserved\", \"Underserved\", \"Unserved\"], [7, 1073189314, \"530350801023000\", \"53035\", \"Served\", \"Unserved\", \"Served\", \"Unserved\", \"Underserved\", \"Unserved\", \"Served\", \"Underserved\", \"Unserved\"], [8, 1063124469, \"530150020012011\", \"53015\", \"Served\", \"Unserved\", \"Served\", \"Unserved\", \"Underserved\", \"Unserved\", \"Underserved\", \"Underserved\", \"Unserved\"], [9, 1056657158, \"530499502005003\", \"53049\", \"Served\", \"Unserved\", \"Served\", \"Unserved\", \"Underserved\", \"Unserved\", \"Unserved\", \"Underserved\", \"Underserved\"], [10, 1073194185, \"530350803002005\", \"53035\", \"Served\", \"Served\", \"Served\", \"Unserved\", \"Underserved\", \"Unserved\", \"Unserved\", \"Underserved\", \"Unserved\"], [11, 1073275936, \"530350902012006\", \"53035\", \"Served\", \"Unserved\", \"Served\", \"Unserved\", \"Underserved\", \"Unserved\", \"Unserved\", \"Underserved\", \"Unserved\"], [12, 1063130307, \"530150016012074\", \"53015\", \"Served\", \"Unserved\", \"Served\", \"Unserved\", \"Underserved\", \"Unserved\", \"Unserved\", \"Underserved\", \"Unserved\"], [13, 1073197017, \"530350915001005\", \"53035\", \"Served\", \"Served\", \"Served\", \"Unserved\", \"Underserved\", \"Unserved\", \"Unserved\", \"Underserved\", \"Unserved\"], [14, 1073278239, \"530350905023005\", \"53035\", \"Served\", \"Unserved\", \"Served\", \"Unserved\", \"Underserved\", \"Unserved\", \"Unserved\", \"Underserved\", \"Unserved\"], [15, 1073281499, \"530350905021008\", \"53035\", \"Served\", \"Unserved\", \"Served\", \"Unserved\", \"Underserved\", \"Unserved\", \"Underserved\", \"Underserved\", \"Unserved\"], [16, 1073199650, \"530350916001000\", \"53035\", \"Served\", \"Served\", \"Served\", \"Unserved\", \"Underserved\", \"Unserved\", \"Served\", \"Underserved\", \"Unserved\"], [17, 1073282028, \"530350902023013\", \"53035\", \"Served\", \"Unserved\", \"Served\", \"Underserved\", \"Underserved\", \"Unserved\", \"Underserved\", \"Underserved\", \"Unserved\"], [18, 1073204238, \"530350917012000\", \"53035\", \"Served\", \"Unserved\", \"Served\", \"Unserved\", \"Underserved\", \"Unserved\", \"Underserved\", \"Underserved\", \"Unserved\"], [19, 1073206807, \"530350919001000\", \"53035\", \"Served\", \"Served\", \"Served\", \"Unserved\", \"Underserved\", \"Unserved\", \"Underserved\", \"Underserved\", \"Unserved\"], [20, 1073215271, \"530350811002008\", \"53035\", \"Served\", \"Unserved\", \"Served\", \"Underserved\", \"Underserved\", \"Unserved\", \"Underserved\", \"Underserved\", \"Unserved\"], [21, 1105674227, \"530419705001007\", \"53041\", \"Served\", \"Unserved\", \"Served\", \"Unserved\", \"Underserved\", \"Unserved\", \"Underserved\", \"Underserved\", \"Unserved\"], [22, 1073215791, \"530350806003009\", \"53035\", \"Served\", \"Unserved\", \"Served\", \"Underserved\", \"Underserved\", \"Unserved\", \"Underserved\", \"Underserved\", \"Unserved\"], [23, 1105676135, \"530419704001045\", \"53041\", \"Served\", \"Unserved\", \"Served\", \"Unserved\", \"Underserved\", \"Unserved\", \"Underserved\", \"Underserved\", \"Unserved\"], [24, 1073217036, \"530350812002014\", \"53035\", \"Served\", \"Unserved\", \"Served\", \"Underserved\", \"Underserved\", \"Unserved\", \"Served\", \"Underserved\", \"Unserved\"], [25, 1063138082, \"530150017001001\", \"53015\", \"Served\", \"Served\", \"Served\", \"Unserved\", \"Underserved\", \"Unserved\", \"Unserved\", \"Underserved\", \"Unserved\"], [26, 1073221297, \"530350806001002\", \"53035\", \"Served\", \"Served\", \"Served\", \"Unserved\", \"Underserved\", \"Unserved\", \"Unserved\", \"Underserved\", \"Unserved\"], [27, 1063142397, \"530150012001007\", \"53015\", \"Served\", \"Served\", \"Served\", \"Unserved\", \"Underserved\", \"Unserved\", \"Unserved\", \"Underserved\", \"Unserved\"], [28, 1296248370, \"530299710001051\", \"53029\", \"Served\", \"Unserved\", \"Served\", \"Unserved\", \"Underserved\", \"Unserved\", \"Underserved\", \"Underserved\", \"Unserved\"], [29, 1073224818, \"530350809002009\", \"53035\", \"Served\", \"Unserved\", \"Served\", \"Underserved\", \"Underserved\", \"Unserved\", \"Unserved\", \"Underserved\", \"Unserved\"], [30, 1296266689, \"530299706021002\", \"53029\", \"Served\", \"Unserved\", \"Served\", \"Unserved\", \"Underserved\", \"Unserved\", \"Unserved\", \"Underserved\", \"Unserved\"], [31, 1063150061, \"530150005011017\", \"53015\", \"Served\", \"Served\", \"Served\", \"Unserved\", \"Underserved\", \"Unserved\", \"Underserved\", \"Underserved\", \"Unserved\"], [32, 1063154678, \"530150008011013\", \"53015\", \"Served\", \"Unserved\", \"Served\", \"Unserved\", \"Underserved\", \"Unserved\", \"Underserved\", \"Underserved\", \"Unserved\"], [33, 1296267353, \"530299706022001\", \"53029\", \"Served\", \"Unserved\", \"Served\", \"Unserved\", \"Underserved\", \"Unserved\", \"Unserved\", \"Underserved\", \"Unserved\"], [34, 1073228065, \"530350805003004\", \"53035\", \"Served\", \"Served\", \"Served\", \"Unserved\", \"Underserved\", \"Unserved\", \"Unserved\", \"Underserved\", \"Unserved\"], [35, 1296267947, \"530299705004002\", \"53029\", \"Served\", \"Unserved\", \"Served\", \"Unserved\", \"Underserved\", \"Unserved\", \"Unserved\", \"Underserved\", \"Unserved\"], [36, 1063155609, \"530150021004001\", \"53015\", \"Served\", \"Served\", \"Served\", \"Unserved\", \"Underserved\", \"Unserved\", \"Underserved\", \"Underserved\", \"Unserved\"], [37, 1073234240, \"530350901022020\", \"53035\", \"Served\", \"Unserved\", \"Served\", \"Underserved\", \"Underserved\", \"Unserved\", \"Unserved\", \"Underserved\", \"Unserved\"], [38, 1063160299, \"530150007061014\", \"53015\", \"Served\", \"Served\", \"Served\", \"Underserved\", \"Underserved\", \"Unserved\", \"Underserved\", \"Underserved\", \"Unserved\"], [39, 1296268666, \"530299707001013\", \"53029\", \"Served\", \"Served\", \"Served\", \"Underserved\", \"Underserved\", \"Unserved\", \"Unserved\", \"Underserved\", \"Unserved\"], [40, 1073235851, \"530350901024028\", \"53035\", \"Served\", \"Unserved\", \"Served\", \"Unserved\", \"Underserved\", \"Unserved\", \"Unserved\", \"Underserved\", \"Unserved\"], [41, 1296269714, \"530299703001000\", \"53029\", \"Served\", \"Unserved\", \"Served\", \"Unserved\", \"Underserved\", \"Unserved\", \"Served\", \"Underserved\", \"Unserved\"], [42, 1063162101, \"530150006023007\", \"53015\", \"Served\", \"Served\", \"Served\", \"Unserved\", \"Underserved\", \"Unserved\", \"Unserved\", \"Underserved\", \"Unserved\"], [43, 1063164419, \"530150008011009\", \"53015\", \"Served\", \"Unserved\", \"Served\", \"Unserved\", \"Underserved\", \"Unserved\", \"Underserved\", \"Underserved\", \"Unserved\"], [44, 1296276430, \"530299707002016\", \"53029\", \"Served\", \"Unserved\", \"Served\", \"Unserved\", \"Underserved\", \"Unserved\", \"Unserved\", \"Underserved\", \"Unserved\"], [45, 1302600501, \"530670116222003\", \"53067\", \"Served\", \"Unserved\", \"Served\", \"Underserved\", \"Underserved\", \"Unserved\", \"Unserved\", \"Underserved\", \"Unserved\"], [46, 1296277194, \"530299706023003\", \"53029\", \"Served\", \"Unserved\", \"Served\", \"Unserved\", \"Underserved\", \"Unserved\", \"Unserved\", \"Underserved\", \"Unserved\"], [47, 1296277652, \"530299705003003\", \"53029\", \"Served\", \"Unserved\", \"Served\", \"Unserved\", \"Underserved\", \"Unserved\", \"Unserved\", \"Underserved\", \"Unserved\"], [48, 1063165131, \"530150005021018\", \"53015\", \"Served\", \"Served\", \"Served\", \"Unserved\", \"Underserved\", \"Unserved\", \"Unserved\", \"Underserved\", \"Unserved\"], [49, 1063173296, \"530150015031002\", \"53015\", \"Served\", \"Unserved\", \"Served\", \"Unserved\", \"Underserved\", \"Unserved\", \"Unserved\", \"Underserved\", \"Unserved\"], [50, 1296277839, \"530299705001015\", \"53029\", \"Served\", \"Unserved\", \"Served\", \"Unserved\", \"Underserved\", \"Unserved\", \"Underserved\", \"Underserved\", \"Unserved\"], [51, 1302601460, \"530670116251001\", \"53067\", \"Served\", \"Unserved\", \"Served\", \"Underserved\", \"Underserved\", \"Unserved\", \"Unserved\", \"Underserved\", \"Unserved\"], [52, 1063173405, \"530150015042008\", \"53015\", \"Served\", \"Served\", \"Served\", \"Unserved\", \"Underserved\", \"Unserved\", \"Underserved\", \"Underserved\", \"Unserved\"], [53, 1302607145, \"530670116262000\", \"53067\", \"Served\", \"Unserved\", \"Served\", \"Unserved\", \"Underserved\", \"Unserved\", \"Unserved\", \"Underserved\", \"Unserved\"], [54, 1296411339, \"530459606003021\", \"53045\", \"Served\", \"Served\", \"Served\", \"Unserved\", \"Underserved\", \"Unserved\", \"Unserved\", \"Underserved\", \"Unserved\"], [55, 1296419026, \"530459607001035\", \"53045\", \"Served\", \"Served\", \"Served\", \"Unserved\", \"Underserved\", \"Unserved\", \"Underserved\", \"Underserved\", \"Unserved\"], [56, 1302662266, \"530670102001014\", \"53067\", \"Served\", \"Unserved\", \"Served\", \"Unserved\", \"Underserved\", \"Unserved\", \"Unserved\", \"Underserved\", \"Unserved\"], [57, 1302611751, \"530670123313021\", \"53067\", \"Served\", \"Served\", \"Served\", \"Unserved\", \"Underserved\", \"Unserved\", \"Unserved\", \"Underserved\", \"Unserved\"], [58, 1302663246, \"530670109201017\", \"53067\", \"Served\", \"Unserved\", \"Served\", \"Unserved\", \"Underserved\", \"Unserved\", \"Underserved\", \"Underserved\", \"Unserved\"], [59, 1296423942, \"530459609001006\", \"53045\", \"Served\", \"Unserved\", \"Served\", \"Unserved\", \"Underserved\", \"Unserved\", \"Unserved\", \"Underserved\", \"Unserved\"], [60, 1302614677, \"530670106004012\", \"53067\", \"Served\", \"Unserved\", \"Served\", \"Unserved\", \"Underserved\", \"Unserved\", \"Unserved\", \"Underserved\", \"Unserved\"], [61, 1302663473, \"530670124222022\", \"53067\", \"Served\", \"Served\", \"Served\", \"Unserved\", \"Underserved\", \"Unserved\", \"Unserved\", \"Underserved\", \"Unserved\"], [62, 1302615619, \"530670115004001\", \"53067\", \"Served\", \"Unserved\", \"Served\", \"Unserved\", \"Underserved\", \"Unserved\", \"Unserved\", \"Underserved\", \"Unserved\"], [63, 1302670373, \"530670117213000\", \"53067\", \"Served\", \"Unserved\", \"Served\", \"Unserved\", \"Underserved\", \"Unserved\", \"Served\", \"Underserved\", \"Unserved\"], [64, 1310085859, \"530730002032017\", \"53073\", \"Served\", \"Unserved\", \"Served\", \"Unserved\", \"Underserved\", \"Unserved\", \"Unserved\", \"Underserved\", \"Unserved\"], [65, 1302619354, \"530670109202001\", \"53067\", \"Served\", \"Unserved\", \"Served\", \"Unserved\", \"Underserved\", \"Unserved\", \"Unserved\", \"Underserved\", \"Unserved\"], [66, 1310086710, \"530730002031000\", \"53073\", \"Served\", \"Unserved\", \"Served\", \"Unserved\", \"Underserved\", \"Unserved\", \"Unserved\", \"Underserved\", \"Unserved\"], [67, 1302671342, \"530670122252020\", \"53067\", \"Served\", \"Unserved\", \"Served\", \"Underserved\", \"Underserved\", \"Unserved\", \"Unserved\", \"Underserved\", \"Unserved\"], [68, 1302673719, \"530670102002025\", \"53067\", \"Served\", \"Unserved\", \"Served\", \"Unserved\", \"Underserved\", \"Unserved\", \"Unserved\", \"Underserved\", \"Unserved\"], [69, 1310086783, \"530730002021015\", \"53073\", \"Served\", \"Unserved\", \"Served\", \"Underserved\", \"Underserved\", \"Unserved\", \"Unserved\", \"Underserved\", \"Unserved\"], [70, 1302620922, \"530670102003040\", \"53067\", \"Served\", \"Unserved\", \"Served\", \"Unserved\", \"Underserved\", \"Unserved\", \"Unserved\", \"Underserved\", \"Unserved\"], [71, 1310087039, \"530730002032010\", \"53073\", \"Served\", \"Unserved\", \"Served\", \"Unserved\", \"Underserved\", \"Unserved\", \"Underserved\", \"Underserved\", \"Unserved\"], [72, 1302676181, \"530670111003005\", \"53067\", \"Served\", \"Unserved\", \"Served\", \"Underserved\", \"Underserved\", \"Unserved\", \"Served\", \"Underserved\", \"Unserved\"], [73, 1302622943, \"530670116283000\", \"53067\", \"Served\", \"Unserved\", \"Served\", \"Underserved\", \"Underserved\", \"Unserved\", \"Unserved\", \"Underserved\", \"Unserved\"], [74, 1302677977, \"530670123203009\", \"53067\", \"Served\", \"Unserved\", \"Served\", \"Unserved\", \"Underserved\", \"Unserved\", \"Unserved\", \"Underserved\", \"Unserved\"], [75, 1310087488, \"530730002021010\", \"53073\", \"Served\", \"Unserved\", \"Served\", \"Underserved\", \"Underserved\", \"Unserved\", \"Unserved\", \"Underserved\", \"Unserved\"], [76, 1302626504, \"530670123311003\", \"53067\", \"Served\", \"Unserved\", \"Served\", \"Underserved\", \"Underserved\", \"Unserved\", \"Unserved\", \"Underserved\", \"Unserved\"], [77, 1310089880, \"530730106001017\", \"53073\", \"Served\", \"Unserved\", \"Served\", \"Unserved\", \"Underserved\", \"Unserved\", \"Unserved\", \"Underserved\", \"Unserved\"], [78, 1310094521, \"530730104052000\", \"53073\", \"Served\", \"Unserved\", \"Served\", \"Unserved\", \"Underserved\", \"Unserved\", \"Unserved\", \"Underserved\", \"Unserved\"], [79, 1302681859, \"530670106005035\", \"53067\", \"Served\", \"Unserved\", \"Served\", \"Underserved\", \"Underserved\", \"Unserved\", \"Underserved\", \"Underserved\", \"Unserved\"], [80, 1302683819, \"530670122111025\", \"53067\", \"Served\", \"Unserved\", \"Served\", \"Unserved\", \"Underserved\", \"Unserved\", \"Unserved\", \"Underserved\", \"Unserved\"], [81, 1302630682, \"530670118211014\", \"53067\", \"Served\", \"Unserved\", \"Served\", \"Unserved\", \"Underserved\", \"Unserved\", \"Unserved\", \"Underserved\", \"Unserved\"], [82, 1302684252, \"530670121001013\", \"53067\", \"Served\", \"Unserved\", \"Served\", \"Unserved\", \"Underserved\", \"Unserved\", \"Unserved\", \"Underserved\", \"Unserved\"], [83, 1310094819, \"530730104051028\", \"53073\", \"Served\", \"Served\", \"Served\", \"Unserved\", \"Underserved\", \"Unserved\", \"Unserved\", \"Underserved\", \"Unserved\"], [84, 1310096495, \"530730104051005\", \"53073\", \"Served\", \"Unserved\", \"Served\", \"Unserved\", \"Underserved\", \"Unserved\", \"Unserved\", \"Underserved\", \"Unserved\"], [85, 1302684491, \"530670118211004\", \"53067\", \"Served\", \"Unserved\", \"Served\", \"Underserved\", \"Underserved\", \"Unserved\", \"Underserved\", \"Underserved\", \"Unserved\"], [86, 1302636715, \"530670127303023\", \"53067\", \"Served\", \"Unserved\", \"Served\", \"Unserved\", \"Underserved\", \"Unserved\", \"Unserved\", \"Underserved\", \"Unserved\"], [87, 1302684710, \"530670126101004\", \"53067\", \"Served\", \"Unserved\", \"Served\", \"Unserved\", \"Underserved\", \"Unserved\", \"Unserved\", \"Underserved\", \"Unserved\"], [88, 1302685076, \"530670126202005\", \"53067\", \"Served\", \"Unserved\", \"Served\", \"Underserved\", \"Underserved\", \"Unserved\", \"Served\", \"Underserved\", \"Unserved\"], [89, 1302685917, \"530670126203010\", \"53067\", \"Served\", \"Unserved\", \"Served\", \"Underserved\", \"Underserved\", \"Unserved\", \"Served\", \"Underserved\", \"Unserved\"], [90, 1302711537, \"530670121002008\", \"53067\", \"Served\", \"Unserved\", \"Served\", \"Unserved\", \"Underserved\", \"Unserved\", \"Unserved\", \"Underserved\", \"Unserved\"], [91, 1310105377, \"530730008033014\", \"53073\", \"Served\", \"Unserved\", \"Served\", \"Unserved\", \"Underserved\", \"Unserved\", \"Unserved\", \"Underserved\", \"Unserved\"], [92, 1310111310, \"530730101011011\", \"53073\", \"Served\", \"Unserved\", \"Served\", \"Unserved\", \"Underserved\", \"Unserved\", \"Unserved\", \"Underserved\", \"Unserved\"], [93, 1310114050, \"530730107023028\", \"53073\", \"Served\", \"Unserved\", \"Served\", \"Unserved\", \"Underserved\", \"Unserved\", \"Underserved\", \"Underserved\", \"Unserved\"], [94, 1310117238, \"530730008082005\", \"53073\", \"Served\", \"Unserved\", \"Served\", \"Unserved\", \"Underserved\", \"Unserved\", \"Unserved\", \"Underserved\", \"Unserved\"], [95, 1302637978, \"530670104001022\", \"53067\", \"Served\", \"Unserved\", \"Served\", \"Unserved\", \"Underserved\", \"Unserved\", \"Unserved\", \"Underserved\", \"Unserved\"], [96, 1310120936, \"530730104111012\", \"53073\", \"Served\", \"Served\", \"Served\", \"Unserved\", \"Underserved\", \"Unserved\", \"Unserved\", \"Underserved\", \"Unserved\"], [97, 1310121044, \"530730104072008\", \"53073\", \"Served\", \"Unserved\", \"Served\", \"Unserved\", \"Underserved\", \"Unserved\", \"Unserved\", \"Underserved\", \"Unserved\"], [98, 1302716251, \"530670122252061\", \"53067\", \"Served\", \"Served\", \"Served\", \"Unserved\", \"Underserved\", \"Unserved\", \"Unserved\", \"Underserved\", \"Unserved\"], [99, 1302642233, \"530670116221006\", \"53067\", \"Served\", \"Unserved\", \"Served\", \"Served\", \"Underserved\", \"Unserved\", \"Underserved\", \"Underserved\", \"Unserved\"], [100, 1312926839, \"530579514002006\", \"53057\", \"Served\", \"Served\", \"Served\", \"Unserved\", \"Underserved\", \"Unserved\", \"Unserved\", \"Underserved\", \"Unserved\"], [101, 1310121462, \"530730104112000\", \"53073\", \"Served\", \"Unserved\", \"Served\", \"Unserved\", \"Underserved\", \"Unserved\", \"Unserved\", \"Underserved\", \"Unserved\"], [102, 1302643697, \"530670120012012\", \"53067\", \"Served\", \"Unserved\", \"Served\", \"Unserved\", \"Underserved\", \"Unserved\", \"Served\", \"Underserved\", \"Unserved\"], [103, 1310121770, \"530730104071018\", \"53073\", \"Served\", \"Served\", \"Served\", \"Unserved\", \"Underserved\", \"Unserved\", \"Unserved\", \"Underserved\", \"Unserved\"], [104, 1312929644, \"530579524012002\", \"53057\", \"Served\", \"Unserved\", \"Served\", \"Unserved\", \"Underserved\", \"Unserved\", \"Unserved\", \"Underserved\", \"Unserved\"], [105, 1302645492, \"530670104001006\", \"53067\", \"Served\", \"Unserved\", \"Served\", \"Unserved\", \"Underserved\", \"Unserved\", \"Unserved\", \"Underserved\", \"Unserved\"], [106, 1312931059, \"530579523043006\", \"53057\", \"Served\", \"Served\", \"Served\", \"Unserved\", \"Underserved\", \"Unserved\", \"Underserved\", \"Underserved\", \"Unserved\"], [107, 1310122547, \"530730011011006\", \"53073\", \"Served\", \"Unserved\", \"Served\", \"Unserved\", \"Underserved\", \"Unserved\", \"Unserved\", \"Underserved\", \"Unserved\"], [108, 1302648999, \"530670112004002\", \"53067\", \"Served\", \"Unserved\", \"Served\", \"Unserved\", \"Underserved\", \"Unserved\", \"Unserved\", \"Underserved\", \"Unserved\"], [109, 1310126799, \"530730011012011\", \"53073\", \"Served\", \"Unserved\", \"Served\", \"Unserved\", \"Underserved\", \"Unserved\", \"Served\", \"Underserved\", \"Unserved\"], [110, 1312931275, \"530579515032003\", \"53057\", \"Served\", \"Served\", \"Served\", \"Underserved\", \"Underserved\", \"Unserved\", \"Unserved\", \"Underserved\", \"Unserved\"], [111, 1310126913, \"530730011021062\", \"53073\", \"Served\", \"Unserved\", \"Served\", \"Unserved\", \"Underserved\", \"Unserved\", \"Served\", \"Underserved\", \"Unserved\"], [112, 1302650857, \"530670127303014\", \"53067\", \"Served\", \"Unserved\", \"Served\", \"Underserved\", \"Underserved\", \"Unserved\", \"Unserved\", \"Underserved\", \"Unserved\"], [113, 1310130412, \"530730010002008\", \"53073\", \"Served\", \"Unserved\", \"Served\", \"Unserved\", \"Underserved\", \"Unserved\", \"Unserved\", \"Underserved\", \"Unserved\"], [114, 1312932125, \"530579404032012\", \"53057\", \"Served\", \"Unserved\", \"Served\", \"Unserved\", \"Underserved\", \"Unserved\", \"Underserved\", \"Underserved\", \"Unserved\"], [115, 1312935954, \"530579402011018\", \"53057\", \"Served\", \"Unserved\", \"Served\", \"Unserved\", \"Underserved\", \"Unserved\", \"Unserved\", \"Underserved\", \"Unserved\"], [116, 1302651358, \"530670109102023\", \"53067\", \"Served\", \"Unserved\", \"Served\", \"Underserved\", \"Underserved\", \"Unserved\", \"Unserved\", \"Underserved\", \"Unserved\"], [117, 1312935962, \"530579402011018\", \"53057\", \"Served\", \"Unserved\", \"Served\", \"Unserved\", \"Underserved\", \"Unserved\", \"Unserved\", \"Underserved\", \"Unserved\"], [118, 1310131221, \"530730005012028\", \"53073\", \"Served\", \"Served\", \"Served\", \"Unserved\", \"Underserved\", \"Unserved\", \"Unserved\", \"Underserved\", \"Unserved\"], [119, 1310131769, \"530730005011051\", \"53073\", \"Served\", \"Unserved\", \"Served\", \"Unserved\", \"Underserved\", \"Unserved\", \"Unserved\", \"Underserved\", \"Unserved\"], [120, 1302651614, \"530670112003019\", \"53067\", \"Served\", \"Unserved\", \"Served\", \"Unserved\", \"Underserved\", \"Unserved\", \"Unserved\", \"Underserved\", \"Unserved\"], [121, 1310132975, \"530730005021012\", \"53073\", \"Served\", \"Served\", \"Served\", \"Unserved\", \"Underserved\", \"Unserved\", \"Served\", \"Underserved\", \"Unserved\"], [122, 1312937912, \"530579516001018\", \"53057\", \"Served\", \"Served\", \"Served\", \"Unserved\", \"Underserved\", \"Unserved\", \"Unserved\", \"Underserved\", \"Unserved\"], [123, 1302653741, \"530670127303022\", \"53067\", \"Served\", \"Unserved\", \"Served\", \"Underserved\", \"Underserved\", \"Unserved\", \"Unserved\", \"Underserved\", \"Unserved\"], [124, 1312943521, \"530579524011000\", \"53057\", \"Served\", \"Unserved\", \"Served\", \"Unserved\", \"Underserved\", \"Unserved\", \"Unserved\", \"Underserved\", \"Unserved\"], [125, 1312944314, \"530579523012000\", \"53057\", \"Served\", \"Unserved\", \"Served\", \"Unserved\", \"Underserved\", \"Unserved\", \"Unserved\", \"Underserved\", \"Unserved\"], [126, 1310133968, \"530730004022019\", \"53073\", \"Served\", \"Served\", \"Served\", \"Unserved\", \"Underserved\", \"Unserved\", \"Unserved\", \"Underserved\", \"Unserved\"], [127, 1302654753, \"530670122261034\", \"53067\", \"Served\", \"Unserved\", \"Served\", \"Underserved\", \"Underserved\", \"Unserved\", \"Underserved\", \"Underserved\", \"Unserved\"], [128, 1310135338, \"530730004013007\", \"53073\", \"Served\", \"Unserved\", \"Served\", \"Underserved\", \"Underserved\", \"Unserved\", \"Unserved\", \"Underserved\", \"Unserved\"], [129, 1310136436, \"530730004012003\", \"53073\", \"Served\", \"Unserved\", \"Served\", \"Underserved\", \"Underserved\", \"Unserved\", \"Unserved\", \"Underserved\", \"Unserved\"], [130, 1312946818, \"530579514004016\", \"53057\", \"Served\", \"Served\", \"Served\", \"Unserved\", \"Underserved\", \"Unserved\", \"Unserved\", \"Underserved\", \"Unserved\"], [131, 1302655315, \"530670116251006\", \"53067\", \"Served\", \"Unserved\", \"Served\", \"Unserved\", \"Underserved\", \"Unserved\", \"Unserved\", \"Underserved\", \"Unserved\"], [132, 1312948625, \"530579407001029\", \"53057\", \"Served\", \"Served\", \"Served\", \"Unserved\", \"Underserved\", \"Unserved\", \"Underserved\", \"Underserved\", \"Unserved\"], [133, 1310136439, \"530730004012011\", \"53073\", \"Served\", \"Unserved\", \"Served\", \"Unserved\", \"Underserved\", \"Unserved\", \"Unserved\", \"Underserved\", \"Unserved\"], [134, 1302655546, \"530670121002006\", \"53067\", \"Served\", \"Unserved\", \"Served\", \"Unserved\", \"Underserved\", \"Unserved\", \"Unserved\", \"Underserved\", \"Unserved\"], [135, 1310139751, \"530730105061005\", \"53073\", \"Served\", \"Unserved\", \"Served\", \"Unserved\", \"Underserved\", \"Unserved\", \"Unserved\", \"Underserved\", \"Unserved\"], [136, 1312956124, \"530579523041008\", \"53057\", \"Served\", \"Served\", \"Served\", \"Unserved\", \"Underserved\", \"Unserved\", \"Unserved\", \"Underserved\", \"Unserved\"], [137, 1312959874, \"530579523013005\", \"53057\", \"Served\", \"Unserved\", \"Served\", \"Unserved\", \"Underserved\", \"Unserved\", \"Unserved\", \"Underserved\", \"Unserved\"], [138, 1310140363, \"530730105051004\", \"53073\", \"Served\", \"Served\", \"Served\", \"Unserved\", \"Underserved\", \"Unserved\", \"Unserved\", \"Underserved\", \"Unserved\"], [139, 1302659415, \"530670107001007\", \"53067\", \"Served\", \"Unserved\", \"Served\", \"Unserved\", \"Underserved\", \"Unserved\", \"Unserved\", \"Underserved\", \"Unserved\"], [140, 1310142584, \"530730103012045\", \"53073\", \"Served\", \"Unserved\", \"Served\", \"Unserved\", \"Underserved\", \"Unserved\", \"Unserved\", \"Underserved\", \"Unserved\"], [141, 1312961234, \"530579524032010\", \"53057\", \"Served\", \"Served\", \"Served\", \"Unserved\", \"Underserved\", \"Unserved\", \"Unserved\", \"Underserved\", \"Unserved\"], [142, 1302661017, \"530670115002015\", \"53067\", \"Served\", \"Unserved\", \"Served\", \"Underserved\", \"Underserved\", \"Unserved\", \"Unserved\", \"Underserved\", \"Unserved\"], [143, 1312962609, \"530579519002046\", \"53057\", \"Served\", \"Unserved\", \"Served\", \"Unserved\", \"Underserved\", \"Unserved\", \"Unserved\", \"Underserved\", \"Unserved\"], [144, 1310184044, \"530730104111015\", \"53073\", \"Served\", \"Served\", \"Served\", \"Unserved\", \"Underserved\", \"Unserved\", \"Unserved\", \"Underserved\", \"Unserved\"], [145, 1330127317, \"530530718072001\", \"53053\", \"Served\", \"Unserved\", \"Served\", \"Unserved\", \"Underserved\", \"Unserved\", \"Unserved\", \"Underserved\", \"Unserved\"], [146, 1315726881, \"530270010001007\", \"53027\", \"Served\", \"Unserved\", \"Served\", \"Unserved\", \"Underserved\", \"Unserved\", \"Unserved\", \"Underserved\", \"Unserved\"], [147, 1312963566, \"530579523032011\", \"53057\", \"Served\", \"Unserved\", \"Served\", \"Unserved\", \"Underserved\", \"Unserved\", \"Unserved\", \"Underserved\", \"Unserved\"], [148, 1312980675, \"530579521003001\", \"53057\", \"Served\", \"Unserved\", \"Served\", \"Unserved\", \"Underserved\", \"Unserved\", \"Unserved\", \"Underserved\", \"Unserved\"], [149, 1315738011, \"530270014002019\", \"53027\", \"Served\", \"Unserved\", \"Served\", \"Unserved\", \"Underserved\", \"Unserved\", \"Underserved\", \"Underserved\", \"Unserved\"], [150, 1330134022, \"530530731141007\", \"53053\", \"Served\", \"Unserved\", \"Served\", \"Unserved\", \"Underserved\", \"Unserved\", \"Unserved\", \"Underserved\", \"Unserved\"], [151, 1315756850, \"530270016021024\", \"53027\", \"Served\", \"Unserved\", \"Served\", \"Unserved\", \"Underserved\", \"Unserved\", \"Unserved\", \"Underserved\", \"Unserved\"], [152, 1330137916, \"530530726021000\", \"53053\", \"Served\", \"Unserved\", \"Served\", \"Unserved\", \"Underserved\", \"Unserved\", \"Served\", \"Underserved\", \"Unserved\"], [153, 1315780377, \"530270003002142\", \"53027\", \"Served\", \"Unserved\", \"Served\", \"Underserved\", \"Underserved\", \"Unserved\", \"Unserved\", \"Underserved\", \"Unserved\"], [154, 1330138051, \"530530725033003\", \"53053\", \"Served\", \"Unserved\", \"Served\", \"Unserved\", \"Underserved\", \"Unserved\", \"Unserved\", \"Underserved\", \"Unserved\"], [155, 1330140613, \"530530735011009\", \"53053\", \"Served\", \"Unserved\", \"Served\", \"Underserved\", \"Underserved\", \"Unserved\", \"Unserved\", \"Underserved\", \"Unserved\"], [156, 1330141482, \"530530703103000\", \"53053\", \"Served\", \"Unserved\", \"Served\", \"Underserved\", \"Underserved\", \"Unserved\", \"Served\", \"Underserved\", \"Unserved\"], [157, 1330148536, \"530530725092027\", \"53053\", \"Served\", \"Served\", \"Served\", \"Unserved\", \"Underserved\", \"Unserved\", \"Unserved\", \"Underserved\", \"Unserved\"], [158, 1330149211, \"530530724083004\", \"53053\", \"Served\", \"Unserved\", \"Served\", \"Underserved\", \"Underserved\", \"Unserved\", \"Served\", \"Underserved\", \"Unserved\"], [159, 1330149672, \"530530731241000\", \"53053\", \"Served\", \"Unserved\", \"Served\", \"Underserved\", \"Underserved\", \"Unserved\", \"Underserved\", \"Underserved\", \"Unserved\"], [160, 1330151679, \"530530721073007\", \"53053\", \"Served\", \"Unserved\", \"Served\", \"Underserved\", \"Underserved\", \"Unserved\", \"Served\", \"Underserved\", \"Unserved\"], [161, 1330153102, \"530530721073001\", \"53053\", \"Served\", \"Unserved\", \"Served\", \"Unserved\", \"Underserved\", \"Unserved\", \"Served\", \"Underserved\", \"Unserved\"], [162, 1330155212, \"530530731152001\", \"53053\", \"Served\", \"Unserved\", \"Served\", \"Underserved\", \"Underserved\", \"Unserved\", \"Unserved\", \"Underserved\", \"Unserved\"], [163, 1330156192, \"530530611005014\", \"53053\", \"Served\", \"Unserved\", \"Served\", \"Unserved\", \"Underserved\", \"Unserved\", \"Underserved\", \"Underserved\", \"Unserved\"], [164, 1330156277, \"530530703081004\", \"53053\", \"Served\", \"Unserved\", \"Served\", \"Underserved\", \"Underserved\", \"Underserved\", \"Underserved\", \"Underserved\", \"Unserved\"], [165, 1330161944, \"530539400112011\", \"53053\", \"Served\", \"Unserved\", \"Served\", \"Underserved\", \"Underserved\", \"Unserved\", \"Unserved\", \"Underserved\", \"Unserved\"], [166, 1330162660, \"530530612002024\", \"53053\", \"Served\", \"Served\", \"Served\", \"Unserved\", \"Underserved\", \"Unserved\", \"Underserved\", \"Underserved\", \"Unserved\"], [167, 1330168831, \"530530723132000\", \"53053\", \"Served\", \"Unserved\", \"Served\", \"Underserved\", \"Underserved\", \"Unserved\", \"Underserved\", \"Underserved\", \"Unserved\"], [168, 1330170088, \"530530715041011\", \"53053\", \"Served\", \"Unserved\", \"Served\", \"Underserved\", \"Underserved\", \"Unserved\", \"Unserved\", \"Underserved\", \"Unserved\"], [169, 1330170471, \"530530612003001\", \"53053\", \"Served\", \"Served\", \"Served\", \"Unserved\", \"Underserved\", \"Unserved\", \"Served\", \"Underserved\", \"Unserved\"], [170, 1330174915, \"530530731143013\", \"53053\", \"Served\", \"Unserved\", \"Served\", \"Unserved\", \"Underserved\", \"Unserved\", \"Unserved\", \"Underserved\", \"Unserved\"], [171, 1330328088, \"530530725032001\", \"53053\", \"Served\", \"Unserved\", \"Served\", \"Unserved\", \"Underserved\", \"Unserved\", \"Underserved\", \"Underserved\", \"Unserved\"], [172, 1330267573, \"530530634023001\", \"53053\", \"Served\", \"Unserved\", \"Served\", \"Underserved\", \"Underserved\", \"Unserved\", \"Unserved\", \"Underserved\", \"Unserved\"], [173, 1330269424, \"530539400011016\", \"53053\", \"Served\", \"Unserved\", \"Served\", \"Underserved\", \"Underserved\", \"Unserved\", \"Underserved\", \"Underserved\", \"Unserved\"], [174, 1330269501, \"530539400011016\", \"53053\", \"Served\", \"Unserved\", \"Served\", \"Unserved\", \"Underserved\", \"Unserved\", \"Unserved\", \"Underserved\", \"Unserved\"], [175, 1330272250, \"530530712053006\", \"53053\", \"Served\", \"Unserved\", \"Served\", \"Underserved\", \"Underserved\", \"Unserved\", \"Unserved\", \"Underserved\", \"Unserved\"], [176, 1330274473, \"530530728013009\", \"53053\", \"Served\", \"Unserved\", \"Served\", \"Unserved\", \"Underserved\", \"Unserved\", \"Unserved\", \"Underserved\", \"Unserved\"], [177, 1330274923, \"530530728013000\", \"53053\", \"Served\", \"Unserved\", \"Served\", \"Unserved\", \"Underserved\", \"Unserved\", \"Unserved\", \"Underserved\", \"Unserved\"], [178, 1330275512, \"530530711002008\", \"53053\", \"Served\", \"Served\", \"Served\", \"Unserved\", \"Underserved\", \"Unserved\", \"Unserved\", \"Underserved\", \"Unserved\"], [179, 1330276663, \"530530614001015\", \"53053\", \"Served\", \"Unserved\", \"Served\", \"Unserved\", \"Underserved\", \"Unserved\", \"Served\", \"Underserved\", \"Unserved\"], [180, 1330277033, \"530530713041000\", \"53053\", \"Served\", \"Unserved\", \"Served\", \"Unserved\", \"Underserved\", \"Unserved\", \"Served\", \"Underserved\", \"Unserved\"], [181, 1330277259, \"530530713101005\", \"53053\", \"Served\", \"Unserved\", \"Served\", \"Underserved\", \"Underserved\", \"Unserved\", \"Served\", \"Underserved\", \"Unserved\"], [182, 1330278679, \"530530731223000\", \"53053\", \"Served\", \"Unserved\", \"Served\", \"Unserved\", \"Underserved\", \"Unserved\", \"Served\", \"Underserved\", \"Unserved\"], [183, 1330279606, \"530530704042001\", \"53053\", \"Served\", \"Underserved\", \"Served\", \"Unserved\", \"Underserved\", \"Unserved\", \"Underserved\", \"Underserved\", \"Unserved\"], [184, 1330287008, \"530530632001013\", \"53053\", \"Served\", \"Served\", \"Served\", \"Unserved\", \"Underserved\", \"Unserved\", \"Unserved\", \"Underserved\", \"Unserved\"], [185, 1330290855, \"530530701003004\", \"53053\", \"Served\", \"Unserved\", \"Served\", \"Underserved\", \"Underserved\", \"Unserved\", \"Unserved\", \"Underserved\", \"Unserved\"], [186, 1330292620, \"530530703094001\", \"53053\", \"Served\", \"Unserved\", \"Served\", \"Unserved\", \"Underserved\", \"Unserved\", \"Served\", \"Underserved\", \"Unserved\"], [187, 1330293843, \"530539400092014\", \"53053\", \"Served\", \"Unserved\", \"Served\", \"Unserved\", \"Underserved\", \"Unserved\", \"Underserved\", \"Underserved\", \"Unserved\"], [188, 1330296116, \"530530731143017\", \"53053\", \"Served\", \"Unserved\", \"Served\", \"Unserved\", \"Underserved\", \"Unserved\", \"Unserved\", \"Underserved\", \"Unserved\"], [189, 1330178878, \"530539400083000\", \"53053\", \"Served\", \"Unserved\", \"Served\", \"Underserved\", \"Underserved\", \"Unserved\", \"Unserved\", \"Underserved\", \"Unserved\"], [190, 1330178964, \"530539400083000\", \"53053\", \"Served\", \"Unserved\", \"Served\", \"Underserved\", \"Underserved\", \"Unserved\", \"Unserved\", \"Underserved\", \"Unserved\"], [191, 1330179674, \"530530634013002\", \"53053\", \"Served\", \"Unserved\", \"Served\", \"Unserved\", \"Underserved\", \"Unserved\", \"Unserved\", \"Underserved\", \"Unserved\"], [192, 1330180900, \"530530619002006\", \"53053\", \"Served\", \"Served\", \"Served\", \"Unserved\", \"Underserved\", \"Unserved\", \"Served\", \"Underserved\", \"Unserved\"], [193, 1330180935, \"530530610022006\", \"53053\", \"Served\", \"Unserved\", \"Served\", \"Underserved\", \"Underserved\", \"Unserved\", \"Underserved\", \"Underserved\", \"Unserved\"], [194, 1330182342, \"530530731322004\", \"53053\", \"Served\", \"Unserved\", \"Served\", \"Unserved\", \"Underserved\", \"Unserved\", \"Unserved\", \"Underserved\", \"Unserved\"], [195, 1330183432, \"530530714033004\", \"53053\", \"Served\", \"Unserved\", \"Served\", \"Unserved\", \"Underserved\", \"Unserved\", \"Unserved\", \"Underserved\", \"Unserved\"], [196, 1330187077, \"530530731312003\", \"53053\", \"Served\", \"Unserved\", \"Served\", \"Underserved\", \"Underserved\", \"Unserved\", \"Unserved\", \"Underserved\", \"Unserved\"], [197, 1330188506, \"530530703101001\", \"53053\", \"Served\", \"Unserved\", \"Served\", \"Unserved\", \"Underserved\", \"Underserved\", \"Underserved\", \"Underserved\", \"Unserved\"], [198, 1330194793, \"530530734062010\", \"53053\", \"Served\", \"Unserved\", \"Served\", \"Unserved\", \"Underserved\", \"Unserved\", \"Underserved\", \"Underserved\", \"Unserved\"], [199, 1330198099, \"530530735023009\", \"53053\", \"Served\", \"Unserved\", \"Served\", \"Unserved\", \"Underserved\", \"Unserved\", \"Served\", \"Underserved\", \"Unserved\"], [200, 1330199206, \"530530609082006\", \"53053\", \"Served\", \"Unserved\", \"Served\", \"Unserved\", \"Underserved\", \"Unserved\", \"Served\", \"Underserved\", \"Unserved\"], [201, 1330201739, \"530530714092008\", \"53053\", \"Served\", \"Unserved\", \"Served\", \"Unserved\", \"Underserved\", \"Unserved\", \"Unserved\", \"Underserved\", \"Unserved\"], [202, 1330202253, \"530530625012020\", \"53053\", \"Served\", \"Served\", \"Served\", \"Unserved\", \"Underserved\", \"Unserved\", \"Underserved\", \"Underserved\", \"Unserved\"], [203, 1330209583, \"530530719022033\", \"53053\", \"Served\", \"Unserved\", \"Served\", \"Unserved\", \"Underserved\", \"Unserved\", \"Underserved\", \"Underserved\", \"Unserved\"], [204, 1330296942, \"530530625013003\", \"53053\", \"Served\", \"Served\", \"Served\", \"Unserved\", \"Underserved\", \"Unserved\", \"Unserved\", \"Underserved\", \"Unserved\"], [205, 1330298356, \"530530714152001\", \"53053\", \"Served\", \"Unserved\", \"Served\", \"Unserved\", \"Underserved\", \"Unserved\", \"Unserved\", \"Underserved\", \"Unserved\"], [206, 1330329415, \"530530610012018\", \"53053\", \"Served\", \"Unserved\", \"Served\", \"Underserved\", \"Underserved\", \"Unserved\", \"Underserved\", \"Underserved\", \"Unserved\"], [207, 1330302650, \"530530633011008\", \"53053\", \"Served\", \"Unserved\", \"Served\", \"Unserved\", \"Underserved\", \"Unserved\", \"Unserved\", \"Underserved\", \"Unserved\"], [208, 1330210464, \"530530631002009\", \"53053\", \"Served\", \"Served\", \"Served\", \"Unserved\", \"Underserved\", \"Unserved\", \"Unserved\", \"Underserved\", \"Unserved\"], [209, 1330332000, \"530530607005020\", \"53053\", \"Served\", \"Served\", \"Served\", \"Unserved\", \"Underserved\", \"Unserved\", \"Unserved\", \"Underserved\", \"Unserved\"], [210, 1330211503, \"530530707032007\", \"53053\", \"Served\", \"Unserved\", \"Served\", \"Underserved\", \"Underserved\", \"Unserved\", \"Served\", \"Underserved\", \"Unserved\"], [211, 1330303154, \"530530714151003\", \"53053\", \"Served\", \"Unserved\", \"Served\", \"Underserved\", \"Underserved\", \"Unserved\", \"Unserved\", \"Underserved\", \"Unserved\"], [212, 1330333010, \"530530725091000\", \"53053\", \"Served\", \"Unserved\", \"Served\", \"Unserved\", \"Underserved\", \"Unserved\", \"Underserved\", \"Underserved\", \"Unserved\"], [213, 1330303942, \"530530720002003\", \"53053\", \"Served\", \"Unserved\", \"Served\", \"Unserved\", \"Underserved\", \"Unserved\", \"Unserved\", \"Underserved\", \"Unserved\"], [214, 1330214373, \"530530703154003\", \"53053\", \"Served\", \"Unserved\", \"Served\", \"Unserved\", \"Underserved\", \"Unserved\", \"Unserved\", \"Underserved\", \"Unserved\"], [215, 1330335460, \"530530703083004\", \"53053\", \"Served\", \"Unserved\", \"Served\", \"Unserved\", \"Underserved\", \"Unserved\", \"Underserved\", \"Underserved\", \"Unserved\"], [216, 1330215493, \"530530713043000\", \"53053\", \"Served\", \"Served\", \"Served\", \"Unserved\", \"Underserved\", \"Unserved\", \"Unserved\", \"Underserved\", \"Unserved\"], [217, 1330306430, \"530539400071040\", \"53053\", \"Served\", \"Unserved\", \"Served\", \"Underserved\", \"Underserved\", \"Unserved\", \"Unserved\", \"Underserved\", \"Unserved\"], [218, 1330308402, \"530530721121005\", \"53053\", \"Served\", \"Unserved\", \"Served\", \"Underserved\", \"Underserved\", \"Unserved\", \"Served\", \"Underserved\", \"Unserved\"], [219, 1330227038, \"530539400131010\", \"53053\", \"Served\", \"Unserved\", \"Served\", \"Underserved\", \"Underserved\", \"Unserved\", \"Underserved\", \"Underserved\", \"Unserved\"], [220, 1330337486, \"530530630002015\", \"53053\", \"Served\", \"Served\", \"Served\", \"Unserved\", \"Underserved\", \"Unserved\", \"Underserved\", \"Underserved\", \"Unserved\"], [221, 1330227489, \"530530731144003\", \"53053\", \"Served\", \"Unserved\", \"Served\", \"Unserved\", \"Underserved\", \"Unserved\", \"Unserved\", \"Underserved\", \"Unserved\"], [222, 1330310435, \"530530703074009\", \"53053\", \"Served\", \"Unserved\", \"Served\", \"Underserved\", \"Underserved\", \"Underserved\", \"Underserved\", \"Underserved\", \"Unserved\"], [223, 1330343605, \"530530628021004\", \"53053\", \"Served\", \"Unserved\", \"Served\", \"Unserved\", \"Underserved\", \"Unserved\", \"Unserved\", \"Underserved\", \"Unserved\"], [224, 1330311073, \"530530704033002\", \"53053\", \"Served\", \"Unserved\", \"Served\", \"Unserved\", \"Underserved\", \"Unserved\", \"Underserved\", \"Underserved\", \"Unserved\"], [225, 1330228434, \"530530721082004\", \"53053\", \"Served\", \"Unserved\", \"Served\", \"Unserved\", \"Underserved\", \"Unserved\", \"Unserved\", \"Underserved\", \"Unserved\"], [226, 1330311865, \"530539400103010\", \"53053\", \"Served\", \"Unserved\", \"Served\", \"Unserved\", \"Underserved\", \"Unserved\", \"Served\", \"Underserved\", \"Unserved\"], [227, 1330345490, \"530530714162000\", \"53053\", \"Served\", \"Unserved\", \"Served\", \"Underserved\", \"Underserved\", \"Unserved\", \"Unserved\", \"Underserved\", \"Unserved\"], [228, 1330314004, \"530530609073011\", \"53053\", \"Served\", \"Unserved\", \"Served\", \"Underserved\", \"Underserved\", \"Unserved\", \"Served\", \"Underserved\", \"Unserved\"], [229, 1330232469, \"530530735013001\", \"53053\", \"Served\", \"Unserved\", \"Served\", \"Unserved\", \"Underserved\", \"Unserved\", \"Unserved\", \"Underserved\", \"Unserved\"], [230, 1330233899, \"530530606003013\", \"53053\", \"Served\", \"Served\", \"Served\", \"Unserved\", \"Underserved\", \"Unserved\", \"Underserved\", \"Underserved\", \"Unserved\"], [231, 1330347900, \"530530719022004\", \"53053\", \"Served\", \"Served\", \"Served\", \"Unserved\", \"Underserved\", \"Unserved\", \"Underserved\", \"Underserved\", \"Unserved\"], [232, 1330238004, \"530530702072006\", \"53053\", \"Served\", \"Unserved\", \"Served\", \"Unserved\", \"Underserved\", \"Underserved\", \"Unserved\", \"Underserved\", \"Unserved\"], [233, 1330314828, \"530530731222002\", \"53053\", \"Served\", \"Unserved\", \"Served\", \"Unserved\", \"Underserved\", \"Unserved\", \"Served\", \"Underserved\", \"Unserved\"], [234, 1330348553, \"530530701003006\", \"53053\", \"Served\", \"Unserved\", \"Served\", \"Unserved\", \"Underserved\", \"Unserved\", \"Unserved\", \"Underserved\", \"Unserved\"], [235, 1330316479, \"530539400111010\", \"53053\", \"Served\", \"Unserved\", \"Served\", \"Unserved\", \"Underserved\", \"Unserved\", \"Unserved\", \"Underserved\", \"Unserved\"], [236, 1330322267, \"530530714143011\", \"53053\", \"Served\", \"Unserved\", \"Served\", \"Unserved\", \"Underserved\", \"Unserved\", \"Unserved\", \"Underserved\", \"Unserved\"], [237, 1330240501, \"530530723143009\", \"53053\", \"Served\", \"Unserved\", \"Served\", \"Underserved\", \"Underserved\", \"Unserved\", \"Underserved\", \"Underserved\", \"Unserved\"], [238, 1330350255, \"530530703093023\", \"53053\", \"Served\", \"Unserved\", \"Served\", \"Underserved\", \"Underserved\", \"Unserved\", \"Unserved\", \"Underserved\", \"Unserved\"], [239, 1330241565, \"530530703072003\", \"53053\", \"Served\", \"Unserved\", \"Served\", \"Served\", \"Underserved\", \"Underserved\", \"Unserved\", \"Underserved\", \"Unserved\"], [240, 1330323114, \"530530724082009\", \"53053\", \"Served\", \"Unserved\", \"Served\", \"Unserved\", \"Underserved\", \"Unserved\", \"Unserved\", \"Underserved\", \"Unserved\"], [241, 1330244368, \"530530607004013\", \"53053\", \"Served\", \"Served\", \"Served\", \"Unserved\", \"Underserved\", \"Unserved\", \"Unserved\", \"Underserved\", \"Unserved\"], [242, 1330353577, \"530530626002029\", \"53053\", \"Served\", \"Served\", \"Served\", \"Unserved\", \"Underserved\", \"Unserved\", \"Underserved\", \"Underserved\", \"Unserved\"], [243, 1330249026, \"530530703104005\", \"53053\", \"Served\", \"Unserved\", \"Served\", \"Underserved\", \"Underserved\", \"Unserved\", \"Unserved\", \"Underserved\", \"Unserved\"], [244, 1330326157, \"530539400121003\", \"53053\", \"Served\", \"Unserved\", \"Served\", \"Unserved\", \"Underserved\", \"Unserved\", \"Underserved\", \"Underserved\", \"Unserved\"], [245, 1330355453, \"530530623003001\", \"53053\", \"Served\", \"Unserved\", \"Served\", \"Unserved\", \"Underserved\", \"Unserved\", \"Unserved\", \"Underserved\", \"Unserved\"], [246, 1330400764, \"530530608002051\", \"53053\", \"Served\", \"Served\", \"Served\", \"Unserved\", \"Underserved\", \"Unserved\", \"Unserved\", \"Underserved\", \"Unserved\"], [247, 1330252383, \"530530632002003\", \"53053\", \"Served\", \"Served\", \"Served\", \"Unserved\", \"Underserved\", \"Unserved\", \"Unserved\", \"Underserved\", \"Unserved\"], [248, 1330358435, \"530530703113010\", \"53053\", \"Served\", \"Unserved\", \"Served\", \"Unserved\", \"Underserved\", \"Underserved\", \"Served\", \"Underserved\", \"Unserved\"], [249, 1330252457, \"530530632003026\", \"53053\", \"Served\", \"Unserved\", \"Served\", \"Unserved\", \"Underserved\", \"Unserved\", \"Unserved\", \"Underserved\", \"Unserved\"], [250, 1330254948, \"530530635012004\", \"53053\", \"Served\", \"Unserved\", \"Served\", \"Underserved\", \"Underserved\", \"Unserved\", \"Served\", \"Underserved\", \"Unserved\"], [251, 1330403035, \"530530608001025\", \"53053\", \"Served\", \"Served\", \"Served\", \"Unserved\", \"Underserved\", \"Unserved\", \"Served\", \"Underserved\", \"Unserved\"], [252, 1330403992, \"530530731203000\", \"53053\", \"Served\", \"Unserved\", \"Served\", \"Unserved\", \"Underserved\", \"Unserved\", \"Unserved\", \"Underserved\", \"Unserved\"], [253, 1330360166, \"530530713104000\", \"53053\", \"Served\", \"Served\", \"Served\", \"Unserved\", \"Underserved\", \"Unserved\", \"Underserved\", \"Underserved\", \"Unserved\"], [254, 1330408300, \"530530731261001\", \"53053\", \"Served\", \"Served\", \"Served\", \"Unserved\", \"Underserved\", \"Unserved\", \"Unserved\", \"Underserved\", \"Unserved\"], [255, 1330266613, \"530530731142002\", \"53053\", \"Served\", \"Unserved\", \"Served\", \"Unserved\", \"Underserved\", \"Unserved\", \"Unserved\", \"Underserved\", \"Unserved\"], [256, 1330365155, \"530530723071001\", \"53053\", \"Served\", \"Unserved\", \"Served\", \"Underserved\", \"Underserved\", \"Unserved\", \"Served\", \"Underserved\", \"Unserved\"], [257, 1330365930, \"530530703152004\", \"53053\", \"Served\", \"Unserved\", \"Served\", \"Unserved\", \"Underserved\", \"Unserved\", \"Underserved\", \"Underserved\", \"Unserved\"], [258, 1336999813, \"530610528101000\", \"53061\", \"Served\", \"Served\", \"Served\", \"Unserved\", \"Underserved\", \"Unserved\", \"Underserved\", \"Underserved\", \"Unserved\"], [259, 1330409881, \"530530731292002\", \"53053\", \"Served\", \"Unserved\", \"Served\", \"Unserved\", \"Underserved\", \"Unserved\", \"Unserved\", \"Underserved\", \"Unserved\"], [260, 1330370232, \"530530712113000\", \"53053\", \"Served\", \"Unserved\", \"Served\", \"Unserved\", \"Underserved\", \"Unserved\", \"Unserved\", \"Underserved\", \"Unserved\"], [261, 1337004211, \"530610519291000\", \"53061\", \"Served\", \"Unserved\", \"Served\", \"Unserved\", \"Underserved\", \"Unserved\", \"Underserved\", \"Underserved\", \"Unserved\"], [262, 1330373686, \"530530629023023\", \"53053\", \"Served\", \"Unserved\", \"Served\", \"Served\", \"Underserved\", \"Unserved\", \"Unserved\", \"Underserved\", \"Unserved\"], [263, 1337007625, \"530610509002000\", \"53061\", \"Served\", \"Served\", \"Served\", \"Unserved\", \"Underserved\", \"Unserved\", \"Underserved\", \"Underserved\", \"Unserved\"], [264, 1330376551, \"530530612004019\", \"53053\", \"Served\", \"Served\", \"Served\", \"Unserved\", \"Underserved\", \"Unserved\", \"Served\", \"Underserved\", \"Unserved\"], [265, 1337007795, \"530610519163008\", \"53061\", \"Served\", \"Served\", \"Served\", \"Unserved\", \"Underserved\", \"Unserved\", \"Unserved\", \"Underserved\", \"Unserved\"], [266, 1337008860, \"530610418161008\", \"53061\", \"Served\", \"Served\", \"Served\", \"Unserved\", \"Underserved\", \"Unserved\", \"Unserved\", \"Underserved\", \"Unserved\"], [267, 1337012454, \"530610413031004\", \"53061\", \"Served\", \"Served\", \"Served\", \"Unserved\", \"Underserved\", \"Unserved\", \"Served\", \"Underserved\", \"Unserved\"], [268, 1330377813, \"530530618002000\", \"53053\", \"Served\", \"Served\", \"Served\", \"Unserved\", \"Underserved\", \"Unserved\", \"Underserved\", \"Underserved\", \"Unserved\"], [269, 1337013495, \"530610516023010\", \"53061\", \"Served\", \"Served\", \"Served\", \"Unserved\", \"Underserved\", \"Unserved\", \"Underserved\", \"Underserved\", \"Unserved\"], [270, 1330447307, \"530530701003001\", \"53053\", \"Served\", \"Unserved\", \"Served\", \"Unserved\", \"Underserved\", \"Unserved\", \"Underserved\", \"Underserved\", \"Unserved\"], [271, 1330381933, \"530530731201001\", \"53053\", \"Served\", \"Unserved\", \"Served\", \"Underserved\", \"Underserved\", \"Unserved\", \"Underserved\", \"Underserved\", \"Unserved\"], [272, 1337016196, \"530610418083002\", \"53061\", \"Served\", \"Unserved\", \"Served\", \"Underserved\", \"Underserved\", \"Unserved\", \"Unserved\", \"Underserved\", \"Unserved\"], [273, 1330383348, \"530530712065004\", \"53053\", \"Served\", \"Unserved\", \"Served\", \"Unserved\", \"Underserved\", \"Unserved\", \"Unserved\", \"Underserved\", \"Unserved\"], [274, 1337016238, \"530610519311005\", \"53061\", \"Served\", \"Served\", \"Served\", \"Unserved\", \"Underserved\", \"Unserved\", \"Served\", \"Underserved\", \"Unserved\"], [275, 1337017107, \"530610405001030\", \"53061\", \"Served\", \"Served\", \"Served\", \"Unserved\", \"Underserved\", \"Unserved\", \"Underserved\", \"Underserved\", \"Unserved\"], [276, 1330384185, \"530530704033011\", \"53053\", \"Served\", \"Unserved\", \"Served\", \"Unserved\", \"Underserved\", \"Unserved\", \"Unserved\", \"Underserved\", \"Unserved\"], [277, 1337018486, \"530610411001000\", \"53061\", \"Served\", \"Served\", \"Served\", \"Unserved\", \"Underserved\", \"Unserved\", \"Served\", \"Underserved\", \"Unserved\"], [278, 1330385347, \"530539400051000\", \"53053\", \"Served\", \"Unserved\", \"Served\", \"Served\", \"Underserved\", \"Unserved\", \"Underserved\", \"Underserved\", \"Unserved\"], [279, 1337022813, \"530610420013004\", \"53061\", \"Served\", \"Served\", \"Served\", \"Unserved\", \"Underserved\", \"Unserved\", \"Unserved\", \"Underserved\", \"Unserved\"], [280, 1330385693, \"530530721072003\", \"53053\", \"Served\", \"Served\", \"Served\", \"Unserved\", \"Underserved\", \"Unserved\", \"Underserved\", \"Underserved\", \"Unserved\"], [281, 1337024326, \"530610408002001\", \"53061\", \"Served\", \"Unserved\", \"Served\", \"Underserved\", \"Underserved\", \"Unserved\", \"Served\", \"Underserved\", \"Unserved\"], [282, 1330388180, \"530530703161007\", \"53053\", \"Served\", \"Unserved\", \"Served\", \"Underserved\", \"Underserved\", \"Unserved\", \"Underserved\", \"Underserved\", \"Unserved\"], [283, 1337027156, \"530610521202001\", \"53061\", \"Served\", \"Served\", \"Served\", \"Underserved\", \"Underserved\", \"Unserved\", \"Served\", \"Underserved\", \"Unserved\"], [284, 1330388477, \"530530703135008\", \"53053\", \"Served\", \"Unserved\", \"Served\", \"Unserved\", \"Underserved\", \"Underserved\", \"Underserved\", \"Underserved\", \"Unserved\"], [285, 1337027206, \"530610509002010\", \"53061\", \"Served\", \"Served\", \"Served\", \"Unserved\", \"Underserved\", \"Unserved\", \"Underserved\", \"Underserved\", \"Unserved\"], [286, 1330389435, \"530539400024022\", \"53053\", \"Served\", \"Unserved\", \"Served\", \"Unserved\", \"Underserved\", \"Unserved\", \"Unserved\", \"Underserved\", \"Unserved\"], [287, 1330390515, \"530530731144002\", \"53053\", \"Served\", \"Unserved\", \"Served\", \"Underserved\", \"Underserved\", \"Unserved\", \"Unserved\", \"Underserved\", \"Unserved\"], [288, 1330399198, \"530530631001016\", \"53053\", \"Served\", \"Served\", \"Served\", \"Unserved\", \"Underserved\", \"Unserved\", \"Unserved\", \"Underserved\", \"Unserved\"], [289, 1330399335, \"530530735013006\", \"53053\", \"Served\", \"Unserved\", \"Served\", \"Unserved\", \"Underserved\", \"Unserved\", \"Unserved\", \"Underserved\", \"Unserved\"], [290, 1330399757, \"530530721123005\", \"53053\", \"Served\", \"Served\", \"Served\", \"Unserved\", \"Underserved\", \"Unserved\", \"Unserved\", \"Underserved\", \"Unserved\"], [291, 1337152181, \"530610412021003\", \"53061\", \"Served\", \"Served\", \"Served\", \"Unserved\", \"Underserved\", \"Unserved\", \"Underserved\", \"Underserved\", \"Unserved\"], [292, 1337091865, \"530610535071007\", \"53061\", \"Served\", \"Unserved\", \"Served\", \"Unserved\", \"Underserved\", \"Unserved\", \"Unserved\", \"Underserved\", \"Unserved\"], [293, 1337092363, \"530610519274000\", \"53061\", \"Served\", \"Served\", \"Served\", \"Unserved\", \"Underserved\", \"Unserved\", \"Served\", \"Underserved\", \"Unserved\"], [294, 1337094872, \"530610520103000\", \"53061\", \"Served\", \"Served\", \"Served\", \"Unserved\", \"Underserved\", \"Unserved\", \"Underserved\", \"Underserved\", \"Unserved\"], [295, 1337096246, \"530610538024009\", \"53061\", \"Served\", \"Served\", \"Served\", \"Unserved\", \"Underserved\", \"Unserved\", \"Unserved\", \"Underserved\", \"Unserved\"], [296, 1337097791, \"530610525054004\", \"53061\", \"Served\", \"Served\", \"Served\", \"Unserved\", \"Underserved\", \"Unserved\", \"Underserved\", \"Underserved\", \"Unserved\"], [297, 1337097865, \"530610525054005\", \"53061\", \"Served\", \"Served\", \"Served\", \"Unserved\", \"Underserved\", \"Unserved\", \"Served\", \"Underserved\", \"Unserved\"], [298, 1337027942, \"530610528071004\", \"53061\", \"Served\", \"Served\", \"Served\", \"Unserved\", \"Underserved\", \"Unserved\", \"Unserved\", \"Underserved\", \"Unserved\"], [299, 1337030178, \"530610501022000\", \"53061\", \"Served\", \"Served\", \"Served\", \"Unserved\", \"Underserved\", \"Unserved\", \"Underserved\", \"Underserved\", \"Unserved\"], [300, 1337031448, \"530610538032006\", \"53061\", \"Served\", \"Served\", \"Served\", \"Unserved\", \"Underserved\", \"Unserved\", \"Unserved\", \"Underserved\", \"Unserved\"], [301, 1337031612, \"530610519211009\", \"53061\", \"Served\", \"Served\", \"Served\", \"Unserved\", \"Underserved\", \"Unserved\", \"Underserved\", \"Underserved\", \"Unserved\"], [302, 1337034686, \"530610527062009\", \"53061\", \"Served\", \"Unserved\", \"Served\", \"Unserved\", \"Underserved\", \"Unserved\", \"Underserved\", \"Underserved\", \"Unserved\"], [303, 1337035067, \"530610521071002\", \"53061\", \"Served\", \"Served\", \"Served\", \"Unserved\", \"Underserved\", \"Unserved\", \"Served\", \"Underserved\", \"Unserved\"], [304, 1337043308, \"530610519282000\", \"53061\", \"Served\", \"Served\", \"Served\", \"Unserved\", \"Underserved\", \"Unserved\", \"Served\", \"Underserved\", \"Unserved\"], [305, 1337043764, \"530610519161004\", \"53061\", \"Served\", \"Served\", \"Served\", \"Unserved\", \"Underserved\", \"Unserved\", \"Unserved\", \"Underserved\", \"Unserved\"], [306, 1337045252, \"530610527063002\", \"53061\", \"Served\", \"Unserved\", \"Served\", \"Unserved\", \"Underserved\", \"Unserved\", \"Unserved\", \"Underserved\", \"Unserved\"], [307, 1337045423, \"530610517023003\", \"53061\", \"Served\", \"Served\", \"Served\", \"Unserved\", \"Underserved\", \"Unserved\", \"Served\", \"Underserved\", \"Unserved\"], [308, 1337045948, \"530610508004007\", \"53061\", \"Served\", \"Served\", \"Served\", \"Unserved\", \"Underserved\", \"Unserved\", \"Served\", \"Underserved\", \"Unserved\"], [309, 1337047550, \"530610413014006\", \"53061\", \"Served\", \"Served\", \"Served\", \"Unserved\", \"Underserved\", \"Unserved\", \"Underserved\", \"Underserved\", \"Unserved\"], [310, 1337052392, \"530610538024009\", \"53061\", \"Served\", \"Served\", \"Served\", \"Unserved\", \"Underserved\", \"Unserved\", \"Unserved\", \"Underserved\", \"Unserved\"], [311, 1337098050, \"530610525054006\", \"53061\", \"Served\", \"Unserved\", \"Served\", \"Unserved\", \"Underserved\", \"Unserved\", \"Served\", \"Underserved\", \"Unserved\"], [312, 1337153968, \"530610413013010\", \"53061\", \"Served\", \"Unserved\", \"Served\", \"Unserved\", \"Underserved\", \"Unserved\", \"Underserved\", \"Underserved\", \"Unserved\"], [313, 1337098759, \"530610416091003\", \"53061\", \"Served\", \"Served\", \"Served\", \"Unserved\", \"Underserved\", \"Unserved\", \"Underserved\", \"Underserved\", \"Unserved\"], [314, 1337052874, \"530610519261004\", \"53061\", \"Served\", \"Served\", \"Served\", \"Unserved\", \"Underserved\", \"Unserved\", \"Unserved\", \"Underserved\", \"Unserved\"], [315, 1337055841, \"530610418121004\", \"53061\", \"Served\", \"Unserved\", \"Served\", \"Unserved\", \"Underserved\", \"Unserved\", \"Unserved\", \"Underserved\", \"Unserved\"], [316, 1337154614, \"530610508005000\", \"53061\", \"Served\", \"Served\", \"Served\", \"Unserved\", \"Underserved\", \"Unserved\", \"Served\", \"Underserved\", \"Unserved\"], [317, 1337056319, \"530610520083000\", \"53061\", \"Served\", \"Unserved\", \"Served\", \"Unserved\", \"Underserved\", \"Unserved\", \"Served\", \"Underserved\", \"Unserved\"], [318, 1337101488, \"530610520072001\", \"53061\", \"Served\", \"Served\", \"Served\", \"Unserved\", \"Underserved\", \"Unserved\", \"Unserved\", \"Underserved\", \"Unserved\"], [319, 1337103965, \"530610525021008\", \"53061\", \"Served\", \"Unserved\", \"Served\", \"Unserved\", \"Underserved\", \"Unserved\", \"Unserved\", \"Underserved\", \"Unserved\"], [320, 1337157417, \"530610518023005\", \"53061\", \"Served\", \"Served\", \"Served\", \"Unserved\", \"Underserved\", \"Unserved\", \"Underserved\", \"Underserved\", \"Unserved\"], [321, 1337111766, \"530610535054000\", \"53061\", \"Served\", \"Served\", \"Served\", \"Unserved\", \"Underserved\", \"Unserved\", \"Unserved\", \"Underserved\", \"Unserved\"], [322, 1337060626, \"530610516011002\", \"53061\", \"Served\", \"Served\", \"Served\", \"Unserved\", \"Underserved\", \"Unserved\", \"Served\", \"Underserved\", \"Unserved\"], [323, 1337158435, \"530610518041007\", \"53061\", \"Served\", \"Served\", \"Served\", \"Unserved\", \"Underserved\", \"Unserved\", \"Unserved\", \"Underserved\", \"Unserved\"], [324, 1337064051, \"530610416012004\", \"53061\", \"Served\", \"Served\", \"Served\", \"Unserved\", \"Underserved\", \"Unserved\", \"Served\", \"Underserved\", \"Unserved\"], [325, 1337111812, \"530610524013009\", \"53061\", \"Served\", \"Served\", \"Served\", \"Unserved\", \"Underserved\", \"Unserved\", \"Underserved\", \"Underserved\", \"Unserved\"], [326, 1337159479, \"530610526043010\", \"53061\", \"Served\", \"Unserved\", \"Served\", \"Unserved\", \"Underserved\", \"Unserved\", \"Unserved\", \"Underserved\", \"Unserved\"], [327, 1337115100, \"530610527064001\", \"53061\", \"Served\", \"Served\", \"Served\", \"Unserved\", \"Underserved\", \"Unserved\", \"Unserved\", \"Underserved\", \"Unserved\"], [328, 1337066445, \"530610504043005\", \"53061\", \"Served\", \"Unserved\", \"Served\", \"Unserved\", \"Underserved\", \"Unserved\", \"Served\", \"Underserved\", \"Unserved\"], [329, 1337069491, \"530610526073008\", \"53061\", \"Served\", \"Unserved\", \"Served\", \"Unserved\", \"Underserved\", \"Unserved\", \"Unserved\", \"Underserved\", \"Unserved\"], [330, 1337115875, \"530610535091000\", \"53061\", \"Served\", \"Served\", \"Served\", \"Unserved\", \"Underserved\", \"Unserved\", \"Underserved\", \"Underserved\", \"Unserved\"], [331, 1337160506, \"530610413012021\", \"53061\", \"Served\", \"Served\", \"Served\", \"Unserved\", \"Underserved\", \"Unserved\", \"Underserved\", \"Underserved\", \"Unserved\"], [332, 1337117511, \"530610525022012\", \"53061\", \"Served\", \"Unserved\", \"Served\", \"Unserved\", \"Underserved\", \"Unserved\", \"Unserved\", \"Underserved\", \"Unserved\"], [333, 1337073585, \"530610529062004\", \"53061\", \"Served\", \"Served\", \"Served\", \"Unserved\", \"Underserved\", \"Unserved\", \"Underserved\", \"Underserved\", \"Unserved\"], [334, 1337162391, \"530610511002016\", \"53061\", \"Served\", \"Served\", \"Served\", \"Unserved\", \"Underserved\", \"Unserved\", \"Unserved\", \"Underserved\", \"Unserved\"], [335, 1337075883, \"530610416063001\", \"53061\", \"Served\", \"Served\", \"Served\", \"Unserved\", \"Underserved\", \"Unserved\", \"Unserved\", \"Underserved\", \"Unserved\"], [336, 1337122909, \"530610519143001\", \"53061\", \"Served\", \"Served\", \"Served\", \"Unserved\", \"Underserved\", \"Unserved\", \"Served\", \"Underserved\", \"Unserved\"], [337, 1337165174, \"530610527072007\", \"53061\", \"Served\", \"Unserved\", \"Served\", \"Unserved\", \"Underserved\", \"Unserved\", \"Served\", \"Underserved\", \"Unserved\"], [338, 1337123093, \"530610538033042\", \"53061\", \"Served\", \"Unserved\", \"Served\", \"Unserved\", \"Underserved\", \"Unserved\", \"Unserved\", \"Underserved\", \"Unserved\"], [339, 1337075960, \"530610416063004\", \"53061\", \"Served\", \"Unserved\", \"Served\", \"Unserved\", \"Underserved\", \"Unserved\", \"Underserved\", \"Underserved\", \"Unserved\"], [340, 1337079212, \"530610519272013\", \"53061\", \"Served\", \"Served\", \"Served\", \"Unserved\", \"Underserved\", \"Unserved\", \"Underserved\", \"Underserved\", \"Unserved\"], [12515954, 1410058891, \"530499505022034\", \"53049\", \"Unserved\", \"Unserved\", \"Unserved\", \"Unserved\", \"Underserved\", \"Unserved\", \"Unserved\", \"Underserved\", \"Unserved\"], [12515960, 1410076353, \"530019503011116\", \"53001\", \"Unserved\", \"Unserved\", \"Unserved\", \"Unserved\", \"Underserved\", \"Unserved\", \"Unserved\", \"Underserved\", \"Unserved\"], [12515971, 1349417160, \"530110407152003\", \"53011\", \"Underserved\", \"Unserved\", \"Unserved\", \"Unserved\", \"Underserved\", \"Unserved\", \"Underserved\", \"Underserved\", \"Unserved\"], [12516107, 1305957380, \"530770017012080\", \"53077\", \"Served\", \"Unserved\", \"Unserved\", \"Unserved\", \"Underserved\", \"Served\", \"Unserved\", \"Underserved\", \"Served\"], [12516119, 1049513485, \"530479710003030\", \"53047\", \"Unserved\", \"Unserved\", \"Unserved\", \"Unserved\", \"Underserved\", \"Unserved\", \"Unserved\", \"Underserved\", \"Unserved\"], [12516139, 1305973563, \"530770022013017\", \"53077\", \"Underserved\", \"Unserved\", \"Unserved\", \"Unserved\", \"Underserved\", \"Unserved\", \"Underserved\", \"Underserved\", \"Unserved\"], [12516143, 1305980219, \"530770027011008\", \"53077\", \"Served\", \"Unserved\", \"Unserved\", \"Unserved\", \"Underserved\", \"Served\", \"Underserved\", \"Underserved\", \"Served\"], [12516149, 1305981944, \"530779400012025\", \"53077\", \"Served\", \"Unserved\", \"Unserved\", \"Unserved\", \"Underserved\", \"Unserved\", \"Served\", \"Underserved\", \"Served\"], [12516172, 1305988318, \"530770029001014\", \"53077\", \"Served\", \"Unserved\", \"Unserved\", \"Unserved\", \"Underserved\", \"Served\", \"Underserved\", \"Underserved\", \"Served\"], [12516183, 1305990117, \"530770021032000\", \"53077\", \"Served\", \"Unserved\", \"Unserved\", \"Unserved\", \"Underserved\", \"Served\", \"Underserved\", \"Underserved\", \"Served\"], [12516200, 1305994009, \"530770028013048\", \"53077\", \"Underserved\", \"Unserved\", \"Unserved\", \"Unserved\", \"Underserved\", \"Unserved\", \"Underserved\", \"Underserved\", \"Served\"], [12516208, 1305994046, \"530770017022040\", \"53077\", \"Served\", \"Unserved\", \"Unserved\", \"Unserved\", \"Underserved\", \"Unserved\", \"Served\", \"Underserved\", \"Served\"], [12516417, 1310119128, \"530730105042004\", \"53073\", \"Unserved\", \"Unserved\", \"Unserved\", \"Unserved\", \"Underserved\", \"Unserved\", \"Unserved\", \"Underserved\", \"Unserved\"], [12516574, 1310172586, \"530730110001026\", \"53073\", \"Unserved\", \"Unserved\", \"Unserved\", \"Unserved\", \"Underserved\", \"Unserved\", \"Unserved\", \"Underserved\", \"Unserved\"], [12516673, 1366877265, \"530330312022016\", \"53033\", \"Unserved\", \"Unserved\", \"Unserved\", \"Unserved\", \"Underserved\", \"Unserved\", \"Unserved\", \"Underserved\", \"Unserved\"], [12516906, 1312136953, \"530050118013010\", \"53005\", \"Unserved\", \"Unserved\", \"Unserved\", \"Unserved\", \"Underserved\", \"Unserved\", \"Unserved\", \"Underserved\", \"Served\"], [12517065, 1367096979, \"530330315013006\", \"53033\", \"Unserved\", \"Unserved\", \"Unserved\", \"Unserved\", \"Underserved\", \"Unserved\", \"Unserved\", \"Underserved\", \"Unserved\"], [12517135, 1409624336, \"530779400023106\", \"53077\", \"Served\", \"Unserved\", \"Unserved\", \"Unserved\", \"Underserved\", \"Served\", \"Unserved\", \"Underserved\", \"Underserved\"], [12517139, 1409641562, \"530659502001077\", \"53065\", \"Unserved\", \"Unserved\", \"Unserved\", \"Unserved\", \"Underserved\", \"Unserved\", \"Unserved\", \"Underserved\", \"Underserved\"], [12517144, 1409645166, \"530659514022036\", \"53065\", \"Unserved\", \"Unserved\", \"Unserved\", \"Unserved\", \"Underserved\", \"Unserved\", \"Unserved\", \"Underserved\", \"Underserved\"], [12517149, 1409688597, \"530670124202037\", \"53067\", \"Unserved\", \"Unserved\", \"Unserved\", \"Unserved\", \"Underserved\", \"Unserved\", \"Unserved\", \"Underserved\", \"Unserved\"], [12517182, 1315759358, \"530270007001181\", \"53027\", \"Unserved\", \"Unserved\", \"Unserved\", \"Unserved\", \"Underserved\", \"Unserved\", \"Unserved\", \"Underserved\", \"Unserved\"], [12517186, 1315772092, \"530270003001194\", \"53027\", \"Unserved\", \"Unserved\", \"Unserved\", \"Unserved\", \"Underserved\", \"Unserved\", \"Unserved\", \"Underserved\", \"Unserved\"], [12518164, 1015904092, \"530659509002040\", \"53065\", \"Unserved\", \"Unserved\", \"Unserved\", \"Unserved\", \"Underserved\", \"Unserved\", \"Unserved\", \"Underserved\", \"Unserved\"], [12518166, 1015908612, \"530659501023013\", \"53065\", \"Unserved\", \"Unserved\", \"Unserved\", \"Unserved\", \"Underserved\", \"Unserved\", \"Unserved\", \"Underserved\", \"Underserved\"], [12518184, 1027408331, \"530519705002061\", \"53051\", \"Unserved\", \"Unserved\", \"Unserved\", \"Unserved\", \"Underserved\", \"Unserved\", \"Unserved\", \"Underserved\", \"Unserved\"], [12518188, 1032760836, \"530319502022103\", \"53031\", \"Unserved\", \"Unserved\", \"Unserved\", \"Unserved\", \"Underserved\", \"Unserved\", \"Unserved\", \"Underserved\", \"Unserved\"], [12518192, 1032768614, \"530319507023031\", \"53031\", \"Unserved\", \"Unserved\", \"Unserved\", \"Unserved\", \"Underserved\", \"Unserved\", \"Unserved\", \"Underserved\", \"Unserved\"], [12518214, 1042970300, \"530439604001141\", \"53043\", \"Unserved\", \"Unserved\", \"Unserved\", \"Unserved\", \"Underserved\", \"Unserved\", \"Unserved\", \"Underserved\", \"Unserved\"], [12518216, 1042975068, \"530439603002216\", \"53043\", \"Unserved\", \"Unserved\", \"Unserved\", \"Unserved\", \"Underserved\", \"Unserved\", \"Unserved\", \"Underserved\", \"Underserved\"], [12518218, 1048329127, \"530090024001029\", \"53009\", \"Unserved\", \"Unserved\", \"Unserved\", \"Unserved\", \"Underserved\", \"Unserved\", \"Unserved\", \"Underserved\", \"Unserved\"], [12518226, 1048347489, \"530090018003012\", \"53009\", \"Unserved\", \"Unserved\", \"Unserved\", \"Unserved\", \"Underserved\", \"Unserved\", \"Unserved\", \"Underserved\", \"Underserved\"], [12518228, 1048351728, \"530090006002004\", \"53009\", \"Unserved\", \"Unserved\", \"Unserved\", \"Unserved\", \"Underserved\", \"Unserved\", \"Unserved\", \"Underserved\", \"Underserved\"], [12518240, 1048368522, \"530090023012003\", \"53009\", \"Unserved\", \"Unserved\", \"Unserved\", \"Unserved\", \"Underserved\", \"Unserved\", \"Unserved\", \"Underserved\", \"Underserved\"], [12518258, 1049465710, \"530479703021034\", \"53047\", \"Unserved\", \"Unserved\", \"Unserved\", \"Unserved\", \"Underserved\", \"Unserved\", \"Unserved\", \"Underserved\", \"Unserved\"], [12518260, 1049468036, \"530479703033045\", \"53047\", \"Unserved\", \"Unserved\", \"Unserved\", \"Unserved\", \"Underserved\", \"Unserved\", \"Unserved\", \"Underserved\", \"Unserved\"], [12518336, 1063167014, \"530150018002037\", \"53015\", \"Unserved\", \"Unserved\", \"Unserved\", \"Unserved\", \"Underserved\", \"Unserved\", \"Unserved\", \"Underserved\", \"Unserved\"], [12518344, 1063172247, \"530150015013057\", \"53015\", \"Unserved\", \"Unserved\", \"Unserved\", \"Unserved\", \"Underserved\", \"Unserved\", \"Unserved\", \"Underserved\", \"Unserved\"], [12518434, 1073288471, \"530350920001017\", \"53035\", \"Unserved\", \"Unserved\", \"Unserved\", \"Unserved\", \"Underserved\", \"Unserved\", \"Unserved\", \"Underserved\", \"Unserved\"], [12518446, 1089294662, \"530559601031003\", \"53055\", \"Unserved\", \"Unserved\", \"Unserved\", \"Unserved\", \"Underserved\", \"Unserved\", \"Unserved\", \"Underserved\", \"Unserved\"], [12518528, 1110482231, \"530250107002026\", \"53025\", \"Unserved\", \"Unserved\", \"Unserved\", \"Unserved\", \"Underserved\", \"Unserved\", \"Unserved\", \"Underserved\", \"Unserved\"], [12518530, 1110485108, \"530250107003030\", \"53025\", \"Underserved\", \"Unserved\", \"Unserved\", \"Unserved\", \"Underserved\", \"Unserved\", \"Underserved\", \"Underserved\", \"Unserved\"], [12518532, 1110497081, \"530250114011016\", \"53025\", \"Unserved\", \"Unserved\", \"Unserved\", \"Unserved\", \"Underserved\", \"Unserved\", \"Unserved\", \"Underserved\", \"Unserved\"], [12518562, 1137462145, \"530399502002120\", \"53039\", \"Unserved\", \"Unserved\", \"Unserved\", \"Unserved\", \"Underserved\", \"Unserved\", \"Unserved\", \"Underserved\", \"Unserved\"], [12518576, 1137477588, \"530399501011095\", \"53039\", \"Unserved\", \"Unserved\", \"Unserved\", \"Unserved\", \"Underserved\", \"Unserved\", \"Unserved\", \"Underserved\", \"Unserved\"], [12518582, 1288876485, \"530599504002009\", \"53059\", \"Unserved\", \"Unserved\", \"Unserved\", \"Unserved\", \"Underserved\", \"Unserved\", \"Unserved\", \"Underserved\", \"Unserved\"], [12518590, 1288880783, \"530599501001443\", \"53059\", \"Unserved\", \"Unserved\", \"Unserved\", \"Unserved\", \"Underserved\", \"Unserved\", \"Unserved\", \"Underserved\", \"Unserved\"], [12518592, 1288928684, \"530750007001122\", \"53075\", \"Unserved\", \"Unserved\", \"Unserved\", \"Unserved\", \"Underserved\", \"Unserved\", \"Unserved\", \"Underserved\", \"Underserved\"], [12518756, 1296188758, \"530210208023094\", \"53021\", \"Unserved\", \"Unserved\", \"Unserved\", \"Unserved\", \"Underserved\", \"Unserved\", \"Unserved\", \"Underserved\", \"Unserved\"], [12518935, 1296306365, \"530379751021035\", \"53037\", \"Unserved\", \"Unserved\", \"Unserved\", \"Unserved\", \"Underserved\", \"Unserved\", \"Unserved\", \"Underserved\", \"Served\"], [12519114, 1367040266, \"530330058041009\", \"53033\", \"Underserved\", \"Unserved\", \"Unserved\", \"Unserved\", \"Underserved\", \"Unserved\", \"Underserved\", \"Underserved\", \"Unserved\"], [12519208, 1367107511, \"530330315012056\", \"53033\", \"Served\", \"Unserved\", \"Unserved\", \"Unserved\", \"Underserved\", \"Unserved\", \"Served\", \"Underserved\", \"Unserved\"], [12519242, 1367116869, \"530330320034029\", \"53033\", \"Unserved\", \"Unserved\", \"Unserved\", \"Unserved\", \"Underserved\", \"Unserved\", \"Unserved\", \"Underserved\", \"Unserved\"], [12519250, 1367123901, \"530330312024000\", \"53033\", \"Underserved\", \"Unserved\", \"Unserved\", \"Unserved\", \"Underserved\", \"Underserved\", \"Underserved\", \"Underserved\", \"Unserved\"], [12519257, 1409385319, \"530210207001028\", \"53021\", \"Unserved\", \"Unserved\", \"Unserved\", \"Unserved\", \"Underserved\", \"Unserved\", \"Unserved\", \"Underserved\", \"Unserved\"], [12519293, 1409719007, \"530330313012006\", \"53033\", \"Underserved\", \"Unserved\", \"Unserved\", \"Unserved\", \"Underserved\", \"Underserved\", \"Underserved\", \"Underserved\", \"Unserved\"], [12519311, 1409902357, \"530350928032006\", \"53035\", \"Unserved\", \"Unserved\", \"Unserved\", \"Unserved\", \"Underserved\", \"Unserved\", \"Unserved\", \"Underserved\", \"Unserved\"], [12519326, 1409968115, \"530050120001025\", \"53005\", \"Underserved\", \"Unserved\", \"Unserved\", \"Unserved\", \"Underserved\", \"Unserved\", \"Underserved\", \"Underserved\", \"Unserved\"], [12519410, 1302688545, \"530670126102015\", \"53067\", \"Unserved\", \"Unserved\", \"Unserved\", \"Unserved\", \"Underserved\", \"Unserved\", \"Unserved\", \"Underserved\", \"Unserved\"], [12519419, 1302693000, \"530670118102014\", \"53067\", \"Unserved\", \"Unserved\", \"Unserved\", \"Unserved\", \"Underserved\", \"Unserved\", \"Unserved\", \"Underserved\", \"Unserved\"], [12519432, 1302704088, \"530670127302003\", \"53067\", \"Unserved\", \"Unserved\", \"Unserved\", \"Unserved\", \"Underserved\", \"Unserved\", \"Unserved\", \"Underserved\", \"Unserved\"], [12519444, 1302713774, \"530670125314013\", \"53067\", \"Unserved\", \"Unserved\", \"Unserved\", \"Unserved\", \"Underserved\", \"Unserved\", \"Unserved\", \"Underserved\", \"Unserved\"], [12519558, 1305975665, \"530770030032084\", \"53077\", \"Unserved\", \"Unserved\", \"Unserved\", \"Unserved\", \"Underserved\", \"Unserved\", \"Unserved\", \"Underserved\", \"Served\"], [12519560, 1305977144, \"530770030031011\", \"53077\", \"Unserved\", \"Unserved\", \"Unserved\", \"Unserved\", \"Underserved\", \"Unserved\", \"Unserved\", \"Underserved\", \"Unserved\"], [12519566, 1305991912, \"530770021032069\", \"53077\", \"Served\", \"Unserved\", \"Unserved\", \"Unserved\", \"Underserved\", \"Served\", \"Underserved\", \"Underserved\", \"Served\"], [12519684, 1049470798, \"530479709002000\", \"53047\", \"Unserved\", \"Unserved\", \"Unserved\", \"Unserved\", \"Underserved\", \"Unserved\", \"Unserved\", \"Underserved\", \"Underserved\"], [12519686, 1049471236, \"530479709001043\", \"53047\", \"Unserved\", \"Unserved\", \"Unserved\", \"Unserved\", \"Underserved\", \"Unserved\", \"Unserved\", \"Underserved\", \"Unserved\"], [12520220, 1337238596, \"530610538013052\", \"53061\", \"Unserved\", \"Unserved\", \"Unserved\", \"Unserved\", \"Underserved\", \"Unserved\", \"Unserved\", \"Underserved\", \"Unserved\"], [12520258, 1337262908, \"530619400023007\", \"53061\", \"Unserved\", \"Unserved\", \"Unserved\", \"Unserved\", \"Underserved\", \"Unserved\", \"Unserved\", \"Underserved\", \"Unserved\"], [12520310, 1315758510, \"530270004012047\", \"53027\", \"Unserved\", \"Unserved\", \"Unserved\", \"Unserved\", \"Underserved\", \"Unserved\", \"Unserved\", \"Underserved\", \"Unserved\"], [12520312, 1315759002, \"530270016021007\", \"53027\", \"Unserved\", \"Unserved\", \"Unserved\", \"Unserved\", \"Underserved\", \"Unserved\", \"Unserved\", \"Underserved\", \"Unserved\"], [12520326, 1315759555, \"530270002021038\", \"53027\", \"Underserved\", \"Unserved\", \"Unserved\", \"Unserved\", \"Underserved\", \"Unserved\", \"Underserved\", \"Underserved\", \"Unserved\"], [12520738, 1342695326, \"530630102011015\", \"53063\", \"Unserved\", \"Unserved\", \"Unserved\", \"Unserved\", \"Underserved\", \"Unserved\", \"Unserved\", \"Underserved\", \"Underserved\"], [12520742, 1342700881, \"530630104031049\", \"53063\", \"Unserved\", \"Unserved\", \"Unserved\", \"Unserved\", \"Underserved\", \"Unserved\", \"Unserved\", \"Underserved\", \"Underserved\"], [12520746, 1342700941, \"530630103042000\", \"53063\", \"Unserved\", \"Unserved\", \"Unserved\", \"Unserved\", \"Underserved\", \"Unserved\", \"Unserved\", \"Underserved\", \"Underserved\"], [12520750, 1342714021, \"530630101012020\", \"53063\", \"Underserved\", \"Unserved\", \"Unserved\", \"Unserved\", \"Underserved\", \"Unserved\", \"Underserved\", \"Underserved\", \"Underserved\"], [12520792, 1342746178, \"530630143001036\", \"53063\", \"Underserved\", \"Unserved\", \"Unserved\", \"Unserved\", \"Underserved\", \"Underserved\", \"Unserved\", \"Underserved\", \"Underserved\"], [12520799, 1342746856, \"530630137002081\", \"53063\", \"Unserved\", \"Unserved\", \"Unserved\", \"Unserved\", \"Underserved\", \"Unserved\", \"Unserved\", \"Underserved\", \"Underserved\"], [12520956, 1349316636, \"530110407072001\", \"53011\", \"Unserved\", \"Unserved\", \"Unserved\", \"Unserved\", \"Underserved\", \"Unserved\", \"Unserved\", \"Underserved\", \"Unserved\"], [12521106, 1349390163, \"530110401014003\", \"53011\", \"Unserved\", \"Unserved\", \"Unserved\", \"Unserved\", \"Underserved\", \"Unserved\", \"Unserved\", \"Underserved\", \"Unserved\"], [12522138, 1015887774, \"530659508002137\", \"53065\", \"Unserved\", \"Unserved\", \"Unserved\", \"Unserved\", \"Underserved\", \"Unserved\", \"Unserved\", \"Underserved\", \"Underserved\"], [12522146, 1015897034, \"530659506002004\", \"53065\", \"Unserved\", \"Unserved\", \"Unserved\", \"Unserved\", \"Underserved\", \"Unserved\", \"Unserved\", \"Underserved\", \"Unserved\"], [12522150, 1015901957, \"530659501013012\", \"53065\", \"Unserved\", \"Unserved\", \"Unserved\", \"Unserved\", \"Underserved\", \"Unserved\", \"Unserved\", \"Underserved\", \"Underserved\"], [12522156, 1015918816, \"530659511002054\", \"53065\", \"Unserved\", \"Unserved\", \"Unserved\", \"Unserved\", \"Underserved\", \"Unserved\", \"Unserved\", \"Underserved\", \"Underserved\"], [12522164, 1024103284, \"530019502003085\", \"53001\", \"Unserved\", \"Unserved\", \"Unserved\", \"Unserved\", \"Underserved\", \"Unserved\", \"Unserved\", \"Underserved\", \"Unserved\"], [12522168, 1024104432, \"530019502002105\", \"53001\", \"Unserved\", \"Unserved\", \"Unserved\", \"Unserved\", \"Underserved\", \"Unserved\", \"Unserved\", \"Underserved\", \"Unserved\"], [12522170, 1027401704, \"530519701001055\", \"53051\", \"Unserved\", \"Unserved\", \"Unserved\", \"Unserved\", \"Underserved\", \"Unserved\", \"Unserved\", \"Underserved\", \"Unserved\"], [12522178, 1032761960, \"530319502022132\", \"53031\", \"Unserved\", \"Unserved\", \"Unserved\", \"Unserved\", \"Underserved\", \"Unserved\", \"Unserved\", \"Underserved\", \"Unserved\"], [12522182, 1032765470, \"530319504002034\", \"53031\", \"Unserved\", \"Unserved\", \"Unserved\", \"Unserved\", \"Underserved\", \"Unserved\", \"Unserved\", \"Underserved\", \"Unserved\"], [12522184, 1032765529, \"530319504002034\", \"53031\", \"Unserved\", \"Unserved\", \"Unserved\", \"Unserved\", \"Underserved\", \"Unserved\", \"Unserved\", \"Underserved\", \"Unserved\"], [12522186, 1032765962, \"530319507022078\", \"53031\", \"Underserved\", \"Unserved\", \"Unserved\", \"Unserved\", \"Underserved\", \"Unserved\", \"Underserved\", \"Underserved\", \"Unserved\"], [12522188, 1032767261, \"530319507022039\", \"53031\", \"Unserved\", \"Unserved\", \"Unserved\", \"Unserved\", \"Underserved\", \"Unserved\", \"Unserved\", \"Underserved\", \"Unserved\"], [12522192, 1032775763, \"530319503022011\", \"53031\", \"Unserved\", \"Unserved\", \"Unserved\", \"Unserved\", \"Underserved\", \"Unserved\", \"Unserved\", \"Underserved\", \"Unserved\"], [12522206, 1042974000, \"530439603001012\", \"53043\", \"Unserved\", \"Unserved\", \"Unserved\", \"Unserved\", \"Underserved\", \"Unserved\", \"Unserved\", \"Underserved\", \"Unserved\"], [12522208, 1048328916, \"530090024001034\", \"53009\", \"Unserved\", \"Unserved\", \"Unserved\", \"Unserved\", \"Underserved\", \"Unserved\", \"Unserved\", \"Underserved\", \"Unserved\"], [12522210, 1048331608, \"530090003002001\", \"53009\", \"Unserved\", \"Unserved\", \"Unserved\", \"Unserved\", \"Underserved\", \"Unserved\", \"Unserved\", \"Underserved\", \"Unserved\"], [12522224, 1048368388, \"530090023012003\", \"53009\", \"Unserved\", \"Unserved\", \"Unserved\", \"Unserved\", \"Underserved\", \"Unserved\", \"Unserved\", \"Underserved\", \"Underserved\"], [12522240, 1049478995, \"530479707004039\", \"53047\", \"Unserved\", \"Unserved\", \"Unserved\", \"Unserved\", \"Underserved\", \"Unserved\", \"Unserved\", \"Underserved\", \"Underserved\"], [12522268, 1063126454, \"530150016021002\", \"53015\", \"Unserved\", \"Unserved\", \"Unserved\", \"Unserved\", \"Underserved\", \"Unserved\", \"Unserved\", \"Underserved\", \"Unserved\"], [12522274, 1063129642, \"530150016021000\", \"53015\", \"Unserved\", \"Unserved\", \"Unserved\", \"Unserved\", \"Underserved\", \"Unserved\", \"Unserved\", \"Underserved\", \"Unserved\"], [12522282, 1063132578, \"530150017003000\", \"53015\", \"Unserved\", \"Unserved\", \"Unserved\", \"Unserved\", \"Underserved\", \"Unserved\", \"Unserved\", \"Underserved\", \"Unserved\"], [12522440, 1349390404, \"530110401014003\", \"53011\", \"Unserved\", \"Unserved\", \"Unserved\", \"Unserved\", \"Underserved\", \"Unserved\", \"Unserved\", \"Underserved\", \"Unserved\"], [12522444, 1310094884, \"530730104102008\", \"53073\", \"Unserved\", \"Unserved\", \"Unserved\", \"Unserved\", \"Underserved\", \"Unserved\", \"Unserved\", \"Underserved\", \"Unserved\"], [12522580, 1089294795, \"530559603013041\", \"53055\", \"Unserved\", \"Unserved\", \"Unserved\", \"Unserved\", \"Underserved\", \"Unserved\", \"Unserved\", \"Underserved\", \"Unserved\"], [12522596, 1105664614, \"530419720001021\", \"53041\", \"Unserved\", \"Unserved\", \"Unserved\", \"Unserved\", \"Underserved\", \"Unserved\", \"Unserved\", \"Underserved\", \"Unserved\"], [12522598, 1105671150, \"530419719003019\", \"53041\", \"Unserved\", \"Unserved\", \"Unserved\", \"Unserved\", \"Underserved\", \"Unserved\", \"Unserved\", \"Underserved\", \"Unserved\"], [12522654, 1110457089, \"530250102002052\", \"53025\", \"Unserved\", \"Unserved\", \"Unserved\", \"Unserved\", \"Underserved\", \"Unserved\", \"Unserved\", \"Underserved\", \"Unserved\"], [12522864, 1312998779, \"530579521003042\", \"53057\", \"Unserved\", \"Unserved\", \"Unserved\", \"Unserved\", \"Underserved\", \"Unserved\", \"Unserved\", \"Underserved\", \"Unserved\"], [12522870, 1122539996, \"530199400001107\", \"53019\", \"Unserved\", \"Unserved\", \"Unserved\", \"Unserved\", \"Underserved\", \"Unserved\", \"Unserved\", \"Underserved\", \"Unserved\"], [12522878, 1137460260, \"530399501031006\", \"53039\", \"Unserved\", \"Unserved\", \"Unserved\", \"Unserved\", \"Underserved\", \"Unserved\", \"Unserved\", \"Underserved\", \"Unserved\"], [12522886, 1137460798, \"530399501021011\", \"53039\", \"Unserved\", \"Unserved\", \"Unserved\", \"Unserved\", \"Underserved\", \"Unserved\", \"Unserved\", \"Underserved\", \"Unserved\"], [12522967, 1288880780, \"530599501001441\", \"53059\", \"Unserved\", \"Unserved\", \"Unserved\", \"Unserved\", \"Underserved\", \"Unserved\", \"Unserved\", \"Underserved\", \"Unserved\"], [12522973, 1288930973, \"530750007002169\", \"53075\", \"Unserved\", \"Unserved\", \"Unserved\", \"Unserved\", \"Underserved\", \"Unserved\", \"Unserved\", \"Underserved\", \"Underserved\"], [12522997, 1315751682, \"530270003003120\", \"53027\", \"Unserved\", \"Unserved\", \"Unserved\", \"Unserved\", \"Underserved\", \"Unserved\", \"Unserved\", \"Underserved\", \"Unserved\"], [12523008, 1288950728, \"530750009002216\", \"53075\", \"Unserved\", \"Unserved\", \"Unserved\", \"Unserved\", \"Underserved\", \"Unserved\", \"Unserved\", \"Underserved\", \"Unserved\"], [12523067, 1296191400, \"530210208012015\", \"53021\", \"Unserved\", \"Unserved\", \"Unserved\", \"Unserved\", \"Underserved\", \"Unserved\", \"Unserved\", \"Underserved\", \"Unserved\"], [12523212, 1296304988, \"530379751041078\", \"53037\", \"Unserved\", \"Unserved\", \"Unserved\", \"Unserved\", \"Underserved\", \"Unserved\", \"Unserved\", \"Underserved\", \"Served\"], [12523244, 1296325114, \"530379751011247\", \"53037\", \"Unserved\", \"Unserved\", \"Unserved\", \"Unserved\", \"Underserved\", \"Unserved\", \"Unserved\", \"Underserved\", \"Served\"], [12523302, 1366771913, \"530330303131008\", \"53033\", \"Underserved\", \"Unserved\", \"Unserved\", \"Unserved\", \"Underserved\", \"Unserved\", \"Underserved\", \"Underserved\", \"Unserved\"], [12523820, 1330427369, \"530530701001122\", \"53053\", \"Unserved\", \"Unserved\", \"Unserved\", \"Unserved\", \"Underserved\", \"Unserved\", \"Unserved\", \"Underserved\", \"Unserved\"], [12523824, 1330432629, \"530530702061017\", \"53053\", \"Underserved\", \"Unserved\", \"Unserved\", \"Unserved\", \"Underserved\", \"Underserved\", \"Unserved\", \"Underserved\", \"Unserved\"], [12524008, 1367120595, \"530330325001028\", \"53033\", \"Unserved\", \"Unserved\", \"Unserved\", \"Unserved\", \"Underserved\", \"Unserved\", \"Unserved\", \"Underserved\", \"Unserved\"], [12524014, 1367123171, \"530330319121000\", \"53033\", \"Underserved\", \"Unserved\", \"Unserved\", \"Unserved\", \"Underserved\", \"Unserved\", \"Underserved\", \"Underserved\", \"Unserved\"], [12524018, 1367128090, \"530330277022037\", \"53033\", \"Unserved\", \"Unserved\", \"Unserved\", \"Unserved\", \"Underserved\", \"Unserved\", \"Unserved\", \"Underserved\", \"Unserved\"], [12524031, 1409475012, \"530630103032045\", \"53063\", \"Unserved\", \"Unserved\", \"Unserved\", \"Unserved\", \"Underserved\", \"Unserved\", \"Unserved\", \"Underserved\", \"Underserved\"], [12524040, 1409584280, \"530530730014003\", \"53053\", \"Unserved\", \"Unserved\", \"Unserved\", \"Unserved\", \"Underserved\", \"Unserved\", \"Unserved\", \"Underserved\", \"Unserved\"], [12524044, 1409585740, \"530319502022144\", \"53031\", \"Unserved\", \"Unserved\", \"Unserved\", \"Unserved\", \"Underserved\", \"Unserved\", \"Unserved\", \"Underserved\", \"Unserved\"], [12524048, 1409649283, \"530659410001018\", \"53065\", \"Underserved\", \"Unserved\", \"Unserved\", \"Unserved\", \"Underserved\", \"Unserved\", \"Underserved\", \"Underserved\", \"Unserved\"], [12524052, 1409663594, \"530519702001066\", \"53051\", \"Unserved\", \"Unserved\", \"Unserved\", \"Unserved\", \"Underserved\", \"Unserved\", \"Unserved\", \"Underserved\", \"Unserved\"], [12524079, 1409780560, \"530179502001123\", \"53017\", \"Unserved\", \"Unserved\", \"Unserved\", \"Unserved\", \"Underserved\", \"Unserved\", \"Unserved\", \"Underserved\", \"Unserved\"], [12524180, 1337249463, \"530610522072017\", \"53061\", \"Unserved\", \"Unserved\", \"Unserved\", \"Unserved\", \"Underserved\", \"Unserved\", \"Unserved\", \"Underserved\", \"Unserved\"], [12524252, 1337282844, \"530610538012023\", \"53061\", \"Unserved\", \"Unserved\", \"Unserved\", \"Unserved\", \"Underserved\", \"Unserved\", \"Unserved\", \"Underserved\", \"Unserved\"], [12524412, 1342699439, \"530630133001005\", \"53063\", \"Underserved\", \"Unserved\", \"Unserved\", \"Unserved\", \"Underserved\", \"Underserved\", \"Underserved\", \"Underserved\", \"Underserved\"], [12524417, 1342703207, \"530630102041016\", \"53063\", \"Unserved\", \"Unserved\", \"Unserved\", \"Unserved\", \"Underserved\", \"Unserved\", \"Unserved\", \"Underserved\", \"Underserved\"], [12524426, 1342707139, \"530630133002003\", \"53063\", \"Unserved\", \"Unserved\", \"Unserved\", \"Unserved\", \"Underserved\", \"Unserved\", \"Unserved\", \"Underserved\", \"Served\"], [12524434, 1342715487, \"530630133001023\", \"53063\", \"Underserved\", \"Unserved\", \"Unserved\", \"Unserved\", \"Underserved\", \"Underserved\", \"Unserved\", \"Underserved\", \"Underserved\"], [12524437, 1342721465, \"530630135021047\", \"53063\", \"Unserved\", \"Unserved\", \"Unserved\", \"Unserved\", \"Underserved\", \"Unserved\", \"Unserved\", \"Underserved\", \"Underserved\"], [12524438, 1342722404, \"530630135021014\", \"53063\", \"Underserved\", \"Unserved\", \"Unserved\", \"Unserved\", \"Underserved\", \"Unserved\", \"Underserved\", \"Underserved\", \"Underserved\"], [12524441, 1342728979, \"530630113012008\", \"53063\", \"Unserved\", \"Unserved\", \"Unserved\", \"Unserved\", \"Underserved\", \"Unserved\", \"Unserved\", \"Underserved\", \"Underserved\"], [12525037, 1049473868, \"530479710002053\", \"53047\", \"Unserved\", \"Unserved\", \"Unserved\", \"Unserved\", \"Underserved\", \"Unserved\", \"Unserved\", \"Underserved\", \"Unserved\"], [12525751, 1109870820, \"530719200004007\", \"53071\", \"Unserved\", \"Unserved\", \"Unserved\", \"Unserved\", \"Underserved\", \"Unserved\", \"Unserved\", \"Underserved\", \"Unserved\"], [12525753, 1109872616, \"530719201001021\", \"53071\", \"Underserved\", \"Unserved\", \"Unserved\", \"Unserved\", \"Underserved\", \"Unserved\", \"Underserved\", \"Underserved\", \"Underserved\"], [12525876, 1127324682, \"530139602001048\", \"53013\", \"Unserved\", \"Unserved\", \"Unserved\", \"Unserved\", \"Underserved\", \"Unserved\", \"Unserved\", \"Underserved\", \"Unserved\"], [12525892, 1342648462, \"530630131013004\", \"53063\", \"Underserved\", \"Unserved\", \"Unserved\", \"Unserved\", \"Underserved\", \"Underserved\", \"Unserved\", \"Underserved\", \"Underserved\"], [12525942, 1342704616, \"530630141003031\", \"53063\", \"Unserved\", \"Unserved\", \"Unserved\", \"Unserved\", \"Underserved\", \"Unserved\", \"Unserved\", \"Underserved\", \"Underserved\"], [12525944, 1342709361, \"530630103041001\", \"53063\", \"Unserved\", \"Unserved\", \"Unserved\", \"Unserved\", \"Underserved\", \"Unserved\", \"Unserved\", \"Underserved\", \"Underserved\"], [12525946, 1342716467, \"530630104032047\", \"53063\", \"Unserved\", \"Unserved\", \"Unserved\", \"Unserved\", \"Underserved\", \"Unserved\", \"Served\", \"Underserved\", \"Underserved\"], [12525957, 1342732839, \"530630102032038\", \"53063\", \"Unserved\", \"Unserved\", \"Unserved\", \"Unserved\", \"Underserved\", \"Unserved\", \"Unserved\", \"Underserved\", \"Underserved\"], [12525963, 1342737421, \"530630135031001\", \"53063\", \"Underserved\", \"Unserved\", \"Unserved\", \"Unserved\", \"Underserved\", \"Underserved\", \"Unserved\", \"Underserved\", \"Underserved\"], [12525974, 1342743882, \"530630104043035\", \"53063\", \"Unserved\", \"Unserved\", \"Unserved\", \"Unserved\", \"Underserved\", \"Unserved\", \"Unserved\", \"Underserved\", \"Underserved\"], [12526045, 1288929954, \"530750009002169\", \"53075\", \"Unserved\", \"Unserved\", \"Unserved\", \"Unserved\", \"Underserved\", \"Unserved\", \"Unserved\", \"Underserved\", \"Underserved\"], [12526055, 1288937276, \"530750010002096\", \"53075\", \"Unserved\", \"Unserved\", \"Unserved\", \"Unserved\", \"Underserved\", \"Unserved\", \"Unserved\", \"Underserved\", \"Unserved\"], [12526104, 1296187313, \"530210206082036\", \"53021\", \"Served\", \"Unserved\", \"Unserved\", \"Unserved\", \"Underserved\", \"Unserved\", \"Served\", \"Underserved\", \"Served\"], [12526113, 1296191157, \"530210208012013\", \"53021\", \"Unserved\", \"Unserved\", \"Unserved\", \"Unserved\", \"Underserved\", \"Unserved\", \"Unserved\", \"Underserved\", \"Unserved\"], [12526245, 1349425022, \"530110401014003\", \"53011\", \"Unserved\", \"Unserved\", \"Unserved\", \"Unserved\", \"Underserved\", \"Unserved\", \"Unserved\", \"Underserved\", \"Unserved\"], [12526264, 1296294544, \"530379752011097\", \"53037\", \"Unserved\", \"Unserved\", \"Unserved\", \"Unserved\", \"Underserved\", \"Unserved\", \"Unserved\", \"Underserved\", \"Served\"], [12526281, 1296307737, \"530379753002012\", \"53037\", \"Underserved\", \"Unserved\", \"Unserved\", \"Unserved\", \"Underserved\", \"Unserved\", \"Underserved\", \"Underserved\", \"Served\"], [12526285, 1296307999, \"530379751011355\", \"53037\", \"Unserved\", \"Unserved\", \"Unserved\", \"Unserved\", \"Underserved\", \"Unserved\", \"Unserved\", \"Underserved\", \"Served\"], [12526326, 1296398896, \"530459601002027\", \"53045\", \"Unserved\", \"Unserved\", \"Unserved\", \"Unserved\", \"Underserved\", \"Unserved\", \"Unserved\", \"Underserved\", \"Unserved\"], [12526867, 1305960676, \"530779400012009\", \"53077\", \"Served\", \"Unserved\", \"Unserved\", \"Unserved\", \"Underserved\", \"Unserved\", \"Served\", \"Underserved\", \"Underserved\"], [12526885, 1305970875, \"530770030031011\", \"53077\", \"Unserved\", \"Unserved\", \"Unserved\", \"Unserved\", \"Underserved\", \"Unserved\", \"Unserved\", \"Underserved\", \"Unserved\"], [12526889, 1305971684, \"530779400012065\", \"53077\", \"Underserved\", \"Unserved\", \"Unserved\", \"Unserved\", \"Underserved\", \"Unserved\", \"Underserved\", \"Underserved\", \"Unserved\"], [12526894, 1305972264, \"530779400021020\", \"53077\", \"Served\", \"Unserved\", \"Unserved\", \"Unserved\", \"Underserved\", \"Served\", \"Underserved\", \"Underserved\", \"Served\"], [12526908, 1305979457, \"530770030032067\", \"53077\", \"Unserved\", \"Unserved\", \"Unserved\", \"Unserved\", \"Underserved\", \"Unserved\", \"Unserved\", \"Underserved\", \"Unserved\"], [12526918, 1305982813, \"530770018021031\", \"53077\", \"Served\", \"Unserved\", \"Unserved\", \"Unserved\", \"Underserved\", \"Served\", \"Unserved\", \"Underserved\", \"Served\"], [12526931, 1305995666, \"530779400032041\", \"53077\", \"Served\", \"Unserved\", \"Unserved\", \"Unserved\", \"Underserved\", \"Unserved\", \"Served\", \"Underserved\", \"Served\"], [12526941, 1305997551, \"530770021011027\", \"53077\", \"Served\", \"Unserved\", \"Unserved\", \"Unserved\", \"Underserved\", \"Served\", \"Underserved\", \"Underserved\", \"Served\"], [12526991, 1015882757, \"530659410002058\", \"53065\", \"Unserved\", \"Unserved\", \"Unserved\", \"Unserved\", \"Underserved\", \"Unserved\", \"Unserved\", \"Underserved\", \"Underserved\"], [12526997, 1015897756, \"530659502001051\", \"53065\", \"Unserved\", \"Unserved\", \"Unserved\", \"Unserved\", \"Underserved\", \"Unserved\", \"Unserved\", \"Underserved\", \"Underserved\"], [12526999, 1015899539, \"530659506001003\", \"53065\", \"Unserved\", \"Unserved\", \"Unserved\", \"Unserved\", \"Underserved\", \"Unserved\", \"Unserved\", \"Underserved\", \"Unserved\"], [12527003, 1015912811, \"530659501023034\", \"53065\", \"Unserved\", \"Unserved\", \"Unserved\", \"Unserved\", \"Underserved\", \"Unserved\", \"Unserved\", \"Underserved\", \"Underserved\"], [12527007, 1015916016, \"530659513011014\", \"53065\", \"Unserved\", \"Unserved\", \"Unserved\", \"Unserved\", \"Underserved\", \"Unserved\", \"Unserved\", \"Underserved\", \"Underserved\"], [12527014, 1015916133, \"530659513011014\", \"53065\", \"Unserved\", \"Unserved\", \"Unserved\", \"Unserved\", \"Underserved\", \"Unserved\", \"Unserved\", \"Underserved\", \"Underserved\"], [12527030, 1027401787, \"530519701003093\", \"53051\", \"Unserved\", \"Unserved\", \"Unserved\", \"Unserved\", \"Underserved\", \"Unserved\", \"Unserved\", \"Underserved\", \"Underserved\"], [12527043, 1027408561, \"530519702003051\", \"53051\", \"Unserved\", \"Unserved\", \"Unserved\", \"Unserved\", \"Underserved\", \"Unserved\", \"Unserved\", \"Underserved\", \"Unserved\"], [12527125, 1049478868, \"530479707005017\", \"53047\", \"Unserved\", \"Unserved\", \"Unserved\", \"Unserved\", \"Underserved\", \"Unserved\", \"Unserved\", \"Underserved\", \"Underserved\"], [12527140, 1367092948, \"530330315012062\", \"53033\", \"Served\", \"Unserved\", \"Unserved\", \"Unserved\", \"Underserved\", \"Unserved\", \"Served\", \"Underserved\", \"Unserved\"], [12527158, 1409404458, \"530479703031080\", \"53047\", \"Unserved\", \"Unserved\", \"Unserved\", \"Unserved\", \"Underserved\", \"Unserved\", \"Unserved\", \"Underserved\", \"Unserved\"], [12527166, 1409521668, \"530750003002015\", \"53075\", \"Unserved\", \"Unserved\", \"Unserved\", \"Unserved\", \"Underserved\", \"Unserved\", \"Unserved\", \"Underserved\", \"Underserved\"], [12527172, 1409551465, \"530530626001008\", \"53053\", \"Unserved\", \"Unserved\", \"Unserved\", \"Unserved\", \"Underserved\", \"Unserved\", \"Unserved\", \"Underserved\", \"Unserved\"], [12527178, 1409662416, \"530519702001094\", \"53051\", \"Unserved\", \"Unserved\", \"Unserved\", \"Unserved\", \"Underserved\", \"Unserved\", \"Unserved\", \"Underserved\", \"Unserved\"], [12527183, 1049482703, \"530479402001032\", \"53047\", \"Unserved\", \"Unserved\", \"Unserved\", \"Unserved\", \"Underserved\", \"Unserved\", \"Unserved\", \"Underserved\", \"Unserved\"], [12527185, 1049483792, \"530479703031006\", \"53047\", \"Unserved\", \"Unserved\", \"Unserved\", \"Unserved\", \"Underserved\", \"Unserved\", \"Unserved\", \"Underserved\", \"Unserved\"], [12527228, 1063121626, \"530150020041005\", \"53015\", \"Unserved\", \"Unserved\", \"Unserved\", \"Unserved\", \"Underserved\", \"Unserved\", \"Unserved\", \"Underserved\", \"Unserved\"], [12527263, 1410083092, \"530250114041037\", \"53025\", \"Underserved\", \"Unserved\", \"Unserved\", \"Unserved\", \"Underserved\", \"Unserved\", \"Underserved\", \"Underserved\", \"Unserved\"], [12527270, 1410092620, \"530250113002063\", \"53025\", \"Unserved\", \"Unserved\", \"Unserved\", \"Unserved\", \"Underserved\", \"Unserved\", \"Unserved\", \"Underserved\", \"Unserved\"], [12527393, 1049464428, \"530479703011116\", \"53047\", \"Unserved\", \"Unserved\", \"Unserved\", \"Unserved\", \"Underserved\", \"Unserved\", \"Unserved\", \"Underserved\", \"Unserved\"], [12527550, 1089295727, \"530559601013010\", \"53055\", \"Unserved\", \"Unserved\", \"Unserved\", \"Unserved\", \"Underserved\", \"Unserved\", \"Unserved\", \"Underserved\", \"Underserved\"], [12527558, 1089309497, \"530559603013015\", \"53055\", \"Unserved\", \"Unserved\", \"Unserved\", \"Unserved\", \"Underserved\", \"Unserved\", \"Unserved\", \"Underserved\", \"Unserved\"], [12527564, 1105687925, \"530419713001007\", \"53041\", \"Unserved\", \"Unserved\", \"Unserved\", \"Unserved\", \"Underserved\", \"Unserved\", \"Unserved\", \"Underserved\", \"Unserved\"], [12527578, 1105698439, \"530419714001019\", \"53041\", \"Unserved\", \"Unserved\", \"Unserved\", \"Unserved\", \"Underserved\", \"Unserved\", \"Unserved\", \"Underserved\", \"Unserved\"], [12528455, 1330436178, \"530530731192012\", \"53053\", \"Unserved\", \"Unserved\", \"Unserved\", \"Unserved\", \"Underserved\", \"Unserved\", \"Unserved\", \"Underserved\", \"Unserved\"], [12528457, 1330454705, \"530530730012027\", \"53053\", \"Unserved\", \"Unserved\", \"Unserved\", \"Unserved\", \"Underserved\", \"Unserved\", \"Unserved\", \"Underserved\", \"Unserved\"], [12528686, 1337257623, \"530610536061004\", \"53061\", \"Unserved\", \"Unserved\", \"Unserved\", \"Unserved\", \"Underserved\", \"Unserved\", \"Unserved\", \"Underserved\", \"Unserved\"], [12528703, 1337281111, \"530610534003003\", \"53061\", \"Unserved\", \"Unserved\", \"Unserved\", \"Unserved\", \"Underserved\", \"Unserved\", \"Unserved\", \"Underserved\", \"Unserved\"], [12529321, 1089295741, \"530559601013010\", \"53055\", \"Unserved\", \"Unserved\", \"Unserved\", \"Unserved\", \"Underserved\", \"Unserved\", \"Unserved\", \"Underserved\", \"Underserved\"], [12529349, 1105699894, \"530419701002055\", \"53041\", \"Unserved\", \"Unserved\", \"Unserved\", \"Unserved\", \"Underserved\", \"Unserved\", \"Unserved\", \"Underserved\", \"Unserved\"], [12529361, 1109872702, \"530719201001098\", \"53071\", \"Underserved\", \"Unserved\", \"Unserved\", \"Unserved\", \"Underserved\", \"Unserved\", \"Underserved\", \"Underserved\", \"Underserved\"], [12529381, 1109886354, \"530719201003156\", \"53071\", \"Underserved\", \"Unserved\", \"Unserved\", \"Unserved\", \"Underserved\", \"Unserved\", \"Underserved\", \"Underserved\", \"Underserved\"], [12529423, 1110475080, \"530250113001016\", \"53025\", \"Unserved\", \"Unserved\", \"Unserved\", \"Unserved\", \"Underserved\", \"Unserved\", \"Unserved\", \"Underserved\", \"Unserved\"], [12529437, 1110502413, \"530250114011048\", \"53025\", \"Unserved\", \"Unserved\", \"Unserved\", \"Unserved\", \"Underserved\", \"Unserved\", \"Unserved\", \"Underserved\", \"Unserved\"], [12529439, 1110503371, \"530250114011079\", \"53025\", \"Unserved\", \"Unserved\", \"Unserved\", \"Unserved\", \"Underserved\", \"Unserved\", \"Unserved\", \"Underserved\", \"Unserved\"], [12529453, 1121329914, \"530179501012077\", \"53017\", \"Unserved\", \"Unserved\", \"Unserved\", \"Unserved\", \"Underserved\", \"Unserved\", \"Unserved\", \"Underserved\", \"Unserved\"], [12529461, 1122547270, \"530199701001111\", \"53019\", \"Unserved\", \"Unserved\", \"Unserved\", \"Unserved\", \"Underserved\", \"Unserved\", \"Unserved\", \"Underserved\", \"Underserved\"], [12529482, 1127326741, \"530139602001129\", \"53013\", \"Unserved\", \"Unserved\", \"Unserved\", \"Unserved\", \"Underserved\", \"Unserved\", \"Unserved\", \"Underserved\", \"Unserved\"], [12529486, 1137464928, \"530399501031028\", \"53039\", \"Unserved\", \"Unserved\", \"Unserved\", \"Unserved\", \"Underserved\", \"Unserved\", \"Unserved\", \"Underserved\", \"Unserved\"], [12529488, 1137467416, \"530399501011082\", \"53039\", \"Unserved\", \"Unserved\", \"Unserved\", \"Unserved\", \"Underserved\", \"Unserved\", \"Unserved\", \"Underserved\", \"Unserved\"], [12529518, 1288880797, \"530599501001441\", \"53059\", \"Unserved\", \"Unserved\", \"Unserved\", \"Unserved\", \"Underserved\", \"Unserved\", \"Unserved\", \"Underserved\", \"Unserved\"], [12529536, 1288932527, \"530750007001242\", \"53075\", \"Unserved\", \"Unserved\", \"Unserved\", \"Unserved\", \"Underserved\", \"Unserved\", \"Unserved\", \"Underserved\", \"Unserved\"], [12529541, 1288934010, \"530750007001249\", \"53075\", \"Unserved\", \"Unserved\", \"Unserved\", \"Unserved\", \"Underserved\", \"Unserved\", \"Unserved\", \"Underserved\", \"Underserved\"], [12529555, 1288938062, \"530750010002121\", \"53075\", \"Unserved\", \"Unserved\", \"Unserved\", \"Unserved\", \"Underserved\", \"Unserved\", \"Unserved\", \"Underserved\", \"Unserved\"], [12529557, 1288941157, \"530750004003009\", \"53075\", \"Unserved\", \"Unserved\", \"Unserved\", \"Unserved\", \"Underserved\", \"Unserved\", \"Unserved\", \"Underserved\", \"Underserved\"], [12529589, 1288950743, \"530750009002177\", \"53075\", \"Unserved\", \"Unserved\", \"Unserved\", \"Unserved\", \"Underserved\", \"Unserved\", \"Unserved\", \"Underserved\", \"Underserved\"], [12529634, 1337235561, \"530610536062009\", \"53061\", \"Unserved\", \"Unserved\", \"Unserved\", \"Unserved\", \"Underserved\", \"Unserved\", \"Unserved\", \"Underserved\", \"Unserved\"], [12529638, 1337236610, \"530610538013052\", \"53061\", \"Unserved\", \"Unserved\", \"Unserved\", \"Unserved\", \"Underserved\", \"Unserved\", \"Unserved\", \"Underserved\", \"Unserved\"], [12529667, 1337274329, \"530610522071012\", \"53061\", \"Unserved\", \"Unserved\", \"Unserved\", \"Unserved\", \"Underserved\", \"Unserved\", \"Unserved\", \"Underserved\", \"Unserved\"], [12529749, 1342606740, \"530630139003088\", \"53063\", \"Unserved\", \"Unserved\", \"Unserved\", \"Unserved\", \"Underserved\", \"Unserved\", \"Unserved\", \"Underserved\", \"Underserved\"], [12529863, 1296295966, \"530379751041084\", \"53037\", \"Unserved\", \"Unserved\", \"Unserved\", \"Unserved\", \"Underserved\", \"Unserved\", \"Unserved\", \"Underserved\", \"Served\"], [12529879, 1342701992, \"530630103051043\", \"53063\", \"Unserved\", \"Unserved\", \"Unserved\", \"Unserved\", \"Underserved\", \"Unserved\", \"Unserved\", \"Underserved\", \"Underserved\"], [12529889, 1342703524, \"530630135011027\", \"53063\", \"Unserved\", \"Unserved\", \"Unserved\", \"Unserved\", \"Underserved\", \"Unserved\", \"Underserved\", \"Underserved\", \"Underserved\"], [12529893, 1342706452, \"530630102012012\", \"53063\", \"Unserved\", \"Unserved\", \"Unserved\", \"Unserved\", \"Underserved\", \"Unserved\", \"Unserved\", \"Underserved\", \"Underserved\"], [12529920, 1342731291, \"530630135021056\", \"53063\", \"Underserved\", \"Unserved\", \"Unserved\", \"Unserved\", \"Underserved\", \"Underserved\", \"Unserved\", \"Underserved\", \"Underserved\"], [12530137, 1349425068, \"530110401014003\", \"53011\", \"Unserved\", \"Unserved\", \"Unserved\", \"Unserved\", \"Underserved\", \"Unserved\", \"Unserved\", \"Underserved\", \"Unserved\"], [12530261, 1015878186, \"530659513011018\", \"53065\", \"Unserved\", \"Unserved\", \"Unserved\", \"Unserved\", \"Underserved\", \"Unserved\", \"Unserved\", \"Underserved\", \"Underserved\"], [12530268, 1015880939, \"530659514012020\", \"53065\", \"Underserved\", \"Unserved\", \"Unserved\", \"Unserved\", \"Underserved\", \"Underserved\", \"Unserved\", \"Underserved\", \"Underserved\"], [12530271, 1015892916, \"530659506002002\", \"53065\", \"Unserved\", \"Unserved\", \"Unserved\", \"Unserved\", \"Underserved\", \"Unserved\", \"Unserved\", \"Underserved\", \"Unserved\"], [12530282, 1015896265, \"530659506001063\", \"53065\", \"Unserved\", \"Unserved\", \"Unserved\", \"Unserved\", \"Underserved\", \"Unserved\", \"Unserved\", \"Underserved\", \"Underserved\"], [12530288, 1015898504, \"530659502003026\", \"53065\", \"Unserved\", \"Unserved\", \"Unserved\", \"Unserved\", \"Underserved\", \"Unserved\", \"Unserved\", \"Underserved\", \"Underserved\"], [12530296, 1015899488, \"530659506002002\", \"53065\", \"Unserved\", \"Unserved\", \"Unserved\", \"Unserved\", \"Underserved\", \"Unserved\", \"Unserved\", \"Underserved\", \"Unserved\"], [12530305, 1302702301, \"530670125314045\", \"53067\", \"Unserved\", \"Unserved\", \"Unserved\", \"Unserved\", \"Underserved\", \"Unserved\", \"Unserved\", \"Underserved\", \"Unserved\"], [12530356, 1032778700, \"530319506021010\", \"53031\", \"Unserved\", \"Unserved\", \"Unserved\", \"Unserved\", \"Underserved\", \"Unserved\", \"Unserved\", \"Underserved\", \"Unserved\"], [12530461, 1042955898, \"530439602001121\", \"53043\", \"Unserved\", \"Unserved\", \"Unserved\", \"Unserved\", \"Underserved\", \"Unserved\", \"Unserved\", \"Underserved\", \"Underserved\"], [12530467, 1042971557, \"530439604001075\", \"53043\", \"Unserved\", \"Unserved\", \"Unserved\", \"Unserved\", \"Underserved\", \"Unserved\", \"Unserved\", \"Underserved\", \"Unserved\"], [12530489, 1048368450, \"530090023012003\", \"53009\", \"Unserved\", \"Unserved\", \"Unserved\", \"Unserved\", \"Underserved\", \"Unserved\", \"Unserved\", \"Underserved\", \"Unserved\"], [12530497, 1048382075, \"530090023021004\", \"53009\", \"Underserved\", \"Unserved\", \"Unserved\", \"Unserved\", \"Underserved\", \"Unserved\", \"Underserved\", \"Underserved\", \"Underserved\"], [12530509, 1052559360, \"530699501002060\", \"53069\", \"Unserved\", \"Unserved\", \"Unserved\", \"Unserved\", \"Underserved\", \"Unserved\", \"Unserved\", \"Underserved\", \"Underserved\"], [12530521, 1056676087, \"530499504002107\", \"53049\", \"Unserved\", \"Unserved\", \"Unserved\", \"Unserved\", \"Underserved\", \"Unserved\", \"Unserved\", \"Underserved\", \"Unserved\"], [12530529, 1063132576, \"530150017004003\", \"53015\", \"Unserved\", \"Unserved\", \"Unserved\", \"Unserved\", \"Underserved\", \"Unserved\", \"Unserved\", \"Underserved\", \"Unserved\"], [12530537, 1063140149, \"530150017001012\", \"53015\", \"Underserved\", \"Unserved\", \"Unserved\", \"Unserved\", \"Underserved\", \"Unserved\", \"Underserved\", \"Underserved\", \"Unserved\"], [12530559, 1366772089, \"530330303131008\", \"53033\", \"Unserved\", \"Unserved\", \"Unserved\", \"Unserved\", \"Underserved\", \"Unserved\", \"Unserved\", \"Underserved\", \"Unserved\"], [12530605, 1366787029, \"530330316013006\", \"53033\", \"Unserved\", \"Unserved\", \"Unserved\", \"Unserved\", \"Underserved\", \"Unserved\", \"Unserved\", \"Underserved\", \"Unserved\"], [12530662, 1073212021, \"530350921021055\", \"53035\", \"Unserved\", \"Unserved\", \"Unserved\", \"Unserved\", \"Underserved\", \"Unserved\", \"Unserved\", \"Underserved\", \"Unserved\"], [12530698, 1073259190, \"530350928022000\", \"53035\", \"Unserved\", \"Unserved\", \"Unserved\", \"Unserved\", \"Underserved\", \"Unserved\", \"Unserved\", \"Underserved\", \"Unserved\"], [12531032, 1305956954, \"530770022013021\", \"53077\", \"Served\", \"Unserved\", \"Unserved\", \"Unserved\", \"Underserved\", \"Served\", \"Underserved\", \"Underserved\", \"Served\"], [12531067, 1305982096, \"530770029004023\", \"53077\", \"Served\", \"Unserved\", \"Unserved\", \"Unserved\", \"Underserved\", \"Served\", \"Underserved\", \"Underserved\", \"Served\"], [12531088, 1305995631, \"530770017012034\", \"53077\", \"Served\", \"Unserved\", \"Unserved\", \"Unserved\", \"Underserved\", \"Served\", \"Unserved\", \"Underserved\", \"Served\"], [12531290, 1409391474, \"530479402002077\", \"53047\", \"Unserved\", \"Unserved\", \"Unserved\", \"Unserved\", \"Underserved\", \"Unserved\", \"Unserved\", \"Underserved\", \"Unserved\"], [12531310, 1310118561, \"530730105041034\", \"53073\", \"Unserved\", \"Unserved\", \"Unserved\", \"Unserved\", \"Underserved\", \"Unserved\", \"Unserved\", \"Underserved\", \"Unserved\"], [12531321, 1409591055, \"530319507021212\", \"53031\", \"Unserved\", \"Unserved\", \"Unserved\", \"Unserved\", \"Underserved\", \"Unserved\", \"Unserved\", \"Underserved\", \"Unserved\"], [12531323, 1409604491, \"530770030031007\", \"53077\", \"Unserved\", \"Unserved\", \"Unserved\", \"Unserved\", \"Underserved\", \"Unserved\", \"Unserved\", \"Underserved\", \"Unserved\"], [12531331, 1409689965, \"530670124123014\", \"53067\", \"Unserved\", \"Unserved\", \"Unserved\", \"Unserved\", \"Underserved\", \"Unserved\", \"Unserved\", \"Underserved\", \"Unserved\"], [12531337, 1409732832, \"530330317051009\", \"53033\", \"Unserved\", \"Unserved\", \"Unserved\", \"Unserved\", \"Underserved\", \"Unserved\", \"Unserved\", \"Underserved\", \"Unserved\"], [12531355, 1409885094, \"530110401012000\", \"53011\", \"Unserved\", \"Unserved\", \"Unserved\", \"Unserved\", \"Underserved\", \"Unserved\", \"Unserved\", \"Underserved\", \"Unserved\"], [12531367, 1409968376, \"530050120001013\", \"53005\", \"Underserved\", \"Unserved\", \"Unserved\", \"Unserved\", \"Underserved\", \"Unserved\", \"Underserved\", \"Underserved\", \"Unserved\"], [12531373, 1410013402, \"530619400023053\", \"53061\", \"Unserved\", \"Unserved\", \"Unserved\", \"Unserved\", \"Underserved\", \"Unserved\", \"Unserved\", \"Underserved\", \"Unserved\"], [12531377, 1410079539, \"530139602001075\", \"53013\", \"Unserved\", \"Unserved\", \"Unserved\", \"Unserved\", \"Underserved\", \"Unserved\", \"Underserved\", \"Underserved\", \"Unserved\"], [12531383, 1410095373, \"530250105001029\", \"53025\", \"Unserved\", \"Unserved\", \"Unserved\", \"Unserved\", \"Underserved\", \"Unserved\", \"Unserved\", \"Underserved\", \"Underserved\"], [12531440, 1310119243, \"530730104071035\", \"53073\", \"Underserved\", \"Unserved\", \"Unserved\", \"Unserved\", \"Underserved\", \"Unserved\", \"Underserved\", \"Underserved\", \"Unserved\"], [12531504, 1310011134, \"530730101032013\", \"53073\", \"Unserved\", \"Unserved\", \"Unserved\", \"Unserved\", \"Underserved\", \"Unserved\", \"Unserved\", \"Underserved\", \"Unserved\"], [12531516, 1310157630, \"530730104072090\", \"53073\", \"Unserved\", \"Unserved\", \"Unserved\", \"Unserved\", \"Underserved\", \"Unserved\", \"Unserved\", \"Underserved\", \"Unserved\"], [12531533, 1049476450, \"530479710002010\", \"53047\", \"Unserved\", \"Unserved\", \"Unserved\", \"Unserved\", \"Underserved\", \"Unserved\", \"Unserved\", \"Underserved\", \"Underserved\"], [12531535, 1049483099, \"530479705002012\", \"53047\", \"Unserved\", \"Unserved\", \"Unserved\", \"Unserved\", \"Underserved\", \"Unserved\", \"Unserved\", \"Underserved\", \"Unserved\"], [12531810, 1312983802, \"530579511011066\", \"53057\", \"Unserved\", \"Unserved\", \"Unserved\", \"Unserved\", \"Underserved\", \"Unserved\", \"Unserved\", \"Underserved\", \"Unserved\"], [12531816, 1312986996, \"530579508021034\", \"53057\", \"Unserved\", \"Unserved\", \"Unserved\", \"Unserved\", \"Underserved\", \"Unserved\", \"Unserved\", \"Underserved\", \"Unserved\"], [12531820, 1312999865, \"530579511022077\", \"53057\", \"Unserved\", \"Unserved\", \"Unserved\", \"Unserved\", \"Underserved\", \"Unserved\", \"Unserved\", \"Underserved\", \"Unserved\"], [12531842, 1315772835, \"530270002021064\", \"53027\", \"Unserved\", \"Unserved\", \"Unserved\", \"Unserved\", \"Underserved\", \"Unserved\", \"Unserved\", \"Underserved\", \"Unserved\"], [12531843, 1315773220, \"530270006003039\", \"53027\", \"Underserved\", \"Unserved\", \"Unserved\", \"Unserved\", \"Underserved\", \"Unserved\", \"Underserved\", \"Underserved\", \"Unserved\"], [12533044, 1315765209, \"530270008002014\", \"53027\", \"Unserved\", \"Unserved\", \"Unserved\", \"Unserved\", \"Underserved\", \"Unserved\", \"Unserved\", \"Underserved\", \"Unserved\"], [12533220, 1330319363, \"530539400103012\", \"53053\", \"Underserved\", \"Unserved\", \"Unserved\", \"Unserved\", \"Underserved\", \"Unserved\", \"Underserved\", \"Underserved\", \"Unserved\"], [12533280, 1015878307, \"530659514012009\", \"53065\", \"Unserved\", \"Unserved\", \"Unserved\", \"Unserved\", \"Underserved\", \"Unserved\", \"Unserved\", \"Underserved\", \"Underserved\"], [12533286, 1015882486, \"530659514012050\", \"53065\", \"Underserved\", \"Unserved\", \"Unserved\", \"Unserved\", \"Underserved\", \"Underserved\", \"Unserved\", \"Underserved\", \"Underserved\"], [12533288, 1015889191, \"530659513012054\", \"53065\", \"Served\", \"Unserved\", \"Unserved\", \"Unserved\", \"Underserved\", \"Unserved\", \"Served\", \"Underserved\", \"Underserved\"], [12533290, 1015889485, \"530659513011001\", \"53065\", \"Underserved\", \"Unserved\", \"Unserved\", \"Unserved\", \"Underserved\", \"Unserved\", \"Underserved\", \"Underserved\", \"Underserved\"], [12533292, 1015890230, \"530659501011039\", \"53065\", \"Unserved\", \"Unserved\", \"Unserved\", \"Unserved\", \"Underserved\", \"Unserved\", \"Unserved\", \"Underserved\", \"Unserved\"], [12533296, 1015893080, \"530659506002008\", \"53065\", \"Unserved\", \"Unserved\", \"Unserved\", \"Unserved\", \"Underserved\", \"Unserved\", \"Unserved\", \"Underserved\", \"Unserved\"], [12533298, 1015893094, \"530659506002008\", \"53065\", \"Unserved\", \"Unserved\", \"Unserved\", \"Unserved\", \"Underserved\", \"Unserved\", \"Unserved\", \"Underserved\", \"Unserved\"], [12533300, 1015894725, \"530659502003005\", \"53065\", \"Unserved\", \"Unserved\", \"Unserved\", \"Unserved\", \"Underserved\", \"Unserved\", \"Unserved\", \"Underserved\", \"Underserved\"], [12533304, 1015917284, \"530659511002008\", \"53065\", \"Unserved\", \"Unserved\", \"Unserved\", \"Unserved\", \"Underserved\", \"Unserved\", \"Unserved\", \"Underserved\", \"Underserved\"], [12533306, 1015917801, \"530659511003007\", \"53065\", \"Unserved\", \"Unserved\", \"Unserved\", \"Unserved\", \"Underserved\", \"Unserved\", \"Unserved\", \"Underserved\", \"Underserved\"], [12533308, 1015919195, \"530659511002027\", \"53065\", \"Unserved\", \"Unserved\", \"Unserved\", \"Unserved\", \"Underserved\", \"Unserved\", \"Unserved\", \"Underserved\", \"Underserved\"], [12533316, 1027402745, \"530519702004036\", \"53051\", \"Unserved\", \"Unserved\", \"Unserved\", \"Unserved\", \"Underserved\", \"Unserved\", \"Unserved\", \"Underserved\", \"Underserved\"], [12533320, 1027403564, \"530519702004048\", \"53051\", \"Unserved\", \"Unserved\", \"Unserved\", \"Unserved\", \"Underserved\", \"Unserved\", \"Unserved\", \"Underserved\", \"Underserved\"], [12533326, 1027405966, \"530519703002001\", \"53051\", \"Unserved\", \"Unserved\", \"Unserved\", \"Unserved\", \"Underserved\", \"Unserved\", \"Unserved\", \"Underserved\", \"Unserved\"], [12533332, 1032765518, \"530319504002034\", \"53031\", \"Unserved\", \"Unserved\", \"Unserved\", \"Unserved\", \"Underserved\", \"Unserved\", \"Unserved\", \"Underserved\", \"Unserved\"], [12533342, 1032778775, \"530319505013124\", \"53031\", \"Unserved\", \"Unserved\", \"Unserved\", \"Unserved\", \"Underserved\", \"Unserved\", \"Unserved\", \"Underserved\", \"Unserved\"], [12533350, 1042959152, \"530439603002047\", \"53043\", \"Unserved\", \"Unserved\", \"Unserved\", \"Unserved\", \"Underserved\", \"Unserved\", \"Unserved\", \"Underserved\", \"Unserved\"], [12533352, 1042959205, \"530439603002016\", \"53043\", \"Unserved\", \"Unserved\", \"Unserved\", \"Unserved\", \"Underserved\", \"Unserved\", \"Unserved\", \"Underserved\", \"Unserved\"], [12533358, 1048335417, \"530090024002099\", \"53009\", \"Unserved\", \"Unserved\", \"Unserved\", \"Unserved\", \"Underserved\", \"Unserved\", \"Unserved\", \"Underserved\", \"Unserved\"], [12533382, 1048354919, \"530090015002060\", \"53009\", \"Unserved\", \"Unserved\", \"Unserved\", \"Unserved\", \"Underserved\", \"Unserved\", \"Unserved\", \"Underserved\", \"Underserved\"], [12533392, 1048368414, \"530090023012003\", \"53009\", \"Unserved\", \"Unserved\", \"Unserved\", \"Unserved\", \"Underserved\", \"Unserved\", \"Unserved\", \"Underserved\", \"Underserved\"], [12533400, 1049467080, \"530479703031132\", \"53047\", \"Unserved\", \"Unserved\", \"Unserved\", \"Unserved\", \"Underserved\", \"Unserved\", \"Unserved\", \"Underserved\", \"Unserved\"], [12533414, 1052559389, \"530699501005033\", \"53069\", \"Underserved\", \"Unserved\", \"Unserved\", \"Unserved\", \"Underserved\", \"Unserved\", \"Underserved\", \"Underserved\", \"Unserved\"], [12533420, 1056649461, \"530499503013052\", \"53049\", \"Unserved\", \"Unserved\", \"Unserved\", \"Unserved\", \"Underserved\", \"Unserved\", \"Unserved\", \"Underserved\", \"Unserved\"], [12533436, 1063121504, \"530150020011013\", \"53015\", \"Unserved\", \"Unserved\", \"Unserved\", \"Unserved\", \"Underserved\", \"Unserved\", \"Unserved\", \"Underserved\", \"Unserved\"], [12533564, 1073281757, \"530350902022017\", \"53035\", \"Unserved\", \"Unserved\", \"Unserved\", \"Unserved\", \"Underserved\", \"Unserved\", \"Unserved\", \"Underserved\", \"Unserved\"], [12533604, 1105687896, \"530419713001007\", \"53041\", \"Unserved\", \"Unserved\", \"Unserved\", \"Unserved\", \"Underserved\", \"Unserved\", \"Unserved\", \"Underserved\", \"Unserved\"], [12533608, 1105696591, \"530419711002007\", \"53041\", \"Unserved\", \"Unserved\", \"Unserved\", \"Unserved\", \"Underserved\", \"Unserved\", \"Unserved\", \"Underserved\", \"Unserved\"], [12533618, 1105706554, \"530419711003024\", \"53041\", \"Unserved\", \"Unserved\", \"Unserved\", \"Unserved\", \"Underserved\", \"Unserved\", \"Unserved\", \"Underserved\", \"Unserved\"], [12533642, 1109880275, \"530719201003135\", \"53071\", \"Underserved\", \"Unserved\", \"Unserved\", \"Unserved\", \"Underserved\", \"Unserved\", \"Underserved\", \"Underserved\", \"Underserved\"], [12533654, 1109891444, \"530719201003046\", \"53071\", \"Underserved\", \"Unserved\", \"Unserved\", \"Unserved\", \"Underserved\", \"Unserved\", \"Underserved\", \"Underserved\", \"Unserved\"], [12533682, 1110497719, \"530250114011016\", \"53025\", \"Unserved\", \"Unserved\", \"Unserved\", \"Unserved\", \"Underserved\", \"Unserved\", \"Unserved\", \"Underserved\", \"Unserved\"], [12533700, 1121326115, \"530179501013024\", \"53017\", \"Unserved\", \"Unserved\", \"Unserved\", \"Unserved\", \"Underserved\", \"Unserved\", \"Unserved\", \"Underserved\", \"Unserved\"], [12533706, 1121335249, \"530179502001076\", \"53017\", \"Unserved\", \"Unserved\", \"Unserved\", \"Unserved\", \"Underserved\", \"Unserved\", \"Unserved\", \"Underserved\", \"Underserved\"], [12533708, 1122544507, \"530199701002081\", \"53019\", \"Unserved\", \"Unserved\", \"Unserved\", \"Unserved\", \"Underserved\", \"Unserved\", \"Unserved\", \"Underserved\", \"Underserved\"], [12533712, 1137458613, \"530399502002058\", \"53039\", \"Unserved\", \"Unserved\", \"Unserved\", \"Unserved\", \"Underserved\", \"Unserved\", \"Unserved\", \"Underserved\", \"Unserved\"], [12533716, 1137459895, \"530399501011208\", \"53039\", \"Unserved\", \"Unserved\", \"Unserved\", \"Unserved\", \"Underserved\", \"Unserved\", \"Unserved\", \"Underserved\", \"Unserved\"], [12533722, 1137463193, \"530399502002061\", \"53039\", \"Unserved\", \"Unserved\", \"Unserved\", \"Unserved\", \"Underserved\", \"Unserved\", \"Unserved\", \"Underserved\", \"Unserved\"], [12533742, 1288931301, \"530750008004023\", \"53075\", \"Unserved\", \"Unserved\", \"Unserved\", \"Unserved\", \"Underserved\", \"Unserved\", \"Unserved\", \"Underserved\", \"Underserved\"], [12533754, 1288944774, \"530750003002007\", \"53075\", \"Unserved\", \"Unserved\", \"Unserved\", \"Unserved\", \"Underserved\", \"Unserved\", \"Unserved\", \"Underserved\", \"Underserved\"], [12533756, 1288944874, \"530750004003028\", \"53075\", \"Unserved\", \"Unserved\", \"Unserved\", \"Unserved\", \"Underserved\", \"Unserved\", \"Unserved\", \"Underserved\", \"Underserved\"], [12533825, 1330411156, \"530530726035001\", \"53053\", \"Unserved\", \"Unserved\", \"Unserved\", \"Unserved\", \"Underserved\", \"Unserved\", \"Unserved\", \"Underserved\", \"Unserved\"], [12533871, 1296231126, \"530079603023062\", \"53007\", \"Unserved\", \"Unserved\", \"Unserved\", \"Unserved\", \"Underserved\", \"Unserved\", \"Unserved\", \"Underserved\", \"Underserved\"], [12533879, 1296234140, \"530079612003028\", \"53007\", \"Served\", \"Unserved\", \"Unserved\", \"Unserved\", \"Underserved\", \"Unserved\", \"Served\", \"Underserved\", \"Unserved\"], [12533999, 1296298874, \"530379751041084\", \"53037\", \"Unserved\", \"Unserved\", \"Unserved\", \"Unserved\", \"Underserved\", \"Unserved\", \"Unserved\", \"Underserved\", \"Served\"], [12534060, 1296414256, \"530459613002019\", \"53045\", \"Unserved\", \"Unserved\", \"Unserved\", \"Unserved\", \"Underserved\", \"Unserved\", \"Unserved\", \"Underserved\", \"Unserved\"], [12534407, 1337243714, \"530610535063043\", \"53061\", \"Unserved\", \"Unserved\", \"Unserved\", \"Unserved\", \"Underserved\", \"Unserved\", \"Unserved\", \"Underserved\", \"Unserved\"], [12534547, 1302631270, \"530670122112006\", \"53067\", \"Unserved\", \"Unserved\", \"Unserved\", \"Unserved\", \"Underserved\", \"Unserved\", \"Unserved\", \"Underserved\", \"Unserved\"], [12534702, 1367115228, \"530330315021074\", \"53033\", \"Unserved\", \"Unserved\", \"Unserved\", \"Unserved\", \"Underserved\", \"Unserved\", \"Unserved\", \"Underserved\", \"Unserved\"], [12534759, 1409397353, \"530479708001042\", \"53047\", \"Unserved\", \"Unserved\", \"Unserved\", \"Unserved\", \"Underserved\", \"Unserved\", \"Unserved\", \"Underserved\", \"Unserved\"], [12534788, 1342695237, \"530630103042008\", \"53063\", \"Unserved\", \"Unserved\", \"Unserved\", \"Unserved\", \"Underserved\", \"Unserved\", \"Unserved\", \"Underserved\", \"Underserved\"], [12534794, 1342695751, \"530630101021022\", \"53063\", \"Unserved\", \"Unserved\", \"Unserved\", \"Unserved\", \"Underserved\", \"Unserved\", \"Unserved\", \"Underserved\", \"Underserved\"], [12534804, 1409684404, \"530670127101014\", \"53067\", \"Unserved\", \"Unserved\", \"Unserved\", \"Unserved\", \"Underserved\", \"Unserved\", \"Unserved\", \"Underserved\", \"Unserved\"], [12534807, 1342702768, \"530630139002049\", \"53063\", \"Unserved\", \"Unserved\", \"Unserved\", \"Unserved\", \"Underserved\", \"Unserved\", \"Unserved\", \"Underserved\", \"Underserved\"], [12534810, 1342711775, \"530630103031025\", \"53063\", \"Unserved\", \"Unserved\", \"Unserved\", \"Unserved\", \"Underserved\", \"Unserved\", \"Unserved\", \"Underserved\", \"Underserved\"], [12534815, 1342711911, \"530630101021024\", \"53063\", \"Unserved\", \"Unserved\", \"Unserved\", \"Unserved\", \"Underserved\", \"Unserved\", \"Unserved\", \"Underserved\", \"Unserved\"], [12534821, 1342713183, \"530630141002029\", \"53063\", \"Unserved\", \"Unserved\", \"Unserved\", \"Unserved\", \"Underserved\", \"Unserved\", \"Unserved\", \"Underserved\", \"Underserved\"], [12534831, 1342717771, \"530630104032000\", \"53063\", \"Underserved\", \"Unserved\", \"Unserved\", \"Unserved\", \"Underserved\", \"Unserved\", \"Underserved\", \"Underserved\", \"Underserved\"], [12534836, 1342725881, \"530630104032016\", \"53063\", \"Unserved\", \"Unserved\", \"Unserved\", \"Unserved\", \"Underserved\", \"Unserved\", \"Unserved\", \"Underserved\", \"Underserved\"], [12534841, 1342726865, \"530630102012023\", \"53063\", \"Unserved\", \"Unserved\", \"Unserved\", \"Unserved\", \"Underserved\", \"Unserved\", \"Unserved\", \"Underserved\", \"Underserved\"], [12534851, 1342737225, \"530630103042005\", \"53063\", \"Unserved\", \"Unserved\", \"Unserved\", \"Unserved\", \"Underserved\", \"Unserved\", \"Unserved\", \"Underserved\", \"Underserved\"], [12534857, 1342737372, \"530630104032044\", \"53063\", \"Unserved\", \"Unserved\", \"Unserved\", \"Unserved\", \"Underserved\", \"Unserved\", \"Unserved\", \"Underserved\", \"Underserved\"], [12534880, 1342746597, \"530630112024002\", \"53063\", \"Underserved\", \"Unserved\", \"Unserved\", \"Unserved\", \"Underserved\", \"Unserved\", \"Underserved\", \"Underserved\", \"Underserved\"], [12534901, 1410075068, \"530019503021020\", \"53001\", \"Unserved\", \"Unserved\", \"Unserved\", \"Unserved\", \"Underserved\", \"Unserved\", \"Unserved\", \"Underserved\", \"Unserved\"], [12534908, 1410102057, \"530250114032003\", \"53025\", \"Underserved\", \"Unserved\", \"Unserved\", \"Unserved\", \"Underserved\", \"Unserved\", \"Underserved\", \"Underserved\", \"Unserved\"], [12534924, 1305974388, \"530779400023117\", \"53077\", \"Served\", \"Unserved\", \"Unserved\", \"Unserved\", \"Underserved\", \"Served\", \"Unserved\", \"Underserved\", \"Underserved\"], [12534956, 1015898773, \"530659501011002\", \"53065\", \"Unserved\", \"Unserved\", \"Unserved\", \"Unserved\", \"Underserved\", \"Unserved\", \"Unserved\", \"Underserved\", \"Unserved\"], [12535029, 1310087661, \"530730002032000\", \"53073\", \"Unserved\", \"Unserved\", \"Unserved\", \"Unserved\", \"Underserved\", \"Unserved\", \"Unserved\", \"Underserved\", \"Unserved\"], [12535061, 1049483490, \"530479709001124\", \"53047\", \"Unserved\", \"Unserved\", \"Unserved\", \"Unserved\", \"Underserved\", \"Unserved\", \"Unserved\", \"Underserved\", \"Unserved\"], [12535205, 1310144322, \"530730103011029\", \"53073\", \"Unserved\", \"Unserved\", \"Unserved\", \"Unserved\", \"Underserved\", \"Unserved\", \"Unserved\", \"Underserved\", \"Unserved\"], [12535621, 1312148589, \"530050118021061\", \"53005\", \"Served\", \"Unserved\", \"Unserved\", \"Unserved\", \"Underserved\", \"Served\", \"Underserved\", \"Underserved\", \"Served\"], [14570646, 1349409498, \"530110405043001\", \"53011\", \"Unserved\", \"Unserved\", \"Unserved\", \"Unserved\", \"Unserved\", \"Unserved\", \"Unserved\", \"Underserved\", \"Unserved\"]];\n",
       "\n",
       "    // Define the dt_args\n",
       "    let dt_args = {\"order\": [], \"fnInfoCallback\": function (oSettings, iStart, iEnd, iMax, iTotal, sPre) { return sPre + ' (<a href=\"https://mwouts.github.io/itables/downsampling.html\">downsampled</a> from 2,527,898x12 to 682x12 as maxBytes=65536)'; }};\n",
       "    dt_args[\"data\"] = data;\n",
       "\n",
       "    $(document).ready(function () {\n",
       "        \n",
       "        $('#dd569439-aa2d-4327-ac0e-a7d6651ac7f6').DataTable(dt_args);\n",
       "    });\n",
       "</script>\n",
       "</div>\n"
      ],
      "text/plain": [
       "<IPython.core.display.HTML object>"
      ]
     },
     "metadata": {},
     "output_type": "display_data"
    }
   ],
   "source": [
    "itables.show(waLocations)"
   ]
  },
  {
   "cell_type": "code",
   "execution_count": 59,
   "metadata": {},
   "outputs": [
    {
     "data": {
      "text/plain": [
       "cableserved\n",
       "Served         2118963\n",
       "Unserved        399040\n",
       "Underserved       9895\n",
       "Name: count, dtype: int64"
      ]
     },
     "execution_count": 59,
     "metadata": {},
     "output_type": "execute_result"
    }
   ],
   "source": [
    "waLocations.cableserved.value_counts()"
   ]
  },
  {
   "cell_type": "code",
   "execution_count": null,
   "metadata": {},
   "outputs": [],
   "source": [
    "# waLocations.loc[waLocations.location_id == 1015880838, 'fiberserved'] = 'foo'"
   ]
  },
  {
   "cell_type": "code",
   "execution_count": null,
   "metadata": {},
   "outputs": [],
   "source": [
    "waLocations.fiberserved.value_counts()"
   ]
  },
  {
   "cell_type": "code",
   "execution_count": null,
   "metadata": {},
   "outputs": [],
   "source": [
    "waFiberData"
   ]
  },
  {
   "cell_type": "code",
   "execution_count": null,
   "metadata": {},
   "outputs": [],
   "source": []
  },
  {
   "cell_type": "markdown",
   "metadata": {},
   "source": [
    "# Unused Stuff"
   ]
  },
  {
   "cell_type": "code",
   "execution_count": null,
   "metadata": {},
   "outputs": [],
   "source": [
    "unservedWaLocations = waLocations.merge(wsboUnserved, how='outer', indicator=True)"
   ]
  },
  {
   "cell_type": "code",
   "execution_count": null,
   "metadata": {},
   "outputs": [],
   "source": [
    "unservedWaLocations = unservedWaLocations[unservedWaLocations._merge != 'left_only']"
   ]
  },
  {
   "cell_type": "code",
   "execution_count": null,
   "metadata": {},
   "outputs": [],
   "source": []
  }
 ],
 "metadata": {
  "kernelspec": {
   "display_name": "venv",
   "language": "python",
   "name": "python3"
  },
  "language_info": {
   "codemirror_mode": {
    "name": "ipython",
    "version": 3
   },
   "file_extension": ".py",
   "mimetype": "text/x-python",
   "name": "python",
   "nbconvert_exporter": "python",
   "pygments_lexer": "ipython3",
   "version": "3.11.6"
  }
 },
 "nbformat": 4,
 "nbformat_minor": 2
}
