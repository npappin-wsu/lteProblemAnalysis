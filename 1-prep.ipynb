{
 "cells": [
  {
   "cell_type": "markdown",
   "metadata": {},
   "source": [
    "# Data preparation\n",
    "\n",
    "In this notebook we will build a parquet file for use in further analyses. "
   ]
  },
  {
   "cell_type": "code",
   "execution_count": 44,
   "metadata": {},
   "outputs": [],
   "source": [
    "import os, zipfile, itables\n",
    "import pandas as pd"
   ]
  },
  {
   "cell_type": "code",
   "execution_count": 11,
   "metadata": {},
   "outputs": [],
   "source": [
    "files = os.listdir('data')\n",
    "files = [file for file in files if file.endswith('.zip')]"
   ]
  },
  {
   "cell_type": "code",
   "execution_count": 12,
   "metadata": {},
   "outputs": [
    {
     "data": {
      "text/plain": [
       "['bdc_53_Cable_fixed_broadband_123122-20230926.zip',\n",
       " 'bdc_53_Copper_fixed_broadband_123122-20230926.zip',\n",
       " 'bdc_53_FibertothePremises_fixed_broadband_123122-20230926.zip',\n",
       " 'bdc_53_GSOSatellite_fixed_broadband_123122-20230926.zip',\n",
       " 'bdc_53_LBRFixedWireless_fixed_broadband_123122-20230926.zip',\n",
       " 'bdc_53_LicensedFixedWireless_fixed_broadband_123122-20230926.zip',\n",
       " 'bdc_53_NGSOSatellite_fixed_broadband_123122-20230926.zip',\n",
       " 'bdc_53_UnlicensedFixedWireless_fixed_broadband_123122-20230926.zip']"
      ]
     },
     "execution_count": 12,
     "metadata": {},
     "output_type": "execute_result"
    }
   ],
   "source": [
    "files"
   ]
  },
  {
   "cell_type": "code",
   "execution_count": 58,
   "metadata": {},
   "outputs": [
    {
     "name": "stdout",
     "output_type": "stream",
     "text": [
      "bdc_53_Cable_fixed_broadband_123122-20230926.zip\n",
      "bdc_53_Copper_fixed_broadband_123122-20230926.zip\n",
      "bdc_53_FibertothePremises_fixed_broadband_123122-20230926.zip\n",
      "bdc_53_GSOSatellite_fixed_broadband_123122-20230926.zip\n",
      "bdc_53_LBRFixedWireless_fixed_broadband_123122-20230926.zip\n",
      "bdc_53_LicensedFixedWireless_fixed_broadband_123122-20230926.zip\n",
      "bdc_53_NGSOSatellite_fixed_broadband_123122-20230926.zip\n",
      "bdc_53_UnlicensedFixedWireless_fixed_broadband_123122-20230926.zip\n"
     ]
    }
   ],
   "source": [
    "waAvailabilityData = pd.DataFrame()\n",
    "dfColumnHints = {\n",
    "    'block_geoid': str\n",
    "}\n",
    "\n",
    "for file in files:\n",
    "    # print(file)\n",
    "    archive = zipfile.ZipFile(os.path.join('data', file))\n",
    "    with archive.open(archive.filelist[0].filename) as f:\n",
    "        localDf = pd.read_csv(f, dtype=dfColumnHints)\n",
    "    waAvailabilityData = pd.concat([waAvailabilityData, localDf], ignore_index=True)\n",
    "\n",
    "wsboUnserved = pd.read_csv(os.path.join('data', 'unserved.csv'))\n",
    "wsboUnderserved = pd.read_csv(os.path.join('data', 'underserved.csv'))"
   ]
  },
  {
   "cell_type": "code",
   "execution_count": 134,
   "metadata": {},
   "outputs": [],
   "source": [
    "waLocations = waAvailabilityData[['location_id', 'block_geoid']]"
   ]
  },
  {
   "cell_type": "code",
   "execution_count": 135,
   "metadata": {},
   "outputs": [],
   "source": [
    "waLocations = waLocations.drop_duplicates()\n",
    "waLocations['county_geoid'] = waLocations.block_geoid.str[0:5]"
   ]
  },
  {
   "cell_type": "code",
   "execution_count": 136,
   "metadata": {},
   "outputs": [
    {
     "data": {
      "text/html": [
       "<div>\n",
       "<style scoped>\n",
       "    .dataframe tbody tr th:only-of-type {\n",
       "        vertical-align: middle;\n",
       "    }\n",
       "\n",
       "    .dataframe tbody tr th {\n",
       "        vertical-align: top;\n",
       "    }\n",
       "\n",
       "    .dataframe thead th {\n",
       "        text-align: right;\n",
       "    }\n",
       "</style>\n",
       "<table border=\"1\" class=\"dataframe\">\n",
       "  <thead>\n",
       "    <tr style=\"text-align: right;\">\n",
       "      <th></th>\n",
       "      <th>location_id</th>\n",
       "      <th>block_geoid</th>\n",
       "      <th>county_geoid</th>\n",
       "    </tr>\n",
       "  </thead>\n",
       "  <tbody>\n",
       "    <tr>\n",
       "      <th>0</th>\n",
       "      <td>1015880838</td>\n",
       "      <td>530659514022053</td>\n",
       "      <td>53065</td>\n",
       "    </tr>\n",
       "    <tr>\n",
       "      <th>1</th>\n",
       "      <td>1073176227</td>\n",
       "      <td>530350910012001</td>\n",
       "      <td>53035</td>\n",
       "    </tr>\n",
       "    <tr>\n",
       "      <th>2</th>\n",
       "      <td>1073185639</td>\n",
       "      <td>530350907004015</td>\n",
       "      <td>53035</td>\n",
       "    </tr>\n",
       "    <tr>\n",
       "      <th>3</th>\n",
       "      <td>1056655277</td>\n",
       "      <td>530499502005010</td>\n",
       "      <td>53049</td>\n",
       "    </tr>\n",
       "    <tr>\n",
       "      <th>4</th>\n",
       "      <td>1073186253</td>\n",
       "      <td>530350909022006</td>\n",
       "      <td>53035</td>\n",
       "    </tr>\n",
       "    <tr>\n",
       "      <th>...</th>\n",
       "      <td>...</td>\n",
       "      <td>...</td>\n",
       "      <td>...</td>\n",
       "    </tr>\n",
       "    <tr>\n",
       "      <th>12535029</th>\n",
       "      <td>1310087661</td>\n",
       "      <td>530730002032000</td>\n",
       "      <td>53073</td>\n",
       "    </tr>\n",
       "    <tr>\n",
       "      <th>12535061</th>\n",
       "      <td>1049483490</td>\n",
       "      <td>530479709001124</td>\n",
       "      <td>53047</td>\n",
       "    </tr>\n",
       "    <tr>\n",
       "      <th>12535205</th>\n",
       "      <td>1310144322</td>\n",
       "      <td>530730103011029</td>\n",
       "      <td>53073</td>\n",
       "    </tr>\n",
       "    <tr>\n",
       "      <th>12535621</th>\n",
       "      <td>1312148589</td>\n",
       "      <td>530050118021061</td>\n",
       "      <td>53005</td>\n",
       "    </tr>\n",
       "    <tr>\n",
       "      <th>14570646</th>\n",
       "      <td>1349409498</td>\n",
       "      <td>530110405043001</td>\n",
       "      <td>53011</td>\n",
       "    </tr>\n",
       "  </tbody>\n",
       "</table>\n",
       "<p>2527898 rows × 3 columns</p>\n",
       "</div>"
      ],
      "text/plain": [
       "          location_id      block_geoid county_geoid\n",
       "0          1015880838  530659514022053        53065\n",
       "1          1073176227  530350910012001        53035\n",
       "2          1073185639  530350907004015        53035\n",
       "3          1056655277  530499502005010        53049\n",
       "4          1073186253  530350909022006        53035\n",
       "...               ...              ...          ...\n",
       "12535029   1310087661  530730002032000        53073\n",
       "12535061   1049483490  530479709001124        53047\n",
       "12535205   1310144322  530730103011029        53073\n",
       "12535621   1312148589  530050118021061        53005\n",
       "14570646   1349409498  530110405043001        53011\n",
       "\n",
       "[2527898 rows x 3 columns]"
      ]
     },
     "execution_count": 136,
     "metadata": {},
     "output_type": "execute_result"
    }
   ],
   "source": [
    "waLocations"
   ]
  },
  {
   "cell_type": "code",
   "execution_count": 137,
   "metadata": {},
   "outputs": [
    {
     "data": {
      "text/html": [
       "<div>\n",
       "<style scoped>\n",
       "    .dataframe tbody tr th:only-of-type {\n",
       "        vertical-align: middle;\n",
       "    }\n",
       "\n",
       "    .dataframe tbody tr th {\n",
       "        vertical-align: top;\n",
       "    }\n",
       "\n",
       "    .dataframe thead th {\n",
       "        text-align: right;\n",
       "    }\n",
       "</style>\n",
       "<table border=\"1\" class=\"dataframe\">\n",
       "  <thead>\n",
       "    <tr style=\"text-align: right;\">\n",
       "      <th></th>\n",
       "      <th>location_id</th>\n",
       "    </tr>\n",
       "  </thead>\n",
       "  <tbody>\n",
       "    <tr>\n",
       "      <th>0</th>\n",
       "      <td>1410015656</td>\n",
       "    </tr>\n",
       "    <tr>\n",
       "      <th>1</th>\n",
       "      <td>1409662696</td>\n",
       "    </tr>\n",
       "    <tr>\n",
       "      <th>2</th>\n",
       "      <td>1342736839</td>\n",
       "    </tr>\n",
       "    <tr>\n",
       "      <th>3</th>\n",
       "      <td>1342719613</td>\n",
       "    </tr>\n",
       "    <tr>\n",
       "      <th>4</th>\n",
       "      <td>1337285868</td>\n",
       "    </tr>\n",
       "    <tr>\n",
       "      <th>...</th>\n",
       "      <td>...</td>\n",
       "    </tr>\n",
       "    <tr>\n",
       "      <th>236129</th>\n",
       "      <td>1105695176</td>\n",
       "    </tr>\n",
       "    <tr>\n",
       "      <th>236130</th>\n",
       "      <td>1049493621</td>\n",
       "    </tr>\n",
       "    <tr>\n",
       "      <th>236131</th>\n",
       "      <td>1015918336</td>\n",
       "    </tr>\n",
       "    <tr>\n",
       "      <th>236132</th>\n",
       "      <td>1056645894</td>\n",
       "    </tr>\n",
       "    <tr>\n",
       "      <th>236133</th>\n",
       "      <td>1049465447</td>\n",
       "    </tr>\n",
       "  </tbody>\n",
       "</table>\n",
       "<p>236134 rows × 1 columns</p>\n",
       "</div>"
      ],
      "text/plain": [
       "        location_id\n",
       "0        1410015656\n",
       "1        1409662696\n",
       "2        1342736839\n",
       "3        1342719613\n",
       "4        1337285868\n",
       "...             ...\n",
       "236129   1105695176\n",
       "236130   1049493621\n",
       "236131   1015918336\n",
       "236132   1056645894\n",
       "236133   1049465447\n",
       "\n",
       "[236134 rows x 1 columns]"
      ]
     },
     "execution_count": 137,
     "metadata": {},
     "output_type": "execute_result"
    }
   ],
   "source": [
    "wsboUnserved"
   ]
  },
  {
   "cell_type": "code",
   "execution_count": 138,
   "metadata": {},
   "outputs": [],
   "source": [
    "waLocations['wsboUnserved'] = waLocations.location_id.isin(wsboUnserved.location_id)"
   ]
  },
  {
   "cell_type": "code",
   "execution_count": 139,
   "metadata": {},
   "outputs": [],
   "source": [
    "waLocations['wsboUnderserved'] = waLocations.location_id.isin(wsboUnderserved.location_id)"
   ]
  },
  {
   "cell_type": "code",
   "execution_count": 140,
   "metadata": {},
   "outputs": [],
   "source": [
    "waLocations['wsboServed'] = ((waLocations['wsboUnderserved'] == False) & (waLocations['wsboUnserved'] == False))"
   ]
  },
  {
   "cell_type": "code",
   "execution_count": 141,
   "metadata": {},
   "outputs": [
    {
     "data": {
      "text/plain": [
       "True,False,False    2206330\n",
       "False,False,True     236134\n",
       "False,True,False      85434\n",
       "Name: count, dtype: int64"
      ]
     },
     "execution_count": 141,
     "metadata": {},
     "output_type": "execute_result"
    }
   ],
   "source": [
    "(waLocations['wsboServed'].astype('str') + ',' + waLocations['wsboUnderserved'].astype('str') + ',' + waLocations['wsboUnserved'].astype('str')).value_counts()"
   ]
  },
  {
   "cell_type": "code",
   "execution_count": 142,
   "metadata": {},
   "outputs": [],
   "source": []
  },
  {
   "cell_type": "code",
   "execution_count": 145,
   "metadata": {},
   "outputs": [],
   "source": [
    "waLocations['fiberserved'] = 'Unserved'\n",
    "waFiberData = waAvailabilityData[waAvailabilityData.technology == 50]\n",
    "waFiberLocations = waFiberData[((waFiberData.max_advertised_download_speed >= 25) & (waFiberData.max_advertised_upload_speed >= 3))].location_id.reset_index(drop=True)\n",
    "waLocations.loc[waLocations.location_id.isin(waFiberLocations), 'fiberserved'] = 'Underserved'\n",
    "waFiberLocations = waFiberData[((waFiberData.max_advertised_download_speed >= 100) & (waFiberData.max_advertised_upload_speed >= 20))].location_id.reset_index(drop=True)\n",
    "waLocations.loc[waLocations.location_id.isin(waFiberLocations), 'fiberserved'] = 'Served'"
   ]
  },
  {
   "cell_type": "code",
   "execution_count": 123,
   "metadata": {},
   "outputs": [],
   "source": [
    "# waLocations.loc[waLocations.location_id == 1015880838, 'fiberserved'] = 'foo'"
   ]
  },
  {
   "cell_type": "code",
   "execution_count": 164,
   "metadata": {},
   "outputs": [
    {
     "data": {
      "text/plain": [
       "fiberserved\n",
       "Unserved       1771906\n",
       "Served          755517\n",
       "Underserved        475\n",
       "Name: count, dtype: int64"
      ]
     },
     "execution_count": 164,
     "metadata": {},
     "output_type": "execute_result"
    }
   ],
   "source": [
    "waLocations.fiberserved.value_counts()"
   ]
  },
  {
   "cell_type": "code",
   "execution_count": 165,
   "metadata": {},
   "outputs": [
    {
     "data": {
      "text/html": [
       "<div>\n",
       "<style scoped>\n",
       "    .dataframe tbody tr th:only-of-type {\n",
       "        vertical-align: middle;\n",
       "    }\n",
       "\n",
       "    .dataframe tbody tr th {\n",
       "        vertical-align: top;\n",
       "    }\n",
       "\n",
       "    .dataframe thead th {\n",
       "        text-align: right;\n",
       "    }\n",
       "</style>\n",
       "<table border=\"1\" class=\"dataframe\">\n",
       "  <thead>\n",
       "    <tr style=\"text-align: right;\">\n",
       "      <th></th>\n",
       "      <th>frn</th>\n",
       "      <th>provider_id</th>\n",
       "      <th>brand_name</th>\n",
       "      <th>location_id</th>\n",
       "      <th>technology</th>\n",
       "      <th>max_advertised_download_speed</th>\n",
       "      <th>max_advertised_upload_speed</th>\n",
       "      <th>low_latency</th>\n",
       "      <th>business_residential_code</th>\n",
       "      <th>state_usps</th>\n",
       "      <th>block_geoid</th>\n",
       "      <th>h3_res8_id</th>\n",
       "    </tr>\n",
       "  </thead>\n",
       "  <tbody>\n",
       "    <tr>\n",
       "      <th>4096571</th>\n",
       "      <td>13775002</td>\n",
       "      <td>330082</td>\n",
       "      <td>Washington Broadband</td>\n",
       "      <td>1305943452</td>\n",
       "      <td>50</td>\n",
       "      <td>1000</td>\n",
       "      <td>1000</td>\n",
       "      <td>1</td>\n",
       "      <td>X</td>\n",
       "      <td>WA</td>\n",
       "      <td>530770030023074</td>\n",
       "      <td>882889ae1dfffff</td>\n",
       "    </tr>\n",
       "    <tr>\n",
       "      <th>4096572</th>\n",
       "      <td>16557159</td>\n",
       "      <td>460043</td>\n",
       "      <td>iFIBER Communications</td>\n",
       "      <td>1296193912</td>\n",
       "      <td>50</td>\n",
       "      <td>1000</td>\n",
       "      <td>1000</td>\n",
       "      <td>1</td>\n",
       "      <td>X</td>\n",
       "      <td>WA</td>\n",
       "      <td>530079610022001</td>\n",
       "      <td>8828d681ddfffff</td>\n",
       "    </tr>\n",
       "    <tr>\n",
       "      <th>4096573</th>\n",
       "      <td>16557159</td>\n",
       "      <td>460043</td>\n",
       "      <td>iFIBER Communications</td>\n",
       "      <td>1296194166</td>\n",
       "      <td>50</td>\n",
       "      <td>1000</td>\n",
       "      <td>1000</td>\n",
       "      <td>1</td>\n",
       "      <td>X</td>\n",
       "      <td>WA</td>\n",
       "      <td>530079613042012</td>\n",
       "      <td>8828d68083fffff</td>\n",
       "    </tr>\n",
       "    <tr>\n",
       "      <th>4096574</th>\n",
       "      <td>16557159</td>\n",
       "      <td>460043</td>\n",
       "      <td>iFIBER Communications</td>\n",
       "      <td>1296195531</td>\n",
       "      <td>50</td>\n",
       "      <td>1000</td>\n",
       "      <td>1000</td>\n",
       "      <td>1</td>\n",
       "      <td>X</td>\n",
       "      <td>WA</td>\n",
       "      <td>530079613042015</td>\n",
       "      <td>8828d680e3fffff</td>\n",
       "    </tr>\n",
       "    <tr>\n",
       "      <th>4096575</th>\n",
       "      <td>16557159</td>\n",
       "      <td>460043</td>\n",
       "      <td>iFIBER Communications</td>\n",
       "      <td>1296195723</td>\n",
       "      <td>50</td>\n",
       "      <td>1000</td>\n",
       "      <td>1000</td>\n",
       "      <td>1</td>\n",
       "      <td>X</td>\n",
       "      <td>WA</td>\n",
       "      <td>530079610024006</td>\n",
       "      <td>8828d681d3fffff</td>\n",
       "    </tr>\n",
       "    <tr>\n",
       "      <th>...</th>\n",
       "      <td>...</td>\n",
       "      <td>...</td>\n",
       "      <td>...</td>\n",
       "      <td>...</td>\n",
       "      <td>...</td>\n",
       "      <td>...</td>\n",
       "      <td>...</td>\n",
       "      <td>...</td>\n",
       "      <td>...</td>\n",
       "      <td>...</td>\n",
       "      <td>...</td>\n",
       "      <td>...</td>\n",
       "    </tr>\n",
       "    <tr>\n",
       "      <th>4970278</th>\n",
       "      <td>18626853</td>\n",
       "      <td>130228</td>\n",
       "      <td>CenturyLink</td>\n",
       "      <td>1367018855</td>\n",
       "      <td>50</td>\n",
       "      <td>940</td>\n",
       "      <td>940</td>\n",
       "      <td>1</td>\n",
       "      <td>X</td>\n",
       "      <td>WA</td>\n",
       "      <td>530330061002020</td>\n",
       "      <td>8828d542a9fffff</td>\n",
       "    </tr>\n",
       "    <tr>\n",
       "      <th>4970279</th>\n",
       "      <td>18626853</td>\n",
       "      <td>130228</td>\n",
       "      <td>CenturyLink</td>\n",
       "      <td>1367020132</td>\n",
       "      <td>50</td>\n",
       "      <td>940</td>\n",
       "      <td>940</td>\n",
       "      <td>1</td>\n",
       "      <td>X</td>\n",
       "      <td>WA</td>\n",
       "      <td>530330268021006</td>\n",
       "      <td>8828d55291fffff</td>\n",
       "    </tr>\n",
       "    <tr>\n",
       "      <th>4970280</th>\n",
       "      <td>18626853</td>\n",
       "      <td>130228</td>\n",
       "      <td>CenturyLink</td>\n",
       "      <td>1367041969</td>\n",
       "      <td>50</td>\n",
       "      <td>940</td>\n",
       "      <td>940</td>\n",
       "      <td>1</td>\n",
       "      <td>X</td>\n",
       "      <td>WA</td>\n",
       "      <td>530330270003002</td>\n",
       "      <td>8828d55283fffff</td>\n",
       "    </tr>\n",
       "    <tr>\n",
       "      <th>4970281</th>\n",
       "      <td>18626853</td>\n",
       "      <td>130228</td>\n",
       "      <td>CenturyLink</td>\n",
       "      <td>1367059337</td>\n",
       "      <td>50</td>\n",
       "      <td>940</td>\n",
       "      <td>940</td>\n",
       "      <td>1</td>\n",
       "      <td>X</td>\n",
       "      <td>WA</td>\n",
       "      <td>530330032023002</td>\n",
       "      <td>8828d54703fffff</td>\n",
       "    </tr>\n",
       "    <tr>\n",
       "      <th>4970282</th>\n",
       "      <td>18626853</td>\n",
       "      <td>130228</td>\n",
       "      <td>CenturyLink</td>\n",
       "      <td>1367078129</td>\n",
       "      <td>50</td>\n",
       "      <td>940</td>\n",
       "      <td>940</td>\n",
       "      <td>1</td>\n",
       "      <td>X</td>\n",
       "      <td>WA</td>\n",
       "      <td>530330095003049</td>\n",
       "      <td>8828d5424bfffff</td>\n",
       "    </tr>\n",
       "  </tbody>\n",
       "</table>\n",
       "<p>873712 rows × 12 columns</p>\n",
       "</div>"
      ],
      "text/plain": [
       "              frn  provider_id             brand_name  location_id  \\\n",
       "4096571  13775002       330082   Washington Broadband   1305943452   \n",
       "4096572  16557159       460043  iFIBER Communications   1296193912   \n",
       "4096573  16557159       460043  iFIBER Communications   1296194166   \n",
       "4096574  16557159       460043  iFIBER Communications   1296195531   \n",
       "4096575  16557159       460043  iFIBER Communications   1296195723   \n",
       "...           ...          ...                    ...          ...   \n",
       "4970278  18626853       130228            CenturyLink   1367018855   \n",
       "4970279  18626853       130228            CenturyLink   1367020132   \n",
       "4970280  18626853       130228            CenturyLink   1367041969   \n",
       "4970281  18626853       130228            CenturyLink   1367059337   \n",
       "4970282  18626853       130228            CenturyLink   1367078129   \n",
       "\n",
       "         technology  max_advertised_download_speed  \\\n",
       "4096571          50                           1000   \n",
       "4096572          50                           1000   \n",
       "4096573          50                           1000   \n",
       "4096574          50                           1000   \n",
       "4096575          50                           1000   \n",
       "...             ...                            ...   \n",
       "4970278          50                            940   \n",
       "4970279          50                            940   \n",
       "4970280          50                            940   \n",
       "4970281          50                            940   \n",
       "4970282          50                            940   \n",
       "\n",
       "         max_advertised_upload_speed  low_latency business_residential_code  \\\n",
       "4096571                         1000            1                         X   \n",
       "4096572                         1000            1                         X   \n",
       "4096573                         1000            1                         X   \n",
       "4096574                         1000            1                         X   \n",
       "4096575                         1000            1                         X   \n",
       "...                              ...          ...                       ...   \n",
       "4970278                          940            1                         X   \n",
       "4970279                          940            1                         X   \n",
       "4970280                          940            1                         X   \n",
       "4970281                          940            1                         X   \n",
       "4970282                          940            1                         X   \n",
       "\n",
       "        state_usps      block_geoid       h3_res8_id  \n",
       "4096571         WA  530770030023074  882889ae1dfffff  \n",
       "4096572         WA  530079610022001  8828d681ddfffff  \n",
       "4096573         WA  530079613042012  8828d68083fffff  \n",
       "4096574         WA  530079613042015  8828d680e3fffff  \n",
       "4096575         WA  530079610024006  8828d681d3fffff  \n",
       "...            ...              ...              ...  \n",
       "4970278         WA  530330061002020  8828d542a9fffff  \n",
       "4970279         WA  530330268021006  8828d55291fffff  \n",
       "4970280         WA  530330270003002  8828d55283fffff  \n",
       "4970281         WA  530330032023002  8828d54703fffff  \n",
       "4970282         WA  530330095003049  8828d5424bfffff  \n",
       "\n",
       "[873712 rows x 12 columns]"
      ]
     },
     "execution_count": 165,
     "metadata": {},
     "output_type": "execute_result"
    }
   ],
   "source": [
    "waFiberData"
   ]
  },
  {
   "cell_type": "code",
   "execution_count": 132,
   "metadata": {},
   "outputs": [],
   "source": []
  },
  {
   "cell_type": "markdown",
   "metadata": {},
   "source": [
    "# Unused Stuff"
   ]
  },
  {
   "cell_type": "code",
   "execution_count": 70,
   "metadata": {},
   "outputs": [],
   "source": [
    "unservedWaLocations = waLocations.merge(wsboUnserved, how='outer', indicator=True)"
   ]
  },
  {
   "cell_type": "code",
   "execution_count": 76,
   "metadata": {},
   "outputs": [],
   "source": [
    "unservedWaLocations = unservedWaLocations[unservedWaLocations._merge != 'left_only']"
   ]
  },
  {
   "cell_type": "code",
   "execution_count": null,
   "metadata": {},
   "outputs": [],
   "source": []
  }
 ],
 "metadata": {
  "kernelspec": {
   "display_name": "venv",
   "language": "python",
   "name": "python3"
  },
  "language_info": {
   "codemirror_mode": {
    "name": "ipython",
    "version": 3
   },
   "file_extension": ".py",
   "mimetype": "text/x-python",
   "name": "python",
   "nbconvert_exporter": "python",
   "pygments_lexer": "ipython3",
   "version": "3.11.6"
  }
 },
 "nbformat": 4,
 "nbformat_minor": 2
}
